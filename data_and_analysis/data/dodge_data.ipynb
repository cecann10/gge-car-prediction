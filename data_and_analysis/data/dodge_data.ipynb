{
 "cells": [
  {
   "cell_type": "code",
   "execution_count": 1,
   "metadata": {},
   "outputs": [],
   "source": [
    "import requests\n",
    "from requests import get\n",
    "from bs4 import BeautifulSoup\n",
    "import pandas as pd\n",
    "import numpy as np\n",
    "import pickle"
   ]
  },
  {
   "cell_type": "markdown",
   "metadata": {},
   "source": [
    "### Import functions unique to this project"
   ]
  },
  {
   "cell_type": "code",
   "execution_count": 2,
   "metadata": {},
   "outputs": [],
   "source": [
    "from master_functions import get_car_urls\n",
    "from master_functions import make_model_df"
   ]
  },
  {
   "cell_type": "markdown",
   "metadata": {},
   "source": [
    "## DODGE - Create master dataframe for all models"
   ]
  },
  {
   "cell_type": "markdown",
   "metadata": {},
   "source": [
    "This worksheet is intended to build a datafame for all **Dodge** cars.  There are some 'quirks' in how the data is structured from its source on https://www.fueleconomy.gov/, so more manual steps are taken below to check files for issues, combine first what is 'normal' and then add in those that required special attention."
   ]
  },
  {
   "cell_type": "markdown",
   "metadata": {},
   "source": [
    "**Step #1:** Create unique urls for every car model for the years 1984 - 2021<br>\n",
    "- Uses `get_car_urls` from master function, Inputs: (car_make, [list of all models])"
   ]
  },
  {
   "cell_type": "code",
   "execution_count": 3,
   "metadata": {},
   "outputs": [],
   "source": [
    "dodge_urls = get_car_urls('Dodge',\n",
    "                          ['600','Aries','Avenger',\n",
    "                           'B150/B250 Van','B150/B250 Wagon',\n",
    "                           'B1500 Van', 'B1500 Wagon',\n",
    "                           'B1500/B2500 Van','B1500/B2500 Wagon',\n",
    "                           'B2500 Van','B2500 Wagon','B350 Van',\n",
    "                           'B350 Wagon','B3500 Van','B3500 Wagon',\n",
    "                           'Caliber','Caravan C/V/Grand Caravan',\n",
    "                           'Caravan/Grand Caravan',\n",
    "                           'Caravan/Ram Van','Challenger','Charger',\n",
    "                           'Colt','Conquest','CSX','D100/D150 Pickup',\n",
    "                           'D250 Cab Chassis','D250 Cab Chassis',\n",
    "                           'D250 Pickup','D250 Pickup Cab Chassis',\n",
    "                           'Dakota Pickup','Dart','Daytona',\n",
    "                           'Diplomat','Durango','Dynasty','GLH-S',\n",
    "                           'Grand Caravan','Intrepid','Journey',\n",
    "                           'Lancer','Magnum','Monaco','Neon',\n",
    "                           'Nitro','Omni','Power Ram 50 Pickup',\n",
    "                           'Raider','Ram 1500 Pickup','Ram 2500 Pickup',\n",
    "                           'Ram 50 Pickup','Ram Van 1500',\n",
    "                           'Ram Van 2500','Ram Wagon 1500',\n",
    "                           'Ram Wagon 2500','Ramcharger',\n",
    "                           'Rampage Pickup','Shadow','Spririt',\n",
    "                           'Stealth','Stratus','Viper','W250 Pickup'\n",
    "                          ])"
   ]
  },
  {
   "cell_type": "markdown",
   "metadata": {},
   "source": [
    "-"
   ]
  },
  {
   "cell_type": "markdown",
   "metadata": {},
   "source": [
    "**Step #2:** Get length of list created in Step 1.  This number will be how many times you run the function in Step 3 to check all of the urls<br>"
   ]
  },
  {
   "cell_type": "code",
   "execution_count": 4,
   "metadata": {
    "scrolled": false
   },
   "outputs": [
    {
     "data": {
      "text/plain": [
       "62"
      ]
     },
     "execution_count": 4,
     "metadata": {},
     "output_type": "execute_result"
    }
   ],
   "source": [
    "# Verify number of urls and use this number\n",
    "# to know how many urls need to 'check below'\n",
    "\n",
    "len(dodge_urls)"
   ]
  },
  {
   "cell_type": "markdown",
   "metadata": {},
   "source": [
    "-"
   ]
  },
  {
   "cell_type": "markdown",
   "metadata": {},
   "source": [
    "**Step #3:** Check all of the urls you just created.<br>\n",
    "- If does not work, add to 'problem' URLs string below this cell"
   ]
  },
  {
   "cell_type": "code",
   "execution_count": 68,
   "metadata": {},
   "outputs": [
    {
     "data": {
      "text/html": [
       "<div>\n",
       "<style scoped>\n",
       "    .dataframe tbody tr th:only-of-type {\n",
       "        vertical-align: middle;\n",
       "    }\n",
       "\n",
       "    .dataframe tbody tr th {\n",
       "        vertical-align: top;\n",
       "    }\n",
       "\n",
       "    .dataframe thead th {\n",
       "        text-align: right;\n",
       "    }\n",
       "</style>\n",
       "<table border=\"1\" class=\"dataframe\">\n",
       "  <thead>\n",
       "    <tr style=\"text-align: right;\">\n",
       "      <th></th>\n",
       "      <th>year</th>\n",
       "      <th>make</th>\n",
       "      <th>model</th>\n",
       "      <th>capacity_liters</th>\n",
       "      <th>cylinders</th>\n",
       "      <th>transmission</th>\n",
       "      <th>trans_speed</th>\n",
       "      <th>fuel_type</th>\n",
       "      <th>gg_emissions</th>\n",
       "      <th>mpg</th>\n",
       "    </tr>\n",
       "  </thead>\n",
       "  <tbody>\n",
       "    <tr>\n",
       "      <th>0</th>\n",
       "      <td>1993</td>\n",
       "      <td>Dodge</td>\n",
       "      <td>W250 Pickup 4WD</td>\n",
       "      <td>5.2</td>\n",
       "      <td>8</td>\n",
       "      <td>Manual</td>\n",
       "      <td>5</td>\n",
       "      <td>Regular Gasoline</td>\n",
       "      <td>684</td>\n",
       "      <td>13</td>\n",
       "    </tr>\n",
       "    <tr>\n",
       "      <th>1</th>\n",
       "      <td>1992</td>\n",
       "      <td>Dodge</td>\n",
       "      <td>W250 Pickup 4WD</td>\n",
       "      <td>5.2</td>\n",
       "      <td>8</td>\n",
       "      <td>Manual</td>\n",
       "      <td>5</td>\n",
       "      <td>Regular Gasoline</td>\n",
       "      <td>684</td>\n",
       "      <td>13</td>\n",
       "    </tr>\n",
       "    <tr>\n",
       "      <th>2</th>\n",
       "      <td>1993</td>\n",
       "      <td>Dodge</td>\n",
       "      <td>W250 Pickup 4WD</td>\n",
       "      <td>5.2</td>\n",
       "      <td>8</td>\n",
       "      <td>Automatic</td>\n",
       "      <td>4</td>\n",
       "      <td>Regular Gasoline</td>\n",
       "      <td>741</td>\n",
       "      <td>12</td>\n",
       "    </tr>\n",
       "    <tr>\n",
       "      <th>3</th>\n",
       "      <td>1992</td>\n",
       "      <td>Dodge</td>\n",
       "      <td>W250 Pickup 4WD</td>\n",
       "      <td>5.2</td>\n",
       "      <td>8</td>\n",
       "      <td>Automatic</td>\n",
       "      <td>4</td>\n",
       "      <td>Regular Gasoline</td>\n",
       "      <td>741</td>\n",
       "      <td>12</td>\n",
       "    </tr>\n",
       "    <tr>\n",
       "      <th>4</th>\n",
       "      <td>1990</td>\n",
       "      <td>Dodge</td>\n",
       "      <td>W250 Pickup 4WD</td>\n",
       "      <td>5.2</td>\n",
       "      <td>8</td>\n",
       "      <td>Manual</td>\n",
       "      <td>4</td>\n",
       "      <td>Regular Gasoline</td>\n",
       "      <td>741</td>\n",
       "      <td>12</td>\n",
       "    </tr>\n",
       "    <tr>\n",
       "      <th>5</th>\n",
       "      <td>1988</td>\n",
       "      <td>Dodge</td>\n",
       "      <td>W250 Pickup 4WD</td>\n",
       "      <td>5.2</td>\n",
       "      <td>8</td>\n",
       "      <td>Manual</td>\n",
       "      <td>4</td>\n",
       "      <td>Regular Gasoline</td>\n",
       "      <td>741</td>\n",
       "      <td>12</td>\n",
       "    </tr>\n",
       "    <tr>\n",
       "      <th>6</th>\n",
       "      <td>1988</td>\n",
       "      <td>Dodge</td>\n",
       "      <td>W250 Pickup 4WD</td>\n",
       "      <td>5.2</td>\n",
       "      <td>8</td>\n",
       "      <td>Automatic</td>\n",
       "      <td>3</td>\n",
       "      <td>Regular Gasoline</td>\n",
       "      <td>741</td>\n",
       "      <td>12</td>\n",
       "    </tr>\n",
       "    <tr>\n",
       "      <th>7</th>\n",
       "      <td>1985</td>\n",
       "      <td>Dodge</td>\n",
       "      <td>W250 Pickup 4WD</td>\n",
       "      <td>5.2</td>\n",
       "      <td>8</td>\n",
       "      <td>Automatic</td>\n",
       "      <td>3</td>\n",
       "      <td>Regular Gasoline</td>\n",
       "      <td>741</td>\n",
       "      <td>12</td>\n",
       "    </tr>\n",
       "    <tr>\n",
       "      <th>8</th>\n",
       "      <td>1985</td>\n",
       "      <td>Dodge</td>\n",
       "      <td>W250 Pickup 4WD</td>\n",
       "      <td>5.2</td>\n",
       "      <td>8</td>\n",
       "      <td>Automatic</td>\n",
       "      <td>3</td>\n",
       "      <td>Regular Gasoline</td>\n",
       "      <td>741</td>\n",
       "      <td>12</td>\n",
       "    </tr>\n",
       "    <tr>\n",
       "      <th>9</th>\n",
       "      <td>1993</td>\n",
       "      <td>Dodge</td>\n",
       "      <td>W250 Pickup 4WD</td>\n",
       "      <td>5.9</td>\n",
       "      <td>8</td>\n",
       "      <td>Automatic</td>\n",
       "      <td>4</td>\n",
       "      <td>Regular Gasoline</td>\n",
       "      <td>741</td>\n",
       "      <td>12</td>\n",
       "    </tr>\n",
       "  </tbody>\n",
       "</table>\n",
       "</div>"
      ],
      "text/plain": [
       "   year   make            model  capacity_liters  cylinders transmission  \\\n",
       "0  1993  Dodge  W250 Pickup 4WD              5.2          8       Manual   \n",
       "1  1992  Dodge  W250 Pickup 4WD              5.2          8       Manual   \n",
       "2  1993  Dodge  W250 Pickup 4WD              5.2          8    Automatic   \n",
       "3  1992  Dodge  W250 Pickup 4WD              5.2          8    Automatic   \n",
       "4  1990  Dodge  W250 Pickup 4WD              5.2          8       Manual   \n",
       "5  1988  Dodge  W250 Pickup 4WD              5.2          8       Manual   \n",
       "6  1988  Dodge  W250 Pickup 4WD              5.2          8    Automatic   \n",
       "7  1985  Dodge  W250 Pickup 4WD              5.2          8    Automatic   \n",
       "8  1985  Dodge  W250 Pickup 4WD              5.2          8    Automatic   \n",
       "9  1993  Dodge  W250 Pickup 4WD              5.9          8    Automatic   \n",
       "\n",
       "  trans_speed          fuel_type  gg_emissions  mpg  \n",
       "0           5   Regular Gasoline           684   13  \n",
       "1           5   Regular Gasoline           684   13  \n",
       "2           4   Regular Gasoline           741   12  \n",
       "3           4   Regular Gasoline           741   12  \n",
       "4           4   Regular Gasoline           741   12  \n",
       "5           4   Regular Gasoline           741   12  \n",
       "6           3   Regular Gasoline           741   12  \n",
       "7           3   Regular Gasoline           741   12  \n",
       "8           3   Regular Gasoline           741   12  \n",
       "9           4   Regular Gasoline           741   12  "
      ]
     },
     "execution_count": 68,
     "metadata": {},
     "output_type": "execute_result"
    }
   ],
   "source": [
    "# Test area for each url with [carmake]_urls[index]\n",
    "# by seeing if data appears correctly\n",
    "\n",
    "make_model_df('Dodge',dodge_urls[61])"
   ]
  },
  {
   "cell_type": "markdown",
   "metadata": {},
   "source": [
    "-"
   ]
  },
  {
   "cell_type": "markdown",
   "metadata": {},
   "source": [
    "Populate this section so if there are any 'problem' URLs from your test above"
   ]
  },
  {
   "cell_type": "code",
   "execution_count": 69,
   "metadata": {},
   "outputs": [
    {
     "data": {
      "text/plain": [
       "62"
      ]
     },
     "execution_count": 69,
     "metadata": {},
     "output_type": "execute_result"
    }
   ],
   "source": [
    "#'Problem' URLs\n",
    "'''\n",
    "dodge_urls[17]\n",
    "dodge_urls[36]\n",
    "dodge_urls[47]\n",
    "dodge_urls[]\n",
    "\n",
    "'''\n",
    "\n",
    "#Print list length again to \n",
    "#set length of range in next cell\n",
    "len(dodge_urls)"
   ]
  },
  {
   "cell_type": "markdown",
   "metadata": {},
   "source": [
    "-"
   ]
  },
  {
   "cell_type": "markdown",
   "metadata": {},
   "source": [
    "**Step #4:** Create dfs for all 'okay' urls and place each into a master list\n",
    "- Automate where possible, but some may need to be added one by one to avoid 'problem' urls"
   ]
  },
  {
   "cell_type": "code",
   "execution_count": 71,
   "metadata": {
    "scrolled": true
   },
   "outputs": [],
   "source": [
    "# for 'normal' urls to make a df and add to master df list, automate it!\n",
    "\n",
    "dodge_dfs = []\n",
    "\n",
    "for x in range(0,17):\n",
    "    dodge_dfs.append(make_model_df('Dodge',dodge_urls[x]))\n",
    "    \n",
    "for x in range(18,36):\n",
    "    dodge_dfs.append(make_model_df('Dodge',dodge_urls[x]))\n",
    "\n",
    "for x in range(37,47):\n",
    "    dodge_dfs.append(make_model_df('Dodge',dodge_urls[x]))\n",
    "    \n",
    "for x in range(48,62):\n",
    "    dodge_dfs.append(make_model_df('Dodge',dodge_urls[x]))\n"
   ]
  },
  {
   "cell_type": "markdown",
   "metadata": {},
   "source": [
    "-"
   ]
  },
  {
   "cell_type": "markdown",
   "metadata": {},
   "source": [
    "**Step #5:** Concatenate all of the 'normal' car model dfs into one master dataframe"
   ]
  },
  {
   "cell_type": "code",
   "execution_count": 72,
   "metadata": {
    "scrolled": true
   },
   "outputs": [
    {
     "data": {
      "text/html": [
       "<div>\n",
       "<style scoped>\n",
       "    .dataframe tbody tr th:only-of-type {\n",
       "        vertical-align: middle;\n",
       "    }\n",
       "\n",
       "    .dataframe tbody tr th {\n",
       "        vertical-align: top;\n",
       "    }\n",
       "\n",
       "    .dataframe thead th {\n",
       "        text-align: right;\n",
       "    }\n",
       "</style>\n",
       "<table border=\"1\" class=\"dataframe\">\n",
       "  <thead>\n",
       "    <tr style=\"text-align: right;\">\n",
       "      <th></th>\n",
       "      <th>year</th>\n",
       "      <th>make</th>\n",
       "      <th>model</th>\n",
       "      <th>capacity_liters</th>\n",
       "      <th>cylinders</th>\n",
       "      <th>transmission</th>\n",
       "      <th>trans_speed</th>\n",
       "      <th>fuel_type</th>\n",
       "      <th>gg_emissions</th>\n",
       "      <th>mpg</th>\n",
       "    </tr>\n",
       "  </thead>\n",
       "  <tbody>\n",
       "    <tr>\n",
       "      <th>0</th>\n",
       "      <td>1984.0</td>\n",
       "      <td>Dodge</td>\n",
       "      <td>600</td>\n",
       "      <td>2.2</td>\n",
       "      <td>4.0</td>\n",
       "      <td>Manual</td>\n",
       "      <td>5</td>\n",
       "      <td>Regular Gasoline</td>\n",
       "      <td>355.0</td>\n",
       "      <td>25.0</td>\n",
       "    </tr>\n",
       "    <tr>\n",
       "      <th>1</th>\n",
       "      <td>1984.0</td>\n",
       "      <td>Dodge</td>\n",
       "      <td>600</td>\n",
       "      <td>2.2</td>\n",
       "      <td>4.0</td>\n",
       "      <td>Manual</td>\n",
       "      <td>5</td>\n",
       "      <td>Regular Gasoline</td>\n",
       "      <td>370.0</td>\n",
       "      <td>24.0</td>\n",
       "    </tr>\n",
       "    <tr>\n",
       "      <th>2</th>\n",
       "      <td>1989.0</td>\n",
       "      <td>Dodge</td>\n",
       "      <td>600</td>\n",
       "      <td>2.2</td>\n",
       "      <td>4.0</td>\n",
       "      <td>Automatic</td>\n",
       "      <td>3</td>\n",
       "      <td>Regular Gasoline</td>\n",
       "      <td>386.0</td>\n",
       "      <td>23.0</td>\n",
       "    </tr>\n",
       "    <tr>\n",
       "      <th>3</th>\n",
       "      <td>1988.0</td>\n",
       "      <td>Dodge</td>\n",
       "      <td>600</td>\n",
       "      <td>2.2</td>\n",
       "      <td>4.0</td>\n",
       "      <td>Automatic</td>\n",
       "      <td>3</td>\n",
       "      <td>Regular Gasoline</td>\n",
       "      <td>386.0</td>\n",
       "      <td>23.0</td>\n",
       "    </tr>\n",
       "    <tr>\n",
       "      <th>4</th>\n",
       "      <td>1984.0</td>\n",
       "      <td>Dodge</td>\n",
       "      <td>600</td>\n",
       "      <td>2.2</td>\n",
       "      <td>4.0</td>\n",
       "      <td>Automatic</td>\n",
       "      <td>3</td>\n",
       "      <td>Regular Gasoline</td>\n",
       "      <td>386.0</td>\n",
       "      <td>23.0</td>\n",
       "    </tr>\n",
       "    <tr>\n",
       "      <th>...</th>\n",
       "      <td>...</td>\n",
       "      <td>...</td>\n",
       "      <td>...</td>\n",
       "      <td>...</td>\n",
       "      <td>...</td>\n",
       "      <td>...</td>\n",
       "      <td>...</td>\n",
       "      <td>...</td>\n",
       "      <td>...</td>\n",
       "      <td>...</td>\n",
       "    </tr>\n",
       "    <tr>\n",
       "      <th>497</th>\n",
       "      <td>1988.0</td>\n",
       "      <td>Dodge</td>\n",
       "      <td>W250 Pickup 4WD</td>\n",
       "      <td>5.2</td>\n",
       "      <td>8.0</td>\n",
       "      <td>Manual</td>\n",
       "      <td>4</td>\n",
       "      <td>Regular Gasoline</td>\n",
       "      <td>741.0</td>\n",
       "      <td>12.0</td>\n",
       "    </tr>\n",
       "    <tr>\n",
       "      <th>498</th>\n",
       "      <td>1988.0</td>\n",
       "      <td>Dodge</td>\n",
       "      <td>W250 Pickup 4WD</td>\n",
       "      <td>5.2</td>\n",
       "      <td>8.0</td>\n",
       "      <td>Automatic</td>\n",
       "      <td>3</td>\n",
       "      <td>Regular Gasoline</td>\n",
       "      <td>741.0</td>\n",
       "      <td>12.0</td>\n",
       "    </tr>\n",
       "    <tr>\n",
       "      <th>499</th>\n",
       "      <td>1985.0</td>\n",
       "      <td>Dodge</td>\n",
       "      <td>W250 Pickup 4WD</td>\n",
       "      <td>5.2</td>\n",
       "      <td>8.0</td>\n",
       "      <td>Automatic</td>\n",
       "      <td>3</td>\n",
       "      <td>Regular Gasoline</td>\n",
       "      <td>741.0</td>\n",
       "      <td>12.0</td>\n",
       "    </tr>\n",
       "    <tr>\n",
       "      <th>500</th>\n",
       "      <td>1985.0</td>\n",
       "      <td>Dodge</td>\n",
       "      <td>W250 Pickup 4WD</td>\n",
       "      <td>5.2</td>\n",
       "      <td>8.0</td>\n",
       "      <td>Automatic</td>\n",
       "      <td>3</td>\n",
       "      <td>Regular Gasoline</td>\n",
       "      <td>741.0</td>\n",
       "      <td>12.0</td>\n",
       "    </tr>\n",
       "    <tr>\n",
       "      <th>501</th>\n",
       "      <td>1993.0</td>\n",
       "      <td>Dodge</td>\n",
       "      <td>W250 Pickup 4WD</td>\n",
       "      <td>5.9</td>\n",
       "      <td>8.0</td>\n",
       "      <td>Automatic</td>\n",
       "      <td>4</td>\n",
       "      <td>Regular Gasoline</td>\n",
       "      <td>741.0</td>\n",
       "      <td>12.0</td>\n",
       "    </tr>\n",
       "  </tbody>\n",
       "</table>\n",
       "<p>502 rows × 10 columns</p>\n",
       "</div>"
      ],
      "text/plain": [
       "       year   make            model  capacity_liters  cylinders transmission  \\\n",
       "0    1984.0  Dodge              600              2.2        4.0       Manual   \n",
       "1    1984.0  Dodge              600              2.2        4.0       Manual   \n",
       "2    1989.0  Dodge              600              2.2        4.0    Automatic   \n",
       "3    1988.0  Dodge              600              2.2        4.0    Automatic   \n",
       "4    1984.0  Dodge              600              2.2        4.0    Automatic   \n",
       "..      ...    ...              ...              ...        ...          ...   \n",
       "497  1988.0  Dodge  W250 Pickup 4WD              5.2        8.0       Manual   \n",
       "498  1988.0  Dodge  W250 Pickup 4WD              5.2        8.0    Automatic   \n",
       "499  1985.0  Dodge  W250 Pickup 4WD              5.2        8.0    Automatic   \n",
       "500  1985.0  Dodge  W250 Pickup 4WD              5.2        8.0    Automatic   \n",
       "501  1993.0  Dodge  W250 Pickup 4WD              5.9        8.0    Automatic   \n",
       "\n",
       "    trans_speed          fuel_type  gg_emissions   mpg  \n",
       "0             5   Regular Gasoline         355.0  25.0  \n",
       "1             5   Regular Gasoline         370.0  24.0  \n",
       "2             3   Regular Gasoline         386.0  23.0  \n",
       "3             3   Regular Gasoline         386.0  23.0  \n",
       "4             3   Regular Gasoline         386.0  23.0  \n",
       "..          ...                ...           ...   ...  \n",
       "497           4   Regular Gasoline         741.0  12.0  \n",
       "498           3   Regular Gasoline         741.0  12.0  \n",
       "499           3   Regular Gasoline         741.0  12.0  \n",
       "500           3   Regular Gasoline         741.0  12.0  \n",
       "501           4   Regular Gasoline         741.0  12.0  \n",
       "\n",
       "[502 rows x 10 columns]"
      ]
     },
     "execution_count": 72,
     "metadata": {},
     "output_type": "execute_result"
    }
   ],
   "source": [
    "dodge_dfs = pd.concat(dodge_dfs, ignore_index=True)\n",
    "\n",
    "dodge_dfs"
   ]
  },
  {
   "cell_type": "markdown",
   "metadata": {},
   "source": [
    "-"
   ]
  },
  {
   "cell_type": "markdown",
   "metadata": {},
   "source": [
    "**Step #6:** Pickle the dataframe made in Step 6 of all car's models with 'normal' dataframes\n",
    "- Will now be saved so further work on dataframe can start at this place"
   ]
  },
  {
   "cell_type": "code",
   "execution_count": 73,
   "metadata": {},
   "outputs": [],
   "source": [
    "with open('pickles/dodge_dfs.pickle', 'wb') as to_write:\n",
    "    pickle.dump(dodge_dfs, to_write)"
   ]
  },
  {
   "cell_type": "markdown",
   "metadata": {},
   "source": [
    "-"
   ]
  },
  {
   "cell_type": "markdown",
   "metadata": {},
   "source": [
    "**Step #7:** Un-pickle the dataframe made in Step 7 of all car's models with 'normal' dataframes"
   ]
  },
  {
   "cell_type": "code",
   "execution_count": 74,
   "metadata": {},
   "outputs": [],
   "source": [
    "with open('pickles/dodge_dfs.pickle','rb') as read_file:\n",
    "    dodge_dfs = pickle.load(read_file)"
   ]
  },
  {
   "cell_type": "code",
   "execution_count": null,
   "metadata": {},
   "outputs": [],
   "source": []
  }
 ],
 "metadata": {
  "kernelspec": {
   "display_name": "Python 3",
   "language": "python",
   "name": "python3"
  },
  "language_info": {
   "codemirror_mode": {
    "name": "ipython",
    "version": 3
   },
   "file_extension": ".py",
   "mimetype": "text/x-python",
   "name": "python",
   "nbconvert_exporter": "python",
   "pygments_lexer": "ipython3",
   "version": "3.7.4"
  }
 },
 "nbformat": 4,
 "nbformat_minor": 2
}
