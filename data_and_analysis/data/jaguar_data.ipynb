{
 "cells": [
  {
   "cell_type": "code",
   "execution_count": 1,
   "metadata": {},
   "outputs": [],
   "source": [
    "import requests\n",
    "from requests import get\n",
    "from bs4 import BeautifulSoup\n",
    "import pandas as pd\n",
    "import numpy as np\n",
    "import pickle"
   ]
  },
  {
   "cell_type": "markdown",
   "metadata": {},
   "source": [
    "### Import functions unique to this project"
   ]
  },
  {
   "cell_type": "code",
   "execution_count": 2,
   "metadata": {},
   "outputs": [],
   "source": [
    "from master_functions import get_car_urls\n",
    "from master_functions import make_model_df"
   ]
  },
  {
   "cell_type": "markdown",
   "metadata": {},
   "source": [
    "## JAGUAR - Create master dataframe for all models\n",
    "\n",
    "This worksheet is intended to build a datafame for all **Jaguar** cars.  There are some 'quirks' in how the data is structured from its source on https://www.fueleconomy.gov/, so more manual steps are taken below to check files for issues, combine first what is 'normal' and then add in those that required special attention.\n",
    "\n",
    "**Step #1:** Create unique urls for every car model for the years 1984 - 2021<br>\n",
    "- Uses `get_car_urls` from master function, Inputs: (car_make, [list of all models])"
   ]
  },
  {
   "cell_type": "code",
   "execution_count": 3,
   "metadata": {},
   "outputs": [],
   "source": [
    "jaguar_urls = get_car_urls('Jaguar',\n",
    "                           ['E-Pace','F-Pace','F-Type',\n",
    "                            'I-Pace','S-Type','Super V8',\n",
    "                            'Vanden Plas','Vdp','X-Type',\n",
    "                            'XE','XF','XJ','XJL','XJR',\n",
    "                            'XJRS','XJS','XK','XK8','XKR'\n",
    "                           ])"
   ]
  },
  {
   "cell_type": "markdown",
   "metadata": {},
   "source": [
    "-"
   ]
  },
  {
   "cell_type": "markdown",
   "metadata": {},
   "source": [
    "**Step #2:** Get length of list created in Step 1.  This number will be how many times you run the function in Step 3 to check all of the urls<br>"
   ]
  },
  {
   "cell_type": "code",
   "execution_count": 4,
   "metadata": {
    "scrolled": false
   },
   "outputs": [
    {
     "data": {
      "text/plain": [
       "19"
      ]
     },
     "execution_count": 4,
     "metadata": {},
     "output_type": "execute_result"
    }
   ],
   "source": [
    "# Verify number of urls and use this number\n",
    "# to know how many urls need to 'check below'\n",
    "\n",
    "len(jaguar_urls)"
   ]
  },
  {
   "cell_type": "markdown",
   "metadata": {},
   "source": [
    "-"
   ]
  },
  {
   "cell_type": "markdown",
   "metadata": {},
   "source": [
    "**Step #3:** Check all of the urls you just created.<br>\n",
    "- If does not work, add to 'problem' URLs string below this cell"
   ]
  },
  {
   "cell_type": "code",
   "execution_count": 25,
   "metadata": {},
   "outputs": [
    {
     "data": {
      "text/html": [
       "<div>\n",
       "<style scoped>\n",
       "    .dataframe tbody tr th:only-of-type {\n",
       "        vertical-align: middle;\n",
       "    }\n",
       "\n",
       "    .dataframe tbody tr th {\n",
       "        vertical-align: top;\n",
       "    }\n",
       "\n",
       "    .dataframe thead th {\n",
       "        text-align: right;\n",
       "    }\n",
       "</style>\n",
       "<table border=\"1\" class=\"dataframe\">\n",
       "  <thead>\n",
       "    <tr style=\"text-align: right;\">\n",
       "      <th></th>\n",
       "      <th>year</th>\n",
       "      <th>make</th>\n",
       "      <th>model</th>\n",
       "      <th>capacity_liters</th>\n",
       "      <th>cylinders</th>\n",
       "      <th>transmission</th>\n",
       "      <th>trans_speed</th>\n",
       "      <th>fuel_type</th>\n",
       "      <th>gg_emissions</th>\n",
       "      <th>mpg</th>\n",
       "    </tr>\n",
       "  </thead>\n",
       "  <tbody>\n",
       "    <tr>\n",
       "      <th>0</th>\n",
       "      <td>2009</td>\n",
       "      <td>Jaguar</td>\n",
       "      <td>XKR</td>\n",
       "      <td>4.2</td>\n",
       "      <td>8</td>\n",
       "      <td>Automatic</td>\n",
       "      <td>6</td>\n",
       "      <td>Premium Gasoline</td>\n",
       "      <td>494</td>\n",
       "      <td>18</td>\n",
       "    </tr>\n",
       "    <tr>\n",
       "      <th>1</th>\n",
       "      <td>2008</td>\n",
       "      <td>Jaguar</td>\n",
       "      <td>XKR</td>\n",
       "      <td>4.2</td>\n",
       "      <td>8</td>\n",
       "      <td>Automatic</td>\n",
       "      <td>6</td>\n",
       "      <td>Premium Gasoline</td>\n",
       "      <td>494</td>\n",
       "      <td>18</td>\n",
       "    </tr>\n",
       "    <tr>\n",
       "      <th>2</th>\n",
       "      <td>2007</td>\n",
       "      <td>Jaguar</td>\n",
       "      <td>XKR</td>\n",
       "      <td>4.2</td>\n",
       "      <td>8</td>\n",
       "      <td>Automatic</td>\n",
       "      <td>6</td>\n",
       "      <td>Premium Gasoline</td>\n",
       "      <td>494</td>\n",
       "      <td>18</td>\n",
       "    </tr>\n",
       "    <tr>\n",
       "      <th>3</th>\n",
       "      <td>2009</td>\n",
       "      <td>Jaguar</td>\n",
       "      <td>XKR Convertible</td>\n",
       "      <td>4.2</td>\n",
       "      <td>8</td>\n",
       "      <td>Automatic</td>\n",
       "      <td>6</td>\n",
       "      <td>Premium Gasoline</td>\n",
       "      <td>494</td>\n",
       "      <td>18</td>\n",
       "    </tr>\n",
       "    <tr>\n",
       "      <th>4</th>\n",
       "      <td>2008</td>\n",
       "      <td>Jaguar</td>\n",
       "      <td>XKR Convertible</td>\n",
       "      <td>4.2</td>\n",
       "      <td>8</td>\n",
       "      <td>Automatic</td>\n",
       "      <td>6</td>\n",
       "      <td>Premium Gasoline</td>\n",
       "      <td>494</td>\n",
       "      <td>18</td>\n",
       "    </tr>\n",
       "    <tr>\n",
       "      <th>5</th>\n",
       "      <td>2007</td>\n",
       "      <td>Jaguar</td>\n",
       "      <td>XKR Convertible</td>\n",
       "      <td>4.2</td>\n",
       "      <td>8</td>\n",
       "      <td>Automatic</td>\n",
       "      <td>6</td>\n",
       "      <td>Premium Gasoline</td>\n",
       "      <td>494</td>\n",
       "      <td>18</td>\n",
       "    </tr>\n",
       "    <tr>\n",
       "      <th>6</th>\n",
       "      <td>2006</td>\n",
       "      <td>Jaguar</td>\n",
       "      <td>XKR</td>\n",
       "      <td>4.2</td>\n",
       "      <td>8</td>\n",
       "      <td>Automatic</td>\n",
       "      <td>6</td>\n",
       "      <td>Premium Gasoline</td>\n",
       "      <td>523</td>\n",
       "      <td>17</td>\n",
       "    </tr>\n",
       "    <tr>\n",
       "      <th>7</th>\n",
       "      <td>2006</td>\n",
       "      <td>Jaguar</td>\n",
       "      <td>XKR Convertible</td>\n",
       "      <td>4.2</td>\n",
       "      <td>8</td>\n",
       "      <td>Automatic</td>\n",
       "      <td>6</td>\n",
       "      <td>Premium Gasoline</td>\n",
       "      <td>523</td>\n",
       "      <td>17</td>\n",
       "    </tr>\n",
       "    <tr>\n",
       "      <th>8</th>\n",
       "      <td>2002</td>\n",
       "      <td>Jaguar</td>\n",
       "      <td>XKR</td>\n",
       "      <td>4.0</td>\n",
       "      <td>8</td>\n",
       "      <td>Automatic</td>\n",
       "      <td>5</td>\n",
       "      <td>Premium Gasoline</td>\n",
       "      <td>523</td>\n",
       "      <td>17</td>\n",
       "    </tr>\n",
       "    <tr>\n",
       "      <th>9</th>\n",
       "      <td>2001</td>\n",
       "      <td>Jaguar</td>\n",
       "      <td>XKR</td>\n",
       "      <td>4.0</td>\n",
       "      <td>8</td>\n",
       "      <td>Automatic</td>\n",
       "      <td>5</td>\n",
       "      <td>Premium Gasoline</td>\n",
       "      <td>523</td>\n",
       "      <td>17</td>\n",
       "    </tr>\n",
       "  </tbody>\n",
       "</table>\n",
       "</div>"
      ],
      "text/plain": [
       "   year    make            model  capacity_liters  cylinders transmission  \\\n",
       "0  2009  Jaguar              XKR              4.2          8    Automatic   \n",
       "1  2008  Jaguar              XKR              4.2          8    Automatic   \n",
       "2  2007  Jaguar              XKR              4.2          8    Automatic   \n",
       "3  2009  Jaguar  XKR Convertible              4.2          8    Automatic   \n",
       "4  2008  Jaguar  XKR Convertible              4.2          8    Automatic   \n",
       "5  2007  Jaguar  XKR Convertible              4.2          8    Automatic   \n",
       "6  2006  Jaguar              XKR              4.2          8    Automatic   \n",
       "7  2006  Jaguar  XKR Convertible              4.2          8    Automatic   \n",
       "8  2002  Jaguar              XKR              4.0          8    Automatic   \n",
       "9  2001  Jaguar              XKR              4.0          8    Automatic   \n",
       "\n",
       "  trans_speed          fuel_type  gg_emissions  mpg  \n",
       "0           6   Premium Gasoline           494   18  \n",
       "1           6   Premium Gasoline           494   18  \n",
       "2           6   Premium Gasoline           494   18  \n",
       "3           6   Premium Gasoline           494   18  \n",
       "4           6   Premium Gasoline           494   18  \n",
       "5           6   Premium Gasoline           494   18  \n",
       "6           6   Premium Gasoline           523   17  \n",
       "7           6   Premium Gasoline           523   17  \n",
       "8           5   Premium Gasoline           523   17  \n",
       "9           5   Premium Gasoline           523   17  "
      ]
     },
     "execution_count": 25,
     "metadata": {},
     "output_type": "execute_result"
    }
   ],
   "source": [
    "# Test area for each url with [carmake]_urls[index]\n",
    "# by seeing if data appears correctly\n",
    "\n",
    "make_model_df('Jaguar',jaguar_urls[18])"
   ]
  },
  {
   "cell_type": "markdown",
   "metadata": {},
   "source": [
    "-"
   ]
  },
  {
   "cell_type": "markdown",
   "metadata": {},
   "source": [
    "Populate this section so if there are any 'problem' URLs from your test above"
   ]
  },
  {
   "cell_type": "code",
   "execution_count": 26,
   "metadata": {},
   "outputs": [
    {
     "data": {
      "text/plain": [
       "19"
      ]
     },
     "execution_count": 26,
     "metadata": {},
     "output_type": "execute_result"
    }
   ],
   "source": [
    "#'Problem' URLs\n",
    "'''\n",
    "jaguar_urls[3]\n",
    "jaguar_urls[11]\n",
    "jaguar_urls[12]\n",
    "'''\n",
    "\n",
    "#Print list length again to \n",
    "#set length of range in next cell\n",
    "len(jaguar_urls)"
   ]
  },
  {
   "cell_type": "markdown",
   "metadata": {},
   "source": [
    "-"
   ]
  },
  {
   "cell_type": "markdown",
   "metadata": {},
   "source": [
    "**Step #4:** Create dfs for all 'okay' urls and place each into a master list\n",
    "- Automate where possible, but some may need to be added one by one to avoid 'problem' urls"
   ]
  },
  {
   "cell_type": "code",
   "execution_count": 27,
   "metadata": {
    "scrolled": true
   },
   "outputs": [],
   "source": [
    "# for 'normal' urls to make a df and add to master df list, automate it!\n",
    "\n",
    "jaguar_dfs = []\n",
    "\n",
    "for x in range(0,3):\n",
    "    jaguar_dfs.append(make_model_df('Jaguar',jaguar_urls[x]))\n",
    "\n",
    "for x in range(4,11):\n",
    "    jaguar_dfs.append(make_model_df('Jaguar',jaguar_urls[x]))\n",
    "    \n",
    "for x in range(13,19):\n",
    "    jaguar_dfs.append(make_model_df('Jaguar',jaguar_urls[x]))\n"
   ]
  },
  {
   "cell_type": "markdown",
   "metadata": {},
   "source": [
    "-"
   ]
  },
  {
   "cell_type": "markdown",
   "metadata": {},
   "source": [
    "**Step #5:** Concatenate all of the 'normal' car model dfs into one master dataframe"
   ]
  },
  {
   "cell_type": "code",
   "execution_count": 28,
   "metadata": {
    "scrolled": true
   },
   "outputs": [
    {
     "data": {
      "text/html": [
       "<div>\n",
       "<style scoped>\n",
       "    .dataframe tbody tr th:only-of-type {\n",
       "        vertical-align: middle;\n",
       "    }\n",
       "\n",
       "    .dataframe tbody tr th {\n",
       "        vertical-align: top;\n",
       "    }\n",
       "\n",
       "    .dataframe thead th {\n",
       "        text-align: right;\n",
       "    }\n",
       "</style>\n",
       "<table border=\"1\" class=\"dataframe\">\n",
       "  <thead>\n",
       "    <tr style=\"text-align: right;\">\n",
       "      <th></th>\n",
       "      <th>year</th>\n",
       "      <th>make</th>\n",
       "      <th>model</th>\n",
       "      <th>capacity_liters</th>\n",
       "      <th>cylinders</th>\n",
       "      <th>transmission</th>\n",
       "      <th>trans_speed</th>\n",
       "      <th>fuel_type</th>\n",
       "      <th>gg_emissions</th>\n",
       "      <th>mpg</th>\n",
       "    </tr>\n",
       "  </thead>\n",
       "  <tbody>\n",
       "    <tr>\n",
       "      <th>0</th>\n",
       "      <td>2020</td>\n",
       "      <td>Jaguar</td>\n",
       "      <td>E-Pace</td>\n",
       "      <td>2.0</td>\n",
       "      <td>4</td>\n",
       "      <td>Automatic</td>\n",
       "      <td>S9</td>\n",
       "      <td>Premium Gasoline</td>\n",
       "      <td>371</td>\n",
       "      <td>24</td>\n",
       "    </tr>\n",
       "    <tr>\n",
       "      <th>1</th>\n",
       "      <td>2018</td>\n",
       "      <td>Jaguar</td>\n",
       "      <td>E-Pace</td>\n",
       "      <td>2.0</td>\n",
       "      <td>4</td>\n",
       "      <td>Automatic</td>\n",
       "      <td>S9</td>\n",
       "      <td>Premium Gasoline</td>\n",
       "      <td>395</td>\n",
       "      <td>24</td>\n",
       "    </tr>\n",
       "    <tr>\n",
       "      <th>2</th>\n",
       "      <td>2019</td>\n",
       "      <td>Jaguar</td>\n",
       "      <td>E-Pace P250</td>\n",
       "      <td>2.0</td>\n",
       "      <td>4</td>\n",
       "      <td>Automatic</td>\n",
       "      <td>S9</td>\n",
       "      <td>Premium Gasoline</td>\n",
       "      <td>395</td>\n",
       "      <td>24</td>\n",
       "    </tr>\n",
       "    <tr>\n",
       "      <th>3</th>\n",
       "      <td>2018</td>\n",
       "      <td>Jaguar</td>\n",
       "      <td>E-Pace (296 Hp)</td>\n",
       "      <td>2.0</td>\n",
       "      <td>4</td>\n",
       "      <td>Automatic</td>\n",
       "      <td>S9</td>\n",
       "      <td>Premium Gasoline</td>\n",
       "      <td>379</td>\n",
       "      <td>23</td>\n",
       "    </tr>\n",
       "    <tr>\n",
       "      <th>4</th>\n",
       "      <td>2020</td>\n",
       "      <td>Jaguar</td>\n",
       "      <td>E-Pace P300</td>\n",
       "      <td>2.0</td>\n",
       "      <td>4</td>\n",
       "      <td>Automatic</td>\n",
       "      <td>S9</td>\n",
       "      <td>Premium Gasoline</td>\n",
       "      <td>379</td>\n",
       "      <td>23</td>\n",
       "    </tr>\n",
       "    <tr>\n",
       "      <th>...</th>\n",
       "      <td>...</td>\n",
       "      <td>...</td>\n",
       "      <td>...</td>\n",
       "      <td>...</td>\n",
       "      <td>...</td>\n",
       "      <td>...</td>\n",
       "      <td>...</td>\n",
       "      <td>...</td>\n",
       "      <td>...</td>\n",
       "      <td>...</td>\n",
       "    </tr>\n",
       "    <tr>\n",
       "      <th>136</th>\n",
       "      <td>2007</td>\n",
       "      <td>Jaguar</td>\n",
       "      <td>XKR Convertible</td>\n",
       "      <td>4.2</td>\n",
       "      <td>8</td>\n",
       "      <td>Automatic</td>\n",
       "      <td>6</td>\n",
       "      <td>Premium Gasoline</td>\n",
       "      <td>494</td>\n",
       "      <td>18</td>\n",
       "    </tr>\n",
       "    <tr>\n",
       "      <th>137</th>\n",
       "      <td>2006</td>\n",
       "      <td>Jaguar</td>\n",
       "      <td>XKR</td>\n",
       "      <td>4.2</td>\n",
       "      <td>8</td>\n",
       "      <td>Automatic</td>\n",
       "      <td>6</td>\n",
       "      <td>Premium Gasoline</td>\n",
       "      <td>523</td>\n",
       "      <td>17</td>\n",
       "    </tr>\n",
       "    <tr>\n",
       "      <th>138</th>\n",
       "      <td>2006</td>\n",
       "      <td>Jaguar</td>\n",
       "      <td>XKR Convertible</td>\n",
       "      <td>4.2</td>\n",
       "      <td>8</td>\n",
       "      <td>Automatic</td>\n",
       "      <td>6</td>\n",
       "      <td>Premium Gasoline</td>\n",
       "      <td>523</td>\n",
       "      <td>17</td>\n",
       "    </tr>\n",
       "    <tr>\n",
       "      <th>139</th>\n",
       "      <td>2002</td>\n",
       "      <td>Jaguar</td>\n",
       "      <td>XKR</td>\n",
       "      <td>4.0</td>\n",
       "      <td>8</td>\n",
       "      <td>Automatic</td>\n",
       "      <td>5</td>\n",
       "      <td>Premium Gasoline</td>\n",
       "      <td>523</td>\n",
       "      <td>17</td>\n",
       "    </tr>\n",
       "    <tr>\n",
       "      <th>140</th>\n",
       "      <td>2001</td>\n",
       "      <td>Jaguar</td>\n",
       "      <td>XKR</td>\n",
       "      <td>4.0</td>\n",
       "      <td>8</td>\n",
       "      <td>Automatic</td>\n",
       "      <td>5</td>\n",
       "      <td>Premium Gasoline</td>\n",
       "      <td>523</td>\n",
       "      <td>17</td>\n",
       "    </tr>\n",
       "  </tbody>\n",
       "</table>\n",
       "<p>141 rows × 10 columns</p>\n",
       "</div>"
      ],
      "text/plain": [
       "     year    make            model  capacity_liters  cylinders transmission  \\\n",
       "0    2020  Jaguar           E-Pace              2.0          4    Automatic   \n",
       "1    2018  Jaguar           E-Pace              2.0          4    Automatic   \n",
       "2    2019  Jaguar      E-Pace P250              2.0          4    Automatic   \n",
       "3    2018  Jaguar  E-Pace (296 Hp)              2.0          4    Automatic   \n",
       "4    2020  Jaguar      E-Pace P300              2.0          4    Automatic   \n",
       "..    ...     ...              ...              ...        ...          ...   \n",
       "136  2007  Jaguar  XKR Convertible              4.2          8    Automatic   \n",
       "137  2006  Jaguar              XKR              4.2          8    Automatic   \n",
       "138  2006  Jaguar  XKR Convertible              4.2          8    Automatic   \n",
       "139  2002  Jaguar              XKR              4.0          8    Automatic   \n",
       "140  2001  Jaguar              XKR              4.0          8    Automatic   \n",
       "\n",
       "    trans_speed          fuel_type  gg_emissions  mpg  \n",
       "0            S9   Premium Gasoline           371   24  \n",
       "1            S9   Premium Gasoline           395   24  \n",
       "2            S9   Premium Gasoline           395   24  \n",
       "3            S9   Premium Gasoline           379   23  \n",
       "4            S9   Premium Gasoline           379   23  \n",
       "..          ...                ...           ...  ...  \n",
       "136           6   Premium Gasoline           494   18  \n",
       "137           6   Premium Gasoline           523   17  \n",
       "138           6   Premium Gasoline           523   17  \n",
       "139           5   Premium Gasoline           523   17  \n",
       "140           5   Premium Gasoline           523   17  \n",
       "\n",
       "[141 rows x 10 columns]"
      ]
     },
     "execution_count": 28,
     "metadata": {},
     "output_type": "execute_result"
    }
   ],
   "source": [
    "jaguar_dfs = pd.concat(jaguar_dfs, ignore_index=True)\n",
    "\n",
    "jaguar_dfs"
   ]
  },
  {
   "cell_type": "markdown",
   "metadata": {},
   "source": [
    "-"
   ]
  },
  {
   "cell_type": "markdown",
   "metadata": {},
   "source": [
    "**Step #6:** Pickle the dataframe made in Step 6 of all car's models with 'normal' dataframes\n",
    "- Will now be saved so further work on dataframe can start at this place"
   ]
  },
  {
   "cell_type": "code",
   "execution_count": 29,
   "metadata": {},
   "outputs": [],
   "source": [
    "with open('pickles/jaguar_dfs.pickle', 'wb') as to_write:\n",
    "    pickle.dump(jaguar_dfs, to_write)"
   ]
  },
  {
   "cell_type": "markdown",
   "metadata": {},
   "source": [
    "-"
   ]
  },
  {
   "cell_type": "markdown",
   "metadata": {},
   "source": [
    "**Step #7:** Un-pickle the dataframe made in Step 7 of all car's models with 'normal' dataframes"
   ]
  },
  {
   "cell_type": "code",
   "execution_count": 30,
   "metadata": {},
   "outputs": [],
   "source": [
    "with open('pickles/jaguar_dfs.pickle','rb') as read_file:\n",
    "    jaguar_dfs = pickle.load(read_file)"
   ]
  },
  {
   "cell_type": "code",
   "execution_count": null,
   "metadata": {},
   "outputs": [],
   "source": []
  }
 ],
 "metadata": {
  "kernelspec": {
   "display_name": "Python 3",
   "language": "python",
   "name": "python3"
  },
  "language_info": {
   "codemirror_mode": {
    "name": "ipython",
    "version": 3
   },
   "file_extension": ".py",
   "mimetype": "text/x-python",
   "name": "python",
   "nbconvert_exporter": "python",
   "pygments_lexer": "ipython3",
   "version": "3.7.4"
  }
 },
 "nbformat": 4,
 "nbformat_minor": 2
}
