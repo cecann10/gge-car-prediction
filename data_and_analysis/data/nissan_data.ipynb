{
 "cells": [
  {
   "cell_type": "code",
   "execution_count": 1,
   "metadata": {},
   "outputs": [],
   "source": [
    "import requests\n",
    "from requests import get\n",
    "from bs4 import BeautifulSoup\n",
    "import pandas as pd\n",
    "import numpy as np\n",
    "import pickle"
   ]
  },
  {
   "cell_type": "markdown",
   "metadata": {},
   "source": [
    "### Import functions unique to this project"
   ]
  },
  {
   "cell_type": "code",
   "execution_count": 2,
   "metadata": {},
   "outputs": [],
   "source": [
    "from master_functions import get_car_urls\n",
    "from master_functions import make_model_df"
   ]
  },
  {
   "cell_type": "markdown",
   "metadata": {},
   "source": [
    "## NISSAN - Create master dataframe for all models\n",
    "\n",
    "This worksheet is intended to build a datafame for all **Nissan** cars.  There are some 'quirks' in how the data is structured from its source on https://www.fueleconomy.gov/, so more manual steps are taken below to check files for issues, combine first what is 'normal' and then add in those that required special attention.\n",
    "\n",
    "**Step #1:** Create unique urls for every car model for the years 1984 - 2021<br>\n",
    "- Uses `get_car_urls` from master function, Inputs: (car_make, [list of all models])"
   ]
  },
  {
   "cell_type": "code",
   "execution_count": 3,
   "metadata": {},
   "outputs": [],
   "source": [
    "nissan_urls = get_car_urls('Nissan',\n",
    "                           ['200SX','240SX','300ZX'\n",
    "                            '350z','370z','Altima',\n",
    "                            'Altra EV','Armada','Axxess',\n",
    "                            'Cube','Frontier','GT-R',\n",
    "                            'Hardbody','Hyper-Mini',\n",
    "                            'Juke','Kicks','Leaf','Maxima',\n",
    "                            'Murano','NV200 Cargo Van',\n",
    "                            'NV200 NYC Taxi','NX','Pathfinder',\n",
    "                            'Pickup','Pulsar NX','Pulsar/Pulsar-NX',\n",
    "                            'Quest','Rogue','Rouge Sport','Sentra',\n",
    "                            'Sentra/200SX','Stanza','Titan',\n",
    "                            'Truck','Van','Versa','Xterra'\n",
    "                           ])"
   ]
  },
  {
   "cell_type": "markdown",
   "metadata": {},
   "source": [
    "-"
   ]
  },
  {
   "cell_type": "markdown",
   "metadata": {},
   "source": [
    "**Step #2:** Get length of list created in Step 1.  This number will be how many times you run the function in Step 3 to check all of the urls<br>"
   ]
  },
  {
   "cell_type": "code",
   "execution_count": 4,
   "metadata": {
    "scrolled": false
   },
   "outputs": [
    {
     "data": {
      "text/plain": [
       "36"
      ]
     },
     "execution_count": 4,
     "metadata": {},
     "output_type": "execute_result"
    }
   ],
   "source": [
    "# Verify number of urls and use this number\n",
    "# to know how many urls need to 'check below'\n",
    "\n",
    "len(nissan_urls)"
   ]
  },
  {
   "cell_type": "markdown",
   "metadata": {},
   "source": [
    "-"
   ]
  },
  {
   "cell_type": "markdown",
   "metadata": {},
   "source": [
    "**Step #3:** Check all of the urls you just created.<br>\n",
    "- If does not work, add to 'problem' URLs string below this cell"
   ]
  },
  {
   "cell_type": "code",
   "execution_count": 42,
   "metadata": {},
   "outputs": [
    {
     "data": {
      "text/html": [
       "<div>\n",
       "<style scoped>\n",
       "    .dataframe tbody tr th:only-of-type {\n",
       "        vertical-align: middle;\n",
       "    }\n",
       "\n",
       "    .dataframe tbody tr th {\n",
       "        vertical-align: top;\n",
       "    }\n",
       "\n",
       "    .dataframe thead th {\n",
       "        text-align: right;\n",
       "    }\n",
       "</style>\n",
       "<table border=\"1\" class=\"dataframe\">\n",
       "  <thead>\n",
       "    <tr style=\"text-align: right;\">\n",
       "      <th></th>\n",
       "      <th>year</th>\n",
       "      <th>make</th>\n",
       "      <th>model</th>\n",
       "      <th>capacity_liters</th>\n",
       "      <th>cylinders</th>\n",
       "      <th>transmission</th>\n",
       "      <th>trans_speed</th>\n",
       "      <th>fuel_type</th>\n",
       "      <th>gg_emissions</th>\n",
       "      <th>mpg</th>\n",
       "    </tr>\n",
       "  </thead>\n",
       "  <tbody>\n",
       "    <tr>\n",
       "      <th>0</th>\n",
       "      <td>2004</td>\n",
       "      <td>Nissan</td>\n",
       "      <td>Xterra 2WD</td>\n",
       "      <td>2.4</td>\n",
       "      <td>4</td>\n",
       "      <td>Manual</td>\n",
       "      <td>5</td>\n",
       "      <td>Regular Gasoline</td>\n",
       "      <td>468</td>\n",
       "      <td>19</td>\n",
       "    </tr>\n",
       "    <tr>\n",
       "      <th>1</th>\n",
       "      <td>2003</td>\n",
       "      <td>Nissan</td>\n",
       "      <td>Xterra 2WD</td>\n",
       "      <td>2.4</td>\n",
       "      <td>4</td>\n",
       "      <td>Manual</td>\n",
       "      <td>5</td>\n",
       "      <td>Regular Gasoline</td>\n",
       "      <td>468</td>\n",
       "      <td>19</td>\n",
       "    </tr>\n",
       "    <tr>\n",
       "      <th>2</th>\n",
       "      <td>2002</td>\n",
       "      <td>Nissan</td>\n",
       "      <td>Xterra 2WD</td>\n",
       "      <td>2.4</td>\n",
       "      <td>4</td>\n",
       "      <td>Manual</td>\n",
       "      <td>5</td>\n",
       "      <td>Regular Gasoline</td>\n",
       "      <td>468</td>\n",
       "      <td>19</td>\n",
       "    </tr>\n",
       "    <tr>\n",
       "      <th>3</th>\n",
       "      <td>2001</td>\n",
       "      <td>Nissan</td>\n",
       "      <td>Xterra 2WD</td>\n",
       "      <td>2.4</td>\n",
       "      <td>4</td>\n",
       "      <td>Manual</td>\n",
       "      <td>5</td>\n",
       "      <td>Regular Gasoline</td>\n",
       "      <td>468</td>\n",
       "      <td>19</td>\n",
       "    </tr>\n",
       "    <tr>\n",
       "      <th>4</th>\n",
       "      <td>2000</td>\n",
       "      <td>Nissan</td>\n",
       "      <td>Xterra 2WD</td>\n",
       "      <td>2.4</td>\n",
       "      <td>4</td>\n",
       "      <td>Manual</td>\n",
       "      <td>5</td>\n",
       "      <td>Regular Gasoline</td>\n",
       "      <td>468</td>\n",
       "      <td>19</td>\n",
       "    </tr>\n",
       "    <tr>\n",
       "      <th>5</th>\n",
       "      <td>2015</td>\n",
       "      <td>Nissan</td>\n",
       "      <td>Xterra 2WD</td>\n",
       "      <td>4.0</td>\n",
       "      <td>6</td>\n",
       "      <td>Automatic</td>\n",
       "      <td>5</td>\n",
       "      <td>Regular Gasoline</td>\n",
       "      <td>489</td>\n",
       "      <td>18</td>\n",
       "    </tr>\n",
       "    <tr>\n",
       "      <th>6</th>\n",
       "      <td>2014</td>\n",
       "      <td>Nissan</td>\n",
       "      <td>Xterra 2WD</td>\n",
       "      <td>4.0</td>\n",
       "      <td>6</td>\n",
       "      <td>Automatic</td>\n",
       "      <td>5</td>\n",
       "      <td>Regular Gasoline</td>\n",
       "      <td>489</td>\n",
       "      <td>18</td>\n",
       "    </tr>\n",
       "    <tr>\n",
       "      <th>7</th>\n",
       "      <td>2013</td>\n",
       "      <td>Nissan</td>\n",
       "      <td>Xterra 2WD</td>\n",
       "      <td>4.0</td>\n",
       "      <td>6</td>\n",
       "      <td>Automatic</td>\n",
       "      <td>5</td>\n",
       "      <td>Regular Gasoline</td>\n",
       "      <td>489</td>\n",
       "      <td>18</td>\n",
       "    </tr>\n",
       "    <tr>\n",
       "      <th>8</th>\n",
       "      <td>2012</td>\n",
       "      <td>Nissan</td>\n",
       "      <td>Xterra 2WD</td>\n",
       "      <td>4.0</td>\n",
       "      <td>6</td>\n",
       "      <td>Automatic</td>\n",
       "      <td>5</td>\n",
       "      <td>Regular Gasoline</td>\n",
       "      <td>494</td>\n",
       "      <td>18</td>\n",
       "    </tr>\n",
       "    <tr>\n",
       "      <th>9</th>\n",
       "      <td>2011</td>\n",
       "      <td>Nissan</td>\n",
       "      <td>Xterra 2WD</td>\n",
       "      <td>4.0</td>\n",
       "      <td>6</td>\n",
       "      <td>Automatic</td>\n",
       "      <td>5</td>\n",
       "      <td>Regular Gasoline</td>\n",
       "      <td>494</td>\n",
       "      <td>18</td>\n",
       "    </tr>\n",
       "  </tbody>\n",
       "</table>\n",
       "</div>"
      ],
      "text/plain": [
       "   year    make       model  capacity_liters  cylinders transmission  \\\n",
       "0  2004  Nissan  Xterra 2WD              2.4          4       Manual   \n",
       "1  2003  Nissan  Xterra 2WD              2.4          4       Manual   \n",
       "2  2002  Nissan  Xterra 2WD              2.4          4       Manual   \n",
       "3  2001  Nissan  Xterra 2WD              2.4          4       Manual   \n",
       "4  2000  Nissan  Xterra 2WD              2.4          4       Manual   \n",
       "5  2015  Nissan  Xterra 2WD              4.0          6    Automatic   \n",
       "6  2014  Nissan  Xterra 2WD              4.0          6    Automatic   \n",
       "7  2013  Nissan  Xterra 2WD              4.0          6    Automatic   \n",
       "8  2012  Nissan  Xterra 2WD              4.0          6    Automatic   \n",
       "9  2011  Nissan  Xterra 2WD              4.0          6    Automatic   \n",
       "\n",
       "  trans_speed          fuel_type  gg_emissions  mpg  \n",
       "0           5   Regular Gasoline           468   19  \n",
       "1           5   Regular Gasoline           468   19  \n",
       "2           5   Regular Gasoline           468   19  \n",
       "3           5   Regular Gasoline           468   19  \n",
       "4           5   Regular Gasoline           468   19  \n",
       "5           5   Regular Gasoline           489   18  \n",
       "6           5   Regular Gasoline           489   18  \n",
       "7           5   Regular Gasoline           489   18  \n",
       "8           5   Regular Gasoline           494   18  \n",
       "9           5   Regular Gasoline           494   18  "
      ]
     },
     "execution_count": 42,
     "metadata": {},
     "output_type": "execute_result"
    }
   ],
   "source": [
    "# Test area for each url with [carmake]_urls[index]\n",
    "# by seeing if data appears correctly\n",
    "\n",
    "make_model_df('Nissan',nissan_urls[35])"
   ]
  },
  {
   "cell_type": "markdown",
   "metadata": {},
   "source": [
    "-"
   ]
  },
  {
   "cell_type": "markdown",
   "metadata": {},
   "source": [
    "Populate this section so if there are any 'problem' URLs from your test above"
   ]
  },
  {
   "cell_type": "code",
   "execution_count": 43,
   "metadata": {},
   "outputs": [
    {
     "data": {
      "text/plain": [
       "36"
      ]
     },
     "execution_count": 43,
     "metadata": {},
     "output_type": "execute_result"
    }
   ],
   "source": [
    "#'Problem' URLs\n",
    "'''\n",
    "nissan_urls[6]\n",
    "nissan_urls[15]\n",
    "'''\n",
    "\n",
    "#Print list length again to \n",
    "#set length of range in next cell\n",
    "len(nissan_urls)"
   ]
  },
  {
   "cell_type": "markdown",
   "metadata": {},
   "source": [
    "-"
   ]
  },
  {
   "cell_type": "markdown",
   "metadata": {},
   "source": [
    "**Step #4:** Create dfs for all 'okay' urls and place each into a master list\n",
    "- Automate where possible, but some may need to be added one by one to avoid 'problem' urls"
   ]
  },
  {
   "cell_type": "code",
   "execution_count": 44,
   "metadata": {
    "scrolled": true
   },
   "outputs": [],
   "source": [
    "# for 'normal' urls to make a df and add to master df list, automate it!\n",
    "\n",
    "nissan_dfs = []\n",
    "\n",
    "for x in range(0,6):\n",
    "    nissan_dfs.append(make_model_df('Nissan',nissan_urls[x]))\n",
    "\n",
    "for x in range(7,15):\n",
    "    nissan_dfs.append(make_model_df('Nissan',nissan_urls[x]))\n",
    "\n",
    "for x in range(16,36):\n",
    "    nissan_dfs.append(make_model_df('Nissan',nissan_urls[x]))\n"
   ]
  },
  {
   "cell_type": "markdown",
   "metadata": {},
   "source": [
    "-"
   ]
  },
  {
   "cell_type": "markdown",
   "metadata": {},
   "source": [
    "**Step #5:** Concatenate all of the 'normal' car model dfs into one master dataframe"
   ]
  },
  {
   "cell_type": "code",
   "execution_count": 45,
   "metadata": {
    "scrolled": true
   },
   "outputs": [
    {
     "data": {
      "text/html": [
       "<div>\n",
       "<style scoped>\n",
       "    .dataframe tbody tr th:only-of-type {\n",
       "        vertical-align: middle;\n",
       "    }\n",
       "\n",
       "    .dataframe tbody tr th {\n",
       "        vertical-align: top;\n",
       "    }\n",
       "\n",
       "    .dataframe thead th {\n",
       "        text-align: right;\n",
       "    }\n",
       "</style>\n",
       "<table border=\"1\" class=\"dataframe\">\n",
       "  <thead>\n",
       "    <tr style=\"text-align: right;\">\n",
       "      <th></th>\n",
       "      <th>year</th>\n",
       "      <th>make</th>\n",
       "      <th>model</th>\n",
       "      <th>capacity_liters</th>\n",
       "      <th>cylinders</th>\n",
       "      <th>transmission</th>\n",
       "      <th>trans_speed</th>\n",
       "      <th>fuel_type</th>\n",
       "      <th>gg_emissions</th>\n",
       "      <th>mpg</th>\n",
       "    </tr>\n",
       "  </thead>\n",
       "  <tbody>\n",
       "    <tr>\n",
       "      <th>0</th>\n",
       "      <td>1984.0</td>\n",
       "      <td>Nissan</td>\n",
       "      <td>200SX</td>\n",
       "      <td>2.0</td>\n",
       "      <td>4.0</td>\n",
       "      <td>Automatic</td>\n",
       "      <td>4</td>\n",
       "      <td>Regular Gasoline</td>\n",
       "      <td>342.0</td>\n",
       "      <td>26.0</td>\n",
       "    </tr>\n",
       "    <tr>\n",
       "      <th>1</th>\n",
       "      <td>1984.0</td>\n",
       "      <td>Nissan</td>\n",
       "      <td>200SX</td>\n",
       "      <td>2.0</td>\n",
       "      <td>4.0</td>\n",
       "      <td>Manual</td>\n",
       "      <td>5</td>\n",
       "      <td>Regular Gasoline</td>\n",
       "      <td>355.0</td>\n",
       "      <td>25.0</td>\n",
       "    </tr>\n",
       "    <tr>\n",
       "      <th>2</th>\n",
       "      <td>1984.0</td>\n",
       "      <td>Nissan</td>\n",
       "      <td>200SX</td>\n",
       "      <td>2.0</td>\n",
       "      <td>4.0</td>\n",
       "      <td>Manual</td>\n",
       "      <td>5</td>\n",
       "      <td>Regular Gasoline</td>\n",
       "      <td>355.0</td>\n",
       "      <td>25.0</td>\n",
       "    </tr>\n",
       "    <tr>\n",
       "      <th>3</th>\n",
       "      <td>1984.0</td>\n",
       "      <td>Nissan</td>\n",
       "      <td>200SX</td>\n",
       "      <td>2.0</td>\n",
       "      <td>4.0</td>\n",
       "      <td>Automatic</td>\n",
       "      <td>4</td>\n",
       "      <td>Regular Gasoline</td>\n",
       "      <td>370.0</td>\n",
       "      <td>24.0</td>\n",
       "    </tr>\n",
       "    <tr>\n",
       "      <th>4</th>\n",
       "      <td>1988.0</td>\n",
       "      <td>Nissan</td>\n",
       "      <td>200SX</td>\n",
       "      <td>2.0</td>\n",
       "      <td>4.0</td>\n",
       "      <td>Manual</td>\n",
       "      <td>5</td>\n",
       "      <td>Regular Gasoline</td>\n",
       "      <td>404.0</td>\n",
       "      <td>22.0</td>\n",
       "    </tr>\n",
       "    <tr>\n",
       "      <th>...</th>\n",
       "      <td>...</td>\n",
       "      <td>...</td>\n",
       "      <td>...</td>\n",
       "      <td>...</td>\n",
       "      <td>...</td>\n",
       "      <td>...</td>\n",
       "      <td>...</td>\n",
       "      <td>...</td>\n",
       "      <td>...</td>\n",
       "      <td>...</td>\n",
       "    </tr>\n",
       "    <tr>\n",
       "      <th>278</th>\n",
       "      <td>2015.0</td>\n",
       "      <td>Nissan</td>\n",
       "      <td>Xterra 2WD</td>\n",
       "      <td>4.0</td>\n",
       "      <td>6.0</td>\n",
       "      <td>Automatic</td>\n",
       "      <td>5</td>\n",
       "      <td>Regular Gasoline</td>\n",
       "      <td>489.0</td>\n",
       "      <td>18.0</td>\n",
       "    </tr>\n",
       "    <tr>\n",
       "      <th>279</th>\n",
       "      <td>2014.0</td>\n",
       "      <td>Nissan</td>\n",
       "      <td>Xterra 2WD</td>\n",
       "      <td>4.0</td>\n",
       "      <td>6.0</td>\n",
       "      <td>Automatic</td>\n",
       "      <td>5</td>\n",
       "      <td>Regular Gasoline</td>\n",
       "      <td>489.0</td>\n",
       "      <td>18.0</td>\n",
       "    </tr>\n",
       "    <tr>\n",
       "      <th>280</th>\n",
       "      <td>2013.0</td>\n",
       "      <td>Nissan</td>\n",
       "      <td>Xterra 2WD</td>\n",
       "      <td>4.0</td>\n",
       "      <td>6.0</td>\n",
       "      <td>Automatic</td>\n",
       "      <td>5</td>\n",
       "      <td>Regular Gasoline</td>\n",
       "      <td>489.0</td>\n",
       "      <td>18.0</td>\n",
       "    </tr>\n",
       "    <tr>\n",
       "      <th>281</th>\n",
       "      <td>2012.0</td>\n",
       "      <td>Nissan</td>\n",
       "      <td>Xterra 2WD</td>\n",
       "      <td>4.0</td>\n",
       "      <td>6.0</td>\n",
       "      <td>Automatic</td>\n",
       "      <td>5</td>\n",
       "      <td>Regular Gasoline</td>\n",
       "      <td>494.0</td>\n",
       "      <td>18.0</td>\n",
       "    </tr>\n",
       "    <tr>\n",
       "      <th>282</th>\n",
       "      <td>2011.0</td>\n",
       "      <td>Nissan</td>\n",
       "      <td>Xterra 2WD</td>\n",
       "      <td>4.0</td>\n",
       "      <td>6.0</td>\n",
       "      <td>Automatic</td>\n",
       "      <td>5</td>\n",
       "      <td>Regular Gasoline</td>\n",
       "      <td>494.0</td>\n",
       "      <td>18.0</td>\n",
       "    </tr>\n",
       "  </tbody>\n",
       "</table>\n",
       "<p>283 rows × 10 columns</p>\n",
       "</div>"
      ],
      "text/plain": [
       "       year    make       model  capacity_liters  cylinders transmission  \\\n",
       "0    1984.0  Nissan       200SX              2.0        4.0    Automatic   \n",
       "1    1984.0  Nissan       200SX              2.0        4.0       Manual   \n",
       "2    1984.0  Nissan       200SX              2.0        4.0       Manual   \n",
       "3    1984.0  Nissan       200SX              2.0        4.0    Automatic   \n",
       "4    1988.0  Nissan       200SX              2.0        4.0       Manual   \n",
       "..      ...     ...         ...              ...        ...          ...   \n",
       "278  2015.0  Nissan  Xterra 2WD              4.0        6.0    Automatic   \n",
       "279  2014.0  Nissan  Xterra 2WD              4.0        6.0    Automatic   \n",
       "280  2013.0  Nissan  Xterra 2WD              4.0        6.0    Automatic   \n",
       "281  2012.0  Nissan  Xterra 2WD              4.0        6.0    Automatic   \n",
       "282  2011.0  Nissan  Xterra 2WD              4.0        6.0    Automatic   \n",
       "\n",
       "    trans_speed          fuel_type  gg_emissions   mpg  \n",
       "0             4   Regular Gasoline         342.0  26.0  \n",
       "1             5   Regular Gasoline         355.0  25.0  \n",
       "2             5   Regular Gasoline         355.0  25.0  \n",
       "3             4   Regular Gasoline         370.0  24.0  \n",
       "4             5   Regular Gasoline         404.0  22.0  \n",
       "..          ...                ...           ...   ...  \n",
       "278           5   Regular Gasoline         489.0  18.0  \n",
       "279           5   Regular Gasoline         489.0  18.0  \n",
       "280           5   Regular Gasoline         489.0  18.0  \n",
       "281           5   Regular Gasoline         494.0  18.0  \n",
       "282           5   Regular Gasoline         494.0  18.0  \n",
       "\n",
       "[283 rows x 10 columns]"
      ]
     },
     "execution_count": 45,
     "metadata": {},
     "output_type": "execute_result"
    }
   ],
   "source": [
    "nissan_dfs = pd.concat(nissan_dfs, ignore_index=True)\n",
    "\n",
    "nissan_dfs"
   ]
  },
  {
   "cell_type": "markdown",
   "metadata": {},
   "source": [
    "-"
   ]
  },
  {
   "cell_type": "markdown",
   "metadata": {},
   "source": [
    "**Step #6:** Pickle the dataframe made in Step 6 of all car's models with 'normal' dataframes\n",
    "- Will now be saved so further work on dataframe can start at this place"
   ]
  },
  {
   "cell_type": "code",
   "execution_count": 46,
   "metadata": {},
   "outputs": [],
   "source": [
    "with open('pickles/nissan_dfs.pickle', 'wb') as to_write:\n",
    "    pickle.dump(nissan_dfs, to_write)"
   ]
  },
  {
   "cell_type": "markdown",
   "metadata": {},
   "source": [
    "-"
   ]
  },
  {
   "cell_type": "markdown",
   "metadata": {},
   "source": [
    "**Step #7:** Un-pickle the dataframe made in Step 7 of all car's models with 'normal' dataframes"
   ]
  },
  {
   "cell_type": "code",
   "execution_count": 47,
   "metadata": {},
   "outputs": [],
   "source": [
    "with open('pickles/nissan_dfs.pickle','rb') as read_file:\n",
    "    nissan_dfs = pickle.load(read_file)"
   ]
  },
  {
   "cell_type": "code",
   "execution_count": null,
   "metadata": {},
   "outputs": [],
   "source": []
  }
 ],
 "metadata": {
  "kernelspec": {
   "display_name": "Python 3",
   "language": "python",
   "name": "python3"
  },
  "language_info": {
   "codemirror_mode": {
    "name": "ipython",
    "version": 3
   },
   "file_extension": ".py",
   "mimetype": "text/x-python",
   "name": "python",
   "nbconvert_exporter": "python",
   "pygments_lexer": "ipython3",
   "version": "3.7.4"
  }
 },
 "nbformat": 4,
 "nbformat_minor": 2
}
