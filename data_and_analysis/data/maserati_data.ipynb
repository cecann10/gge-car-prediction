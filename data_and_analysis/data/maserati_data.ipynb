{
 "cells": [
  {
   "cell_type": "code",
   "execution_count": 1,
   "metadata": {},
   "outputs": [],
   "source": [
    "import requests\n",
    "from requests import get\n",
    "from bs4 import BeautifulSoup\n",
    "import pandas as pd\n",
    "import numpy as np\n",
    "import pickle"
   ]
  },
  {
   "cell_type": "markdown",
   "metadata": {},
   "source": [
    "### Import functions unique to this project"
   ]
  },
  {
   "cell_type": "code",
   "execution_count": 2,
   "metadata": {},
   "outputs": [],
   "source": [
    "from master_functions import get_car_urls\n",
    "from master_functions import make_model_df"
   ]
  },
  {
   "cell_type": "markdown",
   "metadata": {},
   "source": [
    "## MASERATI - Create master dataframe for all models\n",
    "\n",
    "This worksheet is intended to build a datafame for all **Maserati** cars.  There are some 'quirks' in how the data is structured from its source on https://www.fueleconomy.gov/, so more manual steps are taken below to check files for issues, combine first what is 'normal' and then add in those that required special attention.\n",
    "\n",
    "**Step #1:** Create unique urls for every car model for the years 1984 - 2021<br>\n",
    "- Uses `get_car_urls` from master function, Inputs: (car_make, [list of all models])"
   ]
  },
  {
   "cell_type": "code",
   "execution_count": 3,
   "metadata": {},
   "outputs": [],
   "source": [
    "maserati_urls = get_car_urls('Maserati',\n",
    "                             ['222E','225','228',\n",
    "                              '430','Biturbo','Biturbo Spyder',\n",
    "                              'Coupe and Gransport',\n",
    "                              'Coupe Cambiocorsa/coupe GT',\n",
    "                              'Coupe Cambiocorsa/GT/G-Sport',\n",
    "                              'Ghibli','GranTurismo','Karif',\n",
    "                              'Levante','Q','Quattroporte',\n",
    "                              'Spyder'\n",
    "                             ])"
   ]
  },
  {
   "cell_type": "markdown",
   "metadata": {},
   "source": [
    "-"
   ]
  },
  {
   "cell_type": "markdown",
   "metadata": {},
   "source": [
    "**Step #2:** Get length of list created in Step 1.  This number will be how many times you run the function in Step 3 to check all of the urls<br>"
   ]
  },
  {
   "cell_type": "code",
   "execution_count": 4,
   "metadata": {
    "scrolled": false
   },
   "outputs": [
    {
     "data": {
      "text/plain": [
       "16"
      ]
     },
     "execution_count": 4,
     "metadata": {},
     "output_type": "execute_result"
    }
   ],
   "source": [
    "# Verify number of urls and use this number\n",
    "# to know how many urls need to 'check below'\n",
    "\n",
    "len(maserati_urls)"
   ]
  },
  {
   "cell_type": "markdown",
   "metadata": {},
   "source": [
    "-"
   ]
  },
  {
   "cell_type": "markdown",
   "metadata": {},
   "source": [
    "**Step #3:** Check all of the urls you just created.<br>\n",
    "- If does not work, add to 'problem' URLs string below this cell"
   ]
  },
  {
   "cell_type": "code",
   "execution_count": 20,
   "metadata": {},
   "outputs": [
    {
     "data": {
      "text/html": [
       "<div>\n",
       "<style scoped>\n",
       "    .dataframe tbody tr th:only-of-type {\n",
       "        vertical-align: middle;\n",
       "    }\n",
       "\n",
       "    .dataframe tbody tr th {\n",
       "        vertical-align: top;\n",
       "    }\n",
       "\n",
       "    .dataframe thead th {\n",
       "        text-align: right;\n",
       "    }\n",
       "</style>\n",
       "<table border=\"1\" class=\"dataframe\">\n",
       "  <thead>\n",
       "    <tr style=\"text-align: right;\">\n",
       "      <th></th>\n",
       "      <th>year</th>\n",
       "      <th>make</th>\n",
       "      <th>model</th>\n",
       "      <th>capacity_liters</th>\n",
       "      <th>cylinders</th>\n",
       "      <th>transmission</th>\n",
       "      <th>trans_speed</th>\n",
       "      <th>fuel_type</th>\n",
       "      <th>gg_emissions</th>\n",
       "      <th>mpg</th>\n",
       "    </tr>\n",
       "  </thead>\n",
       "  <tbody>\n",
       "    <tr>\n",
       "      <th>0</th>\n",
       "      <td>1990</td>\n",
       "      <td>Maserati</td>\n",
       "      <td>Spyder</td>\n",
       "      <td>2.8</td>\n",
       "      <td>6</td>\n",
       "      <td>Manual</td>\n",
       "      <td>5</td>\n",
       "      <td>Premium Gasoline</td>\n",
       "      <td>592</td>\n",
       "      <td>15</td>\n",
       "    </tr>\n",
       "    <tr>\n",
       "      <th>1</th>\n",
       "      <td>1989</td>\n",
       "      <td>Maserati</td>\n",
       "      <td>Spyder</td>\n",
       "      <td>2.8</td>\n",
       "      <td>6</td>\n",
       "      <td>Manual</td>\n",
       "      <td>5</td>\n",
       "      <td>Premium Gasoline</td>\n",
       "      <td>592</td>\n",
       "      <td>15</td>\n",
       "    </tr>\n",
       "    <tr>\n",
       "      <th>2</th>\n",
       "      <td>1991</td>\n",
       "      <td>Maserati</td>\n",
       "      <td>Spyder</td>\n",
       "      <td>2.8</td>\n",
       "      <td>6</td>\n",
       "      <td>Automatic</td>\n",
       "      <td>4</td>\n",
       "      <td>Premium Gasoline</td>\n",
       "      <td>592</td>\n",
       "      <td>15</td>\n",
       "    </tr>\n",
       "    <tr>\n",
       "      <th>3</th>\n",
       "      <td>1990</td>\n",
       "      <td>Maserati</td>\n",
       "      <td>Spyder</td>\n",
       "      <td>2.8</td>\n",
       "      <td>6</td>\n",
       "      <td>Automatic</td>\n",
       "      <td>4</td>\n",
       "      <td>Premium Gasoline</td>\n",
       "      <td>592</td>\n",
       "      <td>15</td>\n",
       "    </tr>\n",
       "    <tr>\n",
       "      <th>4</th>\n",
       "      <td>1989</td>\n",
       "      <td>Maserati</td>\n",
       "      <td>Spyder</td>\n",
       "      <td>2.8</td>\n",
       "      <td>6</td>\n",
       "      <td>Automatic</td>\n",
       "      <td>4</td>\n",
       "      <td>Premium Gasoline</td>\n",
       "      <td>592</td>\n",
       "      <td>15</td>\n",
       "    </tr>\n",
       "    <tr>\n",
       "      <th>5</th>\n",
       "      <td>1991</td>\n",
       "      <td>Maserati</td>\n",
       "      <td>Spyder</td>\n",
       "      <td>2.8</td>\n",
       "      <td>6</td>\n",
       "      <td>Manual</td>\n",
       "      <td>5</td>\n",
       "      <td>Premium Gasoline</td>\n",
       "      <td>635</td>\n",
       "      <td>14</td>\n",
       "    </tr>\n",
       "    <tr>\n",
       "      <th>6</th>\n",
       "      <td>2005</td>\n",
       "      <td>Maserati</td>\n",
       "      <td>Spyder Cambiocorsa/GT/90 ANV</td>\n",
       "      <td>4.2</td>\n",
       "      <td>8</td>\n",
       "      <td>Automatic</td>\n",
       "      <td>S6</td>\n",
       "      <td>Premium Gasoline</td>\n",
       "      <td>741</td>\n",
       "      <td>12</td>\n",
       "    </tr>\n",
       "    <tr>\n",
       "      <th>7</th>\n",
       "      <td>2004</td>\n",
       "      <td>Maserati</td>\n",
       "      <td>Spider Cambiocorsa/Spider GT</td>\n",
       "      <td>4.2</td>\n",
       "      <td>8</td>\n",
       "      <td>Automatic</td>\n",
       "      <td>S6</td>\n",
       "      <td>Premium Gasoline</td>\n",
       "      <td>741</td>\n",
       "      <td>12</td>\n",
       "    </tr>\n",
       "    <tr>\n",
       "      <th>8</th>\n",
       "      <td>2003</td>\n",
       "      <td>Maserati</td>\n",
       "      <td>Spider Cambiocorsa/Spider GT</td>\n",
       "      <td>4.2</td>\n",
       "      <td>8</td>\n",
       "      <td>Automatic</td>\n",
       "      <td>S6</td>\n",
       "      <td>Premium Gasoline</td>\n",
       "      <td>741</td>\n",
       "      <td>12</td>\n",
       "    </tr>\n",
       "    <tr>\n",
       "      <th>9</th>\n",
       "      <td>2002</td>\n",
       "      <td>Maserati</td>\n",
       "      <td>Spider Cambiocorsa/spider GT</td>\n",
       "      <td>4.2</td>\n",
       "      <td>8</td>\n",
       "      <td>Automatic</td>\n",
       "      <td>S6</td>\n",
       "      <td>Premium Gasoline</td>\n",
       "      <td>741</td>\n",
       "      <td>12</td>\n",
       "    </tr>\n",
       "  </tbody>\n",
       "</table>\n",
       "</div>"
      ],
      "text/plain": [
       "   year      make                         model  capacity_liters  cylinders  \\\n",
       "0  1990  Maserati                        Spyder              2.8          6   \n",
       "1  1989  Maserati                        Spyder              2.8          6   \n",
       "2  1991  Maserati                        Spyder              2.8          6   \n",
       "3  1990  Maserati                        Spyder              2.8          6   \n",
       "4  1989  Maserati                        Spyder              2.8          6   \n",
       "5  1991  Maserati                        Spyder              2.8          6   \n",
       "6  2005  Maserati  Spyder Cambiocorsa/GT/90 ANV              4.2          8   \n",
       "7  2004  Maserati  Spider Cambiocorsa/Spider GT              4.2          8   \n",
       "8  2003  Maserati  Spider Cambiocorsa/Spider GT              4.2          8   \n",
       "9  2002  Maserati  Spider Cambiocorsa/spider GT              4.2          8   \n",
       "\n",
       "  transmission trans_speed          fuel_type  gg_emissions  mpg  \n",
       "0       Manual           5   Premium Gasoline           592   15  \n",
       "1       Manual           5   Premium Gasoline           592   15  \n",
       "2    Automatic           4   Premium Gasoline           592   15  \n",
       "3    Automatic           4   Premium Gasoline           592   15  \n",
       "4    Automatic           4   Premium Gasoline           592   15  \n",
       "5       Manual           5   Premium Gasoline           635   14  \n",
       "6    Automatic          S6   Premium Gasoline           741   12  \n",
       "7    Automatic          S6   Premium Gasoline           741   12  \n",
       "8    Automatic          S6   Premium Gasoline           741   12  \n",
       "9    Automatic          S6   Premium Gasoline           741   12  "
      ]
     },
     "execution_count": 20,
     "metadata": {},
     "output_type": "execute_result"
    }
   ],
   "source": [
    "# Test area for each url with [carmake]_urls[index]\n",
    "# by seeing if data appears correctly\n",
    "\n",
    "make_model_df('Maserati',maserati_urls[15])"
   ]
  },
  {
   "cell_type": "markdown",
   "metadata": {},
   "source": [
    "-"
   ]
  },
  {
   "cell_type": "markdown",
   "metadata": {},
   "source": [
    "Populate this section so if there are any 'problem' URLs from your test above"
   ]
  },
  {
   "cell_type": "code",
   "execution_count": 21,
   "metadata": {},
   "outputs": [
    {
     "data": {
      "text/plain": [
       "16"
      ]
     },
     "execution_count": 21,
     "metadata": {},
     "output_type": "execute_result"
    }
   ],
   "source": [
    "#'Problem' URLs\n",
    "'''\n",
    "None!  All clear\n",
    "'''\n",
    "\n",
    "#Print list length again to \n",
    "#set length of range in next cell\n",
    "len(maserati_urls)"
   ]
  },
  {
   "cell_type": "markdown",
   "metadata": {},
   "source": [
    "-"
   ]
  },
  {
   "cell_type": "markdown",
   "metadata": {},
   "source": [
    "**Step #4:** Create dfs for all 'okay' urls and place each into a master list\n",
    "- Automate where possible, but some may need to be added one by one to avoid 'problem' urls"
   ]
  },
  {
   "cell_type": "code",
   "execution_count": 22,
   "metadata": {
    "scrolled": true
   },
   "outputs": [],
   "source": [
    "# for 'normal' urls to make a df and add to master df list, automate it!\n",
    "\n",
    "maserati_dfs = []\n",
    "\n",
    "for x in range(0,16):\n",
    "    maserati_dfs.append(make_model_df('Maserati',maserati_urls[x]))\n"
   ]
  },
  {
   "cell_type": "markdown",
   "metadata": {},
   "source": [
    "-"
   ]
  },
  {
   "cell_type": "markdown",
   "metadata": {},
   "source": [
    "**Step #5:** Concatenate all of the 'normal' car model dfs into one master dataframe"
   ]
  },
  {
   "cell_type": "code",
   "execution_count": 23,
   "metadata": {
    "scrolled": true
   },
   "outputs": [
    {
     "data": {
      "text/html": [
       "<div>\n",
       "<style scoped>\n",
       "    .dataframe tbody tr th:only-of-type {\n",
       "        vertical-align: middle;\n",
       "    }\n",
       "\n",
       "    .dataframe tbody tr th {\n",
       "        vertical-align: top;\n",
       "    }\n",
       "\n",
       "    .dataframe thead th {\n",
       "        text-align: right;\n",
       "    }\n",
       "</style>\n",
       "<table border=\"1\" class=\"dataframe\">\n",
       "  <thead>\n",
       "    <tr style=\"text-align: right;\">\n",
       "      <th></th>\n",
       "      <th>year</th>\n",
       "      <th>make</th>\n",
       "      <th>model</th>\n",
       "      <th>capacity_liters</th>\n",
       "      <th>cylinders</th>\n",
       "      <th>transmission</th>\n",
       "      <th>trans_speed</th>\n",
       "      <th>fuel_type</th>\n",
       "      <th>gg_emissions</th>\n",
       "      <th>mpg</th>\n",
       "    </tr>\n",
       "  </thead>\n",
       "  <tbody>\n",
       "    <tr>\n",
       "      <th>0</th>\n",
       "      <td>1990.0</td>\n",
       "      <td>Maserati</td>\n",
       "      <td>222E</td>\n",
       "      <td>2.8</td>\n",
       "      <td>6.0</td>\n",
       "      <td>Manual</td>\n",
       "      <td>5</td>\n",
       "      <td>Premium Gasoline</td>\n",
       "      <td>592.0</td>\n",
       "      <td>15.0</td>\n",
       "    </tr>\n",
       "    <tr>\n",
       "      <th>1</th>\n",
       "      <td>1990.0</td>\n",
       "      <td>Maserati</td>\n",
       "      <td>222E</td>\n",
       "      <td>2.8</td>\n",
       "      <td>6.0</td>\n",
       "      <td>Automatic</td>\n",
       "      <td>4</td>\n",
       "      <td>Premium Gasoline</td>\n",
       "      <td>592.0</td>\n",
       "      <td>15.0</td>\n",
       "    </tr>\n",
       "    <tr>\n",
       "      <th>2</th>\n",
       "      <td>1989.0</td>\n",
       "      <td>Maserati</td>\n",
       "      <td>222E</td>\n",
       "      <td>2.8</td>\n",
       "      <td>6.0</td>\n",
       "      <td>Automatic</td>\n",
       "      <td>4</td>\n",
       "      <td>Premium Gasoline</td>\n",
       "      <td>592.0</td>\n",
       "      <td>15.0</td>\n",
       "    </tr>\n",
       "    <tr>\n",
       "      <th>3</th>\n",
       "      <td>1990.0</td>\n",
       "      <td>Maserati</td>\n",
       "      <td>228</td>\n",
       "      <td>2.8</td>\n",
       "      <td>6.0</td>\n",
       "      <td>Automatic</td>\n",
       "      <td>4</td>\n",
       "      <td>Premium Gasoline</td>\n",
       "      <td>635.0</td>\n",
       "      <td>14.0</td>\n",
       "    </tr>\n",
       "    <tr>\n",
       "      <th>4</th>\n",
       "      <td>1989.0</td>\n",
       "      <td>Maserati</td>\n",
       "      <td>228</td>\n",
       "      <td>2.8</td>\n",
       "      <td>6.0</td>\n",
       "      <td>Automatic</td>\n",
       "      <td>4</td>\n",
       "      <td>Premium Gasoline</td>\n",
       "      <td>635.0</td>\n",
       "      <td>14.0</td>\n",
       "    </tr>\n",
       "    <tr>\n",
       "      <th>...</th>\n",
       "      <td>...</td>\n",
       "      <td>...</td>\n",
       "      <td>...</td>\n",
       "      <td>...</td>\n",
       "      <td>...</td>\n",
       "      <td>...</td>\n",
       "      <td>...</td>\n",
       "      <td>...</td>\n",
       "      <td>...</td>\n",
       "      <td>...</td>\n",
       "    </tr>\n",
       "    <tr>\n",
       "      <th>84</th>\n",
       "      <td>1991.0</td>\n",
       "      <td>Maserati</td>\n",
       "      <td>Spyder</td>\n",
       "      <td>2.8</td>\n",
       "      <td>6.0</td>\n",
       "      <td>Manual</td>\n",
       "      <td>5</td>\n",
       "      <td>Premium Gasoline</td>\n",
       "      <td>635.0</td>\n",
       "      <td>14.0</td>\n",
       "    </tr>\n",
       "    <tr>\n",
       "      <th>85</th>\n",
       "      <td>2005.0</td>\n",
       "      <td>Maserati</td>\n",
       "      <td>Spyder Cambiocorsa/GT/90 ANV</td>\n",
       "      <td>4.2</td>\n",
       "      <td>8.0</td>\n",
       "      <td>Automatic</td>\n",
       "      <td>S6</td>\n",
       "      <td>Premium Gasoline</td>\n",
       "      <td>741.0</td>\n",
       "      <td>12.0</td>\n",
       "    </tr>\n",
       "    <tr>\n",
       "      <th>86</th>\n",
       "      <td>2004.0</td>\n",
       "      <td>Maserati</td>\n",
       "      <td>Spider Cambiocorsa/Spider GT</td>\n",
       "      <td>4.2</td>\n",
       "      <td>8.0</td>\n",
       "      <td>Automatic</td>\n",
       "      <td>S6</td>\n",
       "      <td>Premium Gasoline</td>\n",
       "      <td>741.0</td>\n",
       "      <td>12.0</td>\n",
       "    </tr>\n",
       "    <tr>\n",
       "      <th>87</th>\n",
       "      <td>2003.0</td>\n",
       "      <td>Maserati</td>\n",
       "      <td>Spider Cambiocorsa/Spider GT</td>\n",
       "      <td>4.2</td>\n",
       "      <td>8.0</td>\n",
       "      <td>Automatic</td>\n",
       "      <td>S6</td>\n",
       "      <td>Premium Gasoline</td>\n",
       "      <td>741.0</td>\n",
       "      <td>12.0</td>\n",
       "    </tr>\n",
       "    <tr>\n",
       "      <th>88</th>\n",
       "      <td>2002.0</td>\n",
       "      <td>Maserati</td>\n",
       "      <td>Spider Cambiocorsa/spider GT</td>\n",
       "      <td>4.2</td>\n",
       "      <td>8.0</td>\n",
       "      <td>Automatic</td>\n",
       "      <td>S6</td>\n",
       "      <td>Premium Gasoline</td>\n",
       "      <td>741.0</td>\n",
       "      <td>12.0</td>\n",
       "    </tr>\n",
       "  </tbody>\n",
       "</table>\n",
       "<p>89 rows × 10 columns</p>\n",
       "</div>"
      ],
      "text/plain": [
       "      year      make                         model  capacity_liters  \\\n",
       "0   1990.0  Maserati                          222E              2.8   \n",
       "1   1990.0  Maserati                          222E              2.8   \n",
       "2   1989.0  Maserati                          222E              2.8   \n",
       "3   1990.0  Maserati                           228              2.8   \n",
       "4   1989.0  Maserati                           228              2.8   \n",
       "..     ...       ...                           ...              ...   \n",
       "84  1991.0  Maserati                        Spyder              2.8   \n",
       "85  2005.0  Maserati  Spyder Cambiocorsa/GT/90 ANV              4.2   \n",
       "86  2004.0  Maserati  Spider Cambiocorsa/Spider GT              4.2   \n",
       "87  2003.0  Maserati  Spider Cambiocorsa/Spider GT              4.2   \n",
       "88  2002.0  Maserati  Spider Cambiocorsa/spider GT              4.2   \n",
       "\n",
       "    cylinders transmission trans_speed          fuel_type  gg_emissions   mpg  \n",
       "0         6.0       Manual           5   Premium Gasoline         592.0  15.0  \n",
       "1         6.0    Automatic           4   Premium Gasoline         592.0  15.0  \n",
       "2         6.0    Automatic           4   Premium Gasoline         592.0  15.0  \n",
       "3         6.0    Automatic           4   Premium Gasoline         635.0  14.0  \n",
       "4         6.0    Automatic           4   Premium Gasoline         635.0  14.0  \n",
       "..        ...          ...         ...                ...           ...   ...  \n",
       "84        6.0       Manual           5   Premium Gasoline         635.0  14.0  \n",
       "85        8.0    Automatic          S6   Premium Gasoline         741.0  12.0  \n",
       "86        8.0    Automatic          S6   Premium Gasoline         741.0  12.0  \n",
       "87        8.0    Automatic          S6   Premium Gasoline         741.0  12.0  \n",
       "88        8.0    Automatic          S6   Premium Gasoline         741.0  12.0  \n",
       "\n",
       "[89 rows x 10 columns]"
      ]
     },
     "execution_count": 23,
     "metadata": {},
     "output_type": "execute_result"
    }
   ],
   "source": [
    "maserati_dfs = pd.concat(maserati_dfs, ignore_index=True)\n",
    "\n",
    "maserati_dfs"
   ]
  },
  {
   "cell_type": "markdown",
   "metadata": {},
   "source": [
    "-"
   ]
  },
  {
   "cell_type": "markdown",
   "metadata": {},
   "source": [
    "**Step #6:** Pickle the dataframe made in Step 6 of all car's models with 'normal' dataframes\n",
    "- Will now be saved so further work on dataframe can start at this place"
   ]
  },
  {
   "cell_type": "code",
   "execution_count": 25,
   "metadata": {},
   "outputs": [],
   "source": [
    "with open('pickles/maserati_dfs.pickle', 'wb') as to_write:\n",
    "    pickle.dump(maserati_dfs, to_write)"
   ]
  },
  {
   "cell_type": "markdown",
   "metadata": {},
   "source": [
    "-"
   ]
  },
  {
   "cell_type": "markdown",
   "metadata": {},
   "source": [
    "**Step #7:** Un-pickle the dataframe made in Step 7 of all car's models with 'normal' dataframes"
   ]
  },
  {
   "cell_type": "code",
   "execution_count": 26,
   "metadata": {},
   "outputs": [],
   "source": [
    "with open('pickles/maserati_dfs.pickle','rb') as read_file:\n",
    "    maserati_dfs = pickle.load(read_file)"
   ]
  },
  {
   "cell_type": "code",
   "execution_count": null,
   "metadata": {},
   "outputs": [],
   "source": []
  }
 ],
 "metadata": {
  "kernelspec": {
   "display_name": "Python 3",
   "language": "python",
   "name": "python3"
  },
  "language_info": {
   "codemirror_mode": {
    "name": "ipython",
    "version": 3
   },
   "file_extension": ".py",
   "mimetype": "text/x-python",
   "name": "python",
   "nbconvert_exporter": "python",
   "pygments_lexer": "ipython3",
   "version": "3.7.4"
  }
 },
 "nbformat": 4,
 "nbformat_minor": 2
}
