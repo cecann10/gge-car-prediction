{
 "cells": [
  {
   "cell_type": "code",
   "execution_count": 1,
   "metadata": {},
   "outputs": [],
   "source": [
    "import requests\n",
    "from requests import get\n",
    "from bs4 import BeautifulSoup\n",
    "import pandas as pd\n",
    "import numpy as np\n",
    "import pickle"
   ]
  },
  {
   "cell_type": "markdown",
   "metadata": {},
   "source": [
    "### Import functions unique to this project"
   ]
  },
  {
   "cell_type": "code",
   "execution_count": 2,
   "metadata": {},
   "outputs": [],
   "source": [
    "from master_functions import get_car_urls\n",
    "from master_functions import make_model_df"
   ]
  },
  {
   "cell_type": "markdown",
   "metadata": {},
   "source": [
    "## CADILLAC - Create master dataframe for all Cadillac models"
   ]
  },
  {
   "cell_type": "markdown",
   "metadata": {},
   "source": [
    "This worksheet is intended to build a datafame for all **Cadillac** cars.  There are some 'quirks' in how the data is structured from its source on https://www.fueleconomy.gov/, so more manual steps are taken below to check files for issues, combine first what is 'normal' and then add in those that required special attention."
   ]
  },
  {
   "cell_type": "markdown",
   "metadata": {},
   "source": [
    "**Step #1:** Create unique urls for every Cadillac model for the years 1984 - 2021<br>\n",
    "- Uses `get_car_urls` from master function, Inputs: (car_make, [list of all models])"
   ]
  },
  {
   "cell_type": "code",
   "execution_count": 3,
   "metadata": {},
   "outputs": [],
   "source": [
    "cadillac_urls = get_car_urls('Cadillac',\n",
    "                             ['Allante','Armored Deville','Armored DTS',\n",
    "                              'ATS','ATS-V','Brougham','Brougham/DeVille',\n",
    "                              'Catera','Cimarron','Commercial Chassis',\n",
    "                              'CT4','CT5','CT6','CTS','CTS-V','DeVille',\n",
    "                              'DeVille/60 Special','DeVille/Concourse',\n",
    "                              'DTS','Eldorado','ELR','Escalade','Fleetwood',\n",
    "                              'Fleetwood Brougham','Fleetwood/DeVille',\n",
    "                              'Funeral Coach/Hearse','Limousine','Seville',\n",
    "                              'SRX','STS','STS-V','XLR','XLR-V','XT4','XT5',\n",
    "                              'XT6','XTS','XTS Hearse','XTS Limo'\n",
    "                             ])"
   ]
  },
  {
   "cell_type": "markdown",
   "metadata": {},
   "source": [
    "-"
   ]
  },
  {
   "cell_type": "markdown",
   "metadata": {},
   "source": [
    "**Step #2:** Get length of list created in Step 1.  This number will be how many times you run the function in Step 3 to check all of the urls<br>"
   ]
  },
  {
   "cell_type": "code",
   "execution_count": 4,
   "metadata": {
    "scrolled": false
   },
   "outputs": [
    {
     "data": {
      "text/plain": [
       "39"
      ]
     },
     "execution_count": 4,
     "metadata": {},
     "output_type": "execute_result"
    }
   ],
   "source": [
    "# Verify number of urls and use this number\n",
    "# to know how many urls need to 'check below'\n",
    "\n",
    "len(cadillac_urls)"
   ]
  },
  {
   "cell_type": "markdown",
   "metadata": {},
   "source": [
    "-"
   ]
  },
  {
   "cell_type": "markdown",
   "metadata": {},
   "source": [
    "**Step #3:** Check all of the urls you just created.<br>\n",
    "- If works, add to `cadillac_okay_modelranks` list in Step 4\n",
    "- If does not work, add to 'problem' URLs string in Step 4"
   ]
  },
  {
   "cell_type": "code",
   "execution_count": 45,
   "metadata": {},
   "outputs": [
    {
     "data": {
      "text/html": [
       "<div>\n",
       "<style scoped>\n",
       "    .dataframe tbody tr th:only-of-type {\n",
       "        vertical-align: middle;\n",
       "    }\n",
       "\n",
       "    .dataframe tbody tr th {\n",
       "        vertical-align: top;\n",
       "    }\n",
       "\n",
       "    .dataframe thead th {\n",
       "        text-align: right;\n",
       "    }\n",
       "</style>\n",
       "<table border=\"1\" class=\"dataframe\">\n",
       "  <thead>\n",
       "    <tr style=\"text-align: right;\">\n",
       "      <th></th>\n",
       "      <th>year</th>\n",
       "      <th>make</th>\n",
       "      <th>model</th>\n",
       "      <th>capacity_liters</th>\n",
       "      <th>cylinders</th>\n",
       "      <th>transmission</th>\n",
       "      <th>trans_speed</th>\n",
       "      <th>fuel_type</th>\n",
       "      <th>gg_emissions</th>\n",
       "      <th>mpg</th>\n",
       "    </tr>\n",
       "  </thead>\n",
       "  <tbody>\n",
       "    <tr>\n",
       "      <th>0</th>\n",
       "      <td>2019</td>\n",
       "      <td>Cadillac</td>\n",
       "      <td>XTS Limo</td>\n",
       "      <td>3.6</td>\n",
       "      <td>6</td>\n",
       "      <td>Automatic</td>\n",
       "      <td>S6</td>\n",
       "      <td>Regular Gasoline</td>\n",
       "      <td>521</td>\n",
       "      <td>17</td>\n",
       "    </tr>\n",
       "    <tr>\n",
       "      <th>1</th>\n",
       "      <td>2018</td>\n",
       "      <td>Cadillac</td>\n",
       "      <td>XTS Limo</td>\n",
       "      <td>3.6</td>\n",
       "      <td>6</td>\n",
       "      <td>Automatic</td>\n",
       "      <td>S6</td>\n",
       "      <td>Regular Gasoline</td>\n",
       "      <td>525</td>\n",
       "      <td>17</td>\n",
       "    </tr>\n",
       "    <tr>\n",
       "      <th>2</th>\n",
       "      <td>2017</td>\n",
       "      <td>Cadillac</td>\n",
       "      <td>XTS Limo</td>\n",
       "      <td>3.6</td>\n",
       "      <td>6</td>\n",
       "      <td>Automatic</td>\n",
       "      <td>S6</td>\n",
       "      <td>Regular Gasoline</td>\n",
       "      <td>525</td>\n",
       "      <td>17</td>\n",
       "    </tr>\n",
       "    <tr>\n",
       "      <th>3</th>\n",
       "      <td>2016</td>\n",
       "      <td>Cadillac</td>\n",
       "      <td>XTS Limo</td>\n",
       "      <td>3.6</td>\n",
       "      <td>6</td>\n",
       "      <td>Automatic</td>\n",
       "      <td>S6</td>\n",
       "      <td>Regular Gasoline</td>\n",
       "      <td>524</td>\n",
       "      <td>17</td>\n",
       "    </tr>\n",
       "    <tr>\n",
       "      <th>4</th>\n",
       "      <td>2015</td>\n",
       "      <td>Cadillac</td>\n",
       "      <td>XTS Limo</td>\n",
       "      <td>3.6</td>\n",
       "      <td>6</td>\n",
       "      <td>Automatic</td>\n",
       "      <td>S6</td>\n",
       "      <td>Regular Gasoline</td>\n",
       "      <td>527</td>\n",
       "      <td>17</td>\n",
       "    </tr>\n",
       "    <tr>\n",
       "      <th>5</th>\n",
       "      <td>2014</td>\n",
       "      <td>Cadillac</td>\n",
       "      <td>XTS Limo</td>\n",
       "      <td>3.6</td>\n",
       "      <td>6</td>\n",
       "      <td>Automatic</td>\n",
       "      <td>S6</td>\n",
       "      <td>Regular Gasoline</td>\n",
       "      <td>519</td>\n",
       "      <td>17</td>\n",
       "    </tr>\n",
       "    <tr>\n",
       "      <th>6</th>\n",
       "      <td>2013</td>\n",
       "      <td>Cadillac</td>\n",
       "      <td>XTS Limo</td>\n",
       "      <td>3.6</td>\n",
       "      <td>6</td>\n",
       "      <td>Automatic</td>\n",
       "      <td>S6</td>\n",
       "      <td>Regular Gasoline</td>\n",
       "      <td>524</td>\n",
       "      <td>17</td>\n",
       "    </tr>\n",
       "  </tbody>\n",
       "</table>\n",
       "</div>"
      ],
      "text/plain": [
       "   year      make     model  capacity_liters  cylinders transmission  \\\n",
       "0  2019  Cadillac  XTS Limo              3.6          6    Automatic   \n",
       "1  2018  Cadillac  XTS Limo              3.6          6    Automatic   \n",
       "2  2017  Cadillac  XTS Limo              3.6          6    Automatic   \n",
       "3  2016  Cadillac  XTS Limo              3.6          6    Automatic   \n",
       "4  2015  Cadillac  XTS Limo              3.6          6    Automatic   \n",
       "5  2014  Cadillac  XTS Limo              3.6          6    Automatic   \n",
       "6  2013  Cadillac  XTS Limo              3.6          6    Automatic   \n",
       "\n",
       "  trans_speed          fuel_type  gg_emissions  mpg  \n",
       "0          S6   Regular Gasoline           521   17  \n",
       "1          S6   Regular Gasoline           525   17  \n",
       "2          S6   Regular Gasoline           525   17  \n",
       "3          S6   Regular Gasoline           524   17  \n",
       "4          S6   Regular Gasoline           527   17  \n",
       "5          S6   Regular Gasoline           519   17  \n",
       "6          S6   Regular Gasoline           524   17  "
      ]
     },
     "execution_count": 45,
     "metadata": {},
     "output_type": "execute_result"
    }
   ],
   "source": [
    "# Test area for each url with audi_urls[index]\n",
    "# by seeing if data appears correctly\n",
    "\n",
    "make_model_df('Cadillac',cadillac_urls[38])"
   ]
  },
  {
   "cell_type": "markdown",
   "metadata": {},
   "source": [
    "-"
   ]
  },
  {
   "cell_type": "markdown",
   "metadata": {},
   "source": [
    "**Step #4:** From Step 3 above you should have populated this section so URLs either are in the category of \"problem\" or \"normal\""
   ]
  },
  {
   "cell_type": "code",
   "execution_count": 6,
   "metadata": {},
   "outputs": [],
   "source": [
    "#'Problem' URLs\n",
    "'''\n",
    "cadillac_urls[12]\n",
    "cadillac_urls[20]\n",
    "cadillac_urls[28]\n",
    "'''\n",
    "\n",
    "#'Normal' URLs\n",
    "\n",
    "cadillac_okay_modelranks = [0,1,2,3,4,6,7,8,9,10,\n",
    "                            11,12,13,14,15,16,17,\n",
    "                            18,19,20,21,22,23,24,\n",
    "                            25,26,27,29,30,31,32,\n",
    "                            33,34,35,36,37,38\n",
    "                           ]"
   ]
  },
  {
   "cell_type": "markdown",
   "metadata": {},
   "source": [
    "-"
   ]
  },
  {
   "cell_type": "markdown",
   "metadata": {},
   "source": [
    "**Step #5:** Create dfs for all 'okay' urls and place each into a master list\n",
    "- Automate where possible, but some may need to be added one by one to avoid 'problem' urls"
   ]
  },
  {
   "cell_type": "code",
   "execution_count": 55,
   "metadata": {
    "scrolled": true
   },
   "outputs": [],
   "source": [
    "# for 'normal' urls to make a df and add to master df list, automate it!\n",
    "\n",
    "cadillac_dfs = []\n",
    "\n",
    "for x in range(0,12):\n",
    "    cadillac_dfs.append(make_model_df('Cadillac',cadillac_urls[x]))\n",
    "    \n",
    "for x in range(13,20):\n",
    "    cadillac_dfs.append(make_model_df('Cadillac',cadillac_urls[x]))\n",
    "\n",
    "for x in range(21,28):\n",
    "    cadillac_dfs.append(make_model_df('Cadillac',cadillac_urls[x]))\n",
    "\n",
    "for x in range(29,38):\n",
    "    cadillac_dfs.append(make_model_df('Cadillac',cadillac_urls[x]))"
   ]
  },
  {
   "cell_type": "markdown",
   "metadata": {},
   "source": [
    "-"
   ]
  },
  {
   "cell_type": "markdown",
   "metadata": {},
   "source": [
    "**Step #6:** Concatenate all of the 'normal' Audi model dfs into one master dataframe"
   ]
  },
  {
   "cell_type": "code",
   "execution_count": 56,
   "metadata": {
    "scrolled": true
   },
   "outputs": [
    {
     "data": {
      "text/html": [
       "<div>\n",
       "<style scoped>\n",
       "    .dataframe tbody tr th:only-of-type {\n",
       "        vertical-align: middle;\n",
       "    }\n",
       "\n",
       "    .dataframe tbody tr th {\n",
       "        vertical-align: top;\n",
       "    }\n",
       "\n",
       "    .dataframe thead th {\n",
       "        text-align: right;\n",
       "    }\n",
       "</style>\n",
       "<table border=\"1\" class=\"dataframe\">\n",
       "  <thead>\n",
       "    <tr style=\"text-align: right;\">\n",
       "      <th></th>\n",
       "      <th>year</th>\n",
       "      <th>make</th>\n",
       "      <th>model</th>\n",
       "      <th>capacity_liters</th>\n",
       "      <th>cylinders</th>\n",
       "      <th>transmission</th>\n",
       "      <th>trans_speed</th>\n",
       "      <th>fuel_type</th>\n",
       "      <th>gg_emissions</th>\n",
       "      <th>mpg</th>\n",
       "    </tr>\n",
       "  </thead>\n",
       "  <tbody>\n",
       "    <tr>\n",
       "      <th>0</th>\n",
       "      <td>1988.0</td>\n",
       "      <td>Cadillac</td>\n",
       "      <td>Allante</td>\n",
       "      <td>4.1</td>\n",
       "      <td>8.0</td>\n",
       "      <td>Automatic</td>\n",
       "      <td>4</td>\n",
       "      <td>Premium Gasoline</td>\n",
       "      <td>523.0</td>\n",
       "      <td>17.0</td>\n",
       "    </tr>\n",
       "    <tr>\n",
       "      <th>1</th>\n",
       "      <td>1987.0</td>\n",
       "      <td>Cadillac</td>\n",
       "      <td>Allante</td>\n",
       "      <td>4.1</td>\n",
       "      <td>8.0</td>\n",
       "      <td>Automatic</td>\n",
       "      <td>4</td>\n",
       "      <td>Premium Gasoline</td>\n",
       "      <td>523.0</td>\n",
       "      <td>17.0</td>\n",
       "    </tr>\n",
       "    <tr>\n",
       "      <th>2</th>\n",
       "      <td>1989.0</td>\n",
       "      <td>Cadillac</td>\n",
       "      <td>Allante</td>\n",
       "      <td>4.5</td>\n",
       "      <td>8.0</td>\n",
       "      <td>Automatic</td>\n",
       "      <td>4</td>\n",
       "      <td>Premium Gasoline</td>\n",
       "      <td>555.0</td>\n",
       "      <td>16.0</td>\n",
       "    </tr>\n",
       "    <tr>\n",
       "      <th>3</th>\n",
       "      <td>1992.0</td>\n",
       "      <td>Cadillac</td>\n",
       "      <td>Allante</td>\n",
       "      <td>4.5</td>\n",
       "      <td>8.0</td>\n",
       "      <td>Automatic</td>\n",
       "      <td>4</td>\n",
       "      <td>Premium Gasoline</td>\n",
       "      <td>555.0</td>\n",
       "      <td>16.0</td>\n",
       "    </tr>\n",
       "    <tr>\n",
       "      <th>4</th>\n",
       "      <td>1991.0</td>\n",
       "      <td>Cadillac</td>\n",
       "      <td>Allante</td>\n",
       "      <td>4.5</td>\n",
       "      <td>8.0</td>\n",
       "      <td>Automatic</td>\n",
       "      <td>4</td>\n",
       "      <td>Premium Gasoline</td>\n",
       "      <td>555.0</td>\n",
       "      <td>16.0</td>\n",
       "    </tr>\n",
       "    <tr>\n",
       "      <th>...</th>\n",
       "      <td>...</td>\n",
       "      <td>...</td>\n",
       "      <td>...</td>\n",
       "      <td>...</td>\n",
       "      <td>...</td>\n",
       "      <td>...</td>\n",
       "      <td>...</td>\n",
       "      <td>...</td>\n",
       "      <td>...</td>\n",
       "      <td>...</td>\n",
       "    </tr>\n",
       "    <tr>\n",
       "      <th>224</th>\n",
       "      <td>2017.0</td>\n",
       "      <td>Cadillac</td>\n",
       "      <td>XTS Hearse</td>\n",
       "      <td>3.6</td>\n",
       "      <td>6.0</td>\n",
       "      <td>Automatic</td>\n",
       "      <td>S6</td>\n",
       "      <td>Regular Gasoline</td>\n",
       "      <td>525.0</td>\n",
       "      <td>17.0</td>\n",
       "    </tr>\n",
       "    <tr>\n",
       "      <th>225</th>\n",
       "      <td>2016.0</td>\n",
       "      <td>Cadillac</td>\n",
       "      <td>XTS Hearse</td>\n",
       "      <td>3.6</td>\n",
       "      <td>6.0</td>\n",
       "      <td>Automatic</td>\n",
       "      <td>S6</td>\n",
       "      <td>Regular Gasoline</td>\n",
       "      <td>524.0</td>\n",
       "      <td>17.0</td>\n",
       "    </tr>\n",
       "    <tr>\n",
       "      <th>226</th>\n",
       "      <td>2014.0</td>\n",
       "      <td>Cadillac</td>\n",
       "      <td>XTS Hearse</td>\n",
       "      <td>3.6</td>\n",
       "      <td>6.0</td>\n",
       "      <td>Automatic</td>\n",
       "      <td>S6</td>\n",
       "      <td>Regular Gasoline</td>\n",
       "      <td>526.0</td>\n",
       "      <td>17.0</td>\n",
       "    </tr>\n",
       "    <tr>\n",
       "      <th>227</th>\n",
       "      <td>2013.0</td>\n",
       "      <td>Cadillac</td>\n",
       "      <td>XTS Hearse</td>\n",
       "      <td>3.6</td>\n",
       "      <td>6.0</td>\n",
       "      <td>Automatic</td>\n",
       "      <td>S6</td>\n",
       "      <td>Regular Gasoline</td>\n",
       "      <td>524.0</td>\n",
       "      <td>17.0</td>\n",
       "    </tr>\n",
       "    <tr>\n",
       "      <th>228</th>\n",
       "      <td>2015.0</td>\n",
       "      <td>Cadillac</td>\n",
       "      <td>XTS Hearse</td>\n",
       "      <td>3.6</td>\n",
       "      <td>6.0</td>\n",
       "      <td>Automatic</td>\n",
       "      <td>S6</td>\n",
       "      <td>Regular Gasoline</td>\n",
       "      <td>536.0</td>\n",
       "      <td>17.0</td>\n",
       "    </tr>\n",
       "  </tbody>\n",
       "</table>\n",
       "<p>229 rows × 10 columns</p>\n",
       "</div>"
      ],
      "text/plain": [
       "       year      make       model  capacity_liters  cylinders transmission  \\\n",
       "0    1988.0  Cadillac     Allante              4.1        8.0    Automatic   \n",
       "1    1987.0  Cadillac     Allante              4.1        8.0    Automatic   \n",
       "2    1989.0  Cadillac     Allante              4.5        8.0    Automatic   \n",
       "3    1992.0  Cadillac     Allante              4.5        8.0    Automatic   \n",
       "4    1991.0  Cadillac     Allante              4.5        8.0    Automatic   \n",
       "..      ...       ...         ...              ...        ...          ...   \n",
       "224  2017.0  Cadillac  XTS Hearse              3.6        6.0    Automatic   \n",
       "225  2016.0  Cadillac  XTS Hearse              3.6        6.0    Automatic   \n",
       "226  2014.0  Cadillac  XTS Hearse              3.6        6.0    Automatic   \n",
       "227  2013.0  Cadillac  XTS Hearse              3.6        6.0    Automatic   \n",
       "228  2015.0  Cadillac  XTS Hearse              3.6        6.0    Automatic   \n",
       "\n",
       "    trans_speed          fuel_type  gg_emissions   mpg  \n",
       "0             4   Premium Gasoline         523.0  17.0  \n",
       "1             4   Premium Gasoline         523.0  17.0  \n",
       "2             4   Premium Gasoline         555.0  16.0  \n",
       "3             4   Premium Gasoline         555.0  16.0  \n",
       "4             4   Premium Gasoline         555.0  16.0  \n",
       "..          ...                ...           ...   ...  \n",
       "224          S6   Regular Gasoline         525.0  17.0  \n",
       "225          S6   Regular Gasoline         524.0  17.0  \n",
       "226          S6   Regular Gasoline         526.0  17.0  \n",
       "227          S6   Regular Gasoline         524.0  17.0  \n",
       "228          S6   Regular Gasoline         536.0  17.0  \n",
       "\n",
       "[229 rows x 10 columns]"
      ]
     },
     "execution_count": 56,
     "metadata": {},
     "output_type": "execute_result"
    }
   ],
   "source": [
    "cadillac_dfs = pd.concat(cadillac_dfs, ignore_index=True)\n",
    "\n",
    "cadillac_dfs"
   ]
  },
  {
   "cell_type": "markdown",
   "metadata": {},
   "source": [
    "-"
   ]
  },
  {
   "cell_type": "markdown",
   "metadata": {},
   "source": [
    "**Step #7:** Pickle the dataframe made in Step 6 of all Audi models with 'normal' dataframes\n",
    "- Will now be saved so further work on dataframe can start at this place"
   ]
  },
  {
   "cell_type": "code",
   "execution_count": 58,
   "metadata": {},
   "outputs": [],
   "source": [
    "with open('pickles/cadillac_dfs.pickle', 'wb') as to_write:\n",
    "    pickle.dump(cadillac_dfs, to_write)"
   ]
  },
  {
   "cell_type": "markdown",
   "metadata": {},
   "source": [
    "-"
   ]
  },
  {
   "cell_type": "markdown",
   "metadata": {},
   "source": [
    "**Step #8:** Un-pickle the dataframe made in Step 7 of all Audi models with 'normal' dataframes"
   ]
  },
  {
   "cell_type": "code",
   "execution_count": 59,
   "metadata": {},
   "outputs": [],
   "source": [
    "with open('pickles/cadillac_dfs.pickle','rb') as read_file:\n",
    "    cadillac_dfs = pickle.load(read_file)"
   ]
  },
  {
   "cell_type": "code",
   "execution_count": null,
   "metadata": {},
   "outputs": [],
   "source": []
  }
 ],
 "metadata": {
  "kernelspec": {
   "display_name": "Python 3",
   "language": "python",
   "name": "python3"
  },
  "language_info": {
   "codemirror_mode": {
    "name": "ipython",
    "version": 3
   },
   "file_extension": ".py",
   "mimetype": "text/x-python",
   "name": "python",
   "nbconvert_exporter": "python",
   "pygments_lexer": "ipython3",
   "version": "3.7.4"
  }
 },
 "nbformat": 4,
 "nbformat_minor": 2
}
