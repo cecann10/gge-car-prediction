{
 "cells": [
  {
   "cell_type": "code",
   "execution_count": 1,
   "metadata": {},
   "outputs": [],
   "source": [
    "import requests\n",
    "from requests import get\n",
    "from bs4 import BeautifulSoup\n",
    "import pandas as pd\n",
    "import numpy as np\n",
    "import pickle"
   ]
  },
  {
   "cell_type": "markdown",
   "metadata": {},
   "source": [
    "### Import functions unique to this project"
   ]
  },
  {
   "cell_type": "code",
   "execution_count": 2,
   "metadata": {},
   "outputs": [],
   "source": [
    "from master_functions import get_car_urls\n",
    "from master_functions import make_model_df"
   ]
  },
  {
   "cell_type": "markdown",
   "metadata": {},
   "source": [
    "## CHRYSLER - Create master dataframe for all Chrysler models"
   ]
  },
  {
   "cell_type": "markdown",
   "metadata": {},
   "source": [
    "This worksheet is intended to build a datafame for all **chrysler** cars.  There are some 'quirks' in how the data is structured from its source on https://www.fueleconomy.gov/, so more manual steps are taken below to check files for issues, combine first what is 'normal' and then add in those that required special attention."
   ]
  },
  {
   "cell_type": "markdown",
   "metadata": {},
   "source": [
    "**Step #1:** Create unique urls for every Chrysler model for the years 1984 - 2021<br>\n",
    "- Uses `get_car_urls` from master function, Inputs: (car_make, [list of all models])"
   ]
  },
  {
   "cell_type": "code",
   "execution_count": 3,
   "metadata": {},
   "outputs": [],
   "source": [
    "chrysler_urls = get_car_urls('Chrysler',\n",
    "                             ['200','300','300 SRT8','Aspen',\n",
    "                              'Cirrus','Concorde','Concorde',\n",
    "                              'Concorde/LHS','Conquest',\n",
    "                              'Crossfire','E Class/New Yorker',\n",
    "                              'Executive Sedan/Limousine',\n",
    "                              'Fifth Avenue/Impreial',\n",
    "                              'Imperial/New Yorker Fifth Avenue',\n",
    "                              'JX/JXI/Limited Convertible','Laser',\n",
    "                              'Laser/Daytona','LeBaron','LHS',\n",
    "                              'Limousine','New Yorker',\n",
    "                              'New Yorker Fifth Avenue/Imperial',\n",
    "                              'New Yorker/5th Avenue',\n",
    "                              'New Yorker/LHS','Newport/Fifth Avenue',\n",
    "                              'Pacifica','Prowler','PT Crusier',\n",
    "                              'QC Car','Sebring','TC',\n",
    "                              'Town and Country','Voyager',\n",
    "                              'Voyager/Town and Country'\n",
    "                             ])"
   ]
  },
  {
   "cell_type": "markdown",
   "metadata": {},
   "source": [
    "-"
   ]
  },
  {
   "cell_type": "markdown",
   "metadata": {},
   "source": [
    "**Step #2:** Get length of list created in Step 1.  This number will be how many times you run the function in Step 3 to check all of the urls<br>"
   ]
  },
  {
   "cell_type": "code",
   "execution_count": 5,
   "metadata": {
    "scrolled": false
   },
   "outputs": [
    {
     "data": {
      "text/plain": [
       "34"
      ]
     },
     "execution_count": 5,
     "metadata": {},
     "output_type": "execute_result"
    }
   ],
   "source": [
    "# Verify number of urls and use this number\n",
    "# to know how many urls need to 'check below'\n",
    "\n",
    "len(chrysler_urls)"
   ]
  },
  {
   "cell_type": "markdown",
   "metadata": {},
   "source": [
    "-"
   ]
  },
  {
   "cell_type": "markdown",
   "metadata": {},
   "source": [
    "**Step #3:** Check all of the urls you just created.<br>\n",
    "- If works, add to `chrysler_okay_modelranks` list in Step 4\n",
    "- If does not work, add to 'problem' URLs string in Step 4"
   ]
  },
  {
   "cell_type": "code",
   "execution_count": 44,
   "metadata": {},
   "outputs": [
    {
     "data": {
      "text/html": [
       "<div>\n",
       "<style scoped>\n",
       "    .dataframe tbody tr th:only-of-type {\n",
       "        vertical-align: middle;\n",
       "    }\n",
       "\n",
       "    .dataframe tbody tr th {\n",
       "        vertical-align: top;\n",
       "    }\n",
       "\n",
       "    .dataframe thead th {\n",
       "        text-align: right;\n",
       "    }\n",
       "</style>\n",
       "<table border=\"1\" class=\"dataframe\">\n",
       "  <thead>\n",
       "    <tr style=\"text-align: right;\">\n",
       "      <th></th>\n",
       "      <th>year</th>\n",
       "      <th>make</th>\n",
       "      <th>model</th>\n",
       "      <th>capacity_liters</th>\n",
       "      <th>cylinders</th>\n",
       "      <th>transmission</th>\n",
       "      <th>trans_speed</th>\n",
       "      <th>fuel_type</th>\n",
       "      <th>gg_emissions</th>\n",
       "      <th>mpg</th>\n",
       "    </tr>\n",
       "  </thead>\n",
       "  <tbody>\n",
       "    <tr>\n",
       "      <th>0</th>\n",
       "      <td>1989</td>\n",
       "      <td>Chrysler</td>\n",
       "      <td>TC By</td>\n",
       "      <td>2.2</td>\n",
       "      <td>4</td>\n",
       "      <td>Manual</td>\n",
       "      <td>5</td>\n",
       "      <td>Premium Gasoline</td>\n",
       "      <td>468</td>\n",
       "      <td>19</td>\n",
       "    </tr>\n",
       "    <tr>\n",
       "      <th>1</th>\n",
       "      <td>1990</td>\n",
       "      <td>Chrysler</td>\n",
       "      <td>TC By Convertible</td>\n",
       "      <td>2.2</td>\n",
       "      <td>4</td>\n",
       "      <td>Manual</td>\n",
       "      <td>5</td>\n",
       "      <td>Premium Gasoline</td>\n",
       "      <td>494</td>\n",
       "      <td>18</td>\n",
       "    </tr>\n",
       "    <tr>\n",
       "      <th>2</th>\n",
       "      <td>1991</td>\n",
       "      <td>Chrysler</td>\n",
       "      <td>TC by Maserati</td>\n",
       "      <td>3.0</td>\n",
       "      <td>6</td>\n",
       "      <td>Automatic</td>\n",
       "      <td>4</td>\n",
       "      <td>Premium Gasoline</td>\n",
       "      <td>494</td>\n",
       "      <td>18</td>\n",
       "    </tr>\n",
       "    <tr>\n",
       "      <th>3</th>\n",
       "      <td>1989</td>\n",
       "      <td>Chrysler</td>\n",
       "      <td>TC By</td>\n",
       "      <td>2.2</td>\n",
       "      <td>4</td>\n",
       "      <td>Automatic</td>\n",
       "      <td>3</td>\n",
       "      <td>Premium Gasoline</td>\n",
       "      <td>494</td>\n",
       "      <td>18</td>\n",
       "    </tr>\n",
       "    <tr>\n",
       "      <th>4</th>\n",
       "      <td>1990</td>\n",
       "      <td>Chrysler</td>\n",
       "      <td>TC By Convertible</td>\n",
       "      <td>3.0</td>\n",
       "      <td>6</td>\n",
       "      <td>Automatic</td>\n",
       "      <td>4</td>\n",
       "      <td>Premium Gasoline</td>\n",
       "      <td>494</td>\n",
       "      <td>18</td>\n",
       "    </tr>\n",
       "    <tr>\n",
       "      <th>5</th>\n",
       "      <td>1989</td>\n",
       "      <td>Chrysler</td>\n",
       "      <td>TC By</td>\n",
       "      <td>2.5</td>\n",
       "      <td>4</td>\n",
       "      <td>Automatic</td>\n",
       "      <td>3</td>\n",
       "      <td>Premium Gasoline</td>\n",
       "      <td>523</td>\n",
       "      <td>17</td>\n",
       "    </tr>\n",
       "    <tr>\n",
       "      <th>6</th>\n",
       "      <td>1989</td>\n",
       "      <td>Chrysler</td>\n",
       "      <td>TC By</td>\n",
       "      <td>2.5</td>\n",
       "      <td>4</td>\n",
       "      <td>Automatic</td>\n",
       "      <td>3</td>\n",
       "      <td>Premium Gasoline</td>\n",
       "      <td>523</td>\n",
       "      <td>17</td>\n",
       "    </tr>\n",
       "  </tbody>\n",
       "</table>\n",
       "</div>"
      ],
      "text/plain": [
       "   year      make              model  capacity_liters  cylinders transmission  \\\n",
       "0  1989  Chrysler              TC By              2.2          4       Manual   \n",
       "1  1990  Chrysler  TC By Convertible              2.2          4       Manual   \n",
       "2  1991  Chrysler     TC by Maserati              3.0          6    Automatic   \n",
       "3  1989  Chrysler              TC By              2.2          4    Automatic   \n",
       "4  1990  Chrysler  TC By Convertible              3.0          6    Automatic   \n",
       "5  1989  Chrysler              TC By              2.5          4    Automatic   \n",
       "6  1989  Chrysler              TC By              2.5          4    Automatic   \n",
       "\n",
       "  trans_speed          fuel_type  gg_emissions  mpg  \n",
       "0           5   Premium Gasoline           468   19  \n",
       "1           5   Premium Gasoline           494   18  \n",
       "2           4   Premium Gasoline           494   18  \n",
       "3           3   Premium Gasoline           494   18  \n",
       "4           4   Premium Gasoline           494   18  \n",
       "5           3   Premium Gasoline           523   17  \n",
       "6           3   Premium Gasoline           523   17  "
      ]
     },
     "execution_count": 44,
     "metadata": {},
     "output_type": "execute_result"
    }
   ],
   "source": [
    "# Test area for each url with audi_urls[index]\n",
    "# by seeing if data appears correctly\n",
    "\n",
    "make_model_df('Chrysler',chrysler_urls[30])"
   ]
  },
  {
   "cell_type": "markdown",
   "metadata": {},
   "source": [
    "-"
   ]
  },
  {
   "cell_type": "markdown",
   "metadata": {},
   "source": [
    "**Step #4:** From Step 3 above you should have populated this section so URLs either are in the category of \"problem\" or \"normal\""
   ]
  },
  {
   "cell_type": "code",
   "execution_count": 45,
   "metadata": {},
   "outputs": [],
   "source": [
    "#'Problem' URLs\n",
    "'''\n",
    "chrysler_urls[0]\n",
    "chrysler_urls[1]\n",
    "chrysler_urls[3]\n",
    "chrysler_urls[25]\n",
    "chrysler_urls[31]\n",
    "chrysler_urls[32]\n",
    "chrysler_urls[33]\n",
    "'''\n",
    "\n",
    "#'Normal' URLs\n",
    "\n",
    "chevrolet_okay_modelranks = [2,4,5,6,7,8,\n",
    "                             9,10,11,12,13,\n",
    "                             14,15,16,17,18,\n",
    "                             19,20,21,22,23,\n",
    "                             24,26,27,28,29,\n",
    "                             30\n",
    "                            ]\n",
    "                             "
   ]
  },
  {
   "cell_type": "markdown",
   "metadata": {},
   "source": [
    "-"
   ]
  },
  {
   "cell_type": "markdown",
   "metadata": {},
   "source": [
    "**Step #5:** Create dfs for all 'okay' urls and place each into a master list\n",
    "- Automate where possible, but some may need to be added one by one to avoid 'problem' urls"
   ]
  },
  {
   "cell_type": "code",
   "execution_count": 46,
   "metadata": {
    "scrolled": true
   },
   "outputs": [],
   "source": [
    "# for 'normal' urls to make a df and add to master df list, automate it!\n",
    "\n",
    "chrysler_dfs = []\n",
    "\n",
    "chrysler_dfs.append(make_model_df('Chrysler',chrysler_urls[2]))\n",
    "\n",
    "for x in range(4,25):\n",
    "    chrysler_dfs.append(make_model_df('Chrysler',chrysler_urls[x]))\n",
    "    \n",
    "for x in range(26,30):\n",
    "    chrysler_dfs.append(make_model_df('Chrysler',chrysler_urls[x]))\n"
   ]
  },
  {
   "cell_type": "markdown",
   "metadata": {},
   "source": [
    "-"
   ]
  },
  {
   "cell_type": "markdown",
   "metadata": {},
   "source": [
    "**Step #6:** Concatenate all of the 'normal' Chrysler model dfs into one master dataframe"
   ]
  },
  {
   "cell_type": "code",
   "execution_count": 47,
   "metadata": {
    "scrolled": true
   },
   "outputs": [
    {
     "data": {
      "text/html": [
       "<div>\n",
       "<style scoped>\n",
       "    .dataframe tbody tr th:only-of-type {\n",
       "        vertical-align: middle;\n",
       "    }\n",
       "\n",
       "    .dataframe tbody tr th {\n",
       "        vertical-align: top;\n",
       "    }\n",
       "\n",
       "    .dataframe thead th {\n",
       "        text-align: right;\n",
       "    }\n",
       "</style>\n",
       "<table border=\"1\" class=\"dataframe\">\n",
       "  <thead>\n",
       "    <tr style=\"text-align: right;\">\n",
       "      <th></th>\n",
       "      <th>year</th>\n",
       "      <th>make</th>\n",
       "      <th>model</th>\n",
       "      <th>capacity_liters</th>\n",
       "      <th>cylinders</th>\n",
       "      <th>transmission</th>\n",
       "      <th>trans_speed</th>\n",
       "      <th>fuel_type</th>\n",
       "      <th>gg_emissions</th>\n",
       "      <th>mpg</th>\n",
       "    </tr>\n",
       "  </thead>\n",
       "  <tbody>\n",
       "    <tr>\n",
       "      <th>0</th>\n",
       "      <td>2010.0</td>\n",
       "      <td>Chrysler</td>\n",
       "      <td>300/SRT-8</td>\n",
       "      <td>2.7</td>\n",
       "      <td>6.0</td>\n",
       "      <td>Automatic</td>\n",
       "      <td>4</td>\n",
       "      <td>Regular Gasoline</td>\n",
       "      <td>423.0</td>\n",
       "      <td>21.0</td>\n",
       "    </tr>\n",
       "    <tr>\n",
       "      <th>1</th>\n",
       "      <td>2009.0</td>\n",
       "      <td>Chrysler</td>\n",
       "      <td>300/SRT-8</td>\n",
       "      <td>2.7</td>\n",
       "      <td>6.0</td>\n",
       "      <td>Automatic</td>\n",
       "      <td>4</td>\n",
       "      <td>Regular Gasoline</td>\n",
       "      <td>423.0</td>\n",
       "      <td>21.0</td>\n",
       "    </tr>\n",
       "    <tr>\n",
       "      <th>2</th>\n",
       "      <td>2008.0</td>\n",
       "      <td>Chrysler</td>\n",
       "      <td>300/SRT-8</td>\n",
       "      <td>2.7</td>\n",
       "      <td>6.0</td>\n",
       "      <td>Automatic</td>\n",
       "      <td>4</td>\n",
       "      <td>Regular Gasoline</td>\n",
       "      <td>423.0</td>\n",
       "      <td>21.0</td>\n",
       "    </tr>\n",
       "    <tr>\n",
       "      <th>3</th>\n",
       "      <td>2007.0</td>\n",
       "      <td>Chrysler</td>\n",
       "      <td>300/SRT-8</td>\n",
       "      <td>2.7</td>\n",
       "      <td>6.0</td>\n",
       "      <td>Automatic</td>\n",
       "      <td>4</td>\n",
       "      <td>Regular Gasoline</td>\n",
       "      <td>423.0</td>\n",
       "      <td>21.0</td>\n",
       "    </tr>\n",
       "    <tr>\n",
       "      <th>4</th>\n",
       "      <td>2005.0</td>\n",
       "      <td>Chrysler</td>\n",
       "      <td>300C/SRT-8</td>\n",
       "      <td>2.7</td>\n",
       "      <td>6.0</td>\n",
       "      <td>Automatic</td>\n",
       "      <td>4</td>\n",
       "      <td>Regular Gasoline</td>\n",
       "      <td>423.0</td>\n",
       "      <td>21.0</td>\n",
       "    </tr>\n",
       "    <tr>\n",
       "      <th>...</th>\n",
       "      <td>...</td>\n",
       "      <td>...</td>\n",
       "      <td>...</td>\n",
       "      <td>...</td>\n",
       "      <td>...</td>\n",
       "      <td>...</td>\n",
       "      <td>...</td>\n",
       "      <td>...</td>\n",
       "      <td>...</td>\n",
       "      <td>...</td>\n",
       "    </tr>\n",
       "    <tr>\n",
       "      <th>136</th>\n",
       "      <td>2005.0</td>\n",
       "      <td>Chrysler</td>\n",
       "      <td>Sebring</td>\n",
       "      <td>2.4</td>\n",
       "      <td>4.0</td>\n",
       "      <td>Manual</td>\n",
       "      <td>5</td>\n",
       "      <td>Regular Gasoline</td>\n",
       "      <td>370.0</td>\n",
       "      <td>24.0</td>\n",
       "    </tr>\n",
       "    <tr>\n",
       "      <th>137</th>\n",
       "      <td>2004.0</td>\n",
       "      <td>Chrysler</td>\n",
       "      <td>Sebring</td>\n",
       "      <td>2.4</td>\n",
       "      <td>4.0</td>\n",
       "      <td>Manual</td>\n",
       "      <td>5</td>\n",
       "      <td>Regular Gasoline</td>\n",
       "      <td>370.0</td>\n",
       "      <td>24.0</td>\n",
       "    </tr>\n",
       "    <tr>\n",
       "      <th>138</th>\n",
       "      <td>2003.0</td>\n",
       "      <td>Chrysler</td>\n",
       "      <td>Sebring</td>\n",
       "      <td>2.4</td>\n",
       "      <td>4.0</td>\n",
       "      <td>Manual</td>\n",
       "      <td>5</td>\n",
       "      <td>Regular Gasoline</td>\n",
       "      <td>370.0</td>\n",
       "      <td>24.0</td>\n",
       "    </tr>\n",
       "    <tr>\n",
       "      <th>139</th>\n",
       "      <td>2010.0</td>\n",
       "      <td>Chrysler</td>\n",
       "      <td>Sebring Convertible</td>\n",
       "      <td>2.4</td>\n",
       "      <td>4.0</td>\n",
       "      <td>Automatic</td>\n",
       "      <td>4</td>\n",
       "      <td>Regular Gasoline</td>\n",
       "      <td>386.0</td>\n",
       "      <td>23.0</td>\n",
       "    </tr>\n",
       "    <tr>\n",
       "      <th>140</th>\n",
       "      <td>2009.0</td>\n",
       "      <td>Chrysler</td>\n",
       "      <td>Sebring Convertible</td>\n",
       "      <td>2.4</td>\n",
       "      <td>4.0</td>\n",
       "      <td>Automatic</td>\n",
       "      <td>4</td>\n",
       "      <td>Regular Gasoline</td>\n",
       "      <td>386.0</td>\n",
       "      <td>23.0</td>\n",
       "    </tr>\n",
       "  </tbody>\n",
       "</table>\n",
       "<p>141 rows × 10 columns</p>\n",
       "</div>"
      ],
      "text/plain": [
       "       year      make                model  capacity_liters  cylinders  \\\n",
       "0    2010.0  Chrysler            300/SRT-8              2.7        6.0   \n",
       "1    2009.0  Chrysler            300/SRT-8              2.7        6.0   \n",
       "2    2008.0  Chrysler            300/SRT-8              2.7        6.0   \n",
       "3    2007.0  Chrysler            300/SRT-8              2.7        6.0   \n",
       "4    2005.0  Chrysler           300C/SRT-8              2.7        6.0   \n",
       "..      ...       ...                  ...              ...        ...   \n",
       "136  2005.0  Chrysler              Sebring              2.4        4.0   \n",
       "137  2004.0  Chrysler              Sebring              2.4        4.0   \n",
       "138  2003.0  Chrysler              Sebring              2.4        4.0   \n",
       "139  2010.0  Chrysler  Sebring Convertible              2.4        4.0   \n",
       "140  2009.0  Chrysler  Sebring Convertible              2.4        4.0   \n",
       "\n",
       "    transmission trans_speed          fuel_type  gg_emissions   mpg  \n",
       "0      Automatic           4   Regular Gasoline         423.0  21.0  \n",
       "1      Automatic           4   Regular Gasoline         423.0  21.0  \n",
       "2      Automatic           4   Regular Gasoline         423.0  21.0  \n",
       "3      Automatic           4   Regular Gasoline         423.0  21.0  \n",
       "4      Automatic           4   Regular Gasoline         423.0  21.0  \n",
       "..           ...         ...                ...           ...   ...  \n",
       "136       Manual           5   Regular Gasoline         370.0  24.0  \n",
       "137       Manual           5   Regular Gasoline         370.0  24.0  \n",
       "138       Manual           5   Regular Gasoline         370.0  24.0  \n",
       "139    Automatic           4   Regular Gasoline         386.0  23.0  \n",
       "140    Automatic           4   Regular Gasoline         386.0  23.0  \n",
       "\n",
       "[141 rows x 10 columns]"
      ]
     },
     "execution_count": 47,
     "metadata": {},
     "output_type": "execute_result"
    }
   ],
   "source": [
    "chrysler_dfs = pd.concat(chrysler_dfs, ignore_index=True)\n",
    "\n",
    "chrysler_dfs"
   ]
  },
  {
   "cell_type": "markdown",
   "metadata": {},
   "source": [
    "-"
   ]
  },
  {
   "cell_type": "markdown",
   "metadata": {},
   "source": [
    "**Step #7:** Pickle the dataframe made in Step 6 of all Chrysler models with 'normal' dataframes\n",
    "- Will now be saved so further work on dataframe can start at this place"
   ]
  },
  {
   "cell_type": "code",
   "execution_count": 50,
   "metadata": {},
   "outputs": [],
   "source": [
    "with open('pickles/chrysler_dfs.pickle', 'wb') as to_write:\n",
    "    pickle.dump(chrysler_dfs, to_write)"
   ]
  },
  {
   "cell_type": "markdown",
   "metadata": {},
   "source": [
    "-"
   ]
  },
  {
   "cell_type": "markdown",
   "metadata": {},
   "source": [
    "**Step #8:** Un-pickle the dataframe made in Step 7 of all Chrysler models with 'normal' dataframes"
   ]
  },
  {
   "cell_type": "code",
   "execution_count": 51,
   "metadata": {},
   "outputs": [],
   "source": [
    "with open('pickles/chrysler_dfs.pickle','rb') as read_file:\n",
    "    chrysler_dfs = pickle.load(read_file)"
   ]
  },
  {
   "cell_type": "code",
   "execution_count": null,
   "metadata": {},
   "outputs": [],
   "source": []
  }
 ],
 "metadata": {
  "kernelspec": {
   "display_name": "Python 3",
   "language": "python",
   "name": "python3"
  },
  "language_info": {
   "codemirror_mode": {
    "name": "ipython",
    "version": 3
   },
   "file_extension": ".py",
   "mimetype": "text/x-python",
   "name": "python",
   "nbconvert_exporter": "python",
   "pygments_lexer": "ipython3",
   "version": "3.7.4"
  }
 },
 "nbformat": 4,
 "nbformat_minor": 2
}
