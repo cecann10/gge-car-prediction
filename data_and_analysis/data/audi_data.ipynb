{
 "cells": [
  {
   "cell_type": "code",
   "execution_count": 1,
   "metadata": {},
   "outputs": [],
   "source": [
    "import requests\n",
    "from requests import get\n",
    "from bs4 import BeautifulSoup\n",
    "import pandas as pd\n",
    "import numpy as np\n",
    "import pickle"
   ]
  },
  {
   "cell_type": "markdown",
   "metadata": {},
   "source": [
    "### Import functions unique to this project"
   ]
  },
  {
   "cell_type": "code",
   "execution_count": 2,
   "metadata": {},
   "outputs": [],
   "source": [
    "from master_functions import get_car_urls\n",
    "from master_functions import make_model_df"
   ]
  },
  {
   "cell_type": "markdown",
   "metadata": {},
   "source": [
    "## AUDI - Create master dataframe for all Audi models"
   ]
  },
  {
   "cell_type": "markdown",
   "metadata": {},
   "source": [
    "This worksheet is intended to build a datafame for all **Audi** cars.  There are some 'quirks' in how the data is structured from its source on https://www.fueleconomy.gov/, so more manual steps are taken below to check files for issues, combine first what is 'normal' and then add in those that required special attention."
   ]
  },
  {
   "cell_type": "markdown",
   "metadata": {},
   "source": [
    "**Step #1:** Create unique urls for every Audi model for the years 1984 - 2021<br>\n",
    "- Uses `get_car_urls` from master function, Inputs: (car_make, [list of all models])"
   ]
  },
  {
   "cell_type": "code",
   "execution_count": 3,
   "metadata": {},
   "outputs": [],
   "source": [
    "audi_urls = get_car_urls('Audi',\n",
    "                         ['100','200','4000','5000','80/90','A3',\n",
    "                          'A4','A5','A6','A7','A8','Allroad',\n",
    "                          'Cabriolet','Coupe GT','Coupe quatrro',\n",
    "                          'e-tron','Q3','Q5','Q7','Q8','Quattro',\n",
    "                          'R8','R8 Spyder','RS','RS 3','RS 4',\n",
    "                          'RS 5','RS 6','RS 7','RS Q8','S3','S4',\n",
    "                          'S5','S6','S7','S8','SQ5','SQ7','SQ8',\n",
    "                          'TT','TT Coupe','TT Roadster','TT RS',\n",
    "                          'TTS','TTS Coupe','V8'\n",
    "                         ])"
   ]
  },
  {
   "cell_type": "markdown",
   "metadata": {},
   "source": [
    "-"
   ]
  },
  {
   "cell_type": "markdown",
   "metadata": {},
   "source": [
    "**Step #2:** Get length of list created in Step 1.  This number will be how many times you run the function in Step 3 to check all of the urls<br>"
   ]
  },
  {
   "cell_type": "code",
   "execution_count": 4,
   "metadata": {
    "scrolled": false
   },
   "outputs": [
    {
     "data": {
      "text/plain": [
       "46"
      ]
     },
     "execution_count": 4,
     "metadata": {},
     "output_type": "execute_result"
    }
   ],
   "source": [
    "# Verify number of urls and use this number\n",
    "# to know how many urls need to 'check below'\n",
    "\n",
    "len(audi_urls)"
   ]
  },
  {
   "cell_type": "markdown",
   "metadata": {},
   "source": [
    "-"
   ]
  },
  {
   "cell_type": "markdown",
   "metadata": {},
   "source": [
    "**Step #3:** Check all of the urls you just created.<br>\n",
    "- If works, add to `audi_okay_modelranks` list in Step 4\n",
    "- If does not work, add to 'problem' URLs string in Step 4"
   ]
  },
  {
   "cell_type": "code",
   "execution_count": 5,
   "metadata": {},
   "outputs": [
    {
     "data": {
      "text/html": [
       "<div>\n",
       "<style scoped>\n",
       "    .dataframe tbody tr th:only-of-type {\n",
       "        vertical-align: middle;\n",
       "    }\n",
       "\n",
       "    .dataframe tbody tr th {\n",
       "        vertical-align: top;\n",
       "    }\n",
       "\n",
       "    .dataframe thead th {\n",
       "        text-align: right;\n",
       "    }\n",
       "</style>\n",
       "<table border=\"1\" class=\"dataframe\">\n",
       "  <thead>\n",
       "    <tr style=\"text-align: right;\">\n",
       "      <th></th>\n",
       "      <th>year</th>\n",
       "      <th>make</th>\n",
       "      <th>model</th>\n",
       "      <th>capacity_liters</th>\n",
       "      <th>cylinders</th>\n",
       "      <th>transmission</th>\n",
       "      <th>trans_speed</th>\n",
       "      <th>fuel_type</th>\n",
       "      <th>gg_emissions</th>\n",
       "      <th>mpg</th>\n",
       "    </tr>\n",
       "  </thead>\n",
       "  <tbody>\n",
       "    <tr>\n",
       "      <th>0</th>\n",
       "      <td>1991</td>\n",
       "      <td>Audi</td>\n",
       "      <td>V8</td>\n",
       "      <td>3.6</td>\n",
       "      <td>8</td>\n",
       "      <td>Automatic</td>\n",
       "      <td>4</td>\n",
       "      <td>Regular Gasoline</td>\n",
       "      <td>592</td>\n",
       "      <td>15</td>\n",
       "    </tr>\n",
       "    <tr>\n",
       "      <th>1</th>\n",
       "      <td>1991</td>\n",
       "      <td>Audi</td>\n",
       "      <td>V8</td>\n",
       "      <td>3.6</td>\n",
       "      <td>8</td>\n",
       "      <td>Manual</td>\n",
       "      <td>5</td>\n",
       "      <td>Regular Gasoline</td>\n",
       "      <td>592</td>\n",
       "      <td>15</td>\n",
       "    </tr>\n",
       "    <tr>\n",
       "      <th>2</th>\n",
       "      <td>1990</td>\n",
       "      <td>Audi</td>\n",
       "      <td>V8</td>\n",
       "      <td>3.6</td>\n",
       "      <td>8</td>\n",
       "      <td>Manual</td>\n",
       "      <td>5</td>\n",
       "      <td>Regular Gasoline</td>\n",
       "      <td>592</td>\n",
       "      <td>15</td>\n",
       "    </tr>\n",
       "    <tr>\n",
       "      <th>3</th>\n",
       "      <td>1994</td>\n",
       "      <td>Audi</td>\n",
       "      <td>V8</td>\n",
       "      <td>4.2</td>\n",
       "      <td>8</td>\n",
       "      <td>Automatic</td>\n",
       "      <td>4</td>\n",
       "      <td>Premium Gasoline</td>\n",
       "      <td>592</td>\n",
       "      <td>15</td>\n",
       "    </tr>\n",
       "    <tr>\n",
       "      <th>4</th>\n",
       "      <td>1993</td>\n",
       "      <td>Audi</td>\n",
       "      <td>V8</td>\n",
       "      <td>4.2</td>\n",
       "      <td>8</td>\n",
       "      <td>Automatic</td>\n",
       "      <td>4</td>\n",
       "      <td>Premium Gasoline</td>\n",
       "      <td>592</td>\n",
       "      <td>15</td>\n",
       "    </tr>\n",
       "    <tr>\n",
       "      <th>5</th>\n",
       "      <td>1992</td>\n",
       "      <td>Audi</td>\n",
       "      <td>V8</td>\n",
       "      <td>4.2</td>\n",
       "      <td>8</td>\n",
       "      <td>Automatic</td>\n",
       "      <td>4</td>\n",
       "      <td>Premium Gasoline</td>\n",
       "      <td>592</td>\n",
       "      <td>15</td>\n",
       "    </tr>\n",
       "    <tr>\n",
       "      <th>6</th>\n",
       "      <td>1990</td>\n",
       "      <td>Audi</td>\n",
       "      <td>V8</td>\n",
       "      <td>3.6</td>\n",
       "      <td>8</td>\n",
       "      <td>Automatic</td>\n",
       "      <td>4</td>\n",
       "      <td>Regular Gasoline</td>\n",
       "      <td>635</td>\n",
       "      <td>14</td>\n",
       "    </tr>\n",
       "  </tbody>\n",
       "</table>\n",
       "</div>"
      ],
      "text/plain": [
       "   year  make model  capacity_liters  cylinders transmission trans_speed  \\\n",
       "0  1991  Audi    V8              3.6          8    Automatic           4   \n",
       "1  1991  Audi    V8              3.6          8       Manual           5   \n",
       "2  1990  Audi    V8              3.6          8       Manual           5   \n",
       "3  1994  Audi    V8              4.2          8    Automatic           4   \n",
       "4  1993  Audi    V8              4.2          8    Automatic           4   \n",
       "5  1992  Audi    V8              4.2          8    Automatic           4   \n",
       "6  1990  Audi    V8              3.6          8    Automatic           4   \n",
       "\n",
       "           fuel_type  gg_emissions  mpg  \n",
       "0   Regular Gasoline           592   15  \n",
       "1   Regular Gasoline           592   15  \n",
       "2   Regular Gasoline           592   15  \n",
       "3   Premium Gasoline           592   15  \n",
       "4   Premium Gasoline           592   15  \n",
       "5   Premium Gasoline           592   15  \n",
       "6   Regular Gasoline           635   14  "
      ]
     },
     "execution_count": 5,
     "metadata": {},
     "output_type": "execute_result"
    }
   ],
   "source": [
    "# Test area for each url with audi_urls[index]\n",
    "# by seeing if data appears correctly\n",
    "\n",
    "make_model_df('Audi',audi_urls[45])"
   ]
  },
  {
   "cell_type": "markdown",
   "metadata": {},
   "source": [
    "-"
   ]
  },
  {
   "cell_type": "markdown",
   "metadata": {},
   "source": [
    "**Step #4:** From Step 3 above you should have populated this section so URLs either are in the category of \"problem\" or \"normal\""
   ]
  },
  {
   "cell_type": "code",
   "execution_count": 6,
   "metadata": {},
   "outputs": [],
   "source": [
    "#'Problem' URLs\n",
    "'''\n",
    "audi_urls[5]\n",
    "audi_urls[10]\n",
    "audi_urls[11]\n",
    "audi_urls[14]\n",
    "audi_urls[15]\n",
    "audi_urls[17]\n",
    "'''\n",
    "\n",
    "#'Normal' URLs\n",
    "\n",
    "audi_okay_modelranks = [0,1,2,3,4,6,7,8,9,\n",
    "                        12,13,16,18,19,20,\n",
    "                        21,22,23,24,25,26,\n",
    "                        27,28,29,30,31,32,\n",
    "                        33,34,35,36,37,38,\n",
    "                        39,40,41,42,43,44,\n",
    "                        45\n",
    "                       ]"
   ]
  },
  {
   "cell_type": "markdown",
   "metadata": {},
   "source": [
    "-"
   ]
  },
  {
   "cell_type": "markdown",
   "metadata": {},
   "source": [
    "**Step #5:** Create dfs for all 'okay' urls and place each into a master list\n",
    "- Automate where possible, but some may need to be added one by one to avoid 'problem' urls"
   ]
  },
  {
   "cell_type": "code",
   "execution_count": 7,
   "metadata": {},
   "outputs": [],
   "source": [
    "audi_0 = make_model_df('Audi',audi_urls[0])\n",
    "audi_1 = make_model_df('Audi',audi_urls[1])\n",
    "audi_2 = make_model_df('Audi',audi_urls[2])\n",
    "audi_3 = make_model_df('Audi',audi_urls[3])\n",
    "audi_4 = make_model_df('Audi',audi_urls[4])\n",
    "# audi_5 = make_model_df('Audi',audi_urls[5]) # problem url left out\n",
    "audi_6 = make_model_df('Audi',audi_urls[6])\n",
    "audi_7 = make_model_df('Audi',audi_urls[7])\n",
    "audi_8 = make_model_df('Audi',audi_urls[8])\n",
    "audi_9 = make_model_df('Audi',audi_urls[9])\n",
    "# audi_10 = make_model_df('Audi','Audi',audi_urls[10]) # problem url left out\n",
    "# audi_11 = make_model_df('Audi',audi_urls[11]) # problem url left out\n",
    "audi_12 = make_model_df('Audi',audi_urls[12])\n",
    "audi_13 = make_model_df('Audi',audi_urls[13])\n",
    "audi_14 = make_model_df('Audi',audi_urls[14])\n",
    "# audi_15 = make_model_df('Audi',audi_urls[15]) # problem url left out\n",
    "audi_16 = make_model_df('Audi',audi_urls[16])\n",
    "# audi_17 = make_model_df('Audi',audi_urls[17])\n",
    "\n"
   ]
  },
  {
   "cell_type": "code",
   "execution_count": 8,
   "metadata": {},
   "outputs": [
    {
     "data": {
      "text/plain": [
       "13"
      ]
     },
     "execution_count": 8,
     "metadata": {},
     "output_type": "execute_result"
    }
   ],
   "source": [
    "audi_dfs = [audi_0,\n",
    "            audi_1,\n",
    "            audi_2,\n",
    "            audi_3,\n",
    "            audi_4,\n",
    "            audi_6,\n",
    "            audi_7,\n",
    "            audi_8,\n",
    "            audi_9, \n",
    "            audi_12,\n",
    "            audi_13,\n",
    "            audi_14,\n",
    "            audi_16,\n",
    "           ]\n",
    "\n",
    "len(audi_dfs)"
   ]
  },
  {
   "cell_type": "code",
   "execution_count": 9,
   "metadata": {
    "scrolled": true
   },
   "outputs": [],
   "source": [
    "# for remaining 'normal' urls to make a df and add to master df list, automate it!\n",
    "\n",
    "for x in range(18,46):\n",
    "    audi_dfs.append(make_model_df('Audi',audi_urls[x]))"
   ]
  },
  {
   "cell_type": "markdown",
   "metadata": {},
   "source": [
    "-"
   ]
  },
  {
   "cell_type": "markdown",
   "metadata": {},
   "source": [
    "**Step #6:** Concatenate all of the 'normal' Audi model dfs into one master dataframe"
   ]
  },
  {
   "cell_type": "code",
   "execution_count": 10,
   "metadata": {
    "scrolled": true
   },
   "outputs": [
    {
     "data": {
      "text/html": [
       "<div>\n",
       "<style scoped>\n",
       "    .dataframe tbody tr th:only-of-type {\n",
       "        vertical-align: middle;\n",
       "    }\n",
       "\n",
       "    .dataframe tbody tr th {\n",
       "        vertical-align: top;\n",
       "    }\n",
       "\n",
       "    .dataframe thead th {\n",
       "        text-align: right;\n",
       "    }\n",
       "</style>\n",
       "<table border=\"1\" class=\"dataframe\">\n",
       "  <thead>\n",
       "    <tr style=\"text-align: right;\">\n",
       "      <th></th>\n",
       "      <th>year</th>\n",
       "      <th>make</th>\n",
       "      <th>model</th>\n",
       "      <th>capacity_liters</th>\n",
       "      <th>cylinders</th>\n",
       "      <th>transmission</th>\n",
       "      <th>trans_speed</th>\n",
       "      <th>fuel_type</th>\n",
       "      <th>gg_emissions</th>\n",
       "      <th>mpg</th>\n",
       "    </tr>\n",
       "  </thead>\n",
       "  <tbody>\n",
       "    <tr>\n",
       "      <th>0</th>\n",
       "      <td>1993.0</td>\n",
       "      <td>Audi</td>\n",
       "      <td>100</td>\n",
       "      <td>2.8</td>\n",
       "      <td>6.0</td>\n",
       "      <td>Manual</td>\n",
       "      <td>5</td>\n",
       "      <td>Premium Gasoline</td>\n",
       "      <td>468.0</td>\n",
       "      <td>19.0</td>\n",
       "    </tr>\n",
       "    <tr>\n",
       "      <th>1</th>\n",
       "      <td>1992.0</td>\n",
       "      <td>Audi</td>\n",
       "      <td>100</td>\n",
       "      <td>2.8</td>\n",
       "      <td>6.0</td>\n",
       "      <td>Manual</td>\n",
       "      <td>5</td>\n",
       "      <td>Premium Gasoline</td>\n",
       "      <td>468.0</td>\n",
       "      <td>19.0</td>\n",
       "    </tr>\n",
       "    <tr>\n",
       "      <th>2</th>\n",
       "      <td>1994.0</td>\n",
       "      <td>Audi</td>\n",
       "      <td>100</td>\n",
       "      <td>2.8</td>\n",
       "      <td>6.0</td>\n",
       "      <td>Manual</td>\n",
       "      <td>5</td>\n",
       "      <td>Premium Gasoline</td>\n",
       "      <td>468.0</td>\n",
       "      <td>19.0</td>\n",
       "    </tr>\n",
       "    <tr>\n",
       "      <th>3</th>\n",
       "      <td>1993.0</td>\n",
       "      <td>Audi</td>\n",
       "      <td>100</td>\n",
       "      <td>2.8</td>\n",
       "      <td>6.0</td>\n",
       "      <td>Automatic</td>\n",
       "      <td>4</td>\n",
       "      <td>Premium Gasoline</td>\n",
       "      <td>468.0</td>\n",
       "      <td>19.0</td>\n",
       "    </tr>\n",
       "    <tr>\n",
       "      <th>4</th>\n",
       "      <td>1992.0</td>\n",
       "      <td>Audi</td>\n",
       "      <td>100</td>\n",
       "      <td>2.8</td>\n",
       "      <td>6.0</td>\n",
       "      <td>Automatic</td>\n",
       "      <td>4</td>\n",
       "      <td>Premium Gasoline</td>\n",
       "      <td>468.0</td>\n",
       "      <td>19.0</td>\n",
       "    </tr>\n",
       "    <tr>\n",
       "      <th>...</th>\n",
       "      <td>...</td>\n",
       "      <td>...</td>\n",
       "      <td>...</td>\n",
       "      <td>...</td>\n",
       "      <td>...</td>\n",
       "      <td>...</td>\n",
       "      <td>...</td>\n",
       "      <td>...</td>\n",
       "      <td>...</td>\n",
       "      <td>...</td>\n",
       "    </tr>\n",
       "    <tr>\n",
       "      <th>269</th>\n",
       "      <td>1990.0</td>\n",
       "      <td>Audi</td>\n",
       "      <td>V8</td>\n",
       "      <td>3.6</td>\n",
       "      <td>8.0</td>\n",
       "      <td>Manual</td>\n",
       "      <td>5</td>\n",
       "      <td>Regular Gasoline</td>\n",
       "      <td>592.0</td>\n",
       "      <td>15.0</td>\n",
       "    </tr>\n",
       "    <tr>\n",
       "      <th>270</th>\n",
       "      <td>1994.0</td>\n",
       "      <td>Audi</td>\n",
       "      <td>V8</td>\n",
       "      <td>4.2</td>\n",
       "      <td>8.0</td>\n",
       "      <td>Automatic</td>\n",
       "      <td>4</td>\n",
       "      <td>Premium Gasoline</td>\n",
       "      <td>592.0</td>\n",
       "      <td>15.0</td>\n",
       "    </tr>\n",
       "    <tr>\n",
       "      <th>271</th>\n",
       "      <td>1993.0</td>\n",
       "      <td>Audi</td>\n",
       "      <td>V8</td>\n",
       "      <td>4.2</td>\n",
       "      <td>8.0</td>\n",
       "      <td>Automatic</td>\n",
       "      <td>4</td>\n",
       "      <td>Premium Gasoline</td>\n",
       "      <td>592.0</td>\n",
       "      <td>15.0</td>\n",
       "    </tr>\n",
       "    <tr>\n",
       "      <th>272</th>\n",
       "      <td>1992.0</td>\n",
       "      <td>Audi</td>\n",
       "      <td>V8</td>\n",
       "      <td>4.2</td>\n",
       "      <td>8.0</td>\n",
       "      <td>Automatic</td>\n",
       "      <td>4</td>\n",
       "      <td>Premium Gasoline</td>\n",
       "      <td>592.0</td>\n",
       "      <td>15.0</td>\n",
       "    </tr>\n",
       "    <tr>\n",
       "      <th>273</th>\n",
       "      <td>1990.0</td>\n",
       "      <td>Audi</td>\n",
       "      <td>V8</td>\n",
       "      <td>3.6</td>\n",
       "      <td>8.0</td>\n",
       "      <td>Automatic</td>\n",
       "      <td>4</td>\n",
       "      <td>Regular Gasoline</td>\n",
       "      <td>635.0</td>\n",
       "      <td>14.0</td>\n",
       "    </tr>\n",
       "  </tbody>\n",
       "</table>\n",
       "<p>274 rows × 10 columns</p>\n",
       "</div>"
      ],
      "text/plain": [
       "       year  make model  capacity_liters  cylinders transmission trans_speed  \\\n",
       "0    1993.0  Audi   100              2.8        6.0       Manual           5   \n",
       "1    1992.0  Audi   100              2.8        6.0       Manual           5   \n",
       "2    1994.0  Audi   100              2.8        6.0       Manual           5   \n",
       "3    1993.0  Audi   100              2.8        6.0    Automatic           4   \n",
       "4    1992.0  Audi   100              2.8        6.0    Automatic           4   \n",
       "..      ...   ...   ...              ...        ...          ...         ...   \n",
       "269  1990.0  Audi    V8              3.6        8.0       Manual           5   \n",
       "270  1994.0  Audi    V8              4.2        8.0    Automatic           4   \n",
       "271  1993.0  Audi    V8              4.2        8.0    Automatic           4   \n",
       "272  1992.0  Audi    V8              4.2        8.0    Automatic           4   \n",
       "273  1990.0  Audi    V8              3.6        8.0    Automatic           4   \n",
       "\n",
       "             fuel_type  gg_emissions   mpg  \n",
       "0     Premium Gasoline         468.0  19.0  \n",
       "1     Premium Gasoline         468.0  19.0  \n",
       "2     Premium Gasoline         468.0  19.0  \n",
       "3     Premium Gasoline         468.0  19.0  \n",
       "4     Premium Gasoline         468.0  19.0  \n",
       "..                 ...           ...   ...  \n",
       "269   Regular Gasoline         592.0  15.0  \n",
       "270   Premium Gasoline         592.0  15.0  \n",
       "271   Premium Gasoline         592.0  15.0  \n",
       "272   Premium Gasoline         592.0  15.0  \n",
       "273   Regular Gasoline         635.0  14.0  \n",
       "\n",
       "[274 rows x 10 columns]"
      ]
     },
     "execution_count": 10,
     "metadata": {},
     "output_type": "execute_result"
    }
   ],
   "source": [
    "audi_dfs = pd.concat(audi_dfs, ignore_index=True)\n",
    "\n",
    "audi_dfs"
   ]
  },
  {
   "cell_type": "markdown",
   "metadata": {},
   "source": [
    "-"
   ]
  },
  {
   "cell_type": "markdown",
   "metadata": {},
   "source": [
    "**Step #7:** Pickle the dataframe made in Step 6 of all Audi models with 'normal' dataframes\n",
    "- Will now be saved so further work on dataframe can start at this place"
   ]
  },
  {
   "cell_type": "code",
   "execution_count": 11,
   "metadata": {},
   "outputs": [],
   "source": [
    "with open('pickles/audi_dfs.pickle', 'wb') as to_write:\n",
    "    pickle.dump(audi_dfs, to_write)"
   ]
  },
  {
   "cell_type": "markdown",
   "metadata": {},
   "source": [
    "-"
   ]
  },
  {
   "cell_type": "markdown",
   "metadata": {},
   "source": [
    "**Step #8:** Un-pickle the dataframe made in Step 7 of all Audi models with 'normal' dataframes"
   ]
  },
  {
   "cell_type": "code",
   "execution_count": 12,
   "metadata": {},
   "outputs": [],
   "source": [
    "with open('pickles/audi_dfs.pickle','rb') as read_file:\n",
    "    audi_dfs = pickle.load(read_file)"
   ]
  }
 ],
 "metadata": {
  "kernelspec": {
   "display_name": "Python 3",
   "language": "python",
   "name": "python3"
  },
  "language_info": {
   "codemirror_mode": {
    "name": "ipython",
    "version": 3
   },
   "file_extension": ".py",
   "mimetype": "text/x-python",
   "name": "python",
   "nbconvert_exporter": "python",
   "pygments_lexer": "ipython3",
   "version": "3.7.4"
  }
 },
 "nbformat": 4,
 "nbformat_minor": 2
}
