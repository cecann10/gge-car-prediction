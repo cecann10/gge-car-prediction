{
 "cells": [
  {
   "cell_type": "code",
   "execution_count": 1,
   "metadata": {},
   "outputs": [],
   "source": [
    "import requests\n",
    "from requests import get\n",
    "from bs4 import BeautifulSoup\n",
    "import pandas as pd\n",
    "import numpy as np\n",
    "import pickle"
   ]
  },
  {
   "cell_type": "markdown",
   "metadata": {},
   "source": [
    "### Import functions unique to this project"
   ]
  },
  {
   "cell_type": "code",
   "execution_count": 2,
   "metadata": {},
   "outputs": [],
   "source": [
    "from master_functions import get_car_urls\n",
    "from master_functions import make_model_df"
   ]
  },
  {
   "cell_type": "markdown",
   "metadata": {},
   "source": [
    "## MERCEDES-BENZ - Create master dataframe for all models\n",
    "\n",
    "This worksheet is intended to build a datafame for all **Mercedes-Benz** cars.  There are some 'quirks' in how the data is structured from its source on https://www.fueleconomy.gov/, so more manual steps are taken below to check files for issues, combine first what is 'normal' and then add in those that required special attention.\n",
    "\n",
    "**Step #1:** Create unique urls for every car model for the years 1984 - 2021<br>\n",
    "- Uses `get_car_urls` from master function, Inputs: (car_make, [list of all models])"
   ]
  },
  {
   "cell_type": "code",
   "execution_count": 3,
   "metadata": {},
   "outputs": [],
   "source": [
    "mercedes_urls = get_car_urls('Mercedes-Benz',\n",
    "                             ['190','200','230',\n",
    "                              '260','300','350',\n",
    "                              '380','400','420',\n",
    "                              '500','560','600',\n",
    "                              'A-Class','AMG GT',\n",
    "                              'B-Class Electric Drive','C-Class',\n",
    "                              'CL-Class','CLA-Class','CLK-Class',\n",
    "                              'CLS-Class','E-Class','G-Class',\n",
    "                              'GL-Class','GLA-Class','GLB-Class',\n",
    "                              'GLC-Class','GLE-Class','GLK-Class',\n",
    "                              'GLS-Class','Maybach','Metris Cargo',\n",
    "                              'Metris Passenger','ML-Class','R-Class',\n",
    "                              'S-Class','SL-Class','SLC-Class',\n",
    "                              'SLK-Class','SLR','SLS AMG'\n",
    "                             ])"
   ]
  },
  {
   "cell_type": "markdown",
   "metadata": {},
   "source": [
    "-"
   ]
  },
  {
   "cell_type": "markdown",
   "metadata": {},
   "source": [
    "**Step #2:** Get length of list created in Step 1.  This number will be how many times you run the function in Step 3 to check all of the urls<br>"
   ]
  },
  {
   "cell_type": "code",
   "execution_count": 4,
   "metadata": {
    "scrolled": false
   },
   "outputs": [
    {
     "data": {
      "text/plain": [
       "40"
      ]
     },
     "execution_count": 4,
     "metadata": {},
     "output_type": "execute_result"
    }
   ],
   "source": [
    "# Verify number of urls and use this number\n",
    "# to know how many urls need to 'check below'\n",
    "\n",
    "len(mercedes_urls)"
   ]
  },
  {
   "cell_type": "markdown",
   "metadata": {},
   "source": [
    "-"
   ]
  },
  {
   "cell_type": "markdown",
   "metadata": {},
   "source": [
    "**Step #3:** Check all of the urls you just created.<br>\n",
    "- If does not work, add to 'problem' URLs string below this cell"
   ]
  },
  {
   "cell_type": "code",
   "execution_count": 46,
   "metadata": {},
   "outputs": [
    {
     "data": {
      "text/html": [
       "<div>\n",
       "<style scoped>\n",
       "    .dataframe tbody tr th:only-of-type {\n",
       "        vertical-align: middle;\n",
       "    }\n",
       "\n",
       "    .dataframe tbody tr th {\n",
       "        vertical-align: top;\n",
       "    }\n",
       "\n",
       "    .dataframe thead th {\n",
       "        text-align: right;\n",
       "    }\n",
       "</style>\n",
       "<table border=\"1\" class=\"dataframe\">\n",
       "  <thead>\n",
       "    <tr style=\"text-align: right;\">\n",
       "      <th></th>\n",
       "      <th>year</th>\n",
       "      <th>make</th>\n",
       "      <th>model</th>\n",
       "      <th>capacity_liters</th>\n",
       "      <th>cylinders</th>\n",
       "      <th>transmission</th>\n",
       "      <th>trans_speed</th>\n",
       "      <th>fuel_type</th>\n",
       "      <th>gg_emissions</th>\n",
       "      <th>mpg</th>\n",
       "    </tr>\n",
       "  </thead>\n",
       "  <tbody>\n",
       "    <tr>\n",
       "      <th>0</th>\n",
       "      <td>2012</td>\n",
       "      <td>Mercedes-Benz</td>\n",
       "      <td>SLS AMG</td>\n",
       "      <td>6.2</td>\n",
       "      <td>8</td>\n",
       "      <td>Automatic</td>\n",
       "      <td>AM7</td>\n",
       "      <td>Premium Gasoline</td>\n",
       "      <td>555</td>\n",
       "      <td>16</td>\n",
       "    </tr>\n",
       "    <tr>\n",
       "      <th>1</th>\n",
       "      <td>2011</td>\n",
       "      <td>Mercedes-Benz</td>\n",
       "      <td>SLS AMG</td>\n",
       "      <td>6.2</td>\n",
       "      <td>8</td>\n",
       "      <td>Automatic</td>\n",
       "      <td>AM7</td>\n",
       "      <td>Premium Gasoline</td>\n",
       "      <td>555</td>\n",
       "      <td>16</td>\n",
       "    </tr>\n",
       "    <tr>\n",
       "      <th>2</th>\n",
       "      <td>2012</td>\n",
       "      <td>Mercedes-Benz</td>\n",
       "      <td>SLS AMG Roadster</td>\n",
       "      <td>6.2</td>\n",
       "      <td>8</td>\n",
       "      <td>Automatic</td>\n",
       "      <td>AM7</td>\n",
       "      <td>Premium Gasoline</td>\n",
       "      <td>555</td>\n",
       "      <td>16</td>\n",
       "    </tr>\n",
       "    <tr>\n",
       "      <th>3</th>\n",
       "      <td>2014</td>\n",
       "      <td>Mercedes-Benz</td>\n",
       "      <td>SLS AMG Coupe</td>\n",
       "      <td>6.2</td>\n",
       "      <td>8</td>\n",
       "      <td>Automatic</td>\n",
       "      <td>AM7</td>\n",
       "      <td>Premium Gasoline</td>\n",
       "      <td>589</td>\n",
       "      <td>15</td>\n",
       "    </tr>\n",
       "    <tr>\n",
       "      <th>4</th>\n",
       "      <td>2013</td>\n",
       "      <td>Mercedes-Benz</td>\n",
       "      <td>SLS AMG Coupe</td>\n",
       "      <td>6.2</td>\n",
       "      <td>8</td>\n",
       "      <td>Automatic</td>\n",
       "      <td>AM7</td>\n",
       "      <td>Premium Gasoline</td>\n",
       "      <td>589</td>\n",
       "      <td>15</td>\n",
       "    </tr>\n",
       "    <tr>\n",
       "      <th>5</th>\n",
       "      <td>2015</td>\n",
       "      <td>Mercedes-Benz</td>\n",
       "      <td>SLS AMG GT Coupe</td>\n",
       "      <td>6.2</td>\n",
       "      <td>8</td>\n",
       "      <td>Automatic</td>\n",
       "      <td>AM7</td>\n",
       "      <td>Premium Gasoline</td>\n",
       "      <td>589</td>\n",
       "      <td>15</td>\n",
       "    </tr>\n",
       "    <tr>\n",
       "      <th>6</th>\n",
       "      <td>2014</td>\n",
       "      <td>Mercedes-Benz</td>\n",
       "      <td>SLS AMG GT Coupe</td>\n",
       "      <td>6.2</td>\n",
       "      <td>8</td>\n",
       "      <td>Automatic</td>\n",
       "      <td>AM7</td>\n",
       "      <td>Premium Gasoline</td>\n",
       "      <td>589</td>\n",
       "      <td>15</td>\n",
       "    </tr>\n",
       "    <tr>\n",
       "      <th>7</th>\n",
       "      <td>2013</td>\n",
       "      <td>Mercedes-Benz</td>\n",
       "      <td>SLS AMG GT Coupe</td>\n",
       "      <td>6.2</td>\n",
       "      <td>8</td>\n",
       "      <td>Automatic</td>\n",
       "      <td>AM7</td>\n",
       "      <td>Premium Gasoline</td>\n",
       "      <td>589</td>\n",
       "      <td>15</td>\n",
       "    </tr>\n",
       "    <tr>\n",
       "      <th>8</th>\n",
       "      <td>2015</td>\n",
       "      <td>Mercedes-Benz</td>\n",
       "      <td>SLS AMG GT Roadster</td>\n",
       "      <td>6.2</td>\n",
       "      <td>8</td>\n",
       "      <td>Automatic</td>\n",
       "      <td>AM7</td>\n",
       "      <td>Premium Gasoline</td>\n",
       "      <td>589</td>\n",
       "      <td>15</td>\n",
       "    </tr>\n",
       "    <tr>\n",
       "      <th>9</th>\n",
       "      <td>2014</td>\n",
       "      <td>Mercedes-Benz</td>\n",
       "      <td>SLS AMG GT Roadster</td>\n",
       "      <td>6.2</td>\n",
       "      <td>8</td>\n",
       "      <td>Automatic</td>\n",
       "      <td>AM7</td>\n",
       "      <td>Premium Gasoline</td>\n",
       "      <td>589</td>\n",
       "      <td>15</td>\n",
       "    </tr>\n",
       "  </tbody>\n",
       "</table>\n",
       "</div>"
      ],
      "text/plain": [
       "   year           make                model  capacity_liters  cylinders  \\\n",
       "0  2012  Mercedes-Benz              SLS AMG              6.2          8   \n",
       "1  2011  Mercedes-Benz              SLS AMG              6.2          8   \n",
       "2  2012  Mercedes-Benz     SLS AMG Roadster              6.2          8   \n",
       "3  2014  Mercedes-Benz        SLS AMG Coupe              6.2          8   \n",
       "4  2013  Mercedes-Benz        SLS AMG Coupe              6.2          8   \n",
       "5  2015  Mercedes-Benz     SLS AMG GT Coupe              6.2          8   \n",
       "6  2014  Mercedes-Benz     SLS AMG GT Coupe              6.2          8   \n",
       "7  2013  Mercedes-Benz     SLS AMG GT Coupe              6.2          8   \n",
       "8  2015  Mercedes-Benz  SLS AMG GT Roadster              6.2          8   \n",
       "9  2014  Mercedes-Benz  SLS AMG GT Roadster              6.2          8   \n",
       "\n",
       "  transmission trans_speed          fuel_type  gg_emissions  mpg  \n",
       "0    Automatic         AM7   Premium Gasoline           555   16  \n",
       "1    Automatic         AM7   Premium Gasoline           555   16  \n",
       "2    Automatic         AM7   Premium Gasoline           555   16  \n",
       "3    Automatic         AM7   Premium Gasoline           589   15  \n",
       "4    Automatic         AM7   Premium Gasoline           589   15  \n",
       "5    Automatic         AM7   Premium Gasoline           589   15  \n",
       "6    Automatic         AM7   Premium Gasoline           589   15  \n",
       "7    Automatic         AM7   Premium Gasoline           589   15  \n",
       "8    Automatic         AM7   Premium Gasoline           589   15  \n",
       "9    Automatic         AM7   Premium Gasoline           589   15  "
      ]
     },
     "execution_count": 46,
     "metadata": {},
     "output_type": "execute_result"
    }
   ],
   "source": [
    "# Test area for each url with [carmake]_urls[index]\n",
    "# by seeing if data appears correctly\n",
    "\n",
    "make_model_df('Mercedes-Benz',mercedes_urls[39])"
   ]
  },
  {
   "cell_type": "markdown",
   "metadata": {},
   "source": [
    "-"
   ]
  },
  {
   "cell_type": "markdown",
   "metadata": {},
   "source": [
    "Populate this section so if there are any 'problem' URLs from your test above"
   ]
  },
  {
   "cell_type": "code",
   "execution_count": 47,
   "metadata": {},
   "outputs": [
    {
     "data": {
      "text/plain": [
       "40"
      ]
     },
     "execution_count": 47,
     "metadata": {},
     "output_type": "execute_result"
    }
   ],
   "source": [
    "#'Problem' URLs\n",
    "'''\n",
    "mercedes_urls[14]\n",
    "mercedes_urls[15]\n",
    "mercedes_urls[17]\n",
    "mercedes_urls[23]\n",
    "mercedes_urls[25]\n",
    "mercedes_urls[26]\n",
    "mercedes_urls[34]\n",
    "'''\n",
    "\n",
    "#Print list length again to \n",
    "#set length of range in next cell\n",
    "len(mercedes_urls)"
   ]
  },
  {
   "cell_type": "markdown",
   "metadata": {},
   "source": [
    "-"
   ]
  },
  {
   "cell_type": "markdown",
   "metadata": {},
   "source": [
    "**Step #4:** Create dfs for all 'okay' urls and place each into a master list\n",
    "- Automate where possible, but some may need to be added one by one to avoid 'problem' urls"
   ]
  },
  {
   "cell_type": "code",
   "execution_count": 48,
   "metadata": {
    "scrolled": true
   },
   "outputs": [],
   "source": [
    "# for 'normal' urls to make a df and add to master df list, automate it!\n",
    "\n",
    "mercedes_dfs = []\n",
    "\n",
    "mercedes_dfs.append(make_model_df('Mercedes-Benz',mercedes_urls[24]))\n",
    "\n",
    "for x in range(0,14):\n",
    "    mercedes_dfs.append(make_model_df('Mercedes-Benz',mercedes_urls[x]))\n",
    "\n",
    "mercedes_dfs.append(make_model_df('Mercedes-Benz',mercedes_urls[16]))\n",
    "\n",
    "for x in range(18,23):\n",
    "    mercedes_dfs.append(make_model_df('Mercedes-Benz',mercedes_urls[x]))\n",
    "\n",
    "mercedes_dfs.append(make_model_df('Mercedes-Benz',mercedes_urls[24]))\n",
    "\n",
    "for x in range(27,34):\n",
    "    mercedes_dfs.append(make_model_df('Mercedes-Benz',mercedes_urls[x]))\n",
    "\n",
    "for x in range(35,40):\n",
    "    mercedes_dfs.append(make_model_df('Mercedes-Benz',mercedes_urls[x]))\n",
    "    \n",
    "\n"
   ]
  },
  {
   "cell_type": "markdown",
   "metadata": {},
   "source": [
    "-"
   ]
  },
  {
   "cell_type": "markdown",
   "metadata": {},
   "source": [
    "**Step #5:** Concatenate all of the 'normal' car model dfs into one master dataframe"
   ]
  },
  {
   "cell_type": "code",
   "execution_count": 50,
   "metadata": {
    "scrolled": true
   },
   "outputs": [
    {
     "data": {
      "text/html": [
       "<div>\n",
       "<style scoped>\n",
       "    .dataframe tbody tr th:only-of-type {\n",
       "        vertical-align: middle;\n",
       "    }\n",
       "\n",
       "    .dataframe tbody tr th {\n",
       "        vertical-align: top;\n",
       "    }\n",
       "\n",
       "    .dataframe thead th {\n",
       "        text-align: right;\n",
       "    }\n",
       "</style>\n",
       "<table border=\"1\" class=\"dataframe\">\n",
       "  <thead>\n",
       "    <tr style=\"text-align: right;\">\n",
       "      <th></th>\n",
       "      <th>year</th>\n",
       "      <th>make</th>\n",
       "      <th>model</th>\n",
       "      <th>capacity_liters</th>\n",
       "      <th>cylinders</th>\n",
       "      <th>transmission</th>\n",
       "      <th>trans_speed</th>\n",
       "      <th>fuel_type</th>\n",
       "      <th>gg_emissions</th>\n",
       "      <th>mpg</th>\n",
       "    </tr>\n",
       "  </thead>\n",
       "  <tbody>\n",
       "    <tr>\n",
       "      <th>0</th>\n",
       "      <td>2021.0</td>\n",
       "      <td>Mercedes-Benz</td>\n",
       "      <td>GLB250</td>\n",
       "      <td>2.0</td>\n",
       "      <td>4.0</td>\n",
       "      <td>Automatic</td>\n",
       "      <td>AM8</td>\n",
       "      <td>Premium Gasoline</td>\n",
       "      <td>337.0</td>\n",
       "      <td>26.0</td>\n",
       "    </tr>\n",
       "    <tr>\n",
       "      <th>1</th>\n",
       "      <td>2020.0</td>\n",
       "      <td>Mercedes-Benz</td>\n",
       "      <td>GLB250 4matic</td>\n",
       "      <td>2.0</td>\n",
       "      <td>4.0</td>\n",
       "      <td>Automatic</td>\n",
       "      <td>AM8</td>\n",
       "      <td>Premium Gasoline</td>\n",
       "      <td>338.0</td>\n",
       "      <td>26.0</td>\n",
       "    </tr>\n",
       "    <tr>\n",
       "      <th>2</th>\n",
       "      <td>2020.0</td>\n",
       "      <td>Mercedes-Benz</td>\n",
       "      <td>GLB250</td>\n",
       "      <td>2.0</td>\n",
       "      <td>4.0</td>\n",
       "      <td>Automatic</td>\n",
       "      <td>AM8</td>\n",
       "      <td>Premium Gasoline</td>\n",
       "      <td>344.0</td>\n",
       "      <td>26.0</td>\n",
       "    </tr>\n",
       "    <tr>\n",
       "      <th>3</th>\n",
       "      <td>1984.0</td>\n",
       "      <td>Mercedes-Benz</td>\n",
       "      <td>190 D 2.2/190 E 2.3</td>\n",
       "      <td>2.2</td>\n",
       "      <td>4.0</td>\n",
       "      <td>Manual</td>\n",
       "      <td>5</td>\n",
       "      <td>Diesel</td>\n",
       "      <td>339.0</td>\n",
       "      <td>30.0</td>\n",
       "    </tr>\n",
       "    <tr>\n",
       "      <th>4</th>\n",
       "      <td>1985.0</td>\n",
       "      <td>Mercedes-Benz</td>\n",
       "      <td>190</td>\n",
       "      <td>2.2</td>\n",
       "      <td>4.0</td>\n",
       "      <td>Manual</td>\n",
       "      <td>5</td>\n",
       "      <td>Diesel</td>\n",
       "      <td>339.0</td>\n",
       "      <td>30.0</td>\n",
       "    </tr>\n",
       "    <tr>\n",
       "      <th>...</th>\n",
       "      <td>...</td>\n",
       "      <td>...</td>\n",
       "      <td>...</td>\n",
       "      <td>...</td>\n",
       "      <td>...</td>\n",
       "      <td>...</td>\n",
       "      <td>...</td>\n",
       "      <td>...</td>\n",
       "      <td>...</td>\n",
       "      <td>...</td>\n",
       "    </tr>\n",
       "    <tr>\n",
       "      <th>249</th>\n",
       "      <td>2015.0</td>\n",
       "      <td>Mercedes-Benz</td>\n",
       "      <td>SLS AMG GT Coupe</td>\n",
       "      <td>6.2</td>\n",
       "      <td>8.0</td>\n",
       "      <td>Automatic</td>\n",
       "      <td>AM7</td>\n",
       "      <td>Premium Gasoline</td>\n",
       "      <td>589.0</td>\n",
       "      <td>15.0</td>\n",
       "    </tr>\n",
       "    <tr>\n",
       "      <th>250</th>\n",
       "      <td>2014.0</td>\n",
       "      <td>Mercedes-Benz</td>\n",
       "      <td>SLS AMG GT Coupe</td>\n",
       "      <td>6.2</td>\n",
       "      <td>8.0</td>\n",
       "      <td>Automatic</td>\n",
       "      <td>AM7</td>\n",
       "      <td>Premium Gasoline</td>\n",
       "      <td>589.0</td>\n",
       "      <td>15.0</td>\n",
       "    </tr>\n",
       "    <tr>\n",
       "      <th>251</th>\n",
       "      <td>2013.0</td>\n",
       "      <td>Mercedes-Benz</td>\n",
       "      <td>SLS AMG GT Coupe</td>\n",
       "      <td>6.2</td>\n",
       "      <td>8.0</td>\n",
       "      <td>Automatic</td>\n",
       "      <td>AM7</td>\n",
       "      <td>Premium Gasoline</td>\n",
       "      <td>589.0</td>\n",
       "      <td>15.0</td>\n",
       "    </tr>\n",
       "    <tr>\n",
       "      <th>252</th>\n",
       "      <td>2015.0</td>\n",
       "      <td>Mercedes-Benz</td>\n",
       "      <td>SLS AMG GT Roadster</td>\n",
       "      <td>6.2</td>\n",
       "      <td>8.0</td>\n",
       "      <td>Automatic</td>\n",
       "      <td>AM7</td>\n",
       "      <td>Premium Gasoline</td>\n",
       "      <td>589.0</td>\n",
       "      <td>15.0</td>\n",
       "    </tr>\n",
       "    <tr>\n",
       "      <th>253</th>\n",
       "      <td>2014.0</td>\n",
       "      <td>Mercedes-Benz</td>\n",
       "      <td>SLS AMG GT Roadster</td>\n",
       "      <td>6.2</td>\n",
       "      <td>8.0</td>\n",
       "      <td>Automatic</td>\n",
       "      <td>AM7</td>\n",
       "      <td>Premium Gasoline</td>\n",
       "      <td>589.0</td>\n",
       "      <td>15.0</td>\n",
       "    </tr>\n",
       "  </tbody>\n",
       "</table>\n",
       "<p>254 rows × 10 columns</p>\n",
       "</div>"
      ],
      "text/plain": [
       "       year           make                model  capacity_liters  cylinders  \\\n",
       "0    2021.0  Mercedes-Benz               GLB250              2.0        4.0   \n",
       "1    2020.0  Mercedes-Benz        GLB250 4matic              2.0        4.0   \n",
       "2    2020.0  Mercedes-Benz               GLB250              2.0        4.0   \n",
       "3    1984.0  Mercedes-Benz  190 D 2.2/190 E 2.3              2.2        4.0   \n",
       "4    1985.0  Mercedes-Benz                  190              2.2        4.0   \n",
       "..      ...            ...                  ...              ...        ...   \n",
       "249  2015.0  Mercedes-Benz     SLS AMG GT Coupe              6.2        8.0   \n",
       "250  2014.0  Mercedes-Benz     SLS AMG GT Coupe              6.2        8.0   \n",
       "251  2013.0  Mercedes-Benz     SLS AMG GT Coupe              6.2        8.0   \n",
       "252  2015.0  Mercedes-Benz  SLS AMG GT Roadster              6.2        8.0   \n",
       "253  2014.0  Mercedes-Benz  SLS AMG GT Roadster              6.2        8.0   \n",
       "\n",
       "    transmission trans_speed          fuel_type  gg_emissions   mpg  \n",
       "0      Automatic         AM8   Premium Gasoline         337.0  26.0  \n",
       "1      Automatic         AM8   Premium Gasoline         338.0  26.0  \n",
       "2      Automatic         AM8   Premium Gasoline         344.0  26.0  \n",
       "3         Manual           5             Diesel         339.0  30.0  \n",
       "4         Manual           5             Diesel         339.0  30.0  \n",
       "..           ...         ...                ...           ...   ...  \n",
       "249    Automatic         AM7   Premium Gasoline         589.0  15.0  \n",
       "250    Automatic         AM7   Premium Gasoline         589.0  15.0  \n",
       "251    Automatic         AM7   Premium Gasoline         589.0  15.0  \n",
       "252    Automatic         AM7   Premium Gasoline         589.0  15.0  \n",
       "253    Automatic         AM7   Premium Gasoline         589.0  15.0  \n",
       "\n",
       "[254 rows x 10 columns]"
      ]
     },
     "execution_count": 50,
     "metadata": {},
     "output_type": "execute_result"
    }
   ],
   "source": [
    "mercedes_dfs = pd.concat(mercedes_dfs, ignore_index=True)\n",
    "\n",
    "mercedes_dfs"
   ]
  },
  {
   "cell_type": "markdown",
   "metadata": {},
   "source": [
    "-"
   ]
  },
  {
   "cell_type": "markdown",
   "metadata": {},
   "source": [
    "**Step #6:** Pickle the dataframe made in Step 6 of all car's models with 'normal' dataframes\n",
    "- Will now be saved so further work on dataframe can start at this place"
   ]
  },
  {
   "cell_type": "code",
   "execution_count": 51,
   "metadata": {},
   "outputs": [],
   "source": [
    "with open('pickles/mercedes_dfs.pickle', 'wb') as to_write:\n",
    "    pickle.dump(mercedes_dfs, to_write)"
   ]
  },
  {
   "cell_type": "markdown",
   "metadata": {},
   "source": [
    "-"
   ]
  },
  {
   "cell_type": "markdown",
   "metadata": {},
   "source": [
    "**Step #7:** Un-pickle the dataframe made in Step 7 of all car's models with 'normal' dataframes"
   ]
  },
  {
   "cell_type": "code",
   "execution_count": 52,
   "metadata": {},
   "outputs": [],
   "source": [
    "with open('pickles/mercedes_dfs.pickle','rb') as read_file:\n",
    "    mercedes_dfs = pickle.load(read_file)"
   ]
  },
  {
   "cell_type": "code",
   "execution_count": null,
   "metadata": {},
   "outputs": [],
   "source": []
  }
 ],
 "metadata": {
  "kernelspec": {
   "display_name": "Python 3",
   "language": "python",
   "name": "python3"
  },
  "language_info": {
   "codemirror_mode": {
    "name": "ipython",
    "version": 3
   },
   "file_extension": ".py",
   "mimetype": "text/x-python",
   "name": "python",
   "nbconvert_exporter": "python",
   "pygments_lexer": "ipython3",
   "version": "3.7.4"
  }
 },
 "nbformat": 4,
 "nbformat_minor": 2
}
