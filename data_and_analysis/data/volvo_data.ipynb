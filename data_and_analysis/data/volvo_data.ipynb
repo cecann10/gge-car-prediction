{
 "cells": [
  {
   "cell_type": "code",
   "execution_count": 2,
   "metadata": {},
   "outputs": [],
   "source": [
    "import requests\n",
    "from requests import get\n",
    "from bs4 import BeautifulSoup\n",
    "import pandas as pd\n",
    "import numpy as np\n",
    "import pickle"
   ]
  },
  {
   "cell_type": "markdown",
   "metadata": {},
   "source": [
    "### Import functions unique to this project"
   ]
  },
  {
   "cell_type": "code",
   "execution_count": 3,
   "metadata": {},
   "outputs": [],
   "source": [
    "from master_functions import get_car_urls\n",
    "from master_functions import make_model_df"
   ]
  },
  {
   "cell_type": "markdown",
   "metadata": {},
   "source": [
    "## VOLVO - Create master dataframe for all models\n",
    "\n",
    "This worksheet is intended to build a datafame for all **Volvo** cars.  There are some 'quirks' in how the data is structured from its source on https://www.fueleconomy.gov/, so more manual steps are taken below to check files for issues, combine first what is 'normal' and then add in those that required special attention.\n",
    "\n",
    "**Step #1:** Create unique urls for every car model for the years 1984 - 2021<br>\n",
    "- Uses `get_car_urls` from master function, Inputs: (car_make, [list of all models])"
   ]
  },
  {
   "cell_type": "code",
   "execution_count": 4,
   "metadata": {},
   "outputs": [],
   "source": [
    "volvo_urls = get_car_urls('Volvo',\n",
    "                          ['240','740/760','780',\n",
    "                           '850','940','960',\n",
    "                           '960 Wagon/V90','960/S90',\n",
    "                           'C30','C70','Coupe','S40',\n",
    "                           'S60','S70','S80','S90',\n",
    "                           'V40','V50','V60','V70',\n",
    "                           'V70','V70 XC','V90','XC40',\n",
    "                           'XC60','XC70','SC90'\n",
    "                          ])"
   ]
  },
  {
   "cell_type": "markdown",
   "metadata": {},
   "source": [
    "-"
   ]
  },
  {
   "cell_type": "markdown",
   "metadata": {},
   "source": [
    "**Step #2:** Get length of list created in Step 1.  This number will be how many times you run the function in Step 3 to check all of the urls<br>"
   ]
  },
  {
   "cell_type": "code",
   "execution_count": 5,
   "metadata": {
    "scrolled": false
   },
   "outputs": [
    {
     "data": {
      "text/plain": [
       "27"
      ]
     },
     "execution_count": 5,
     "metadata": {},
     "output_type": "execute_result"
    }
   ],
   "source": [
    "# Verify number of urls and use this number\n",
    "# to know how many urls need to 'check below'\n",
    "\n",
    "len(volvo_urls)"
   ]
  },
  {
   "cell_type": "markdown",
   "metadata": {},
   "source": [
    "-"
   ]
  },
  {
   "cell_type": "markdown",
   "metadata": {},
   "source": [
    "**Step #3:** Check all of the urls you just created.<br>\n",
    "- If does not work, add to 'problem' URLs string below this cell"
   ]
  },
  {
   "cell_type": "code",
   "execution_count": 34,
   "metadata": {},
   "outputs": [
    {
     "data": {
      "text/html": [
       "<div>\n",
       "<style scoped>\n",
       "    .dataframe tbody tr th:only-of-type {\n",
       "        vertical-align: middle;\n",
       "    }\n",
       "\n",
       "    .dataframe tbody tr th {\n",
       "        vertical-align: top;\n",
       "    }\n",
       "\n",
       "    .dataframe thead th {\n",
       "        text-align: right;\n",
       "    }\n",
       "</style>\n",
       "<table border=\"1\" class=\"dataframe\">\n",
       "  <thead>\n",
       "    <tr style=\"text-align: right;\">\n",
       "      <th></th>\n",
       "      <th>year</th>\n",
       "      <th>make</th>\n",
       "      <th>model</th>\n",
       "      <th>capacity_liters</th>\n",
       "      <th>cylinders</th>\n",
       "      <th>transmission</th>\n",
       "      <th>trans_speed</th>\n",
       "      <th>fuel_type</th>\n",
       "      <th>gg_emissions</th>\n",
       "      <th>mpg</th>\n",
       "    </tr>\n",
       "  </thead>\n",
       "  <tbody>\n",
       "    <tr>\n",
       "      <th>0</th>\n",
       "      <td>1984</td>\n",
       "      <td>Volvo</td>\n",
       "      <td>240 DL/GL/Turbo</td>\n",
       "      <td>2.4</td>\n",
       "      <td>6</td>\n",
       "      <td>Manual</td>\n",
       "      <td>5</td>\n",
       "      <td>Diesel</td>\n",
       "      <td>392</td>\n",
       "      <td>26</td>\n",
       "    </tr>\n",
       "    <tr>\n",
       "      <th>1</th>\n",
       "      <td>1984</td>\n",
       "      <td>Volvo</td>\n",
       "      <td>240 DL/GL/Turbo Wagon</td>\n",
       "      <td>2.4</td>\n",
       "      <td>6</td>\n",
       "      <td>Manual</td>\n",
       "      <td>5</td>\n",
       "      <td>Diesel</td>\n",
       "      <td>392</td>\n",
       "      <td>26</td>\n",
       "    </tr>\n",
       "    <tr>\n",
       "      <th>2</th>\n",
       "      <td>1984</td>\n",
       "      <td>Volvo</td>\n",
       "      <td>240 DL/GL/Turbo</td>\n",
       "      <td>2.4</td>\n",
       "      <td>6</td>\n",
       "      <td>Automatic</td>\n",
       "      <td>3</td>\n",
       "      <td>Diesel</td>\n",
       "      <td>424</td>\n",
       "      <td>24</td>\n",
       "    </tr>\n",
       "    <tr>\n",
       "      <th>3</th>\n",
       "      <td>1984</td>\n",
       "      <td>Volvo</td>\n",
       "      <td>240 DL/GL/Turbo Wagon</td>\n",
       "      <td>2.4</td>\n",
       "      <td>6</td>\n",
       "      <td>Automatic</td>\n",
       "      <td>3</td>\n",
       "      <td>Diesel</td>\n",
       "      <td>424</td>\n",
       "      <td>24</td>\n",
       "    </tr>\n",
       "    <tr>\n",
       "      <th>4</th>\n",
       "      <td>1984</td>\n",
       "      <td>Volvo</td>\n",
       "      <td>240 DL/GL/Turbo</td>\n",
       "      <td>2.3</td>\n",
       "      <td>4</td>\n",
       "      <td>Manual</td>\n",
       "      <td>5</td>\n",
       "      <td>Regular Gasoline</td>\n",
       "      <td>386</td>\n",
       "      <td>23</td>\n",
       "    </tr>\n",
       "    <tr>\n",
       "      <th>5</th>\n",
       "      <td>1984</td>\n",
       "      <td>Volvo</td>\n",
       "      <td>240 DL/GL/Turbo</td>\n",
       "      <td>2.3</td>\n",
       "      <td>4</td>\n",
       "      <td>Manual</td>\n",
       "      <td>5</td>\n",
       "      <td>Regular Gasoline</td>\n",
       "      <td>386</td>\n",
       "      <td>23</td>\n",
       "    </tr>\n",
       "    <tr>\n",
       "      <th>6</th>\n",
       "      <td>1986</td>\n",
       "      <td>Volvo</td>\n",
       "      <td>240 DL/240 GL</td>\n",
       "      <td>2.3</td>\n",
       "      <td>4</td>\n",
       "      <td>Manual</td>\n",
       "      <td>4</td>\n",
       "      <td>Regular Gasoline</td>\n",
       "      <td>404</td>\n",
       "      <td>22</td>\n",
       "    </tr>\n",
       "    <tr>\n",
       "      <th>7</th>\n",
       "      <td>1986</td>\n",
       "      <td>Volvo</td>\n",
       "      <td>240 DL/240 GL Wagon</td>\n",
       "      <td>2.3</td>\n",
       "      <td>4</td>\n",
       "      <td>Manual</td>\n",
       "      <td>4</td>\n",
       "      <td>Regular Gasoline</td>\n",
       "      <td>404</td>\n",
       "      <td>22</td>\n",
       "    </tr>\n",
       "    <tr>\n",
       "      <th>8</th>\n",
       "      <td>1985</td>\n",
       "      <td>Volvo</td>\n",
       "      <td>240 DL/GL/turbo</td>\n",
       "      <td>2.3</td>\n",
       "      <td>4</td>\n",
       "      <td>Manual</td>\n",
       "      <td>4</td>\n",
       "      <td>Regular Gasoline</td>\n",
       "      <td>404</td>\n",
       "      <td>22</td>\n",
       "    </tr>\n",
       "    <tr>\n",
       "      <th>9</th>\n",
       "      <td>1984</td>\n",
       "      <td>Volvo</td>\n",
       "      <td>240 DL/GL/Turbo</td>\n",
       "      <td>2.3</td>\n",
       "      <td>4</td>\n",
       "      <td>Manual</td>\n",
       "      <td>5</td>\n",
       "      <td>Regular Gasoline</td>\n",
       "      <td>404</td>\n",
       "      <td>22</td>\n",
       "    </tr>\n",
       "  </tbody>\n",
       "</table>\n",
       "</div>"
      ],
      "text/plain": [
       "   year   make                  model  capacity_liters  cylinders  \\\n",
       "0  1984  Volvo        240 DL/GL/Turbo              2.4          6   \n",
       "1  1984  Volvo  240 DL/GL/Turbo Wagon              2.4          6   \n",
       "2  1984  Volvo        240 DL/GL/Turbo              2.4          6   \n",
       "3  1984  Volvo  240 DL/GL/Turbo Wagon              2.4          6   \n",
       "4  1984  Volvo        240 DL/GL/Turbo              2.3          4   \n",
       "5  1984  Volvo        240 DL/GL/Turbo              2.3          4   \n",
       "6  1986  Volvo          240 DL/240 GL              2.3          4   \n",
       "7  1986  Volvo    240 DL/240 GL Wagon              2.3          4   \n",
       "8  1985  Volvo        240 DL/GL/turbo              2.3          4   \n",
       "9  1984  Volvo        240 DL/GL/Turbo              2.3          4   \n",
       "\n",
       "  transmission trans_speed          fuel_type  gg_emissions  mpg  \n",
       "0       Manual           5             Diesel           392   26  \n",
       "1       Manual           5             Diesel           392   26  \n",
       "2    Automatic           3             Diesel           424   24  \n",
       "3    Automatic           3             Diesel           424   24  \n",
       "4       Manual           5   Regular Gasoline           386   23  \n",
       "5       Manual           5   Regular Gasoline           386   23  \n",
       "6       Manual           4   Regular Gasoline           404   22  \n",
       "7       Manual           4   Regular Gasoline           404   22  \n",
       "8       Manual           4   Regular Gasoline           404   22  \n",
       "9       Manual           5   Regular Gasoline           404   22  "
      ]
     },
     "execution_count": 34,
     "metadata": {},
     "output_type": "execute_result"
    }
   ],
   "source": [
    "# Test area for each url with [carmake]_urls[index]\n",
    "# by seeing if data appears correctly\n",
    "\n",
    "make_model_df('Volvo',volvo_urls[0])"
   ]
  },
  {
   "cell_type": "markdown",
   "metadata": {},
   "source": [
    "-"
   ]
  },
  {
   "cell_type": "markdown",
   "metadata": {},
   "source": [
    "Populate this section so if there are any 'problem' URLs from your test above"
   ]
  },
  {
   "cell_type": "code",
   "execution_count": 35,
   "metadata": {},
   "outputs": [
    {
     "data": {
      "text/plain": [
       "27"
      ]
     },
     "execution_count": 35,
     "metadata": {},
     "output_type": "execute_result"
    }
   ],
   "source": [
    "#'Problem' URLs\n",
    "'''\n",
    "volvo_urls[12]\n",
    "volvo_urls[15]\n",
    "volvo_urls[18]\n",
    "volvo_urls[24]\n",
    "'''\n",
    "\n",
    "#Print list length again to \n",
    "#set length of range in next cell\n",
    "len(volvo_urls)"
   ]
  },
  {
   "cell_type": "markdown",
   "metadata": {},
   "source": [
    "-"
   ]
  },
  {
   "cell_type": "markdown",
   "metadata": {},
   "source": [
    "**Step #4:** Create dfs for all 'okay' urls and place each into a master list\n",
    "- Automate where possible, but some may need to be added one by one to avoid 'problem' urls"
   ]
  },
  {
   "cell_type": "code",
   "execution_count": 37,
   "metadata": {
    "scrolled": true
   },
   "outputs": [],
   "source": [
    "# for 'normal' urls to make a df and add to master df list, automate it!\n",
    "\n",
    "volvo_dfs = []\n",
    "\n",
    "for x in range(0,12):\n",
    "    volvo_dfs.append(make_model_df('Volvo',volvo_urls[x]))\n",
    "\n",
    "for x in range(13,15):\n",
    "    volvo_dfs.append(make_model_df('Volvo',volvo_urls[x]))\n",
    "\n",
    "for x in range(16,18):\n",
    "    volvo_dfs.append(make_model_df('Volvo',volvo_urls[x]))\n",
    "\n",
    "for x in range(19,24):\n",
    "    volvo_dfs.append(make_model_df('Volvo',volvo_urls[x]))\n",
    "\n",
    "for x in range(25,27):\n",
    "    volvo_dfs.append(make_model_df('Volvo',volvo_urls[x]))\n"
   ]
  },
  {
   "cell_type": "markdown",
   "metadata": {},
   "source": [
    "-"
   ]
  },
  {
   "cell_type": "markdown",
   "metadata": {},
   "source": [
    "**Step #5:** Concatenate all of the 'normal' car model dfs into one master dataframe"
   ]
  },
  {
   "cell_type": "code",
   "execution_count": 38,
   "metadata": {
    "scrolled": true
   },
   "outputs": [
    {
     "data": {
      "text/html": [
       "<div>\n",
       "<style scoped>\n",
       "    .dataframe tbody tr th:only-of-type {\n",
       "        vertical-align: middle;\n",
       "    }\n",
       "\n",
       "    .dataframe tbody tr th {\n",
       "        vertical-align: top;\n",
       "    }\n",
       "\n",
       "    .dataframe thead th {\n",
       "        text-align: right;\n",
       "    }\n",
       "</style>\n",
       "<table border=\"1\" class=\"dataframe\">\n",
       "  <thead>\n",
       "    <tr style=\"text-align: right;\">\n",
       "      <th></th>\n",
       "      <th>year</th>\n",
       "      <th>make</th>\n",
       "      <th>model</th>\n",
       "      <th>capacity_liters</th>\n",
       "      <th>cylinders</th>\n",
       "      <th>transmission</th>\n",
       "      <th>trans_speed</th>\n",
       "      <th>fuel_type</th>\n",
       "      <th>gg_emissions</th>\n",
       "      <th>mpg</th>\n",
       "    </tr>\n",
       "  </thead>\n",
       "  <tbody>\n",
       "    <tr>\n",
       "      <th>0</th>\n",
       "      <td>1984.0</td>\n",
       "      <td>Volvo</td>\n",
       "      <td>240 DL/GL/Turbo</td>\n",
       "      <td>2.4</td>\n",
       "      <td>6.0</td>\n",
       "      <td>Manual</td>\n",
       "      <td>5</td>\n",
       "      <td>Diesel</td>\n",
       "      <td>392.0</td>\n",
       "      <td>26.0</td>\n",
       "    </tr>\n",
       "    <tr>\n",
       "      <th>1</th>\n",
       "      <td>1984.0</td>\n",
       "      <td>Volvo</td>\n",
       "      <td>240 DL/GL/Turbo Wagon</td>\n",
       "      <td>2.4</td>\n",
       "      <td>6.0</td>\n",
       "      <td>Manual</td>\n",
       "      <td>5</td>\n",
       "      <td>Diesel</td>\n",
       "      <td>392.0</td>\n",
       "      <td>26.0</td>\n",
       "    </tr>\n",
       "    <tr>\n",
       "      <th>2</th>\n",
       "      <td>1984.0</td>\n",
       "      <td>Volvo</td>\n",
       "      <td>240 DL/GL/Turbo</td>\n",
       "      <td>2.4</td>\n",
       "      <td>6.0</td>\n",
       "      <td>Automatic</td>\n",
       "      <td>3</td>\n",
       "      <td>Diesel</td>\n",
       "      <td>424.0</td>\n",
       "      <td>24.0</td>\n",
       "    </tr>\n",
       "    <tr>\n",
       "      <th>3</th>\n",
       "      <td>1984.0</td>\n",
       "      <td>Volvo</td>\n",
       "      <td>240 DL/GL/Turbo Wagon</td>\n",
       "      <td>2.4</td>\n",
       "      <td>6.0</td>\n",
       "      <td>Automatic</td>\n",
       "      <td>3</td>\n",
       "      <td>Diesel</td>\n",
       "      <td>424.0</td>\n",
       "      <td>24.0</td>\n",
       "    </tr>\n",
       "    <tr>\n",
       "      <th>4</th>\n",
       "      <td>1984.0</td>\n",
       "      <td>Volvo</td>\n",
       "      <td>240 DL/GL/Turbo</td>\n",
       "      <td>2.3</td>\n",
       "      <td>4.0</td>\n",
       "      <td>Manual</td>\n",
       "      <td>5</td>\n",
       "      <td>Regular Gasoline</td>\n",
       "      <td>386.0</td>\n",
       "      <td>23.0</td>\n",
       "    </tr>\n",
       "    <tr>\n",
       "      <th>...</th>\n",
       "      <td>...</td>\n",
       "      <td>...</td>\n",
       "      <td>...</td>\n",
       "      <td>...</td>\n",
       "      <td>...</td>\n",
       "      <td>...</td>\n",
       "      <td>...</td>\n",
       "      <td>...</td>\n",
       "      <td>...</td>\n",
       "      <td>...</td>\n",
       "    </tr>\n",
       "    <tr>\n",
       "      <th>165</th>\n",
       "      <td>2014.0</td>\n",
       "      <td>Volvo</td>\n",
       "      <td>XC70 FWD</td>\n",
       "      <td>3.2</td>\n",
       "      <td>6.0</td>\n",
       "      <td>Automatic</td>\n",
       "      <td>S6</td>\n",
       "      <td>Regular Gasoline</td>\n",
       "      <td>416.0</td>\n",
       "      <td>21.0</td>\n",
       "    </tr>\n",
       "    <tr>\n",
       "      <th>166</th>\n",
       "      <td>2015.0</td>\n",
       "      <td>Volvo</td>\n",
       "      <td>XC70 AWD</td>\n",
       "      <td>3.2</td>\n",
       "      <td>6.0</td>\n",
       "      <td>Automatic</td>\n",
       "      <td>S6</td>\n",
       "      <td>Regular Gasoline</td>\n",
       "      <td>420.0</td>\n",
       "      <td>21.0</td>\n",
       "    </tr>\n",
       "    <tr>\n",
       "      <th>167</th>\n",
       "      <td>2014.0</td>\n",
       "      <td>Volvo</td>\n",
       "      <td>XC70 AWD</td>\n",
       "      <td>3.2</td>\n",
       "      <td>6.0</td>\n",
       "      <td>Automatic</td>\n",
       "      <td>S6</td>\n",
       "      <td>Regular Gasoline</td>\n",
       "      <td>420.0</td>\n",
       "      <td>21.0</td>\n",
       "    </tr>\n",
       "    <tr>\n",
       "      <th>168</th>\n",
       "      <td>2011.0</td>\n",
       "      <td>Volvo</td>\n",
       "      <td>XC70 FWD</td>\n",
       "      <td>3.2</td>\n",
       "      <td>6.0</td>\n",
       "      <td>Automatic</td>\n",
       "      <td>S6</td>\n",
       "      <td>Regular Gasoline</td>\n",
       "      <td>423.0</td>\n",
       "      <td>21.0</td>\n",
       "    </tr>\n",
       "    <tr>\n",
       "      <th>169</th>\n",
       "      <td>2013.0</td>\n",
       "      <td>Volvo</td>\n",
       "      <td>XC70 AWD</td>\n",
       "      <td>3.2</td>\n",
       "      <td>6.0</td>\n",
       "      <td>Automatic</td>\n",
       "      <td>S6</td>\n",
       "      <td>Regular Gasoline</td>\n",
       "      <td>427.0</td>\n",
       "      <td>20.0</td>\n",
       "    </tr>\n",
       "  </tbody>\n",
       "</table>\n",
       "<p>170 rows × 10 columns</p>\n",
       "</div>"
      ],
      "text/plain": [
       "       year   make                  model  capacity_liters  cylinders  \\\n",
       "0    1984.0  Volvo        240 DL/GL/Turbo              2.4        6.0   \n",
       "1    1984.0  Volvo  240 DL/GL/Turbo Wagon              2.4        6.0   \n",
       "2    1984.0  Volvo        240 DL/GL/Turbo              2.4        6.0   \n",
       "3    1984.0  Volvo  240 DL/GL/Turbo Wagon              2.4        6.0   \n",
       "4    1984.0  Volvo        240 DL/GL/Turbo              2.3        4.0   \n",
       "..      ...    ...                    ...              ...        ...   \n",
       "165  2014.0  Volvo               XC70 FWD              3.2        6.0   \n",
       "166  2015.0  Volvo               XC70 AWD              3.2        6.0   \n",
       "167  2014.0  Volvo               XC70 AWD              3.2        6.0   \n",
       "168  2011.0  Volvo               XC70 FWD              3.2        6.0   \n",
       "169  2013.0  Volvo               XC70 AWD              3.2        6.0   \n",
       "\n",
       "    transmission trans_speed          fuel_type  gg_emissions   mpg  \n",
       "0         Manual           5             Diesel         392.0  26.0  \n",
       "1         Manual           5             Diesel         392.0  26.0  \n",
       "2      Automatic           3             Diesel         424.0  24.0  \n",
       "3      Automatic           3             Diesel         424.0  24.0  \n",
       "4         Manual           5   Regular Gasoline         386.0  23.0  \n",
       "..           ...         ...                ...           ...   ...  \n",
       "165    Automatic          S6   Regular Gasoline         416.0  21.0  \n",
       "166    Automatic          S6   Regular Gasoline         420.0  21.0  \n",
       "167    Automatic          S6   Regular Gasoline         420.0  21.0  \n",
       "168    Automatic          S6   Regular Gasoline         423.0  21.0  \n",
       "169    Automatic          S6   Regular Gasoline         427.0  20.0  \n",
       "\n",
       "[170 rows x 10 columns]"
      ]
     },
     "execution_count": 38,
     "metadata": {},
     "output_type": "execute_result"
    }
   ],
   "source": [
    "volvo_dfs = pd.concat(volvo_dfs, ignore_index=True)\n",
    "\n",
    "volvo_dfs"
   ]
  },
  {
   "cell_type": "markdown",
   "metadata": {},
   "source": [
    "-"
   ]
  },
  {
   "cell_type": "markdown",
   "metadata": {},
   "source": [
    "**Step #6:** Pickle the dataframe made in Step 6 of all car's models with 'normal' dataframes\n",
    "- Will now be saved so further work on dataframe can start at this place"
   ]
  },
  {
   "cell_type": "code",
   "execution_count": 39,
   "metadata": {},
   "outputs": [],
   "source": [
    "with open('pickles/volvo_dfs.pickle', 'wb') as to_write:\n",
    "    pickle.dump(volvo_dfs, to_write)"
   ]
  },
  {
   "cell_type": "markdown",
   "metadata": {},
   "source": [
    "-"
   ]
  },
  {
   "cell_type": "markdown",
   "metadata": {},
   "source": [
    "**Step #7:** Un-pickle the dataframe made in Step 7 of all car's models with 'normal' dataframes"
   ]
  },
  {
   "cell_type": "code",
   "execution_count": 40,
   "metadata": {},
   "outputs": [],
   "source": [
    "with open('pickles/volvo_dfs.pickle','rb') as read_file:\n",
    "    volvo_dfs = pickle.load(read_file)"
   ]
  },
  {
   "cell_type": "code",
   "execution_count": null,
   "metadata": {},
   "outputs": [],
   "source": []
  }
 ],
 "metadata": {
  "kernelspec": {
   "display_name": "Python 3",
   "language": "python",
   "name": "python3"
  },
  "language_info": {
   "codemirror_mode": {
    "name": "ipython",
    "version": 3
   },
   "file_extension": ".py",
   "mimetype": "text/x-python",
   "name": "python",
   "nbconvert_exporter": "python",
   "pygments_lexer": "ipython3",
   "version": "3.7.4"
  }
 },
 "nbformat": 4,
 "nbformat_minor": 2
}
