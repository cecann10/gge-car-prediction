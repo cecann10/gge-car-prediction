{
 "cells": [
  {
   "cell_type": "code",
   "execution_count": 1,
   "metadata": {},
   "outputs": [],
   "source": [
    "import requests\n",
    "from requests import get\n",
    "from bs4 import BeautifulSoup\n",
    "import pandas as pd\n",
    "import numpy as np\n",
    "import pickle"
   ]
  },
  {
   "cell_type": "markdown",
   "metadata": {},
   "source": [
    "### Import functions unique to this project"
   ]
  },
  {
   "cell_type": "code",
   "execution_count": 2,
   "metadata": {},
   "outputs": [],
   "source": [
    "from master_functions import get_car_urls\n",
    "from master_functions import make_model_df"
   ]
  },
  {
   "cell_type": "markdown",
   "metadata": {},
   "source": [
    "## SUBARU - Create master dataframe for all models\n",
    "\n",
    "This worksheet is intended to build a datafame for all **Subaru** cars.  There are some 'quirks' in how the data is structured from its source on https://www.fueleconomy.gov/, so more manual steps are taken below to check files for issues, combine first what is 'normal' and then add in those that required special attention.\n",
    "\n",
    "**Step #1:** Create unique urls for every car model for the years 1984 - 2021<br>\n",
    "- Uses `get_car_urls` from master function, Inputs: (car_make, [list of all models])"
   ]
  },
  {
   "cell_type": "code",
   "execution_count": 3,
   "metadata": {},
   "outputs": [],
   "source": [
    "subaru_urls = get_car_urls('Subaru',\n",
    "                           ['Ascent','Baja',\n",
    "                            'Brat','BRZ','Crosstrek',\n",
    "                            'Forester','Hatchback',\n",
    "                            'Impreza','Impreza/Outback Sport',\n",
    "                            'Justy','Legacy','Legacy/Outback',\n",
    "                            'Loyale','Outback','RX Turbo',\n",
    "                            'Sedan','SVX','Tribeca','Wagon',\n",
    "                            'WRX','XT'\n",
    "                           ])"
   ]
  },
  {
   "cell_type": "markdown",
   "metadata": {},
   "source": [
    "-"
   ]
  },
  {
   "cell_type": "markdown",
   "metadata": {},
   "source": [
    "**Step #2:** Get length of list created in Step 1.  This number will be how many times you run the function in Step 3 to check all of the urls<br>"
   ]
  },
  {
   "cell_type": "code",
   "execution_count": 4,
   "metadata": {
    "scrolled": false
   },
   "outputs": [
    {
     "data": {
      "text/plain": [
       "21"
      ]
     },
     "execution_count": 4,
     "metadata": {},
     "output_type": "execute_result"
    }
   ],
   "source": [
    "# Verify number of urls and use this number\n",
    "# to know how many urls need to 'check below'\n",
    "\n",
    "len(subaru_urls)"
   ]
  },
  {
   "cell_type": "markdown",
   "metadata": {},
   "source": [
    "-"
   ]
  },
  {
   "cell_type": "markdown",
   "metadata": {},
   "source": [
    "**Step #3:** Check all of the urls you just created.<br>\n",
    "- If does not work, add to 'problem' URLs string below this cell"
   ]
  },
  {
   "cell_type": "code",
   "execution_count": 27,
   "metadata": {},
   "outputs": [
    {
     "data": {
      "text/html": [
       "<div>\n",
       "<style scoped>\n",
       "    .dataframe tbody tr th:only-of-type {\n",
       "        vertical-align: middle;\n",
       "    }\n",
       "\n",
       "    .dataframe tbody tr th {\n",
       "        vertical-align: top;\n",
       "    }\n",
       "\n",
       "    .dataframe thead th {\n",
       "        text-align: right;\n",
       "    }\n",
       "</style>\n",
       "<table border=\"1\" class=\"dataframe\">\n",
       "  <thead>\n",
       "    <tr style=\"text-align: right;\">\n",
       "      <th></th>\n",
       "      <th>year</th>\n",
       "      <th>make</th>\n",
       "      <th>model</th>\n",
       "      <th>capacity_liters</th>\n",
       "      <th>cylinders</th>\n",
       "      <th>transmission</th>\n",
       "      <th>trans_speed</th>\n",
       "      <th>fuel_type</th>\n",
       "      <th>gg_emissions</th>\n",
       "      <th>mpg</th>\n",
       "    </tr>\n",
       "  </thead>\n",
       "  <tbody>\n",
       "    <tr>\n",
       "      <th>0</th>\n",
       "      <td>1985</td>\n",
       "      <td>Subaru</td>\n",
       "      <td>XT-DL</td>\n",
       "      <td>1.8</td>\n",
       "      <td>4</td>\n",
       "      <td>Manual</td>\n",
       "      <td>5</td>\n",
       "      <td>Regular Gasoline</td>\n",
       "      <td>355</td>\n",
       "      <td>25</td>\n",
       "    </tr>\n",
       "    <tr>\n",
       "      <th>1</th>\n",
       "      <td>1991</td>\n",
       "      <td>Subaru</td>\n",
       "      <td>XT</td>\n",
       "      <td>1.8</td>\n",
       "      <td>4</td>\n",
       "      <td>Manual</td>\n",
       "      <td>5</td>\n",
       "      <td>Regular Gasoline</td>\n",
       "      <td>355</td>\n",
       "      <td>25</td>\n",
       "    </tr>\n",
       "    <tr>\n",
       "      <th>2</th>\n",
       "      <td>1990</td>\n",
       "      <td>Subaru</td>\n",
       "      <td>XT</td>\n",
       "      <td>1.8</td>\n",
       "      <td>4</td>\n",
       "      <td>Manual</td>\n",
       "      <td>5</td>\n",
       "      <td>Regular Gasoline</td>\n",
       "      <td>355</td>\n",
       "      <td>25</td>\n",
       "    </tr>\n",
       "    <tr>\n",
       "      <th>3</th>\n",
       "      <td>1988</td>\n",
       "      <td>Subaru</td>\n",
       "      <td>XT</td>\n",
       "      <td>1.8</td>\n",
       "      <td>4</td>\n",
       "      <td>Manual</td>\n",
       "      <td>5</td>\n",
       "      <td>Regular Gasoline</td>\n",
       "      <td>355</td>\n",
       "      <td>25</td>\n",
       "    </tr>\n",
       "    <tr>\n",
       "      <th>4</th>\n",
       "      <td>1987</td>\n",
       "      <td>Subaru</td>\n",
       "      <td>XT</td>\n",
       "      <td>1.8</td>\n",
       "      <td>4</td>\n",
       "      <td>Manual</td>\n",
       "      <td>5</td>\n",
       "      <td>Regular Gasoline</td>\n",
       "      <td>355</td>\n",
       "      <td>25</td>\n",
       "    </tr>\n",
       "    <tr>\n",
       "      <th>5</th>\n",
       "      <td>1987</td>\n",
       "      <td>Subaru</td>\n",
       "      <td>XT</td>\n",
       "      <td>1.8</td>\n",
       "      <td>4</td>\n",
       "      <td>Manual</td>\n",
       "      <td>5</td>\n",
       "      <td>Regular Gasoline</td>\n",
       "      <td>355</td>\n",
       "      <td>25</td>\n",
       "    </tr>\n",
       "    <tr>\n",
       "      <th>6</th>\n",
       "      <td>1986</td>\n",
       "      <td>Subaru</td>\n",
       "      <td>XT</td>\n",
       "      <td>1.8</td>\n",
       "      <td>4</td>\n",
       "      <td>Manual</td>\n",
       "      <td>5</td>\n",
       "      <td>Regular Gasoline</td>\n",
       "      <td>355</td>\n",
       "      <td>25</td>\n",
       "    </tr>\n",
       "    <tr>\n",
       "      <th>7</th>\n",
       "      <td>1985</td>\n",
       "      <td>Subaru</td>\n",
       "      <td>XT</td>\n",
       "      <td>1.8</td>\n",
       "      <td>4</td>\n",
       "      <td>Manual</td>\n",
       "      <td>5</td>\n",
       "      <td>Regular Gasoline</td>\n",
       "      <td>355</td>\n",
       "      <td>25</td>\n",
       "    </tr>\n",
       "    <tr>\n",
       "      <th>8</th>\n",
       "      <td>1988</td>\n",
       "      <td>Subaru</td>\n",
       "      <td>XT-DL</td>\n",
       "      <td>1.8</td>\n",
       "      <td>4</td>\n",
       "      <td>Manual</td>\n",
       "      <td>5</td>\n",
       "      <td>Regular Gasoline</td>\n",
       "      <td>355</td>\n",
       "      <td>25</td>\n",
       "    </tr>\n",
       "    <tr>\n",
       "      <th>9</th>\n",
       "      <td>1987</td>\n",
       "      <td>Subaru</td>\n",
       "      <td>XT-DL</td>\n",
       "      <td>1.8</td>\n",
       "      <td>4</td>\n",
       "      <td>Manual</td>\n",
       "      <td>5</td>\n",
       "      <td>Regular Gasoline</td>\n",
       "      <td>355</td>\n",
       "      <td>25</td>\n",
       "    </tr>\n",
       "  </tbody>\n",
       "</table>\n",
       "</div>"
      ],
      "text/plain": [
       "   year    make  model  capacity_liters  cylinders transmission trans_speed  \\\n",
       "0  1985  Subaru  XT-DL              1.8          4       Manual           5   \n",
       "1  1991  Subaru     XT              1.8          4       Manual           5   \n",
       "2  1990  Subaru     XT              1.8          4       Manual           5   \n",
       "3  1988  Subaru     XT              1.8          4       Manual           5   \n",
       "4  1987  Subaru     XT              1.8          4       Manual           5   \n",
       "5  1987  Subaru     XT              1.8          4       Manual           5   \n",
       "6  1986  Subaru     XT              1.8          4       Manual           5   \n",
       "7  1985  Subaru     XT              1.8          4       Manual           5   \n",
       "8  1988  Subaru  XT-DL              1.8          4       Manual           5   \n",
       "9  1987  Subaru  XT-DL              1.8          4       Manual           5   \n",
       "\n",
       "           fuel_type  gg_emissions  mpg  \n",
       "0   Regular Gasoline           355   25  \n",
       "1   Regular Gasoline           355   25  \n",
       "2   Regular Gasoline           355   25  \n",
       "3   Regular Gasoline           355   25  \n",
       "4   Regular Gasoline           355   25  \n",
       "5   Regular Gasoline           355   25  \n",
       "6   Regular Gasoline           355   25  \n",
       "7   Regular Gasoline           355   25  \n",
       "8   Regular Gasoline           355   25  \n",
       "9   Regular Gasoline           355   25  "
      ]
     },
     "execution_count": 27,
     "metadata": {},
     "output_type": "execute_result"
    }
   ],
   "source": [
    "# Test area for each url with [carmake]_urls[index]\n",
    "# by seeing if data appears correctly\n",
    "\n",
    "make_model_df('Subaru',subaru_urls[20])"
   ]
  },
  {
   "cell_type": "markdown",
   "metadata": {},
   "source": [
    "-"
   ]
  },
  {
   "cell_type": "markdown",
   "metadata": {},
   "source": [
    "Populate this section so if there are any 'problem' URLs from your test above"
   ]
  },
  {
   "cell_type": "code",
   "execution_count": 28,
   "metadata": {},
   "outputs": [
    {
     "data": {
      "text/plain": [
       "21"
      ]
     },
     "execution_count": 28,
     "metadata": {},
     "output_type": "execute_result"
    }
   ],
   "source": [
    "#'Problem' URLs\n",
    "'''\n",
    "subaru_urls[4]\n",
    "subaru_urls[14]\n",
    "'''\n",
    "\n",
    "#Print list length again to \n",
    "#set length of range in next cell\n",
    "len(subaru_urls)"
   ]
  },
  {
   "cell_type": "markdown",
   "metadata": {},
   "source": [
    "-"
   ]
  },
  {
   "cell_type": "markdown",
   "metadata": {},
   "source": [
    "**Step #4:** Create dfs for all 'okay' urls and place each into a master list\n",
    "- Automate where possible, but some may need to be added one by one to avoid 'problem' urls"
   ]
  },
  {
   "cell_type": "code",
   "execution_count": 29,
   "metadata": {
    "scrolled": true
   },
   "outputs": [],
   "source": [
    "# for 'normal' urls to make a df and add to master df list, automate it!\n",
    "\n",
    "subaru_dfs = []\n",
    "\n",
    "for x in range(0,4):\n",
    "    subaru_dfs.append(make_model_df('Subaru',subaru_urls[x]))\n",
    "\n",
    "for x in range(5,14):\n",
    "    subaru_dfs.append(make_model_df('Subaru',subaru_urls[x]))\n",
    "\n",
    "for x in range(15,21):\n",
    "    subaru_dfs.append(make_model_df('Subaru',subaru_urls[x]))\n",
    "    \n",
    "\n"
   ]
  },
  {
   "cell_type": "markdown",
   "metadata": {},
   "source": [
    "-"
   ]
  },
  {
   "cell_type": "markdown",
   "metadata": {},
   "source": [
    "**Step #5:** Concatenate all of the 'normal' car model dfs into one master dataframe"
   ]
  },
  {
   "cell_type": "code",
   "execution_count": 30,
   "metadata": {
    "scrolled": true
   },
   "outputs": [
    {
     "data": {
      "text/html": [
       "<div>\n",
       "<style scoped>\n",
       "    .dataframe tbody tr th:only-of-type {\n",
       "        vertical-align: middle;\n",
       "    }\n",
       "\n",
       "    .dataframe tbody tr th {\n",
       "        vertical-align: top;\n",
       "    }\n",
       "\n",
       "    .dataframe thead th {\n",
       "        text-align: right;\n",
       "    }\n",
       "</style>\n",
       "<table border=\"1\" class=\"dataframe\">\n",
       "  <thead>\n",
       "    <tr style=\"text-align: right;\">\n",
       "      <th></th>\n",
       "      <th>year</th>\n",
       "      <th>make</th>\n",
       "      <th>model</th>\n",
       "      <th>capacity_liters</th>\n",
       "      <th>cylinders</th>\n",
       "      <th>transmission</th>\n",
       "      <th>trans_speed</th>\n",
       "      <th>fuel_type</th>\n",
       "      <th>gg_emissions</th>\n",
       "      <th>mpg</th>\n",
       "    </tr>\n",
       "  </thead>\n",
       "  <tbody>\n",
       "    <tr>\n",
       "      <th>0</th>\n",
       "      <td>2021</td>\n",
       "      <td>Subaru</td>\n",
       "      <td>Ascent</td>\n",
       "      <td>2.4</td>\n",
       "      <td>4</td>\n",
       "      <td>Automatic</td>\n",
       "      <td>AV-S8</td>\n",
       "      <td>Regular Gasoline</td>\n",
       "      <td>386</td>\n",
       "      <td>23</td>\n",
       "    </tr>\n",
       "    <tr>\n",
       "      <th>1</th>\n",
       "      <td>2020</td>\n",
       "      <td>Subaru</td>\n",
       "      <td>Ascent</td>\n",
       "      <td>2.4</td>\n",
       "      <td>4</td>\n",
       "      <td>Automatic</td>\n",
       "      <td>AV-S8</td>\n",
       "      <td>Regular Gasoline</td>\n",
       "      <td>386</td>\n",
       "      <td>23</td>\n",
       "    </tr>\n",
       "    <tr>\n",
       "      <th>2</th>\n",
       "      <td>2019</td>\n",
       "      <td>Subaru</td>\n",
       "      <td>Ascent</td>\n",
       "      <td>2.4</td>\n",
       "      <td>4</td>\n",
       "      <td>Automatic</td>\n",
       "      <td>AV-S8</td>\n",
       "      <td>Regular Gasoline</td>\n",
       "      <td>387</td>\n",
       "      <td>23</td>\n",
       "    </tr>\n",
       "    <tr>\n",
       "      <th>3</th>\n",
       "      <td>2021</td>\n",
       "      <td>Subaru</td>\n",
       "      <td>Ascent Limited/Touring</td>\n",
       "      <td>2.4</td>\n",
       "      <td>4</td>\n",
       "      <td>Automatic</td>\n",
       "      <td>AV-S8</td>\n",
       "      <td>Regular Gasoline</td>\n",
       "      <td>401</td>\n",
       "      <td>22</td>\n",
       "    </tr>\n",
       "    <tr>\n",
       "      <th>4</th>\n",
       "      <td>2020</td>\n",
       "      <td>Subaru</td>\n",
       "      <td>Ascent Limited/Touring</td>\n",
       "      <td>2.4</td>\n",
       "      <td>4</td>\n",
       "      <td>Automatic</td>\n",
       "      <td>AV-S8</td>\n",
       "      <td>Regular Gasoline</td>\n",
       "      <td>401</td>\n",
       "      <td>22</td>\n",
       "    </tr>\n",
       "    <tr>\n",
       "      <th>...</th>\n",
       "      <td>...</td>\n",
       "      <td>...</td>\n",
       "      <td>...</td>\n",
       "      <td>...</td>\n",
       "      <td>...</td>\n",
       "      <td>...</td>\n",
       "      <td>...</td>\n",
       "      <td>...</td>\n",
       "      <td>...</td>\n",
       "      <td>...</td>\n",
       "    </tr>\n",
       "    <tr>\n",
       "      <th>171</th>\n",
       "      <td>1987</td>\n",
       "      <td>Subaru</td>\n",
       "      <td>XT</td>\n",
       "      <td>1.8</td>\n",
       "      <td>4</td>\n",
       "      <td>Manual</td>\n",
       "      <td>5</td>\n",
       "      <td>Regular Gasoline</td>\n",
       "      <td>355</td>\n",
       "      <td>25</td>\n",
       "    </tr>\n",
       "    <tr>\n",
       "      <th>172</th>\n",
       "      <td>1986</td>\n",
       "      <td>Subaru</td>\n",
       "      <td>XT</td>\n",
       "      <td>1.8</td>\n",
       "      <td>4</td>\n",
       "      <td>Manual</td>\n",
       "      <td>5</td>\n",
       "      <td>Regular Gasoline</td>\n",
       "      <td>355</td>\n",
       "      <td>25</td>\n",
       "    </tr>\n",
       "    <tr>\n",
       "      <th>173</th>\n",
       "      <td>1985</td>\n",
       "      <td>Subaru</td>\n",
       "      <td>XT</td>\n",
       "      <td>1.8</td>\n",
       "      <td>4</td>\n",
       "      <td>Manual</td>\n",
       "      <td>5</td>\n",
       "      <td>Regular Gasoline</td>\n",
       "      <td>355</td>\n",
       "      <td>25</td>\n",
       "    </tr>\n",
       "    <tr>\n",
       "      <th>174</th>\n",
       "      <td>1988</td>\n",
       "      <td>Subaru</td>\n",
       "      <td>XT-DL</td>\n",
       "      <td>1.8</td>\n",
       "      <td>4</td>\n",
       "      <td>Manual</td>\n",
       "      <td>5</td>\n",
       "      <td>Regular Gasoline</td>\n",
       "      <td>355</td>\n",
       "      <td>25</td>\n",
       "    </tr>\n",
       "    <tr>\n",
       "      <th>175</th>\n",
       "      <td>1987</td>\n",
       "      <td>Subaru</td>\n",
       "      <td>XT-DL</td>\n",
       "      <td>1.8</td>\n",
       "      <td>4</td>\n",
       "      <td>Manual</td>\n",
       "      <td>5</td>\n",
       "      <td>Regular Gasoline</td>\n",
       "      <td>355</td>\n",
       "      <td>25</td>\n",
       "    </tr>\n",
       "  </tbody>\n",
       "</table>\n",
       "<p>176 rows × 10 columns</p>\n",
       "</div>"
      ],
      "text/plain": [
       "     year    make                   model  capacity_liters  cylinders  \\\n",
       "0    2021  Subaru                  Ascent              2.4          4   \n",
       "1    2020  Subaru                  Ascent              2.4          4   \n",
       "2    2019  Subaru                  Ascent              2.4          4   \n",
       "3    2021  Subaru  Ascent Limited/Touring              2.4          4   \n",
       "4    2020  Subaru  Ascent Limited/Touring              2.4          4   \n",
       "..    ...     ...                     ...              ...        ...   \n",
       "171  1987  Subaru                      XT              1.8          4   \n",
       "172  1986  Subaru                      XT              1.8          4   \n",
       "173  1985  Subaru                      XT              1.8          4   \n",
       "174  1988  Subaru                   XT-DL              1.8          4   \n",
       "175  1987  Subaru                   XT-DL              1.8          4   \n",
       "\n",
       "    transmission trans_speed          fuel_type  gg_emissions  mpg  \n",
       "0      Automatic       AV-S8   Regular Gasoline           386   23  \n",
       "1      Automatic       AV-S8   Regular Gasoline           386   23  \n",
       "2      Automatic       AV-S8   Regular Gasoline           387   23  \n",
       "3      Automatic       AV-S8   Regular Gasoline           401   22  \n",
       "4      Automatic       AV-S8   Regular Gasoline           401   22  \n",
       "..           ...         ...                ...           ...  ...  \n",
       "171       Manual           5   Regular Gasoline           355   25  \n",
       "172       Manual           5   Regular Gasoline           355   25  \n",
       "173       Manual           5   Regular Gasoline           355   25  \n",
       "174       Manual           5   Regular Gasoline           355   25  \n",
       "175       Manual           5   Regular Gasoline           355   25  \n",
       "\n",
       "[176 rows x 10 columns]"
      ]
     },
     "execution_count": 30,
     "metadata": {},
     "output_type": "execute_result"
    }
   ],
   "source": [
    "subaru_dfs = pd.concat(subaru_dfs, ignore_index=True)\n",
    "\n",
    "subaru_dfs"
   ]
  },
  {
   "cell_type": "markdown",
   "metadata": {},
   "source": [
    "-"
   ]
  },
  {
   "cell_type": "markdown",
   "metadata": {},
   "source": [
    "**Step #6:** Pickle the dataframe made in Step 6 of all car's models with 'normal' dataframes\n",
    "- Will now be saved so further work on dataframe can start at this place"
   ]
  },
  {
   "cell_type": "code",
   "execution_count": 33,
   "metadata": {},
   "outputs": [],
   "source": [
    "with open('pickles/subaru_dfs.pickle', 'wb') as to_write:\n",
    "    pickle.dump(subaru_dfs, to_write)"
   ]
  },
  {
   "cell_type": "markdown",
   "metadata": {},
   "source": [
    "-"
   ]
  },
  {
   "cell_type": "markdown",
   "metadata": {},
   "source": [
    "**Step #7:** Un-pickle the dataframe made in Step 7 of all car's models with 'normal' dataframes"
   ]
  },
  {
   "cell_type": "code",
   "execution_count": 34,
   "metadata": {},
   "outputs": [],
   "source": [
    "with open('pickles/subaru_dfs.pickle','rb') as read_file:\n",
    "    subaru_dfs = pickle.load(read_file)"
   ]
  },
  {
   "cell_type": "code",
   "execution_count": null,
   "metadata": {},
   "outputs": [],
   "source": []
  }
 ],
 "metadata": {
  "kernelspec": {
   "display_name": "Python 3",
   "language": "python",
   "name": "python3"
  },
  "language_info": {
   "codemirror_mode": {
    "name": "ipython",
    "version": 3
   },
   "file_extension": ".py",
   "mimetype": "text/x-python",
   "name": "python",
   "nbconvert_exporter": "python",
   "pygments_lexer": "ipython3",
   "version": "3.7.4"
  }
 },
 "nbformat": 4,
 "nbformat_minor": 2
}
