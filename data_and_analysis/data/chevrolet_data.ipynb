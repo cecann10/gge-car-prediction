{
 "cells": [
  {
   "cell_type": "code",
   "execution_count": 3,
   "metadata": {},
   "outputs": [],
   "source": [
    "import requests\n",
    "from requests import get\n",
    "from bs4 import BeautifulSoup\n",
    "import pandas as pd\n",
    "import numpy as np\n",
    "import pickle"
   ]
  },
  {
   "cell_type": "markdown",
   "metadata": {},
   "source": [
    "### Import functions unique to this project"
   ]
  },
  {
   "cell_type": "code",
   "execution_count": 4,
   "metadata": {},
   "outputs": [],
   "source": [
    "from master_functions import get_car_urls\n",
    "from master_functions import make_model_df"
   ]
  },
  {
   "cell_type": "markdown",
   "metadata": {},
   "source": [
    "## CHEVROLET - Create master dataframe for all Chevrolet models"
   ]
  },
  {
   "cell_type": "markdown",
   "metadata": {},
   "source": [
    "This worksheet is intended to build a datafame for all **Chevrolet** cars.  There are some 'quirks' in how the data is structured from its source on https://www.fueleconomy.gov/, so more manual steps are taken below to check files for issues, combine first what is 'normal' and then add in those that required special attention."
   ]
  },
  {
   "cell_type": "markdown",
   "metadata": {},
   "source": [
    "**Step #1:** Create unique urls for every Chevrolet model for the years 1984 - 2021<br>\n",
    "- Uses `get_car_urls` from master function, Inputs: (car_make, [list of all models])"
   ]
  },
  {
   "cell_type": "code",
   "execution_count": 5,
   "metadata": {},
   "outputs": [],
   "source": [
    "chevrolet_urls = get_car_urls('Chevrolet',\n",
    "                              ['Astro Cargo','Astro Passenger','Avalanche',\n",
    "                               'Aveo','Beretta','Blazer','Bolt EV','C10 Pickup',\n",
    "                               'C20 Pickup','C2500 Pickup','Camaro','Caprice',\n",
    "                               'Captiva','Cavalier','Celebrity','Chevette',\n",
    "                               'City Express Cargo Van','Classic',\n",
    "                               'Coachbuilder Wagon','Cobalt','Colorado','Corsica',\n",
    "                               'Corvette','Cruze','El Camino Pickup','Epica',\n",
    "                               'Equinox','Express Cargo','Express Passenger',\n",
    "                               'G10/20 Van','G30 Van','HHR','Impala','Impala/Caprice'\n",
    "                               'K10 Pickup','K1500 Pickup','K20 Pickup','K2500 Pickup',\n",
    "                               'Lumina','Lumina Minivan','Lumina/APV Minivan',\n",
    "                               'Lumina/Monte Carlo','Malibu','Metro','Monte Carlo',\n",
    "                               'Nova','Optra','Pickup 2500','Postal Cab Chassis',\n",
    "                               'Prizm','R10 Pickup','S10 Cab Chassis','S10 Pickup',\n",
    "                               'S10 Utility Body','Silverado','Sonic','Spark',\n",
    "                               'Spectrum','Sport Van','Sprint','SS','SSR Pickup',\n",
    "                               'Suburban','Tahoe','Tracker','TrailBlazer',\n",
    "                               'Traverse','Trax','Uplander','V20 Pickup',\n",
    "                               'Van 15/25 Conversion','Van 1500','Van 1500/2500',\n",
    "                               'Venture','Volt'\n",
    "                              ])"
   ]
  },
  {
   "cell_type": "markdown",
   "metadata": {},
   "source": [
    "-"
   ]
  },
  {
   "cell_type": "markdown",
   "metadata": {},
   "source": [
    "**Step #2:** Get length of list created in Step 1.  This number will be how many times you run the function in Step 3 to check all of the urls<br>"
   ]
  },
  {
   "cell_type": "code",
   "execution_count": 6,
   "metadata": {
    "scrolled": false
   },
   "outputs": [
    {
     "data": {
      "text/plain": [
       "74"
      ]
     },
     "execution_count": 6,
     "metadata": {},
     "output_type": "execute_result"
    }
   ],
   "source": [
    "# Verify number of urls and use this number\n",
    "# to know how many urls need to 'check below'\n",
    "\n",
    "len(chevrolet_urls)"
   ]
  },
  {
   "cell_type": "markdown",
   "metadata": {},
   "source": [
    "-"
   ]
  },
  {
   "cell_type": "markdown",
   "metadata": {},
   "source": [
    "**Step #3:** Check all of the urls you just created.<br>\n",
    "- If works, add to `chevrolet_okay_modelranks` list in Step 4\n",
    "- If does not work, add to 'problem' URLs string in Step 4"
   ]
  },
  {
   "cell_type": "code",
   "execution_count": 89,
   "metadata": {},
   "outputs": [
    {
     "data": {
      "text/html": [
       "<div>\n",
       "<style scoped>\n",
       "    .dataframe tbody tr th:only-of-type {\n",
       "        vertical-align: middle;\n",
       "    }\n",
       "\n",
       "    .dataframe tbody tr th {\n",
       "        vertical-align: top;\n",
       "    }\n",
       "\n",
       "    .dataframe thead th {\n",
       "        text-align: right;\n",
       "    }\n",
       "</style>\n",
       "<table border=\"1\" class=\"dataframe\">\n",
       "  <thead>\n",
       "    <tr style=\"text-align: right;\">\n",
       "      <th></th>\n",
       "      <th>year</th>\n",
       "      <th>make</th>\n",
       "      <th>model</th>\n",
       "      <th>capacity_liters</th>\n",
       "      <th>cylinders</th>\n",
       "      <th>transmission</th>\n",
       "      <th>trans_speed</th>\n",
       "      <th>fuel_type</th>\n",
       "      <th>gg_emissions</th>\n",
       "      <th>mpg</th>\n",
       "    </tr>\n",
       "  </thead>\n",
       "  <tbody>\n",
       "    <tr>\n",
       "      <th>0</th>\n",
       "      <td>1986</td>\n",
       "      <td>Chevrolet</td>\n",
       "      <td>Astro 2WD (cargo)</td>\n",
       "      <td>2.5</td>\n",
       "      <td>4</td>\n",
       "      <td>Manual</td>\n",
       "      <td>5</td>\n",
       "      <td>Regular Gasoline</td>\n",
       "      <td>404</td>\n",
       "      <td>22</td>\n",
       "    </tr>\n",
       "    <tr>\n",
       "      <th>1</th>\n",
       "      <td>1988</td>\n",
       "      <td>Chevrolet</td>\n",
       "      <td>Astro 2WD (cargo)</td>\n",
       "      <td>2.5</td>\n",
       "      <td>4</td>\n",
       "      <td>Manual</td>\n",
       "      <td>5</td>\n",
       "      <td>Regular Gasoline</td>\n",
       "      <td>404</td>\n",
       "      <td>22</td>\n",
       "    </tr>\n",
       "    <tr>\n",
       "      <th>2</th>\n",
       "      <td>1985</td>\n",
       "      <td>Chevrolet</td>\n",
       "      <td>Astro 2WD (cargo)</td>\n",
       "      <td>2.5</td>\n",
       "      <td>4</td>\n",
       "      <td>Manual</td>\n",
       "      <td>5</td>\n",
       "      <td>Regular Gasoline</td>\n",
       "      <td>404</td>\n",
       "      <td>22</td>\n",
       "    </tr>\n",
       "    <tr>\n",
       "      <th>3</th>\n",
       "      <td>1987</td>\n",
       "      <td>Chevrolet</td>\n",
       "      <td>Astro 2WD (cargo)</td>\n",
       "      <td>2.5</td>\n",
       "      <td>4</td>\n",
       "      <td>Manual</td>\n",
       "      <td>5</td>\n",
       "      <td>Regular Gasoline</td>\n",
       "      <td>423</td>\n",
       "      <td>21</td>\n",
       "    </tr>\n",
       "    <tr>\n",
       "      <th>4</th>\n",
       "      <td>1985</td>\n",
       "      <td>Chevrolet</td>\n",
       "      <td>Astro 2WD (cargo)</td>\n",
       "      <td>2.5</td>\n",
       "      <td>4</td>\n",
       "      <td>Manual</td>\n",
       "      <td>4</td>\n",
       "      <td>Regular Gasoline</td>\n",
       "      <td>423</td>\n",
       "      <td>21</td>\n",
       "    </tr>\n",
       "    <tr>\n",
       "      <th>5</th>\n",
       "      <td>1985</td>\n",
       "      <td>Chevrolet</td>\n",
       "      <td>Astro 2WD (cargo)</td>\n",
       "      <td>2.5</td>\n",
       "      <td>4</td>\n",
       "      <td>Manual</td>\n",
       "      <td>4</td>\n",
       "      <td>Regular Gasoline</td>\n",
       "      <td>444</td>\n",
       "      <td>20</td>\n",
       "    </tr>\n",
       "    <tr>\n",
       "      <th>6</th>\n",
       "      <td>1990</td>\n",
       "      <td>Chevrolet</td>\n",
       "      <td>Astro 2WD (cargo)</td>\n",
       "      <td>2.5</td>\n",
       "      <td>4</td>\n",
       "      <td>Manual</td>\n",
       "      <td>5</td>\n",
       "      <td>Regular Gasoline</td>\n",
       "      <td>444</td>\n",
       "      <td>20</td>\n",
       "    </tr>\n",
       "    <tr>\n",
       "      <th>7</th>\n",
       "      <td>1989</td>\n",
       "      <td>Chevrolet</td>\n",
       "      <td>Astro 2WD (cargo)</td>\n",
       "      <td>2.5</td>\n",
       "      <td>4</td>\n",
       "      <td>Manual</td>\n",
       "      <td>5</td>\n",
       "      <td>Regular Gasoline</td>\n",
       "      <td>444</td>\n",
       "      <td>20</td>\n",
       "    </tr>\n",
       "    <tr>\n",
       "      <th>8</th>\n",
       "      <td>1986</td>\n",
       "      <td>Chevrolet</td>\n",
       "      <td>Astro 2WD (cargo)</td>\n",
       "      <td>2.5</td>\n",
       "      <td>4</td>\n",
       "      <td>Automatic</td>\n",
       "      <td>4</td>\n",
       "      <td>Regular Gasoline</td>\n",
       "      <td>444</td>\n",
       "      <td>20</td>\n",
       "    </tr>\n",
       "    <tr>\n",
       "      <th>9</th>\n",
       "      <td>1986</td>\n",
       "      <td>Chevrolet</td>\n",
       "      <td>Astro 2WD (cargo)</td>\n",
       "      <td>2.5</td>\n",
       "      <td>4</td>\n",
       "      <td>Manual</td>\n",
       "      <td>4</td>\n",
       "      <td>Regular Gasoline</td>\n",
       "      <td>444</td>\n",
       "      <td>20</td>\n",
       "    </tr>\n",
       "  </tbody>\n",
       "</table>\n",
       "</div>"
      ],
      "text/plain": [
       "   year       make              model  capacity_liters  cylinders  \\\n",
       "0  1986  Chevrolet  Astro 2WD (cargo)              2.5          4   \n",
       "1  1988  Chevrolet  Astro 2WD (cargo)              2.5          4   \n",
       "2  1985  Chevrolet  Astro 2WD (cargo)              2.5          4   \n",
       "3  1987  Chevrolet  Astro 2WD (cargo)              2.5          4   \n",
       "4  1985  Chevrolet  Astro 2WD (cargo)              2.5          4   \n",
       "5  1985  Chevrolet  Astro 2WD (cargo)              2.5          4   \n",
       "6  1990  Chevrolet  Astro 2WD (cargo)              2.5          4   \n",
       "7  1989  Chevrolet  Astro 2WD (cargo)              2.5          4   \n",
       "8  1986  Chevrolet  Astro 2WD (cargo)              2.5          4   \n",
       "9  1986  Chevrolet  Astro 2WD (cargo)              2.5          4   \n",
       "\n",
       "  transmission trans_speed          fuel_type  gg_emissions  mpg  \n",
       "0       Manual           5   Regular Gasoline           404   22  \n",
       "1       Manual           5   Regular Gasoline           404   22  \n",
       "2       Manual           5   Regular Gasoline           404   22  \n",
       "3       Manual           5   Regular Gasoline           423   21  \n",
       "4       Manual           4   Regular Gasoline           423   21  \n",
       "5       Manual           4   Regular Gasoline           444   20  \n",
       "6       Manual           5   Regular Gasoline           444   20  \n",
       "7       Manual           5   Regular Gasoline           444   20  \n",
       "8    Automatic           4   Regular Gasoline           444   20  \n",
       "9       Manual           4   Regular Gasoline           444   20  "
      ]
     },
     "execution_count": 89,
     "metadata": {},
     "output_type": "execute_result"
    }
   ],
   "source": [
    "# Test area for each url with audi_urls[index]\n",
    "# by seeing if data appears correctly\n",
    "\n",
    "make_model_df('Chevrolet',chevrolet_urls[0])"
   ]
  },
  {
   "cell_type": "markdown",
   "metadata": {},
   "source": [
    "-"
   ]
  },
  {
   "cell_type": "markdown",
   "metadata": {},
   "source": [
    "**Step #4:** From Step 3 above you should have populated this section so URLs either are in the category of \"problem\" or \"normal\""
   ]
  },
  {
   "cell_type": "code",
   "execution_count": 74,
   "metadata": {},
   "outputs": [
    {
     "ename": "SyntaxError",
     "evalue": "unexpected EOF while parsing (<ipython-input-74-6c2675782959>, line 27)",
     "output_type": "error",
     "traceback": [
      "\u001b[0;36m  File \u001b[0;32m\"<ipython-input-74-6c2675782959>\"\u001b[0;36m, line \u001b[0;32m27\u001b[0m\n\u001b[0;31m    \u001b[0m\n\u001b[0m    ^\u001b[0m\n\u001b[0;31mSyntaxError\u001b[0m\u001b[0;31m:\u001b[0m unexpected EOF while parsing\n"
     ]
    }
   ],
   "source": [
    "#'Problem' URLs\n",
    "'''\n",
    "chevrolet_urls[2]\n",
    "chevrolet_urls[6]\n",
    "chevrolet_urls[12]\n",
    "chevrolet_urls[27]\n",
    "chevrolet_urls[31]\n",
    "chevrolet_urls[32]\n",
    "chevrolet_urls[43]\n",
    "chevrolet_urls[51]\n",
    "chevrolet_urls[55]\n",
    "chevrolet_urls[61]\n",
    "chevrolet_urls[67]\n",
    "chevrolet_urls[70]\n",
    "chevrolet_urls[71]\n",
    "chevrolet_urls[73]\n",
    "chevrolet_urls[74]\n",
    "\n",
    "'''\n",
    "\n",
    "#'Normal' URLs\n",
    "\n",
    "chevrolet_okay_modelranks = [0,1,3,4,5,7,8,9,\n",
    "                             10,11,12,13,14,15,\n",
    "                             16,17,18,19,20,21,\n",
    "                             22,23,24,25,26,28,\n",
    "                             29,30,31,32,33,34,\n",
    "                             35,36,37,38,39,40,\n",
    "                             41,42,43,44,45,46,\n",
    "                             47,48,49,50,52,53,\n",
    "                             54,56,57,58,59,60,\n",
    "                             62,63,64,65,66,68,\n",
    "                             69,\n",
    "                             "
   ]
  },
  {
   "cell_type": "markdown",
   "metadata": {},
   "source": [
    "-"
   ]
  },
  {
   "cell_type": "markdown",
   "metadata": {},
   "source": [
    "**Step #5:** Create dfs for all 'okay' urls and place each into a master list\n",
    "- Automate where possible, but some may need to be added one by one to avoid 'problem' urls"
   ]
  },
  {
   "cell_type": "code",
   "execution_count": 90,
   "metadata": {
    "scrolled": true
   },
   "outputs": [],
   "source": [
    "# for 'normal' urls to make a df and add to master df list, automate it!\n",
    "\n",
    "chevrolet_dfs = []\n",
    "\n",
    "for x in range(0,2):\n",
    "    chevrolet_dfs.append(make_model_df('Chevrolet',chevrolet_urls[x]))\n",
    "    \n",
    "for x in range(3,6):\n",
    "    chevrolet_dfs.append(make_model_df('Chevrolet',chevrolet_urls[x]))\n",
    "    \n",
    "for x in range(7,12):\n",
    "    chevrolet_dfs.append(make_model_df('Chevrolet',chevrolet_urls[x]))\n",
    "\n",
    "for x in range(13,27):\n",
    "    chevrolet_dfs.append(make_model_df('Chevrolet',chevrolet_urls[x]))\n",
    "    \n",
    "for x in range(28,31):\n",
    "    chevrolet_dfs.append(make_model_df('Chevrolet',chevrolet_urls[x]))\n",
    "    \n",
    "for x in range(33,43):\n",
    "    chevrolet_dfs.append(make_model_df('Chevrolet',chevrolet_urls[x]))\n",
    "    \n",
    "for x in range(44,51):\n",
    "    chevrolet_dfs.append(make_model_df('Chevrolet',chevrolet_urls[x]))\n",
    "    \n",
    "for x in range(52,55):\n",
    "    chevrolet_dfs.append(make_model_df('Chevrolet',chevrolet_urls[x]))\n",
    "    \n",
    "for x in range(56,61):\n",
    "    chevrolet_dfs.append(make_model_df('Chevrolet',chevrolet_urls[x]))\n",
    "    \n",
    "for x in range(62,67):\n",
    "    chevrolet_dfs.append(make_model_df('Chevrolet',chevrolet_urls[x]))\n",
    "    \n",
    "for x in range(68,70):\n",
    "    chevrolet_dfs.append(make_model_df('Chevrolet',chevrolet_urls[x]))"
   ]
  },
  {
   "cell_type": "markdown",
   "metadata": {},
   "source": [
    "-"
   ]
  },
  {
   "cell_type": "markdown",
   "metadata": {},
   "source": [
    "**Step #6:** Concatenate all of the 'normal' Chevrolet model dfs into one master dataframe"
   ]
  },
  {
   "cell_type": "code",
   "execution_count": 91,
   "metadata": {
    "scrolled": true
   },
   "outputs": [
    {
     "data": {
      "text/html": [
       "<div>\n",
       "<style scoped>\n",
       "    .dataframe tbody tr th:only-of-type {\n",
       "        vertical-align: middle;\n",
       "    }\n",
       "\n",
       "    .dataframe tbody tr th {\n",
       "        vertical-align: top;\n",
       "    }\n",
       "\n",
       "    .dataframe thead th {\n",
       "        text-align: right;\n",
       "    }\n",
       "</style>\n",
       "<table border=\"1\" class=\"dataframe\">\n",
       "  <thead>\n",
       "    <tr style=\"text-align: right;\">\n",
       "      <th></th>\n",
       "      <th>year</th>\n",
       "      <th>make</th>\n",
       "      <th>model</th>\n",
       "      <th>capacity_liters</th>\n",
       "      <th>cylinders</th>\n",
       "      <th>transmission</th>\n",
       "      <th>trans_speed</th>\n",
       "      <th>fuel_type</th>\n",
       "      <th>gg_emissions</th>\n",
       "      <th>mpg</th>\n",
       "    </tr>\n",
       "  </thead>\n",
       "  <tbody>\n",
       "    <tr>\n",
       "      <th>0</th>\n",
       "      <td>1986.0</td>\n",
       "      <td>Chevrolet</td>\n",
       "      <td>Astro 2WD (cargo)</td>\n",
       "      <td>2.5</td>\n",
       "      <td>4.0</td>\n",
       "      <td>Manual</td>\n",
       "      <td>5</td>\n",
       "      <td>Regular Gasoline</td>\n",
       "      <td>404.0</td>\n",
       "      <td>22.0</td>\n",
       "    </tr>\n",
       "    <tr>\n",
       "      <th>1</th>\n",
       "      <td>1988.0</td>\n",
       "      <td>Chevrolet</td>\n",
       "      <td>Astro 2WD (cargo)</td>\n",
       "      <td>2.5</td>\n",
       "      <td>4.0</td>\n",
       "      <td>Manual</td>\n",
       "      <td>5</td>\n",
       "      <td>Regular Gasoline</td>\n",
       "      <td>404.0</td>\n",
       "      <td>22.0</td>\n",
       "    </tr>\n",
       "    <tr>\n",
       "      <th>2</th>\n",
       "      <td>1985.0</td>\n",
       "      <td>Chevrolet</td>\n",
       "      <td>Astro 2WD (cargo)</td>\n",
       "      <td>2.5</td>\n",
       "      <td>4.0</td>\n",
       "      <td>Manual</td>\n",
       "      <td>5</td>\n",
       "      <td>Regular Gasoline</td>\n",
       "      <td>404.0</td>\n",
       "      <td>22.0</td>\n",
       "    </tr>\n",
       "    <tr>\n",
       "      <th>3</th>\n",
       "      <td>1987.0</td>\n",
       "      <td>Chevrolet</td>\n",
       "      <td>Astro 2WD (cargo)</td>\n",
       "      <td>2.5</td>\n",
       "      <td>4.0</td>\n",
       "      <td>Manual</td>\n",
       "      <td>5</td>\n",
       "      <td>Regular Gasoline</td>\n",
       "      <td>423.0</td>\n",
       "      <td>21.0</td>\n",
       "    </tr>\n",
       "    <tr>\n",
       "      <th>4</th>\n",
       "      <td>1985.0</td>\n",
       "      <td>Chevrolet</td>\n",
       "      <td>Astro 2WD (cargo)</td>\n",
       "      <td>2.5</td>\n",
       "      <td>4.0</td>\n",
       "      <td>Manual</td>\n",
       "      <td>4</td>\n",
       "      <td>Regular Gasoline</td>\n",
       "      <td>423.0</td>\n",
       "      <td>21.0</td>\n",
       "    </tr>\n",
       "    <tr>\n",
       "      <th>...</th>\n",
       "      <td>...</td>\n",
       "      <td>...</td>\n",
       "      <td>...</td>\n",
       "      <td>...</td>\n",
       "      <td>...</td>\n",
       "      <td>...</td>\n",
       "      <td>...</td>\n",
       "      <td>...</td>\n",
       "      <td>...</td>\n",
       "      <td>...</td>\n",
       "    </tr>\n",
       "    <tr>\n",
       "      <th>514</th>\n",
       "      <td>2006.0</td>\n",
       "      <td>Chevrolet</td>\n",
       "      <td>Van 15/25 2WD Conversion</td>\n",
       "      <td>4.3</td>\n",
       "      <td>6.0</td>\n",
       "      <td>Automatic</td>\n",
       "      <td>4</td>\n",
       "      <td>Regular Gasoline</td>\n",
       "      <td>635.0</td>\n",
       "      <td>14.0</td>\n",
       "    </tr>\n",
       "    <tr>\n",
       "      <th>515</th>\n",
       "      <td>2006.0</td>\n",
       "      <td>Chevrolet</td>\n",
       "      <td>Van 15/25 2WD Conversion</td>\n",
       "      <td>5.3</td>\n",
       "      <td>8.0</td>\n",
       "      <td>Automatic</td>\n",
       "      <td>4</td>\n",
       "      <td>Regular Gasoline</td>\n",
       "      <td>635.0</td>\n",
       "      <td>14.0</td>\n",
       "    </tr>\n",
       "    <tr>\n",
       "      <th>516</th>\n",
       "      <td>2005.0</td>\n",
       "      <td>Chevrolet</td>\n",
       "      <td>Van 15/25 2WD Conversion</td>\n",
       "      <td>4.3</td>\n",
       "      <td>6.0</td>\n",
       "      <td>Automatic</td>\n",
       "      <td>4</td>\n",
       "      <td>Regular Gasoline</td>\n",
       "      <td>635.0</td>\n",
       "      <td>14.0</td>\n",
       "    </tr>\n",
       "    <tr>\n",
       "      <th>517</th>\n",
       "      <td>2003.0</td>\n",
       "      <td>Chevrolet</td>\n",
       "      <td>Van 15/25 2WD Conversion</td>\n",
       "      <td>5.3</td>\n",
       "      <td>8.0</td>\n",
       "      <td>Automatic</td>\n",
       "      <td>4</td>\n",
       "      <td>Regular Gasoline</td>\n",
       "      <td>635.0</td>\n",
       "      <td>14.0</td>\n",
       "    </tr>\n",
       "    <tr>\n",
       "      <th>518</th>\n",
       "      <td>2008.0</td>\n",
       "      <td>Chevrolet</td>\n",
       "      <td>Van 15/25 2WD Conversion</td>\n",
       "      <td>5.3</td>\n",
       "      <td>8.0</td>\n",
       "      <td>Automatic</td>\n",
       "      <td>4</td>\n",
       "      <td>Regular Gasoline</td>\n",
       "      <td>635.0</td>\n",
       "      <td>14.0</td>\n",
       "    </tr>\n",
       "  </tbody>\n",
       "</table>\n",
       "<p>519 rows × 10 columns</p>\n",
       "</div>"
      ],
      "text/plain": [
       "       year       make                     model  capacity_liters  cylinders  \\\n",
       "0    1986.0  Chevrolet         Astro 2WD (cargo)              2.5        4.0   \n",
       "1    1988.0  Chevrolet         Astro 2WD (cargo)              2.5        4.0   \n",
       "2    1985.0  Chevrolet         Astro 2WD (cargo)              2.5        4.0   \n",
       "3    1987.0  Chevrolet         Astro 2WD (cargo)              2.5        4.0   \n",
       "4    1985.0  Chevrolet         Astro 2WD (cargo)              2.5        4.0   \n",
       "..      ...        ...                       ...              ...        ...   \n",
       "514  2006.0  Chevrolet  Van 15/25 2WD Conversion              4.3        6.0   \n",
       "515  2006.0  Chevrolet  Van 15/25 2WD Conversion              5.3        8.0   \n",
       "516  2005.0  Chevrolet  Van 15/25 2WD Conversion              4.3        6.0   \n",
       "517  2003.0  Chevrolet  Van 15/25 2WD Conversion              5.3        8.0   \n",
       "518  2008.0  Chevrolet  Van 15/25 2WD Conversion              5.3        8.0   \n",
       "\n",
       "    transmission trans_speed          fuel_type  gg_emissions   mpg  \n",
       "0         Manual           5   Regular Gasoline         404.0  22.0  \n",
       "1         Manual           5   Regular Gasoline         404.0  22.0  \n",
       "2         Manual           5   Regular Gasoline         404.0  22.0  \n",
       "3         Manual           5   Regular Gasoline         423.0  21.0  \n",
       "4         Manual           4   Regular Gasoline         423.0  21.0  \n",
       "..           ...         ...                ...           ...   ...  \n",
       "514    Automatic           4   Regular Gasoline         635.0  14.0  \n",
       "515    Automatic           4   Regular Gasoline         635.0  14.0  \n",
       "516    Automatic           4   Regular Gasoline         635.0  14.0  \n",
       "517    Automatic           4   Regular Gasoline         635.0  14.0  \n",
       "518    Automatic           4   Regular Gasoline         635.0  14.0  \n",
       "\n",
       "[519 rows x 10 columns]"
      ]
     },
     "execution_count": 91,
     "metadata": {},
     "output_type": "execute_result"
    }
   ],
   "source": [
    "chevrolet_dfs = pd.concat(chevrolet_dfs, ignore_index=True)\n",
    "\n",
    "chevrolet_dfs"
   ]
  },
  {
   "cell_type": "markdown",
   "metadata": {},
   "source": [
    "-"
   ]
  },
  {
   "cell_type": "markdown",
   "metadata": {},
   "source": [
    "**Step #7:** Pickle the dataframe made in Step 6 of all Chevrolet models with 'normal' dataframes\n",
    "- Will now be saved so further work on dataframe can start at this place"
   ]
  },
  {
   "cell_type": "code",
   "execution_count": 92,
   "metadata": {},
   "outputs": [],
   "source": [
    "with open('pickles/chevrolet_dfs.pickle', 'wb') as to_write:\n",
    "    pickle.dump(chevrolet_dfs, to_write)"
   ]
  },
  {
   "cell_type": "markdown",
   "metadata": {},
   "source": [
    "-"
   ]
  },
  {
   "cell_type": "markdown",
   "metadata": {},
   "source": [
    "**Step #8:** Un-pickle the dataframe made in Step 7 of all Chevrolet models with 'normal' dataframes"
   ]
  },
  {
   "cell_type": "code",
   "execution_count": 93,
   "metadata": {},
   "outputs": [],
   "source": [
    "with open('pickles/chevrolet_dfs.pickle','rb') as read_file:\n",
    "    chevrolet_dfs = pickle.load(read_file)"
   ]
  },
  {
   "cell_type": "code",
   "execution_count": null,
   "metadata": {},
   "outputs": [],
   "source": []
  }
 ],
 "metadata": {
  "kernelspec": {
   "display_name": "Python 3",
   "language": "python",
   "name": "python3"
  },
  "language_info": {
   "codemirror_mode": {
    "name": "ipython",
    "version": 3
   },
   "file_extension": ".py",
   "mimetype": "text/x-python",
   "name": "python",
   "nbconvert_exporter": "python",
   "pygments_lexer": "ipython3",
   "version": "3.7.4"
  }
 },
 "nbformat": 4,
 "nbformat_minor": 2
}
