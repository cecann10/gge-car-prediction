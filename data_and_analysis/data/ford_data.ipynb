{
 "cells": [
  {
   "cell_type": "code",
   "execution_count": 1,
   "metadata": {},
   "outputs": [],
   "source": [
    "import requests\n",
    "from requests import get\n",
    "from bs4 import BeautifulSoup\n",
    "import pandas as pd\n",
    "import numpy as np\n",
    "import pickle"
   ]
  },
  {
   "cell_type": "markdown",
   "metadata": {},
   "source": [
    "### Import functions unique to this project"
   ]
  },
  {
   "cell_type": "code",
   "execution_count": 2,
   "metadata": {},
   "outputs": [],
   "source": [
    "from master_functions import get_car_urls\n",
    "from master_functions import make_model_df"
   ]
  },
  {
   "cell_type": "markdown",
   "metadata": {},
   "source": [
    "## FORD - Create master dataframe for all models"
   ]
  },
  {
   "cell_type": "markdown",
   "metadata": {},
   "source": [
    "This worksheet is intended to build a datafame for all **Ford** cars.  There are some 'quirks' in how the data is structured from its source on https://www.fueleconomy.gov/, so more manual steps are taken below to check files for issues, combine first what is 'normal' and then add in those that required special attention."
   ]
  },
  {
   "cell_type": "markdown",
   "metadata": {},
   "source": [
    "**Step #1:** Create unique urls for every car model for the years 1984 - 2021<br>\n",
    "- Uses `get_car_urls` from master function, Inputs: (car_make, [list of all models])"
   ]
  },
  {
   "cell_type": "code",
   "execution_count": 3,
   "metadata": {},
   "outputs": [],
   "source": [
    "ford_urls = get_car_urls('Ford',\n",
    "                         ['Aerostar Van','Aerostar Wagon',\n",
    "                          'Aspire','Bronco','Bronco II',\n",
    "                          'C-MAX','Contour','Crown Victoria',\n",
    "                          'E150 Club Wagon','E150 Econoline',\n",
    "                          'E150 Van','E150 Wagon','E250 Econoline',\n",
    "                          'E250 Van','E350 Van','E350 Wagon',\n",
    "                          'EcoSport','Edge','Escape','Escort',\n",
    "                          'EXP','Expedition','Explorer','F150',\n",
    "                          'F250','Festiva','Fiesta','Five Hundred',\n",
    "                          'Flex','Focus','Freestar','Fusion',\n",
    "                          'GT','Laser','LTD','LTD Crown Victoria',\n",
    "                          'Mustang','Postal Vehicle','Probe',\n",
    "                          'Ranger','Taurus','Tempo','Th!nk',\n",
    "                          'Thunderbird','Transit Connect',\n",
    "                          'Transit T150 Wagon','Windstar'\n",
    "                         ])"
   ]
  },
  {
   "cell_type": "markdown",
   "metadata": {},
   "source": [
    "-"
   ]
  },
  {
   "cell_type": "markdown",
   "metadata": {},
   "source": [
    "**Step #2:** Get length of list created in Step 1.  This number will be how many times you run the function in Step 3 to check all of the urls<br>"
   ]
  },
  {
   "cell_type": "code",
   "execution_count": 4,
   "metadata": {
    "scrolled": false
   },
   "outputs": [
    {
     "data": {
      "text/plain": [
       "47"
      ]
     },
     "execution_count": 4,
     "metadata": {},
     "output_type": "execute_result"
    }
   ],
   "source": [
    "# Verify number of urls and use this number\n",
    "# to know how many urls need to 'check below'\n",
    "\n",
    "len(ford_urls)"
   ]
  },
  {
   "cell_type": "markdown",
   "metadata": {},
   "source": [
    "-"
   ]
  },
  {
   "cell_type": "markdown",
   "metadata": {},
   "source": [
    "**Step #3:** Check all of the urls you just created.<br>\n",
    "- If does not work, add to 'problem' URLs string below this cell"
   ]
  },
  {
   "cell_type": "code",
   "execution_count": 54,
   "metadata": {},
   "outputs": [
    {
     "data": {
      "text/html": [
       "<div>\n",
       "<style scoped>\n",
       "    .dataframe tbody tr th:only-of-type {\n",
       "        vertical-align: middle;\n",
       "    }\n",
       "\n",
       "    .dataframe tbody tr th {\n",
       "        vertical-align: top;\n",
       "    }\n",
       "\n",
       "    .dataframe thead th {\n",
       "        text-align: right;\n",
       "    }\n",
       "</style>\n",
       "<table border=\"1\" class=\"dataframe\">\n",
       "  <thead>\n",
       "    <tr style=\"text-align: right;\">\n",
       "      <th></th>\n",
       "      <th>year</th>\n",
       "      <th>make</th>\n",
       "      <th>model</th>\n",
       "      <th>capacity_liters</th>\n",
       "      <th>cylinders</th>\n",
       "      <th>transmission</th>\n",
       "      <th>trans_speed</th>\n",
       "      <th>fuel_type</th>\n",
       "      <th>gg_emissions</th>\n",
       "      <th>mpg</th>\n",
       "    </tr>\n",
       "  </thead>\n",
       "  <tbody>\n",
       "    <tr>\n",
       "      <th>0</th>\n",
       "      <td>1998</td>\n",
       "      <td>Ford</td>\n",
       "      <td>Windstar FWD Van</td>\n",
       "      <td>3.0</td>\n",
       "      <td>6</td>\n",
       "      <td>Automatic</td>\n",
       "      <td>4</td>\n",
       "      <td>Regular Gasoline</td>\n",
       "      <td>468</td>\n",
       "      <td>19</td>\n",
       "    </tr>\n",
       "    <tr>\n",
       "      <th>1</th>\n",
       "      <td>1995</td>\n",
       "      <td>Ford</td>\n",
       "      <td>Windstar FWD Van</td>\n",
       "      <td>3.0</td>\n",
       "      <td>6</td>\n",
       "      <td>Automatic</td>\n",
       "      <td>4</td>\n",
       "      <td>Regular Gasoline</td>\n",
       "      <td>468</td>\n",
       "      <td>19</td>\n",
       "    </tr>\n",
       "    <tr>\n",
       "      <th>2</th>\n",
       "      <td>1998</td>\n",
       "      <td>Ford</td>\n",
       "      <td>Windstar FWD Wagon</td>\n",
       "      <td>3.0</td>\n",
       "      <td>6</td>\n",
       "      <td>Automatic</td>\n",
       "      <td>4</td>\n",
       "      <td>Regular Gasoline</td>\n",
       "      <td>468</td>\n",
       "      <td>19</td>\n",
       "    </tr>\n",
       "    <tr>\n",
       "      <th>3</th>\n",
       "      <td>1995</td>\n",
       "      <td>Ford</td>\n",
       "      <td>Windstar FWD Wagon</td>\n",
       "      <td>3.0</td>\n",
       "      <td>6</td>\n",
       "      <td>Automatic</td>\n",
       "      <td>4</td>\n",
       "      <td>Regular Gasoline</td>\n",
       "      <td>468</td>\n",
       "      <td>19</td>\n",
       "    </tr>\n",
       "    <tr>\n",
       "      <th>4</th>\n",
       "      <td>2003</td>\n",
       "      <td>Ford</td>\n",
       "      <td>Windstar FWD Cargo Van</td>\n",
       "      <td>3.8</td>\n",
       "      <td>6</td>\n",
       "      <td>Automatic</td>\n",
       "      <td>4</td>\n",
       "      <td>Regular Gasoline</td>\n",
       "      <td>494</td>\n",
       "      <td>18</td>\n",
       "    </tr>\n",
       "    <tr>\n",
       "      <th>5</th>\n",
       "      <td>2001</td>\n",
       "      <td>Ford</td>\n",
       "      <td>Windstar FWD Van</td>\n",
       "      <td>3.8</td>\n",
       "      <td>6</td>\n",
       "      <td>Automatic</td>\n",
       "      <td>4</td>\n",
       "      <td>Regular Gasoline</td>\n",
       "      <td>494</td>\n",
       "      <td>18</td>\n",
       "    </tr>\n",
       "    <tr>\n",
       "      <th>6</th>\n",
       "      <td>1998</td>\n",
       "      <td>Ford</td>\n",
       "      <td>Windstar FWD Van</td>\n",
       "      <td>3.8</td>\n",
       "      <td>6</td>\n",
       "      <td>Automatic</td>\n",
       "      <td>4</td>\n",
       "      <td>Regular Gasoline</td>\n",
       "      <td>494</td>\n",
       "      <td>18</td>\n",
       "    </tr>\n",
       "    <tr>\n",
       "      <th>7</th>\n",
       "      <td>2003</td>\n",
       "      <td>Ford</td>\n",
       "      <td>Windstar FWD Wagon</td>\n",
       "      <td>3.8</td>\n",
       "      <td>6</td>\n",
       "      <td>Automatic</td>\n",
       "      <td>4</td>\n",
       "      <td>Regular Gasoline</td>\n",
       "      <td>494</td>\n",
       "      <td>18</td>\n",
       "    </tr>\n",
       "    <tr>\n",
       "      <th>8</th>\n",
       "      <td>2001</td>\n",
       "      <td>Ford</td>\n",
       "      <td>Windstar FWD Wagon</td>\n",
       "      <td>3.8</td>\n",
       "      <td>6</td>\n",
       "      <td>Automatic</td>\n",
       "      <td>4</td>\n",
       "      <td>Regular Gasoline</td>\n",
       "      <td>494</td>\n",
       "      <td>18</td>\n",
       "    </tr>\n",
       "    <tr>\n",
       "      <th>9</th>\n",
       "      <td>1998</td>\n",
       "      <td>Ford</td>\n",
       "      <td>Windstar FWD Wagon</td>\n",
       "      <td>3.8</td>\n",
       "      <td>6</td>\n",
       "      <td>Automatic</td>\n",
       "      <td>4</td>\n",
       "      <td>Regular Gasoline</td>\n",
       "      <td>494</td>\n",
       "      <td>18</td>\n",
       "    </tr>\n",
       "  </tbody>\n",
       "</table>\n",
       "</div>"
      ],
      "text/plain": [
       "   year  make                   model  capacity_liters  cylinders  \\\n",
       "0  1998  Ford        Windstar FWD Van              3.0          6   \n",
       "1  1995  Ford        Windstar FWD Van              3.0          6   \n",
       "2  1998  Ford      Windstar FWD Wagon              3.0          6   \n",
       "3  1995  Ford      Windstar FWD Wagon              3.0          6   \n",
       "4  2003  Ford  Windstar FWD Cargo Van              3.8          6   \n",
       "5  2001  Ford        Windstar FWD Van              3.8          6   \n",
       "6  1998  Ford        Windstar FWD Van              3.8          6   \n",
       "7  2003  Ford      Windstar FWD Wagon              3.8          6   \n",
       "8  2001  Ford      Windstar FWD Wagon              3.8          6   \n",
       "9  1998  Ford      Windstar FWD Wagon              3.8          6   \n",
       "\n",
       "  transmission trans_speed          fuel_type  gg_emissions  mpg  \n",
       "0    Automatic           4   Regular Gasoline           468   19  \n",
       "1    Automatic           4   Regular Gasoline           468   19  \n",
       "2    Automatic           4   Regular Gasoline           468   19  \n",
       "3    Automatic           4   Regular Gasoline           468   19  \n",
       "4    Automatic           4   Regular Gasoline           494   18  \n",
       "5    Automatic           4   Regular Gasoline           494   18  \n",
       "6    Automatic           4   Regular Gasoline           494   18  \n",
       "7    Automatic           4   Regular Gasoline           494   18  \n",
       "8    Automatic           4   Regular Gasoline           494   18  \n",
       "9    Automatic           4   Regular Gasoline           494   18  "
      ]
     },
     "execution_count": 54,
     "metadata": {},
     "output_type": "execute_result"
    }
   ],
   "source": [
    "# Test area for each url with [carmake]_urls[index]\n",
    "# by seeing if data appears correctly\n",
    "\n",
    "make_model_df('Ford',ford_urls[46])"
   ]
  },
  {
   "cell_type": "markdown",
   "metadata": {},
   "source": [
    "-"
   ]
  },
  {
   "cell_type": "markdown",
   "metadata": {},
   "source": [
    "Populate this section so if there are any 'problem' URLs from your test above"
   ]
  },
  {
   "cell_type": "code",
   "execution_count": 55,
   "metadata": {},
   "outputs": [
    {
     "data": {
      "text/plain": [
       "47"
      ]
     },
     "execution_count": 55,
     "metadata": {},
     "output_type": "execute_result"
    }
   ],
   "source": [
    "#'Problem' URLs\n",
    "'''\n",
    "ford_urls[5]\n",
    "ford_urls[7]\n",
    "ford_urls[10]\n",
    "ford_urls[11]\n",
    "ford_urls[13]\n",
    "ford_urls[14]\n",
    "ford_urls[15]\n",
    "ford_urls[18]\n",
    "ford_urls[22]\n",
    "ford_urls[29]\n",
    "ford_urls[31]\n",
    "ford_urls[39]\n",
    "ford_urls[44]\n",
    "ford_urls[45]\n",
    "\n",
    "'''\n",
    "\n",
    "#Print list length again to \n",
    "#set length of range in next cell\n",
    "len(ford_urls)"
   ]
  },
  {
   "cell_type": "markdown",
   "metadata": {},
   "source": [
    "-"
   ]
  },
  {
   "cell_type": "markdown",
   "metadata": {},
   "source": [
    "**Step #4:** Create dfs for all 'okay' urls and place each into a master list\n",
    "- Automate where possible, but some may need to be added one by one to avoid 'problem' urls"
   ]
  },
  {
   "cell_type": "code",
   "execution_count": 56,
   "metadata": {
    "scrolled": true
   },
   "outputs": [],
   "source": [
    "# for 'normal' urls to make a df and add to master df list, automate it!\n",
    "\n",
    "ford_dfs = []\n",
    "\n",
    "for x in range(0,5):\n",
    "    ford_dfs.append(make_model_df('Ford',ford_urls[x]))\n",
    "\n",
    "ford_dfs.append(make_model_df('Ford',ford_urls[6]))\n",
    "\n",
    "for x in range(8,10):\n",
    "    ford_dfs.append(make_model_df('Ford',ford_urls[x]))\n",
    "\n",
    "ford_dfs.append(make_model_df('Ford',ford_urls[12]))\n",
    "    \n",
    "for x in range(16,18):\n",
    "    ford_dfs.append(make_model_df('Ford',ford_urls[x]))\n",
    "\n",
    "for x in range(19,22):\n",
    "    ford_dfs.append(make_model_df('Ford',ford_urls[x]))\n",
    "\n",
    "for x in range(23,29):\n",
    "    ford_dfs.append(make_model_df('Ford',ford_urls[x]))\n",
    "\n",
    "for x in range(30,31):\n",
    "    ford_dfs.append(make_model_df('Ford',ford_urls[x]))\n",
    "\n",
    "for x in range(32,39):\n",
    "    ford_dfs.append(make_model_df('Ford',ford_urls[x]))\n",
    "\n",
    "for x in range(40,44):\n",
    "    ford_dfs.append(make_model_df('Ford',ford_urls[x]))\n",
    "\n",
    "for x in range(40,44):\n",
    "    ford_dfs.append(make_model_df('Ford',ford_urls[x]))\n",
    "\n",
    "ford_dfs.append(make_model_df('Ford',ford_urls[46]))\n",
    "    \n",
    "\n"
   ]
  },
  {
   "cell_type": "markdown",
   "metadata": {},
   "source": [
    "-"
   ]
  },
  {
   "cell_type": "markdown",
   "metadata": {},
   "source": [
    "**Step #5:** Concatenate all of the 'normal' car model dfs into one master dataframe"
   ]
  },
  {
   "cell_type": "code",
   "execution_count": 57,
   "metadata": {
    "scrolled": true
   },
   "outputs": [
    {
     "data": {
      "text/html": [
       "<div>\n",
       "<style scoped>\n",
       "    .dataframe tbody tr th:only-of-type {\n",
       "        vertical-align: middle;\n",
       "    }\n",
       "\n",
       "    .dataframe tbody tr th {\n",
       "        vertical-align: top;\n",
       "    }\n",
       "\n",
       "    .dataframe thead th {\n",
       "        text-align: right;\n",
       "    }\n",
       "</style>\n",
       "<table border=\"1\" class=\"dataframe\">\n",
       "  <thead>\n",
       "    <tr style=\"text-align: right;\">\n",
       "      <th></th>\n",
       "      <th>year</th>\n",
       "      <th>make</th>\n",
       "      <th>model</th>\n",
       "      <th>capacity_liters</th>\n",
       "      <th>cylinders</th>\n",
       "      <th>transmission</th>\n",
       "      <th>trans_speed</th>\n",
       "      <th>fuel_type</th>\n",
       "      <th>gg_emissions</th>\n",
       "      <th>mpg</th>\n",
       "    </tr>\n",
       "  </thead>\n",
       "  <tbody>\n",
       "    <tr>\n",
       "      <th>0</th>\n",
       "      <td>1987.0</td>\n",
       "      <td>Ford</td>\n",
       "      <td>Aerostar Van</td>\n",
       "      <td>2.3</td>\n",
       "      <td>4.0</td>\n",
       "      <td>Manual</td>\n",
       "      <td>5</td>\n",
       "      <td>Regular Gasoline</td>\n",
       "      <td>370.0</td>\n",
       "      <td>24.0</td>\n",
       "    </tr>\n",
       "    <tr>\n",
       "      <th>1</th>\n",
       "      <td>1986.0</td>\n",
       "      <td>Ford</td>\n",
       "      <td>Aerostar Van</td>\n",
       "      <td>2.3</td>\n",
       "      <td>4.0</td>\n",
       "      <td>Manual</td>\n",
       "      <td>5</td>\n",
       "      <td>Regular Gasoline</td>\n",
       "      <td>370.0</td>\n",
       "      <td>24.0</td>\n",
       "    </tr>\n",
       "    <tr>\n",
       "      <th>2</th>\n",
       "      <td>1987.0</td>\n",
       "      <td>Ford</td>\n",
       "      <td>Aerostar Van</td>\n",
       "      <td>2.3</td>\n",
       "      <td>4.0</td>\n",
       "      <td>Automatic</td>\n",
       "      <td>4</td>\n",
       "      <td>Regular Gasoline</td>\n",
       "      <td>444.0</td>\n",
       "      <td>20.0</td>\n",
       "    </tr>\n",
       "    <tr>\n",
       "      <th>3</th>\n",
       "      <td>1992.0</td>\n",
       "      <td>Ford</td>\n",
       "      <td>Aerostar Van</td>\n",
       "      <td>3.0</td>\n",
       "      <td>6.0</td>\n",
       "      <td>Manual</td>\n",
       "      <td>5</td>\n",
       "      <td>Regular Gasoline</td>\n",
       "      <td>444.0</td>\n",
       "      <td>20.0</td>\n",
       "    </tr>\n",
       "    <tr>\n",
       "      <th>4</th>\n",
       "      <td>1986.0</td>\n",
       "      <td>Ford</td>\n",
       "      <td>Aerostar Van</td>\n",
       "      <td>2.3</td>\n",
       "      <td>4.0</td>\n",
       "      <td>Automatic</td>\n",
       "      <td>4</td>\n",
       "      <td>Regular Gasoline</td>\n",
       "      <td>468.0</td>\n",
       "      <td>19.0</td>\n",
       "    </tr>\n",
       "    <tr>\n",
       "      <th>...</th>\n",
       "      <td>...</td>\n",
       "      <td>...</td>\n",
       "      <td>...</td>\n",
       "      <td>...</td>\n",
       "      <td>...</td>\n",
       "      <td>...</td>\n",
       "      <td>...</td>\n",
       "      <td>...</td>\n",
       "      <td>...</td>\n",
       "      <td>...</td>\n",
       "    </tr>\n",
       "    <tr>\n",
       "      <th>323</th>\n",
       "      <td>2001.0</td>\n",
       "      <td>Ford</td>\n",
       "      <td>Windstar FWD Van</td>\n",
       "      <td>3.8</td>\n",
       "      <td>6.0</td>\n",
       "      <td>Automatic</td>\n",
       "      <td>4</td>\n",
       "      <td>Regular Gasoline</td>\n",
       "      <td>494.0</td>\n",
       "      <td>18.0</td>\n",
       "    </tr>\n",
       "    <tr>\n",
       "      <th>324</th>\n",
       "      <td>1998.0</td>\n",
       "      <td>Ford</td>\n",
       "      <td>Windstar FWD Van</td>\n",
       "      <td>3.8</td>\n",
       "      <td>6.0</td>\n",
       "      <td>Automatic</td>\n",
       "      <td>4</td>\n",
       "      <td>Regular Gasoline</td>\n",
       "      <td>494.0</td>\n",
       "      <td>18.0</td>\n",
       "    </tr>\n",
       "    <tr>\n",
       "      <th>325</th>\n",
       "      <td>2003.0</td>\n",
       "      <td>Ford</td>\n",
       "      <td>Windstar FWD Wagon</td>\n",
       "      <td>3.8</td>\n",
       "      <td>6.0</td>\n",
       "      <td>Automatic</td>\n",
       "      <td>4</td>\n",
       "      <td>Regular Gasoline</td>\n",
       "      <td>494.0</td>\n",
       "      <td>18.0</td>\n",
       "    </tr>\n",
       "    <tr>\n",
       "      <th>326</th>\n",
       "      <td>2001.0</td>\n",
       "      <td>Ford</td>\n",
       "      <td>Windstar FWD Wagon</td>\n",
       "      <td>3.8</td>\n",
       "      <td>6.0</td>\n",
       "      <td>Automatic</td>\n",
       "      <td>4</td>\n",
       "      <td>Regular Gasoline</td>\n",
       "      <td>494.0</td>\n",
       "      <td>18.0</td>\n",
       "    </tr>\n",
       "    <tr>\n",
       "      <th>327</th>\n",
       "      <td>1998.0</td>\n",
       "      <td>Ford</td>\n",
       "      <td>Windstar FWD Wagon</td>\n",
       "      <td>3.8</td>\n",
       "      <td>6.0</td>\n",
       "      <td>Automatic</td>\n",
       "      <td>4</td>\n",
       "      <td>Regular Gasoline</td>\n",
       "      <td>494.0</td>\n",
       "      <td>18.0</td>\n",
       "    </tr>\n",
       "  </tbody>\n",
       "</table>\n",
       "<p>328 rows × 10 columns</p>\n",
       "</div>"
      ],
      "text/plain": [
       "       year  make               model  capacity_liters  cylinders  \\\n",
       "0    1987.0  Ford        Aerostar Van              2.3        4.0   \n",
       "1    1986.0  Ford        Aerostar Van              2.3        4.0   \n",
       "2    1987.0  Ford        Aerostar Van              2.3        4.0   \n",
       "3    1992.0  Ford        Aerostar Van              3.0        6.0   \n",
       "4    1986.0  Ford        Aerostar Van              2.3        4.0   \n",
       "..      ...   ...                 ...              ...        ...   \n",
       "323  2001.0  Ford    Windstar FWD Van              3.8        6.0   \n",
       "324  1998.0  Ford    Windstar FWD Van              3.8        6.0   \n",
       "325  2003.0  Ford  Windstar FWD Wagon              3.8        6.0   \n",
       "326  2001.0  Ford  Windstar FWD Wagon              3.8        6.0   \n",
       "327  1998.0  Ford  Windstar FWD Wagon              3.8        6.0   \n",
       "\n",
       "    transmission trans_speed          fuel_type  gg_emissions   mpg  \n",
       "0         Manual           5   Regular Gasoline         370.0  24.0  \n",
       "1         Manual           5   Regular Gasoline         370.0  24.0  \n",
       "2      Automatic           4   Regular Gasoline         444.0  20.0  \n",
       "3         Manual           5   Regular Gasoline         444.0  20.0  \n",
       "4      Automatic           4   Regular Gasoline         468.0  19.0  \n",
       "..           ...         ...                ...           ...   ...  \n",
       "323    Automatic           4   Regular Gasoline         494.0  18.0  \n",
       "324    Automatic           4   Regular Gasoline         494.0  18.0  \n",
       "325    Automatic           4   Regular Gasoline         494.0  18.0  \n",
       "326    Automatic           4   Regular Gasoline         494.0  18.0  \n",
       "327    Automatic           4   Regular Gasoline         494.0  18.0  \n",
       "\n",
       "[328 rows x 10 columns]"
      ]
     },
     "execution_count": 57,
     "metadata": {},
     "output_type": "execute_result"
    }
   ],
   "source": [
    "ford_dfs = pd.concat(ford_dfs, ignore_index=True)\n",
    "\n",
    "ford_dfs"
   ]
  },
  {
   "cell_type": "markdown",
   "metadata": {},
   "source": [
    "-"
   ]
  },
  {
   "cell_type": "markdown",
   "metadata": {},
   "source": [
    "**Step #6:** Pickle the dataframe made in Step 6 of all car's models with 'normal' dataframes\n",
    "- Will now be saved so further work on dataframe can start at this place"
   ]
  },
  {
   "cell_type": "code",
   "execution_count": 58,
   "metadata": {},
   "outputs": [],
   "source": [
    "with open('pickles/ford_dfs.pickle', 'wb') as to_write:\n",
    "    pickle.dump(ford_dfs, to_write)"
   ]
  },
  {
   "cell_type": "markdown",
   "metadata": {},
   "source": [
    "-"
   ]
  },
  {
   "cell_type": "markdown",
   "metadata": {},
   "source": [
    "**Step #7:** Un-pickle the dataframe made in Step 7 of all car's models with 'normal' dataframes"
   ]
  },
  {
   "cell_type": "code",
   "execution_count": 59,
   "metadata": {},
   "outputs": [],
   "source": [
    "with open('pickles/ford_dfs.pickle','rb') as read_file:\n",
    "    ford_dfs = pickle.load(read_file)"
   ]
  },
  {
   "cell_type": "code",
   "execution_count": null,
   "metadata": {},
   "outputs": [],
   "source": []
  }
 ],
 "metadata": {
  "kernelspec": {
   "display_name": "Python 3",
   "language": "python",
   "name": "python3"
  },
  "language_info": {
   "codemirror_mode": {
    "name": "ipython",
    "version": 3
   },
   "file_extension": ".py",
   "mimetype": "text/x-python",
   "name": "python",
   "nbconvert_exporter": "python",
   "pygments_lexer": "ipython3",
   "version": "3.7.4"
  }
 },
 "nbformat": 4,
 "nbformat_minor": 2
}
