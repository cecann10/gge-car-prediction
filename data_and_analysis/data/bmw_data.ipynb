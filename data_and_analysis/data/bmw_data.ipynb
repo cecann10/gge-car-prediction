{
 "cells": [
  {
   "cell_type": "code",
   "execution_count": 2,
   "metadata": {},
   "outputs": [],
   "source": [
    "import requests\n",
    "from requests import get\n",
    "from bs4 import BeautifulSoup\n",
    "import pandas as pd\n",
    "import numpy as np\n",
    "import pickle"
   ]
  },
  {
   "cell_type": "markdown",
   "metadata": {},
   "source": [
    "### Import functions unique to this project"
   ]
  },
  {
   "cell_type": "code",
   "execution_count": 3,
   "metadata": {},
   "outputs": [],
   "source": [
    "from master_functions import get_car_urls\n",
    "from master_functions import make_model_df"
   ]
  },
  {
   "cell_type": "markdown",
   "metadata": {},
   "source": [
    "## BMW - Create master dataframe for all BMW models"
   ]
  },
  {
   "cell_type": "markdown",
   "metadata": {},
   "source": [
    "This worksheet is intended to build a datafame for all **BMW** cars.  There are some 'quirks' in how the data is structured from its source on https://www.fueleconomy.gov/, so more manual steps are taken below to check files for issues, combine first what is 'normal' and then add in those that required special attention."
   ]
  },
  {
   "cell_type": "markdown",
   "metadata": {},
   "source": [
    "**Step #1:** Create unique urls for every BMW model for the years 1984 - 2021<br>\n",
    "- Uses `get_car_urls` from master function, Inputs: (car_make, [list of all models])"
   ]
  },
  {
   "cell_type": "code",
   "execution_count": 4,
   "metadata": {},
   "outputs": [],
   "source": [
    "bmw_urls = get_car_urls('BMW',\n",
    "                        ['1 Series','2 Series','3 Series','4 Series',\n",
    "                         '5 Series','6 Series','7 Series','8 Series',\n",
    "                         'Active E','ActiveHybrid X6','i3','i8','M',\n",
    "                         'X1','X2','X3','X4','X5','X6','X7','Z3','Z4',\n",
    "                         'Z8'\n",
    "                        ])"
   ]
  },
  {
   "cell_type": "markdown",
   "metadata": {},
   "source": [
    "-"
   ]
  },
  {
   "cell_type": "markdown",
   "metadata": {},
   "source": [
    "**Step #2:** Get length of list created in Step 1.  This number will be how many times you run the function in Step 3 to check all of the urls<br>"
   ]
  },
  {
   "cell_type": "code",
   "execution_count": 5,
   "metadata": {
    "scrolled": false
   },
   "outputs": [
    {
     "data": {
      "text/plain": [
       "23"
      ]
     },
     "execution_count": 5,
     "metadata": {},
     "output_type": "execute_result"
    }
   ],
   "source": [
    "# Verify number of urls and use this number\n",
    "# to know how many urls need to 'check below'\n",
    "\n",
    "len(bmw_urls)"
   ]
  },
  {
   "cell_type": "markdown",
   "metadata": {},
   "source": [
    "-"
   ]
  },
  {
   "cell_type": "markdown",
   "metadata": {},
   "source": [
    "**Step #3:** Check all of the urls you just created.<br>\n",
    "- If works, add to `audi_okay_modelranks` list in Step 4\n",
    "- If does not work, add to 'problem' URLs string in Step 4"
   ]
  },
  {
   "cell_type": "code",
   "execution_count": 6,
   "metadata": {},
   "outputs": [
    {
     "ename": "IndexError",
     "evalue": "list index out of range",
     "output_type": "error",
     "traceback": [
      "\u001b[0;31m---------------------------------------------------------------------------\u001b[0m",
      "\u001b[0;31mIndexError\u001b[0m                                Traceback (most recent call last)",
      "\u001b[0;32m<ipython-input-6-874e869c9a5e>\u001b[0m in \u001b[0;36m<module>\u001b[0;34m\u001b[0m\n\u001b[1;32m      2\u001b[0m \u001b[0;31m# by seeing if data appears correctly\u001b[0m\u001b[0;34m\u001b[0m\u001b[0;34m\u001b[0m\u001b[0;34m\u001b[0m\u001b[0m\n\u001b[1;32m      3\u001b[0m \u001b[0;34m\u001b[0m\u001b[0m\n\u001b[0;32m----> 4\u001b[0;31m \u001b[0mmake_model_df\u001b[0m\u001b[0;34m(\u001b[0m\u001b[0;34m'BMW'\u001b[0m\u001b[0;34m,\u001b[0m\u001b[0mbmw_urls\u001b[0m\u001b[0;34m[\u001b[0m\u001b[0;36m23\u001b[0m\u001b[0;34m]\u001b[0m\u001b[0;34m)\u001b[0m\u001b[0;34m\u001b[0m\u001b[0;34m\u001b[0m\u001b[0m\n\u001b[0m",
      "\u001b[0;31mIndexError\u001b[0m: list index out of range"
     ]
    }
   ],
   "source": [
    "# Test area for each url with audi_urls[index]\n",
    "# by seeing if data appears correctly\n",
    "\n",
    "make_model_df('BMW',bmw_urls[23])"
   ]
  },
  {
   "cell_type": "markdown",
   "metadata": {},
   "source": [
    "-"
   ]
  },
  {
   "cell_type": "markdown",
   "metadata": {},
   "source": [
    "**Step #4:** From Step 3 above you should have populated this section so URLs either are in the category of \"problem\" or \"normal\""
   ]
  },
  {
   "cell_type": "code",
   "execution_count": 7,
   "metadata": {},
   "outputs": [
    {
     "data": {
      "text/plain": [
       "16"
      ]
     },
     "execution_count": 7,
     "metadata": {},
     "output_type": "execute_result"
    }
   ],
   "source": [
    "#'Problem' URLs\n",
    "'''\n",
    "bmw_urls[2]\n",
    "bmw_urls[4]\n",
    "bmw_urls[6]\n",
    "bmw_urls[10]\n",
    "bmw_urls[11]\n",
    "bmw_urls[15]\n",
    "bmw_urls[17]\n",
    "\n",
    "'''\n",
    "\n",
    "#'Normal' URLs\n",
    "\n",
    "bmw_okay_modelranks = [0,1,3,5,7,8,\n",
    "                        9,12,13,14,16,\n",
    "                        18,19,20,21,22\n",
    "                       ]\n",
    "\n",
    "len(bmw_okay_modelranks)"
   ]
  },
  {
   "cell_type": "markdown",
   "metadata": {},
   "source": [
    "-"
   ]
  },
  {
   "cell_type": "markdown",
   "metadata": {},
   "source": [
    "**Step #5:** Create dfs for all 'okay' urls and place each into a master list\n",
    "- Automate where possible, but some may need to be added one by one to avoid 'problem' urls"
   ]
  },
  {
   "cell_type": "code",
   "execution_count": 8,
   "metadata": {},
   "outputs": [],
   "source": [
    "bmw_0 = make_model_df('BMW',bmw_urls[0])\n",
    "bmw_1 = make_model_df('BMW',bmw_urls[1])\n",
    "bmw_3 = make_model_df('BMW',bmw_urls[3])\n",
    "bmw_5 = make_model_df('BMW',bmw_urls[5])\n",
    "bmw_7 = make_model_df('BMW',bmw_urls[7])\n",
    "bmw_8 = make_model_df('BMW',bmw_urls[8])\n",
    "bmw_9 = make_model_df('BMW',bmw_urls[9])\n",
    "bmw_12 = make_model_df('BMW',bmw_urls[12])\n",
    "bmw_13 = make_model_df('BMW',bmw_urls[13])\n",
    "bmw_14 = make_model_df('BMW',bmw_urls[14])\n",
    "bmw_16 = make_model_df('BMW',bmw_urls[16])\n",
    "bmw_18 = make_model_df('BMW',bmw_urls[18])\n",
    "bmw_19 = make_model_df('BMW',bmw_urls[19])\n",
    "bmw_20 = make_model_df('BMW',bmw_urls[20])\n",
    "bmw_21 = make_model_df('BMW',bmw_urls[21])\n",
    "bmw_22 = make_model_df('BMW',bmw_urls[22])\n",
    "\n",
    "\n",
    "\n"
   ]
  },
  {
   "cell_type": "code",
   "execution_count": 9,
   "metadata": {},
   "outputs": [
    {
     "data": {
      "text/plain": [
       "16"
      ]
     },
     "execution_count": 9,
     "metadata": {},
     "output_type": "execute_result"
    }
   ],
   "source": [
    "bmw_dfs = [bmw_0,\n",
    "           bmw_1,\n",
    "           bmw_3,\n",
    "           bmw_5,\n",
    "           bmw_7,\n",
    "           bmw_8,\n",
    "           bmw_9,\n",
    "           bmw_12,\n",
    "           bmw_13,\n",
    "           bmw_14,\n",
    "           bmw_16,\n",
    "           bmw_18,\n",
    "           bmw_19,\n",
    "           bmw_20,\n",
    "           bmw_21,\n",
    "           bmw_22\n",
    "           ]\n",
    "\n",
    "len(bmw_dfs)"
   ]
  },
  {
   "cell_type": "markdown",
   "metadata": {},
   "source": [
    "-"
   ]
  },
  {
   "cell_type": "markdown",
   "metadata": {},
   "source": [
    "**Step #6:** Concatenate all of the 'normal' Audi model dfs into one master dataframe"
   ]
  },
  {
   "cell_type": "code",
   "execution_count": 10,
   "metadata": {
    "scrolled": true
   },
   "outputs": [
    {
     "data": {
      "text/html": [
       "<div>\n",
       "<style scoped>\n",
       "    .dataframe tbody tr th:only-of-type {\n",
       "        vertical-align: middle;\n",
       "    }\n",
       "\n",
       "    .dataframe tbody tr th {\n",
       "        vertical-align: top;\n",
       "    }\n",
       "\n",
       "    .dataframe thead th {\n",
       "        text-align: right;\n",
       "    }\n",
       "</style>\n",
       "<table border=\"1\" class=\"dataframe\">\n",
       "  <thead>\n",
       "    <tr style=\"text-align: right;\">\n",
       "      <th></th>\n",
       "      <th>year</th>\n",
       "      <th>make</th>\n",
       "      <th>model</th>\n",
       "      <th>capacity_liters</th>\n",
       "      <th>cylinders</th>\n",
       "      <th>transmission</th>\n",
       "      <th>trans_speed</th>\n",
       "      <th>fuel_type</th>\n",
       "      <th>gg_emissions</th>\n",
       "      <th>mpg</th>\n",
       "    </tr>\n",
       "  </thead>\n",
       "  <tbody>\n",
       "    <tr>\n",
       "      <th>0</th>\n",
       "      <td>2013.0</td>\n",
       "      <td>BMW</td>\n",
       "      <td>135i</td>\n",
       "      <td>3.0</td>\n",
       "      <td>6.0</td>\n",
       "      <td>Manual</td>\n",
       "      <td>6</td>\n",
       "      <td>Premium Gasoline</td>\n",
       "      <td>387.0</td>\n",
       "      <td>23.0</td>\n",
       "    </tr>\n",
       "    <tr>\n",
       "      <th>1</th>\n",
       "      <td>2012.0</td>\n",
       "      <td>BMW</td>\n",
       "      <td>135i</td>\n",
       "      <td>3.0</td>\n",
       "      <td>6.0</td>\n",
       "      <td>Manual</td>\n",
       "      <td>6</td>\n",
       "      <td>Premium Gasoline</td>\n",
       "      <td>386.0</td>\n",
       "      <td>23.0</td>\n",
       "    </tr>\n",
       "    <tr>\n",
       "      <th>2</th>\n",
       "      <td>2011.0</td>\n",
       "      <td>BMW</td>\n",
       "      <td>135i</td>\n",
       "      <td>3.0</td>\n",
       "      <td>6.0</td>\n",
       "      <td>Manual</td>\n",
       "      <td>6</td>\n",
       "      <td>Premium Gasoline</td>\n",
       "      <td>386.0</td>\n",
       "      <td>23.0</td>\n",
       "    </tr>\n",
       "    <tr>\n",
       "      <th>3</th>\n",
       "      <td>2013.0</td>\n",
       "      <td>BMW</td>\n",
       "      <td>128ci Convertible</td>\n",
       "      <td>3.0</td>\n",
       "      <td>6.0</td>\n",
       "      <td>Manual</td>\n",
       "      <td>6</td>\n",
       "      <td>Premium Gasoline</td>\n",
       "      <td>407.0</td>\n",
       "      <td>22.0</td>\n",
       "    </tr>\n",
       "    <tr>\n",
       "      <th>4</th>\n",
       "      <td>2011.0</td>\n",
       "      <td>BMW</td>\n",
       "      <td>128ci Convertible</td>\n",
       "      <td>3.0</td>\n",
       "      <td>6.0</td>\n",
       "      <td>Manual</td>\n",
       "      <td>6</td>\n",
       "      <td>Premium Gasoline</td>\n",
       "      <td>404.0</td>\n",
       "      <td>22.0</td>\n",
       "    </tr>\n",
       "    <tr>\n",
       "      <th>...</th>\n",
       "      <td>...</td>\n",
       "      <td>...</td>\n",
       "      <td>...</td>\n",
       "      <td>...</td>\n",
       "      <td>...</td>\n",
       "      <td>...</td>\n",
       "      <td>...</td>\n",
       "      <td>...</td>\n",
       "      <td>...</td>\n",
       "      <td>...</td>\n",
       "    </tr>\n",
       "    <tr>\n",
       "      <th>124</th>\n",
       "      <td>2015.0</td>\n",
       "      <td>BMW</td>\n",
       "      <td>Z4 sDrive28i</td>\n",
       "      <td>2.0</td>\n",
       "      <td>4.0</td>\n",
       "      <td>Automatic</td>\n",
       "      <td>S8</td>\n",
       "      <td>Premium Gasoline</td>\n",
       "      <td>345.0</td>\n",
       "      <td>26.0</td>\n",
       "    </tr>\n",
       "    <tr>\n",
       "      <th>125</th>\n",
       "      <td>2003.0</td>\n",
       "      <td>BMW</td>\n",
       "      <td>Z8</td>\n",
       "      <td>4.9</td>\n",
       "      <td>8.0</td>\n",
       "      <td>Manual</td>\n",
       "      <td>6</td>\n",
       "      <td>Premium Gasoline</td>\n",
       "      <td>592.0</td>\n",
       "      <td>15.0</td>\n",
       "    </tr>\n",
       "    <tr>\n",
       "      <th>126</th>\n",
       "      <td>2002.0</td>\n",
       "      <td>BMW</td>\n",
       "      <td>Z8</td>\n",
       "      <td>4.9</td>\n",
       "      <td>8.0</td>\n",
       "      <td>Manual</td>\n",
       "      <td>6</td>\n",
       "      <td>Premium Gasoline</td>\n",
       "      <td>592.0</td>\n",
       "      <td>15.0</td>\n",
       "    </tr>\n",
       "    <tr>\n",
       "      <th>127</th>\n",
       "      <td>2001.0</td>\n",
       "      <td>BMW</td>\n",
       "      <td>Z8</td>\n",
       "      <td>4.9</td>\n",
       "      <td>8.0</td>\n",
       "      <td>Manual</td>\n",
       "      <td>6</td>\n",
       "      <td>Premium Gasoline</td>\n",
       "      <td>592.0</td>\n",
       "      <td>15.0</td>\n",
       "    </tr>\n",
       "    <tr>\n",
       "      <th>128</th>\n",
       "      <td>2000.0</td>\n",
       "      <td>BMW</td>\n",
       "      <td>Z8</td>\n",
       "      <td>4.9</td>\n",
       "      <td>8.0</td>\n",
       "      <td>Manual</td>\n",
       "      <td>6</td>\n",
       "      <td>Premium Gasoline</td>\n",
       "      <td>592.0</td>\n",
       "      <td>15.0</td>\n",
       "    </tr>\n",
       "  </tbody>\n",
       "</table>\n",
       "<p>129 rows × 10 columns</p>\n",
       "</div>"
      ],
      "text/plain": [
       "       year make              model  capacity_liters  cylinders transmission  \\\n",
       "0    2013.0  BMW               135i              3.0        6.0       Manual   \n",
       "1    2012.0  BMW               135i              3.0        6.0       Manual   \n",
       "2    2011.0  BMW               135i              3.0        6.0       Manual   \n",
       "3    2013.0  BMW  128ci Convertible              3.0        6.0       Manual   \n",
       "4    2011.0  BMW  128ci Convertible              3.0        6.0       Manual   \n",
       "..      ...  ...                ...              ...        ...          ...   \n",
       "124  2015.0  BMW       Z4 sDrive28i              2.0        4.0    Automatic   \n",
       "125  2003.0  BMW                 Z8              4.9        8.0       Manual   \n",
       "126  2002.0  BMW                 Z8              4.9        8.0       Manual   \n",
       "127  2001.0  BMW                 Z8              4.9        8.0       Manual   \n",
       "128  2000.0  BMW                 Z8              4.9        8.0       Manual   \n",
       "\n",
       "    trans_speed          fuel_type  gg_emissions   mpg  \n",
       "0             6   Premium Gasoline         387.0  23.0  \n",
       "1             6   Premium Gasoline         386.0  23.0  \n",
       "2             6   Premium Gasoline         386.0  23.0  \n",
       "3             6   Premium Gasoline         407.0  22.0  \n",
       "4             6   Premium Gasoline         404.0  22.0  \n",
       "..          ...                ...           ...   ...  \n",
       "124          S8   Premium Gasoline         345.0  26.0  \n",
       "125           6   Premium Gasoline         592.0  15.0  \n",
       "126           6   Premium Gasoline         592.0  15.0  \n",
       "127           6   Premium Gasoline         592.0  15.0  \n",
       "128           6   Premium Gasoline         592.0  15.0  \n",
       "\n",
       "[129 rows x 10 columns]"
      ]
     },
     "execution_count": 10,
     "metadata": {},
     "output_type": "execute_result"
    }
   ],
   "source": [
    "bmw_dfs = pd.concat(bmw_dfs, ignore_index=True)\n",
    "\n",
    "bmw_dfs"
   ]
  },
  {
   "cell_type": "markdown",
   "metadata": {},
   "source": [
    "-"
   ]
  },
  {
   "cell_type": "markdown",
   "metadata": {},
   "source": [
    "**Step #7:** Pickle the dataframe made in Step 6 of all Audi models with 'normal' dataframes\n",
    "- Will now be saved so further work on dataframe can start at this place"
   ]
  },
  {
   "cell_type": "code",
   "execution_count": 11,
   "metadata": {},
   "outputs": [],
   "source": [
    "with open('pickles/bmw_dfs.pickle', 'wb') as to_write:\n",
    "    pickle.dump(bmw_dfs, to_write)"
   ]
  },
  {
   "cell_type": "markdown",
   "metadata": {},
   "source": [
    "-"
   ]
  },
  {
   "cell_type": "markdown",
   "metadata": {},
   "source": [
    "**Step #8:** Un-pickle the dataframe made in Step 7 of all Audi models with 'normal' dataframes"
   ]
  },
  {
   "cell_type": "code",
   "execution_count": 12,
   "metadata": {},
   "outputs": [],
   "source": [
    "with open('pickles/bmw_dfs.pickle','rb') as read_file:\n",
    "    bmw_dfs = pickle.load(read_file)"
   ]
  },
  {
   "cell_type": "code",
   "execution_count": null,
   "metadata": {},
   "outputs": [],
   "source": []
  }
 ],
 "metadata": {
  "kernelspec": {
   "display_name": "Python 3",
   "language": "python",
   "name": "python3"
  },
  "language_info": {
   "codemirror_mode": {
    "name": "ipython",
    "version": 3
   },
   "file_extension": ".py",
   "mimetype": "text/x-python",
   "name": "python",
   "nbconvert_exporter": "python",
   "pygments_lexer": "ipython3",
   "version": "3.7.4"
  }
 },
 "nbformat": 4,
 "nbformat_minor": 2
}
