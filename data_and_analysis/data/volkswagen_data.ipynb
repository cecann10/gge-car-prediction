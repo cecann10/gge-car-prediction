{
 "cells": [
  {
   "cell_type": "code",
   "execution_count": 1,
   "metadata": {},
   "outputs": [],
   "source": [
    "import requests\n",
    "from requests import get\n",
    "from bs4 import BeautifulSoup\n",
    "import pandas as pd\n",
    "import numpy as np\n",
    "import pickle"
   ]
  },
  {
   "cell_type": "markdown",
   "metadata": {},
   "source": [
    "### Import functions unique to this project"
   ]
  },
  {
   "cell_type": "code",
   "execution_count": 2,
   "metadata": {},
   "outputs": [],
   "source": [
    "from master_functions import get_car_urls\n",
    "from master_functions import make_model_df"
   ]
  },
  {
   "cell_type": "markdown",
   "metadata": {},
   "source": [
    "## VOLKSWAGEN - Create master dataframe for all models\n",
    "\n",
    "This worksheet is intended to build a datafame for all **Volkswagen** cars.  There are some 'quirks' in how the data is structured from its source on https://www.fueleconomy.gov/, so more manual steps are taken below to check files for issues, combine first what is 'normal' and then add in those that required special attention.\n",
    "\n",
    "**Step #1:** Create unique urls for every car model for the years 1984 - 2021<br>\n",
    "- Uses `get_car_urls` from master function, Inputs: (car_make, [list of all models])"
   ]
  },
  {
   "cell_type": "code",
   "execution_count": 4,
   "metadata": {},
   "outputs": [],
   "source": [
    "volkswagen_urls = get_car_urls('Volkswagen',\n",
    "                               ['Arteon','Atlas','Beetle','Cabrio',\n",
    "                                'Cabriolet','CC','Corrado','Eos',\n",
    "                                'Eurovan','Fox','Golf/GTI','Jetta',\n",
    "                                'Passat','Phaeton','Quantum','R32',\n",
    "                                'Rabbit','Routan','Scirocco','Tiguan',\n",
    "                                'Touareg','Vanagon'\n",
    "                               ])"
   ]
  },
  {
   "cell_type": "markdown",
   "metadata": {},
   "source": [
    "-"
   ]
  },
  {
   "cell_type": "markdown",
   "metadata": {},
   "source": [
    "**Step #2:** Get length of list created in Step 1.  This number will be how many times you run the function in Step 3 to check all of the urls<br>"
   ]
  },
  {
   "cell_type": "code",
   "execution_count": 5,
   "metadata": {
    "scrolled": false
   },
   "outputs": [
    {
     "data": {
      "text/plain": [
       "22"
      ]
     },
     "execution_count": 5,
     "metadata": {},
     "output_type": "execute_result"
    }
   ],
   "source": [
    "# Verify number of urls and use this number\n",
    "# to know how many urls need to 'check below'\n",
    "\n",
    "len(volkswagen_urls)"
   ]
  },
  {
   "cell_type": "markdown",
   "metadata": {},
   "source": [
    "-"
   ]
  },
  {
   "cell_type": "markdown",
   "metadata": {},
   "source": [
    "**Step #3:** Check all of the urls you just created.<br>\n",
    "- If does not work, add to 'problem' URLs string below this cell"
   ]
  },
  {
   "cell_type": "code",
   "execution_count": 27,
   "metadata": {},
   "outputs": [
    {
     "data": {
      "text/html": [
       "<div>\n",
       "<style scoped>\n",
       "    .dataframe tbody tr th:only-of-type {\n",
       "        vertical-align: middle;\n",
       "    }\n",
       "\n",
       "    .dataframe tbody tr th {\n",
       "        vertical-align: top;\n",
       "    }\n",
       "\n",
       "    .dataframe thead th {\n",
       "        text-align: right;\n",
       "    }\n",
       "</style>\n",
       "<table border=\"1\" class=\"dataframe\">\n",
       "  <thead>\n",
       "    <tr style=\"text-align: right;\">\n",
       "      <th></th>\n",
       "      <th>year</th>\n",
       "      <th>make</th>\n",
       "      <th>model</th>\n",
       "      <th>capacity_liters</th>\n",
       "      <th>cylinders</th>\n",
       "      <th>transmission</th>\n",
       "      <th>trans_speed</th>\n",
       "      <th>fuel_type</th>\n",
       "      <th>gg_emissions</th>\n",
       "      <th>mpg</th>\n",
       "    </tr>\n",
       "  </thead>\n",
       "  <tbody>\n",
       "    <tr>\n",
       "      <th>0</th>\n",
       "      <td>1985</td>\n",
       "      <td>Volkswagen</td>\n",
       "      <td>Vanagon 2WD</td>\n",
       "      <td>1.9</td>\n",
       "      <td>4</td>\n",
       "      <td>Manual</td>\n",
       "      <td>4</td>\n",
       "      <td>Regular Gasoline</td>\n",
       "      <td>523</td>\n",
       "      <td>17</td>\n",
       "    </tr>\n",
       "    <tr>\n",
       "      <th>1</th>\n",
       "      <td>1991</td>\n",
       "      <td>Volkswagen</td>\n",
       "      <td>Vanagon/Camper 2WD</td>\n",
       "      <td>2.1</td>\n",
       "      <td>4</td>\n",
       "      <td>Manual</td>\n",
       "      <td>4</td>\n",
       "      <td>Regular Gasoline</td>\n",
       "      <td>523</td>\n",
       "      <td>17</td>\n",
       "    </tr>\n",
       "    <tr>\n",
       "      <th>2</th>\n",
       "      <td>1990</td>\n",
       "      <td>Volkswagen</td>\n",
       "      <td>Vanagon/Camper 2WD</td>\n",
       "      <td>2.1</td>\n",
       "      <td>4</td>\n",
       "      <td>Manual</td>\n",
       "      <td>4</td>\n",
       "      <td>Regular Gasoline</td>\n",
       "      <td>523</td>\n",
       "      <td>17</td>\n",
       "    </tr>\n",
       "    <tr>\n",
       "      <th>3</th>\n",
       "      <td>1989</td>\n",
       "      <td>Volkswagen</td>\n",
       "      <td>Vanagon/Camper 2WD</td>\n",
       "      <td>2.1</td>\n",
       "      <td>4</td>\n",
       "      <td>Manual</td>\n",
       "      <td>4</td>\n",
       "      <td>Regular Gasoline</td>\n",
       "      <td>523</td>\n",
       "      <td>17</td>\n",
       "    </tr>\n",
       "    <tr>\n",
       "      <th>4</th>\n",
       "      <td>1988</td>\n",
       "      <td>Volkswagen</td>\n",
       "      <td>Vanagon/Camper 2WD</td>\n",
       "      <td>2.1</td>\n",
       "      <td>4</td>\n",
       "      <td>Manual</td>\n",
       "      <td>4</td>\n",
       "      <td>Regular Gasoline</td>\n",
       "      <td>555</td>\n",
       "      <td>16</td>\n",
       "    </tr>\n",
       "    <tr>\n",
       "      <th>5</th>\n",
       "      <td>1985</td>\n",
       "      <td>Volkswagen</td>\n",
       "      <td>Vanagon 2WD</td>\n",
       "      <td>1.9</td>\n",
       "      <td>4</td>\n",
       "      <td>Manual</td>\n",
       "      <td>4</td>\n",
       "      <td>Regular Gasoline</td>\n",
       "      <td>555</td>\n",
       "      <td>16</td>\n",
       "    </tr>\n",
       "    <tr>\n",
       "      <th>6</th>\n",
       "      <td>1984</td>\n",
       "      <td>Volkswagen</td>\n",
       "      <td>Vanagon 2WD</td>\n",
       "      <td>1.9</td>\n",
       "      <td>4</td>\n",
       "      <td>Manual</td>\n",
       "      <td>4</td>\n",
       "      <td>Regular Gasoline</td>\n",
       "      <td>555</td>\n",
       "      <td>16</td>\n",
       "    </tr>\n",
       "    <tr>\n",
       "      <th>7</th>\n",
       "      <td>1984</td>\n",
       "      <td>Volkswagen</td>\n",
       "      <td>Vanagon 2WD</td>\n",
       "      <td>1.9</td>\n",
       "      <td>4</td>\n",
       "      <td>Manual</td>\n",
       "      <td>4</td>\n",
       "      <td>Regular Gasoline</td>\n",
       "      <td>555</td>\n",
       "      <td>16</td>\n",
       "    </tr>\n",
       "    <tr>\n",
       "      <th>8</th>\n",
       "      <td>1985</td>\n",
       "      <td>Volkswagen</td>\n",
       "      <td>Vanagon 2WD</td>\n",
       "      <td>1.9</td>\n",
       "      <td>4</td>\n",
       "      <td>Automatic</td>\n",
       "      <td>3</td>\n",
       "      <td>Regular Gasoline</td>\n",
       "      <td>555</td>\n",
       "      <td>16</td>\n",
       "    </tr>\n",
       "    <tr>\n",
       "      <th>9</th>\n",
       "      <td>1987</td>\n",
       "      <td>Volkswagen</td>\n",
       "      <td>Vanagon/Camper 2WD</td>\n",
       "      <td>2.1</td>\n",
       "      <td>4</td>\n",
       "      <td>Manual</td>\n",
       "      <td>4</td>\n",
       "      <td>Regular Gasoline</td>\n",
       "      <td>592</td>\n",
       "      <td>15</td>\n",
       "    </tr>\n",
       "  </tbody>\n",
       "</table>\n",
       "</div>"
      ],
      "text/plain": [
       "   year        make               model  capacity_liters  cylinders  \\\n",
       "0  1985  Volkswagen         Vanagon 2WD              1.9          4   \n",
       "1  1991  Volkswagen  Vanagon/Camper 2WD              2.1          4   \n",
       "2  1990  Volkswagen  Vanagon/Camper 2WD              2.1          4   \n",
       "3  1989  Volkswagen  Vanagon/Camper 2WD              2.1          4   \n",
       "4  1988  Volkswagen  Vanagon/Camper 2WD              2.1          4   \n",
       "5  1985  Volkswagen         Vanagon 2WD              1.9          4   \n",
       "6  1984  Volkswagen         Vanagon 2WD              1.9          4   \n",
       "7  1984  Volkswagen         Vanagon 2WD              1.9          4   \n",
       "8  1985  Volkswagen         Vanagon 2WD              1.9          4   \n",
       "9  1987  Volkswagen  Vanagon/Camper 2WD              2.1          4   \n",
       "\n",
       "  transmission trans_speed          fuel_type  gg_emissions  mpg  \n",
       "0       Manual           4   Regular Gasoline           523   17  \n",
       "1       Manual           4   Regular Gasoline           523   17  \n",
       "2       Manual           4   Regular Gasoline           523   17  \n",
       "3       Manual           4   Regular Gasoline           523   17  \n",
       "4       Manual           4   Regular Gasoline           555   16  \n",
       "5       Manual           4   Regular Gasoline           555   16  \n",
       "6       Manual           4   Regular Gasoline           555   16  \n",
       "7       Manual           4   Regular Gasoline           555   16  \n",
       "8    Automatic           3   Regular Gasoline           555   16  \n",
       "9       Manual           4   Regular Gasoline           592   15  "
      ]
     },
     "execution_count": 27,
     "metadata": {},
     "output_type": "execute_result"
    }
   ],
   "source": [
    "# Test area for each url with [carmake]_urls[index]\n",
    "# by seeing if data appears correctly\n",
    "\n",
    "make_model_df('Volkswagen',volkswagen_urls[21])"
   ]
  },
  {
   "cell_type": "markdown",
   "metadata": {},
   "source": [
    "-"
   ]
  },
  {
   "cell_type": "markdown",
   "metadata": {},
   "source": [
    "Populate this section so if there are any 'problem' URLs from your test above"
   ]
  },
  {
   "cell_type": "code",
   "execution_count": 29,
   "metadata": {},
   "outputs": [
    {
     "data": {
      "text/plain": [
       "22"
      ]
     },
     "execution_count": 29,
     "metadata": {},
     "output_type": "execute_result"
    }
   ],
   "source": [
    "#'Problem' URLs\n",
    "'''\n",
    "volkswagen_urls[10]\n",
    "volkswagen_urls[12]\n",
    "volkswagen_urls[17]\n",
    "\n",
    "'''\n",
    "\n",
    "#Print list length again to \n",
    "#set length of range in next cell\n",
    "len(volkswagen_urls)"
   ]
  },
  {
   "cell_type": "markdown",
   "metadata": {},
   "source": [
    "-"
   ]
  },
  {
   "cell_type": "markdown",
   "metadata": {},
   "source": [
    "**Step #4:** Create dfs for all 'okay' urls and place each into a master list\n",
    "- Automate where possible, but some may need to be added one by one to avoid 'problem' urls"
   ]
  },
  {
   "cell_type": "code",
   "execution_count": 30,
   "metadata": {
    "scrolled": true
   },
   "outputs": [],
   "source": [
    "# for 'normal' urls to make a df and add to master df list, automate it!\n",
    "\n",
    "volkswagen_dfs = []\n",
    "\n",
    "for x in range(0,10):\n",
    "    volkswagen_dfs.append(make_model_df('Volkswagen',volkswagen_urls[x]))\n",
    "\n",
    "volkswagen_dfs.append(make_model_df('Volkswagen',volkswagen_urls[11]))\n",
    "\n",
    "for x in range(13,17):\n",
    "    volkswagen_dfs.append(make_model_df('Volkswagen',volkswagen_urls[x]))\n",
    "\n",
    "for x in range(18,22):\n",
    "    volkswagen_dfs.append(make_model_df('Volkswagen',volkswagen_urls[x]))\n",
    "\n"
   ]
  },
  {
   "cell_type": "markdown",
   "metadata": {},
   "source": [
    "-"
   ]
  },
  {
   "cell_type": "markdown",
   "metadata": {},
   "source": [
    "**Step #5:** Concatenate all of the 'normal' car model dfs into one master dataframe"
   ]
  },
  {
   "cell_type": "code",
   "execution_count": 31,
   "metadata": {
    "scrolled": true
   },
   "outputs": [
    {
     "data": {
      "text/html": [
       "<div>\n",
       "<style scoped>\n",
       "    .dataframe tbody tr th:only-of-type {\n",
       "        vertical-align: middle;\n",
       "    }\n",
       "\n",
       "    .dataframe tbody tr th {\n",
       "        vertical-align: top;\n",
       "    }\n",
       "\n",
       "    .dataframe thead th {\n",
       "        text-align: right;\n",
       "    }\n",
       "</style>\n",
       "<table border=\"1\" class=\"dataframe\">\n",
       "  <thead>\n",
       "    <tr style=\"text-align: right;\">\n",
       "      <th></th>\n",
       "      <th>year</th>\n",
       "      <th>make</th>\n",
       "      <th>model</th>\n",
       "      <th>capacity_liters</th>\n",
       "      <th>cylinders</th>\n",
       "      <th>transmission</th>\n",
       "      <th>trans_speed</th>\n",
       "      <th>fuel_type</th>\n",
       "      <th>gg_emissions</th>\n",
       "      <th>mpg</th>\n",
       "    </tr>\n",
       "  </thead>\n",
       "  <tbody>\n",
       "    <tr>\n",
       "      <th>0</th>\n",
       "      <td>2019</td>\n",
       "      <td>Volkswagen</td>\n",
       "      <td>Arteon</td>\n",
       "      <td>2.0</td>\n",
       "      <td>4</td>\n",
       "      <td>Automatic</td>\n",
       "      <td>S8</td>\n",
       "      <td>Premium Gasoline</td>\n",
       "      <td>350</td>\n",
       "      <td>25</td>\n",
       "    </tr>\n",
       "    <tr>\n",
       "      <th>1</th>\n",
       "      <td>2020</td>\n",
       "      <td>Volkswagen</td>\n",
       "      <td>Arteon</td>\n",
       "      <td>2.0</td>\n",
       "      <td>4</td>\n",
       "      <td>Automatic</td>\n",
       "      <td>S8</td>\n",
       "      <td>Premium Gasoline</td>\n",
       "      <td>354</td>\n",
       "      <td>25</td>\n",
       "    </tr>\n",
       "    <tr>\n",
       "      <th>2</th>\n",
       "      <td>2020</td>\n",
       "      <td>Volkswagen</td>\n",
       "      <td>Arteon 4motion</td>\n",
       "      <td>2.0</td>\n",
       "      <td>4</td>\n",
       "      <td>Automatic</td>\n",
       "      <td>S8</td>\n",
       "      <td>Premium Gasoline</td>\n",
       "      <td>377</td>\n",
       "      <td>23</td>\n",
       "    </tr>\n",
       "    <tr>\n",
       "      <th>3</th>\n",
       "      <td>2019</td>\n",
       "      <td>Volkswagen</td>\n",
       "      <td>Arteon 4motion</td>\n",
       "      <td>2.0</td>\n",
       "      <td>4</td>\n",
       "      <td>Automatic</td>\n",
       "      <td>S8</td>\n",
       "      <td>Premium Gasoline</td>\n",
       "      <td>393</td>\n",
       "      <td>23</td>\n",
       "    </tr>\n",
       "    <tr>\n",
       "      <th>4</th>\n",
       "      <td>2018</td>\n",
       "      <td>Volkswagen</td>\n",
       "      <td>Atlas</td>\n",
       "      <td>2.0</td>\n",
       "      <td>4</td>\n",
       "      <td>Automatic</td>\n",
       "      <td>S8</td>\n",
       "      <td>Regular Gasoline</td>\n",
       "      <td>375</td>\n",
       "      <td>24</td>\n",
       "    </tr>\n",
       "    <tr>\n",
       "      <th>...</th>\n",
       "      <td>...</td>\n",
       "      <td>...</td>\n",
       "      <td>...</td>\n",
       "      <td>...</td>\n",
       "      <td>...</td>\n",
       "      <td>...</td>\n",
       "      <td>...</td>\n",
       "      <td>...</td>\n",
       "      <td>...</td>\n",
       "      <td>...</td>\n",
       "    </tr>\n",
       "    <tr>\n",
       "      <th>167</th>\n",
       "      <td>1985</td>\n",
       "      <td>Volkswagen</td>\n",
       "      <td>Vanagon 2WD</td>\n",
       "      <td>1.9</td>\n",
       "      <td>4</td>\n",
       "      <td>Manual</td>\n",
       "      <td>4</td>\n",
       "      <td>Regular Gasoline</td>\n",
       "      <td>555</td>\n",
       "      <td>16</td>\n",
       "    </tr>\n",
       "    <tr>\n",
       "      <th>168</th>\n",
       "      <td>1984</td>\n",
       "      <td>Volkswagen</td>\n",
       "      <td>Vanagon 2WD</td>\n",
       "      <td>1.9</td>\n",
       "      <td>4</td>\n",
       "      <td>Manual</td>\n",
       "      <td>4</td>\n",
       "      <td>Regular Gasoline</td>\n",
       "      <td>555</td>\n",
       "      <td>16</td>\n",
       "    </tr>\n",
       "    <tr>\n",
       "      <th>169</th>\n",
       "      <td>1984</td>\n",
       "      <td>Volkswagen</td>\n",
       "      <td>Vanagon 2WD</td>\n",
       "      <td>1.9</td>\n",
       "      <td>4</td>\n",
       "      <td>Manual</td>\n",
       "      <td>4</td>\n",
       "      <td>Regular Gasoline</td>\n",
       "      <td>555</td>\n",
       "      <td>16</td>\n",
       "    </tr>\n",
       "    <tr>\n",
       "      <th>170</th>\n",
       "      <td>1985</td>\n",
       "      <td>Volkswagen</td>\n",
       "      <td>Vanagon 2WD</td>\n",
       "      <td>1.9</td>\n",
       "      <td>4</td>\n",
       "      <td>Automatic</td>\n",
       "      <td>3</td>\n",
       "      <td>Regular Gasoline</td>\n",
       "      <td>555</td>\n",
       "      <td>16</td>\n",
       "    </tr>\n",
       "    <tr>\n",
       "      <th>171</th>\n",
       "      <td>1987</td>\n",
       "      <td>Volkswagen</td>\n",
       "      <td>Vanagon/Camper 2WD</td>\n",
       "      <td>2.1</td>\n",
       "      <td>4</td>\n",
       "      <td>Manual</td>\n",
       "      <td>4</td>\n",
       "      <td>Regular Gasoline</td>\n",
       "      <td>592</td>\n",
       "      <td>15</td>\n",
       "    </tr>\n",
       "  </tbody>\n",
       "</table>\n",
       "<p>172 rows × 10 columns</p>\n",
       "</div>"
      ],
      "text/plain": [
       "     year        make               model  capacity_liters  cylinders  \\\n",
       "0    2019  Volkswagen              Arteon              2.0          4   \n",
       "1    2020  Volkswagen              Arteon              2.0          4   \n",
       "2    2020  Volkswagen      Arteon 4motion              2.0          4   \n",
       "3    2019  Volkswagen      Arteon 4motion              2.0          4   \n",
       "4    2018  Volkswagen               Atlas              2.0          4   \n",
       "..    ...         ...                 ...              ...        ...   \n",
       "167  1985  Volkswagen         Vanagon 2WD              1.9          4   \n",
       "168  1984  Volkswagen         Vanagon 2WD              1.9          4   \n",
       "169  1984  Volkswagen         Vanagon 2WD              1.9          4   \n",
       "170  1985  Volkswagen         Vanagon 2WD              1.9          4   \n",
       "171  1987  Volkswagen  Vanagon/Camper 2WD              2.1          4   \n",
       "\n",
       "    transmission trans_speed          fuel_type  gg_emissions  mpg  \n",
       "0      Automatic          S8   Premium Gasoline           350   25  \n",
       "1      Automatic          S8   Premium Gasoline           354   25  \n",
       "2      Automatic          S8   Premium Gasoline           377   23  \n",
       "3      Automatic          S8   Premium Gasoline           393   23  \n",
       "4      Automatic          S8   Regular Gasoline           375   24  \n",
       "..           ...         ...                ...           ...  ...  \n",
       "167       Manual           4   Regular Gasoline           555   16  \n",
       "168       Manual           4   Regular Gasoline           555   16  \n",
       "169       Manual           4   Regular Gasoline           555   16  \n",
       "170    Automatic           3   Regular Gasoline           555   16  \n",
       "171       Manual           4   Regular Gasoline           592   15  \n",
       "\n",
       "[172 rows x 10 columns]"
      ]
     },
     "execution_count": 31,
     "metadata": {},
     "output_type": "execute_result"
    }
   ],
   "source": [
    "volkswagen_dfs = pd.concat(volkswagen_dfs, ignore_index=True)\n",
    "\n",
    "volkswagen_dfs"
   ]
  },
  {
   "cell_type": "markdown",
   "metadata": {},
   "source": [
    "-"
   ]
  },
  {
   "cell_type": "markdown",
   "metadata": {},
   "source": [
    "**Step #6:** Pickle the dataframe made in Step 6 of all car's models with 'normal' dataframes\n",
    "- Will now be saved so further work on dataframe can start at this place"
   ]
  },
  {
   "cell_type": "code",
   "execution_count": 32,
   "metadata": {},
   "outputs": [],
   "source": [
    "with open('pickles/volkswagen_dfs.pickle', 'wb') as to_write:\n",
    "    pickle.dump(volkswagen_dfs, to_write)"
   ]
  },
  {
   "cell_type": "markdown",
   "metadata": {},
   "source": [
    "-"
   ]
  },
  {
   "cell_type": "markdown",
   "metadata": {},
   "source": [
    "**Step #7:** Un-pickle the dataframe made in Step 7 of all car's models with 'normal' dataframes"
   ]
  },
  {
   "cell_type": "code",
   "execution_count": 33,
   "metadata": {},
   "outputs": [],
   "source": [
    "with open('pickles/volkswagen_dfs.pickle','rb') as read_file:\n",
    "    volkswagen_dfs = pickle.load(read_file)"
   ]
  },
  {
   "cell_type": "code",
   "execution_count": null,
   "metadata": {},
   "outputs": [],
   "source": []
  }
 ],
 "metadata": {
  "kernelspec": {
   "display_name": "Python 3",
   "language": "python",
   "name": "python3"
  },
  "language_info": {
   "codemirror_mode": {
    "name": "ipython",
    "version": 3
   },
   "file_extension": ".py",
   "mimetype": "text/x-python",
   "name": "python",
   "nbconvert_exporter": "python",
   "pygments_lexer": "ipython3",
   "version": "3.7.4"
  }
 },
 "nbformat": 4,
 "nbformat_minor": 2
}
