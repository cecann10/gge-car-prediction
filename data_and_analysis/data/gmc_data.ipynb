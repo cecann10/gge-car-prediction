{
 "cells": [
  {
   "cell_type": "code",
   "execution_count": 2,
   "metadata": {},
   "outputs": [],
   "source": [
    "import requests\n",
    "from requests import get\n",
    "from bs4 import BeautifulSoup\n",
    "import pandas as pd\n",
    "import numpy as np\n",
    "import pickle"
   ]
  },
  {
   "cell_type": "markdown",
   "metadata": {},
   "source": [
    "### Import functions unique to this project"
   ]
  },
  {
   "cell_type": "code",
   "execution_count": 3,
   "metadata": {},
   "outputs": [],
   "source": [
    "from master_functions import get_car_urls\n",
    "from master_functions import make_model_df"
   ]
  },
  {
   "cell_type": "markdown",
   "metadata": {},
   "source": [
    "## GMC - Create master dataframe for all models"
   ]
  },
  {
   "cell_type": "markdown",
   "metadata": {},
   "source": [
    "This worksheet is intended to build a datafame for all **GMC** cars.  There are some 'quirks' in how the data is structured from its source on https://www.fueleconomy.gov/, so more manual steps are taken below to check files for issues, combine first what is 'normal' and then add in those that required special attention."
   ]
  },
  {
   "cell_type": "markdown",
   "metadata": {},
   "source": [
    "**Step #1:** Create unique urls for every car model for the years 1984 - 2021<br>\n",
    "- Uses `get_car_urls` from master function, Inputs: (car_make, [list of all models])"
   ]
  },
  {
   "cell_type": "code",
   "execution_count": 5,
   "metadata": {},
   "outputs": [],
   "source": [
    "gmc_urls = get_car_urls('GMC',\n",
    "                        ['Acadia','C2500 Sierra','Caballero Pickup',\n",
    "                         'Canyon','Envoy','EV1','Jimmy',\n",
    "                         'K2500 Sierra','Pickup','Rally',\n",
    "                         'S15 Cab Chassis','S15 Pickup',\n",
    "                         'S15 Utility Body','Safari','Safari Cargo',\n",
    "                         'Safari Cargo','Safari Passenger',\n",
    "                         'Sierra','Sonoma','Suburban',\n",
    "                         'Terrain','Vandura','Yukon'\n",
    "                        ])"
   ]
  },
  {
   "cell_type": "markdown",
   "metadata": {},
   "source": [
    "-"
   ]
  },
  {
   "cell_type": "markdown",
   "metadata": {},
   "source": [
    "**Step #2:** Get length of list created in Step 1.  This number will be how many times you run the function in Step 3 to check all of the urls<br>"
   ]
  },
  {
   "cell_type": "code",
   "execution_count": 6,
   "metadata": {
    "scrolled": false
   },
   "outputs": [
    {
     "data": {
      "text/plain": [
       "23"
      ]
     },
     "execution_count": 6,
     "metadata": {},
     "output_type": "execute_result"
    }
   ],
   "source": [
    "# Verify number of urls and use this number\n",
    "# to know how many urls need to 'check below'\n",
    "\n",
    "len(gmc_urls)"
   ]
  },
  {
   "cell_type": "markdown",
   "metadata": {},
   "source": [
    "-"
   ]
  },
  {
   "cell_type": "markdown",
   "metadata": {},
   "source": [
    "**Step #3:** Check all of the urls you just created.<br>\n",
    "- If does not work, add to 'problem' URLs string below this cell"
   ]
  },
  {
   "cell_type": "code",
   "execution_count": 30,
   "metadata": {},
   "outputs": [
    {
     "data": {
      "text/html": [
       "<div>\n",
       "<style scoped>\n",
       "    .dataframe tbody tr th:only-of-type {\n",
       "        vertical-align: middle;\n",
       "    }\n",
       "\n",
       "    .dataframe tbody tr th {\n",
       "        vertical-align: top;\n",
       "    }\n",
       "\n",
       "    .dataframe thead th {\n",
       "        text-align: right;\n",
       "    }\n",
       "</style>\n",
       "<table border=\"1\" class=\"dataframe\">\n",
       "  <thead>\n",
       "    <tr style=\"text-align: right;\">\n",
       "      <th></th>\n",
       "      <th>year</th>\n",
       "      <th>make</th>\n",
       "      <th>model</th>\n",
       "      <th>capacity_liters</th>\n",
       "      <th>cylinders</th>\n",
       "      <th>transmission</th>\n",
       "      <th>trans_speed</th>\n",
       "      <th>fuel_type</th>\n",
       "      <th>gg_emissions</th>\n",
       "      <th>mpg</th>\n",
       "    </tr>\n",
       "  </thead>\n",
       "  <tbody>\n",
       "    <tr>\n",
       "      <th>0</th>\n",
       "      <td>2010</td>\n",
       "      <td>GMC</td>\n",
       "      <td>Yukon 1500 Hybrid 2WD</td>\n",
       "      <td>6.0</td>\n",
       "      <td>8</td>\n",
       "      <td>Automatic</td>\n",
       "      <td>variable</td>\n",
       "      <td>Regular Gasoline</td>\n",
       "      <td>404</td>\n",
       "      <td>22</td>\n",
       "    </tr>\n",
       "    <tr>\n",
       "      <th>1</th>\n",
       "      <td>2009</td>\n",
       "      <td>GMC</td>\n",
       "      <td>Yukon 1500 Hybrid 2WD</td>\n",
       "      <td>6.0</td>\n",
       "      <td>8</td>\n",
       "      <td>Automatic</td>\n",
       "      <td>variable</td>\n",
       "      <td>Regular Gasoline</td>\n",
       "      <td>423</td>\n",
       "      <td>21</td>\n",
       "    </tr>\n",
       "    <tr>\n",
       "      <th>2</th>\n",
       "      <td>2008</td>\n",
       "      <td>GMC</td>\n",
       "      <td>Yukon 1500 Hybrid 2WD</td>\n",
       "      <td>6.0</td>\n",
       "      <td>8</td>\n",
       "      <td>Automatic</td>\n",
       "      <td>variable</td>\n",
       "      <td>Regular Gasoline</td>\n",
       "      <td>423</td>\n",
       "      <td>21</td>\n",
       "    </tr>\n",
       "    <tr>\n",
       "      <th>3</th>\n",
       "      <td>2010</td>\n",
       "      <td>GMC</td>\n",
       "      <td>Yukon 1500 Hybrid 4WD</td>\n",
       "      <td>6.0</td>\n",
       "      <td>8</td>\n",
       "      <td>Automatic</td>\n",
       "      <td>variable</td>\n",
       "      <td>Regular Gasoline</td>\n",
       "      <td>423</td>\n",
       "      <td>21</td>\n",
       "    </tr>\n",
       "    <tr>\n",
       "      <th>4</th>\n",
       "      <td>2013</td>\n",
       "      <td>GMC</td>\n",
       "      <td>Yukon 1500 Hybrid 2WD</td>\n",
       "      <td>6.0</td>\n",
       "      <td>8</td>\n",
       "      <td>Automatic</td>\n",
       "      <td>variable</td>\n",
       "      <td>Regular Gasoline</td>\n",
       "      <td>418</td>\n",
       "      <td>21</td>\n",
       "    </tr>\n",
       "    <tr>\n",
       "      <th>5</th>\n",
       "      <td>2012</td>\n",
       "      <td>GMC</td>\n",
       "      <td>Yukon 1500 Hybrid 2WD</td>\n",
       "      <td>6.0</td>\n",
       "      <td>8</td>\n",
       "      <td>Automatic</td>\n",
       "      <td>variable</td>\n",
       "      <td>Regular Gasoline</td>\n",
       "      <td>423</td>\n",
       "      <td>21</td>\n",
       "    </tr>\n",
       "    <tr>\n",
       "      <th>6</th>\n",
       "      <td>2011</td>\n",
       "      <td>GMC</td>\n",
       "      <td>Yukon 1500 Hybrid 2WD</td>\n",
       "      <td>6.0</td>\n",
       "      <td>8</td>\n",
       "      <td>Automatic</td>\n",
       "      <td>variable</td>\n",
       "      <td>Regular Gasoline</td>\n",
       "      <td>423</td>\n",
       "      <td>21</td>\n",
       "    </tr>\n",
       "    <tr>\n",
       "      <th>7</th>\n",
       "      <td>2013</td>\n",
       "      <td>GMC</td>\n",
       "      <td>Yukon 1500 Hybrid 4WD</td>\n",
       "      <td>6.0</td>\n",
       "      <td>8</td>\n",
       "      <td>Automatic</td>\n",
       "      <td>variable</td>\n",
       "      <td>Regular Gasoline</td>\n",
       "      <td>416</td>\n",
       "      <td>21</td>\n",
       "    </tr>\n",
       "    <tr>\n",
       "      <th>8</th>\n",
       "      <td>2012</td>\n",
       "      <td>GMC</td>\n",
       "      <td>Yukon 1500 Hybrid 4WD</td>\n",
       "      <td>6.0</td>\n",
       "      <td>8</td>\n",
       "      <td>Automatic</td>\n",
       "      <td>variable</td>\n",
       "      <td>Regular Gasoline</td>\n",
       "      <td>423</td>\n",
       "      <td>21</td>\n",
       "    </tr>\n",
       "    <tr>\n",
       "      <th>9</th>\n",
       "      <td>2011</td>\n",
       "      <td>GMC</td>\n",
       "      <td>Yukon 1500 Hybrid 4WD</td>\n",
       "      <td>6.0</td>\n",
       "      <td>8</td>\n",
       "      <td>Automatic</td>\n",
       "      <td>variable</td>\n",
       "      <td>Regular Gasoline</td>\n",
       "      <td>423</td>\n",
       "      <td>21</td>\n",
       "    </tr>\n",
       "  </tbody>\n",
       "</table>\n",
       "</div>"
      ],
      "text/plain": [
       "   year make                  model  capacity_liters  cylinders transmission  \\\n",
       "0  2010  GMC  Yukon 1500 Hybrid 2WD              6.0          8    Automatic   \n",
       "1  2009  GMC  Yukon 1500 Hybrid 2WD              6.0          8    Automatic   \n",
       "2  2008  GMC  Yukon 1500 Hybrid 2WD              6.0          8    Automatic   \n",
       "3  2010  GMC  Yukon 1500 Hybrid 4WD              6.0          8    Automatic   \n",
       "4  2013  GMC  Yukon 1500 Hybrid 2WD              6.0          8    Automatic   \n",
       "5  2012  GMC  Yukon 1500 Hybrid 2WD              6.0          8    Automatic   \n",
       "6  2011  GMC  Yukon 1500 Hybrid 2WD              6.0          8    Automatic   \n",
       "7  2013  GMC  Yukon 1500 Hybrid 4WD              6.0          8    Automatic   \n",
       "8  2012  GMC  Yukon 1500 Hybrid 4WD              6.0          8    Automatic   \n",
       "9  2011  GMC  Yukon 1500 Hybrid 4WD              6.0          8    Automatic   \n",
       "\n",
       "  trans_speed          fuel_type  gg_emissions  mpg  \n",
       "0    variable   Regular Gasoline           404   22  \n",
       "1    variable   Regular Gasoline           423   21  \n",
       "2    variable   Regular Gasoline           423   21  \n",
       "3    variable   Regular Gasoline           423   21  \n",
       "4    variable   Regular Gasoline           418   21  \n",
       "5    variable   Regular Gasoline           423   21  \n",
       "6    variable   Regular Gasoline           423   21  \n",
       "7    variable   Regular Gasoline           416   21  \n",
       "8    variable   Regular Gasoline           423   21  \n",
       "9    variable   Regular Gasoline           423   21  "
      ]
     },
     "execution_count": 30,
     "metadata": {},
     "output_type": "execute_result"
    }
   ],
   "source": [
    "# Test area for each url with [carmake]_urls[index]\n",
    "# by seeing if data appears correctly\n",
    "\n",
    "make_model_df('GMC',gmc_urls[22])"
   ]
  },
  {
   "cell_type": "markdown",
   "metadata": {},
   "source": [
    "-"
   ]
  },
  {
   "cell_type": "markdown",
   "metadata": {},
   "source": [
    "Populate this section so if there are any 'problem' URLs from your test above"
   ]
  },
  {
   "cell_type": "code",
   "execution_count": 31,
   "metadata": {},
   "outputs": [
    {
     "data": {
      "text/plain": [
       "23"
      ]
     },
     "execution_count": 31,
     "metadata": {},
     "output_type": "execute_result"
    }
   ],
   "source": [
    "#'Problem' URLs\n",
    "'''\n",
    "gmc_urls[5]\n",
    "\n",
    "'''\n",
    "\n",
    "#Print list length again to \n",
    "#set length of range in next cell\n",
    "len(gmc_urls)"
   ]
  },
  {
   "cell_type": "markdown",
   "metadata": {},
   "source": [
    "-"
   ]
  },
  {
   "cell_type": "markdown",
   "metadata": {},
   "source": [
    "**Step #4:** Create dfs for all 'okay' urls and place each into a master list\n",
    "- Automate where possible, but some may need to be added one by one to avoid 'problem' urls"
   ]
  },
  {
   "cell_type": "code",
   "execution_count": 32,
   "metadata": {
    "scrolled": true
   },
   "outputs": [],
   "source": [
    "# for 'normal' urls to make a df and add to master df list, automate it!\n",
    "\n",
    "gmc_dfs = []\n",
    "\n",
    "for x in range(0,5):\n",
    "    gmc_dfs.append(make_model_df('GMC',gmc_urls[x]))\n",
    "    \n",
    "for x in range(6,23):\n",
    "    gmc_dfs.append(make_model_df('GMC',gmc_urls[x]))\n"
   ]
  },
  {
   "cell_type": "markdown",
   "metadata": {},
   "source": [
    "-"
   ]
  },
  {
   "cell_type": "markdown",
   "metadata": {},
   "source": [
    "**Step #5:** Concatenate all of the 'normal' car model dfs into one master dataframe"
   ]
  },
  {
   "cell_type": "code",
   "execution_count": 33,
   "metadata": {
    "scrolled": true
   },
   "outputs": [
    {
     "data": {
      "text/html": [
       "<div>\n",
       "<style scoped>\n",
       "    .dataframe tbody tr th:only-of-type {\n",
       "        vertical-align: middle;\n",
       "    }\n",
       "\n",
       "    .dataframe tbody tr th {\n",
       "        vertical-align: top;\n",
       "    }\n",
       "\n",
       "    .dataframe thead th {\n",
       "        text-align: right;\n",
       "    }\n",
       "</style>\n",
       "<table border=\"1\" class=\"dataframe\">\n",
       "  <thead>\n",
       "    <tr style=\"text-align: right;\">\n",
       "      <th></th>\n",
       "      <th>year</th>\n",
       "      <th>make</th>\n",
       "      <th>model</th>\n",
       "      <th>capacity_liters</th>\n",
       "      <th>cylinders</th>\n",
       "      <th>transmission</th>\n",
       "      <th>trans_speed</th>\n",
       "      <th>fuel_type</th>\n",
       "      <th>gg_emissions</th>\n",
       "      <th>mpg</th>\n",
       "    </tr>\n",
       "  </thead>\n",
       "  <tbody>\n",
       "    <tr>\n",
       "      <th>0</th>\n",
       "      <td>2020</td>\n",
       "      <td>GMC</td>\n",
       "      <td>Acadia FWD</td>\n",
       "      <td>2.0</td>\n",
       "      <td>4</td>\n",
       "      <td>Automatic</td>\n",
       "      <td>9</td>\n",
       "      <td>Regular Gasoline</td>\n",
       "      <td>362</td>\n",
       "      <td>24</td>\n",
       "    </tr>\n",
       "    <tr>\n",
       "      <th>1</th>\n",
       "      <td>2020</td>\n",
       "      <td>GMC</td>\n",
       "      <td>Acadia AWD</td>\n",
       "      <td>2.0</td>\n",
       "      <td>4</td>\n",
       "      <td>Automatic</td>\n",
       "      <td>9</td>\n",
       "      <td>Regular Gasoline</td>\n",
       "      <td>374</td>\n",
       "      <td>23</td>\n",
       "    </tr>\n",
       "    <tr>\n",
       "      <th>2</th>\n",
       "      <td>2020</td>\n",
       "      <td>GMC</td>\n",
       "      <td>Acadia FWD</td>\n",
       "      <td>2.5</td>\n",
       "      <td>4</td>\n",
       "      <td>Automatic</td>\n",
       "      <td>9</td>\n",
       "      <td>Regular Gasoline</td>\n",
       "      <td>382</td>\n",
       "      <td>23</td>\n",
       "    </tr>\n",
       "    <tr>\n",
       "      <th>3</th>\n",
       "      <td>2019</td>\n",
       "      <td>GMC</td>\n",
       "      <td>Acadia FWD</td>\n",
       "      <td>2.5</td>\n",
       "      <td>4</td>\n",
       "      <td>Automatic</td>\n",
       "      <td>6</td>\n",
       "      <td>Regular Gasoline</td>\n",
       "      <td>383</td>\n",
       "      <td>23</td>\n",
       "    </tr>\n",
       "    <tr>\n",
       "      <th>4</th>\n",
       "      <td>2018</td>\n",
       "      <td>GMC</td>\n",
       "      <td>Acadia FWD</td>\n",
       "      <td>2.5</td>\n",
       "      <td>4</td>\n",
       "      <td>Automatic</td>\n",
       "      <td>6</td>\n",
       "      <td>Regular Gasoline</td>\n",
       "      <td>386</td>\n",
       "      <td>23</td>\n",
       "    </tr>\n",
       "    <tr>\n",
       "      <th>...</th>\n",
       "      <td>...</td>\n",
       "      <td>...</td>\n",
       "      <td>...</td>\n",
       "      <td>...</td>\n",
       "      <td>...</td>\n",
       "      <td>...</td>\n",
       "      <td>...</td>\n",
       "      <td>...</td>\n",
       "      <td>...</td>\n",
       "      <td>...</td>\n",
       "    </tr>\n",
       "    <tr>\n",
       "      <th>207</th>\n",
       "      <td>2012</td>\n",
       "      <td>GMC</td>\n",
       "      <td>Yukon 1500 Hybrid 2WD</td>\n",
       "      <td>6.0</td>\n",
       "      <td>8</td>\n",
       "      <td>Automatic</td>\n",
       "      <td>variable</td>\n",
       "      <td>Regular Gasoline</td>\n",
       "      <td>423</td>\n",
       "      <td>21</td>\n",
       "    </tr>\n",
       "    <tr>\n",
       "      <th>208</th>\n",
       "      <td>2011</td>\n",
       "      <td>GMC</td>\n",
       "      <td>Yukon 1500 Hybrid 2WD</td>\n",
       "      <td>6.0</td>\n",
       "      <td>8</td>\n",
       "      <td>Automatic</td>\n",
       "      <td>variable</td>\n",
       "      <td>Regular Gasoline</td>\n",
       "      <td>423</td>\n",
       "      <td>21</td>\n",
       "    </tr>\n",
       "    <tr>\n",
       "      <th>209</th>\n",
       "      <td>2013</td>\n",
       "      <td>GMC</td>\n",
       "      <td>Yukon 1500 Hybrid 4WD</td>\n",
       "      <td>6.0</td>\n",
       "      <td>8</td>\n",
       "      <td>Automatic</td>\n",
       "      <td>variable</td>\n",
       "      <td>Regular Gasoline</td>\n",
       "      <td>416</td>\n",
       "      <td>21</td>\n",
       "    </tr>\n",
       "    <tr>\n",
       "      <th>210</th>\n",
       "      <td>2012</td>\n",
       "      <td>GMC</td>\n",
       "      <td>Yukon 1500 Hybrid 4WD</td>\n",
       "      <td>6.0</td>\n",
       "      <td>8</td>\n",
       "      <td>Automatic</td>\n",
       "      <td>variable</td>\n",
       "      <td>Regular Gasoline</td>\n",
       "      <td>423</td>\n",
       "      <td>21</td>\n",
       "    </tr>\n",
       "    <tr>\n",
       "      <th>211</th>\n",
       "      <td>2011</td>\n",
       "      <td>GMC</td>\n",
       "      <td>Yukon 1500 Hybrid 4WD</td>\n",
       "      <td>6.0</td>\n",
       "      <td>8</td>\n",
       "      <td>Automatic</td>\n",
       "      <td>variable</td>\n",
       "      <td>Regular Gasoline</td>\n",
       "      <td>423</td>\n",
       "      <td>21</td>\n",
       "    </tr>\n",
       "  </tbody>\n",
       "</table>\n",
       "<p>212 rows × 10 columns</p>\n",
       "</div>"
      ],
      "text/plain": [
       "     year make                  model  capacity_liters  cylinders  \\\n",
       "0    2020  GMC             Acadia FWD              2.0          4   \n",
       "1    2020  GMC             Acadia AWD              2.0          4   \n",
       "2    2020  GMC             Acadia FWD              2.5          4   \n",
       "3    2019  GMC             Acadia FWD              2.5          4   \n",
       "4    2018  GMC             Acadia FWD              2.5          4   \n",
       "..    ...  ...                    ...              ...        ...   \n",
       "207  2012  GMC  Yukon 1500 Hybrid 2WD              6.0          8   \n",
       "208  2011  GMC  Yukon 1500 Hybrid 2WD              6.0          8   \n",
       "209  2013  GMC  Yukon 1500 Hybrid 4WD              6.0          8   \n",
       "210  2012  GMC  Yukon 1500 Hybrid 4WD              6.0          8   \n",
       "211  2011  GMC  Yukon 1500 Hybrid 4WD              6.0          8   \n",
       "\n",
       "    transmission trans_speed          fuel_type  gg_emissions  mpg  \n",
       "0      Automatic           9   Regular Gasoline           362   24  \n",
       "1      Automatic           9   Regular Gasoline           374   23  \n",
       "2      Automatic           9   Regular Gasoline           382   23  \n",
       "3      Automatic           6   Regular Gasoline           383   23  \n",
       "4      Automatic           6   Regular Gasoline           386   23  \n",
       "..           ...         ...                ...           ...  ...  \n",
       "207    Automatic    variable   Regular Gasoline           423   21  \n",
       "208    Automatic    variable   Regular Gasoline           423   21  \n",
       "209    Automatic    variable   Regular Gasoline           416   21  \n",
       "210    Automatic    variable   Regular Gasoline           423   21  \n",
       "211    Automatic    variable   Regular Gasoline           423   21  \n",
       "\n",
       "[212 rows x 10 columns]"
      ]
     },
     "execution_count": 33,
     "metadata": {},
     "output_type": "execute_result"
    }
   ],
   "source": [
    "gmc_dfs = pd.concat(gmc_dfs, ignore_index=True)\n",
    "\n",
    "gmc_dfs"
   ]
  },
  {
   "cell_type": "markdown",
   "metadata": {},
   "source": [
    "-"
   ]
  },
  {
   "cell_type": "markdown",
   "metadata": {},
   "source": [
    "**Step #6:** Pickle the dataframe made in Step 6 of all car's models with 'normal' dataframes\n",
    "- Will now be saved so further work on dataframe can start at this place"
   ]
  },
  {
   "cell_type": "code",
   "execution_count": 34,
   "metadata": {},
   "outputs": [],
   "source": [
    "with open('pickles/gmc_dfs.pickle', 'wb') as to_write:\n",
    "    pickle.dump(gmc_dfs, to_write)"
   ]
  },
  {
   "cell_type": "markdown",
   "metadata": {},
   "source": [
    "-"
   ]
  },
  {
   "cell_type": "markdown",
   "metadata": {},
   "source": [
    "**Step #7:** Un-pickle the dataframe made in Step 7 of all car's models with 'normal' dataframes"
   ]
  },
  {
   "cell_type": "code",
   "execution_count": 35,
   "metadata": {},
   "outputs": [],
   "source": [
    "with open('pickles/gmc_dfs.pickle','rb') as read_file:\n",
    "    gmc_dfs = pickle.load(read_file)"
   ]
  },
  {
   "cell_type": "code",
   "execution_count": null,
   "metadata": {},
   "outputs": [],
   "source": []
  }
 ],
 "metadata": {
  "kernelspec": {
   "display_name": "Python 3",
   "language": "python",
   "name": "python3"
  },
  "language_info": {
   "codemirror_mode": {
    "name": "ipython",
    "version": 3
   },
   "file_extension": ".py",
   "mimetype": "text/x-python",
   "name": "python",
   "nbconvert_exporter": "python",
   "pygments_lexer": "ipython3",
   "version": "3.7.4"
  }
 },
 "nbformat": 4,
 "nbformat_minor": 2
}
