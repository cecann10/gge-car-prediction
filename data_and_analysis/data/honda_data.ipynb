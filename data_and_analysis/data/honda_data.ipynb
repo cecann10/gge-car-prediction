{
 "cells": [
  {
   "cell_type": "code",
   "execution_count": 2,
   "metadata": {},
   "outputs": [],
   "source": [
    "import requests\n",
    "from requests import get\n",
    "from bs4 import BeautifulSoup\n",
    "import pandas as pd\n",
    "import numpy as np\n",
    "import pickle"
   ]
  },
  {
   "cell_type": "markdown",
   "metadata": {},
   "source": [
    "### Import functions unique to this project"
   ]
  },
  {
   "cell_type": "code",
   "execution_count": 3,
   "metadata": {},
   "outputs": [],
   "source": [
    "from master_functions import get_car_urls\n",
    "from master_functions import make_model_df"
   ]
  },
  {
   "cell_type": "markdown",
   "metadata": {},
   "source": [
    "## HONDA - Create master dataframe for all models"
   ]
  },
  {
   "cell_type": "markdown",
   "metadata": {},
   "source": [
    "This worksheet is intended to build a datafame for all **Honda** cars.  There are some 'quirks' in how the data is structured from its source on https://www.fueleconomy.gov/, so more manual steps are taken below to check files for issues, combine first what is 'normal' and then add in those that required special attention."
   ]
  },
  {
   "cell_type": "markdown",
   "metadata": {},
   "source": [
    "**Step #1:** Create unique urls for every car model for the years 1984 - 2021<br>\n",
    "- Uses `get_car_urls` from master function, Inputs: (car_make, [list of all models])"
   ]
  },
  {
   "cell_type": "code",
   "execution_count": 4,
   "metadata": {},
   "outputs": [],
   "source": [
    "honda_urls = get_car_urls('Honda',\n",
    "                          ['Accord','Civic','Clarity','CR-V',\n",
    "                           'CR-Z','Crosstour','Del Sol',\n",
    "                           'Element','EV Plus','Fit','HR-V',\n",
    "                           'Insight','Odyssey','Passport',\n",
    "                           'Pilot','Prelude','Ridgeline',\n",
    "                           'S2000'\n",
    "                          ])"
   ]
  },
  {
   "cell_type": "markdown",
   "metadata": {},
   "source": [
    "-"
   ]
  },
  {
   "cell_type": "markdown",
   "metadata": {},
   "source": [
    "**Step #2:** Get length of list created in Step 1.  This number will be how many times you run the function in Step 3 to check all of the urls<br>"
   ]
  },
  {
   "cell_type": "code",
   "execution_count": 5,
   "metadata": {
    "scrolled": false
   },
   "outputs": [
    {
     "data": {
      "text/plain": [
       "18"
      ]
     },
     "execution_count": 5,
     "metadata": {},
     "output_type": "execute_result"
    }
   ],
   "source": [
    "# Verify number of urls and use this number\n",
    "# to know how many urls need to 'check below'\n",
    "\n",
    "len(honda_urls)"
   ]
  },
  {
   "cell_type": "markdown",
   "metadata": {},
   "source": [
    "-"
   ]
  },
  {
   "cell_type": "markdown",
   "metadata": {},
   "source": [
    "**Step #3:** Check all of the urls you just created.<br>\n",
    "- If does not work, add to 'problem' URLs string below this cell"
   ]
  },
  {
   "cell_type": "code",
   "execution_count": 26,
   "metadata": {},
   "outputs": [
    {
     "data": {
      "text/html": [
       "<div>\n",
       "<style scoped>\n",
       "    .dataframe tbody tr th:only-of-type {\n",
       "        vertical-align: middle;\n",
       "    }\n",
       "\n",
       "    .dataframe tbody tr th {\n",
       "        vertical-align: top;\n",
       "    }\n",
       "\n",
       "    .dataframe thead th {\n",
       "        text-align: right;\n",
       "    }\n",
       "</style>\n",
       "<table border=\"1\" class=\"dataframe\">\n",
       "  <thead>\n",
       "    <tr style=\"text-align: right;\">\n",
       "      <th></th>\n",
       "      <th>year</th>\n",
       "      <th>make</th>\n",
       "      <th>model</th>\n",
       "      <th>capacity_liters</th>\n",
       "      <th>cylinders</th>\n",
       "      <th>transmission</th>\n",
       "      <th>trans_speed</th>\n",
       "      <th>fuel_type</th>\n",
       "      <th>gg_emissions</th>\n",
       "      <th>mpg</th>\n",
       "    </tr>\n",
       "  </thead>\n",
       "  <tbody>\n",
       "    <tr>\n",
       "      <th>0</th>\n",
       "      <td>2009</td>\n",
       "      <td>Honda</td>\n",
       "      <td>S2000</td>\n",
       "      <td>2.2</td>\n",
       "      <td>4</td>\n",
       "      <td>Manual</td>\n",
       "      <td>6</td>\n",
       "      <td>Premium Gasoline</td>\n",
       "      <td>423</td>\n",
       "      <td>21</td>\n",
       "    </tr>\n",
       "    <tr>\n",
       "      <th>1</th>\n",
       "      <td>2008</td>\n",
       "      <td>Honda</td>\n",
       "      <td>S2000</td>\n",
       "      <td>2.2</td>\n",
       "      <td>4</td>\n",
       "      <td>Manual</td>\n",
       "      <td>6</td>\n",
       "      <td>Premium Gasoline</td>\n",
       "      <td>423</td>\n",
       "      <td>21</td>\n",
       "    </tr>\n",
       "    <tr>\n",
       "      <th>2</th>\n",
       "      <td>2007</td>\n",
       "      <td>Honda</td>\n",
       "      <td>S2000</td>\n",
       "      <td>2.2</td>\n",
       "      <td>4</td>\n",
       "      <td>Manual</td>\n",
       "      <td>6</td>\n",
       "      <td>Premium Gasoline</td>\n",
       "      <td>444</td>\n",
       "      <td>20</td>\n",
       "    </tr>\n",
       "    <tr>\n",
       "      <th>3</th>\n",
       "      <td>2006</td>\n",
       "      <td>Honda</td>\n",
       "      <td>S2000</td>\n",
       "      <td>2.2</td>\n",
       "      <td>4</td>\n",
       "      <td>Manual</td>\n",
       "      <td>6</td>\n",
       "      <td>Premium Gasoline</td>\n",
       "      <td>444</td>\n",
       "      <td>20</td>\n",
       "    </tr>\n",
       "    <tr>\n",
       "      <th>4</th>\n",
       "      <td>2003</td>\n",
       "      <td>Honda</td>\n",
       "      <td>S2000</td>\n",
       "      <td>2.0</td>\n",
       "      <td>4</td>\n",
       "      <td>Manual</td>\n",
       "      <td>6</td>\n",
       "      <td>Premium Gasoline</td>\n",
       "      <td>444</td>\n",
       "      <td>20</td>\n",
       "    </tr>\n",
       "    <tr>\n",
       "      <th>5</th>\n",
       "      <td>2002</td>\n",
       "      <td>Honda</td>\n",
       "      <td>S2000</td>\n",
       "      <td>2.0</td>\n",
       "      <td>4</td>\n",
       "      <td>Manual</td>\n",
       "      <td>6</td>\n",
       "      <td>Premium Gasoline</td>\n",
       "      <td>444</td>\n",
       "      <td>20</td>\n",
       "    </tr>\n",
       "    <tr>\n",
       "      <th>6</th>\n",
       "      <td>2001</td>\n",
       "      <td>Honda</td>\n",
       "      <td>S2000</td>\n",
       "      <td>2.0</td>\n",
       "      <td>4</td>\n",
       "      <td>Manual</td>\n",
       "      <td>6</td>\n",
       "      <td>Premium Gasoline</td>\n",
       "      <td>444</td>\n",
       "      <td>20</td>\n",
       "    </tr>\n",
       "    <tr>\n",
       "      <th>7</th>\n",
       "      <td>2000</td>\n",
       "      <td>Honda</td>\n",
       "      <td>S2000</td>\n",
       "      <td>2.0</td>\n",
       "      <td>4</td>\n",
       "      <td>Manual</td>\n",
       "      <td>6</td>\n",
       "      <td>Premium Gasoline</td>\n",
       "      <td>444</td>\n",
       "      <td>20</td>\n",
       "    </tr>\n",
       "    <tr>\n",
       "      <th>8</th>\n",
       "      <td>2005</td>\n",
       "      <td>Honda</td>\n",
       "      <td>S2000</td>\n",
       "      <td>2.2</td>\n",
       "      <td>4</td>\n",
       "      <td>Manual</td>\n",
       "      <td>6</td>\n",
       "      <td>Premium Gasoline</td>\n",
       "      <td>444</td>\n",
       "      <td>20</td>\n",
       "    </tr>\n",
       "    <tr>\n",
       "      <th>9</th>\n",
       "      <td>2004</td>\n",
       "      <td>Honda</td>\n",
       "      <td>S2000</td>\n",
       "      <td>2.2</td>\n",
       "      <td>4</td>\n",
       "      <td>Manual</td>\n",
       "      <td>6</td>\n",
       "      <td>Premium Gasoline</td>\n",
       "      <td>444</td>\n",
       "      <td>20</td>\n",
       "    </tr>\n",
       "  </tbody>\n",
       "</table>\n",
       "</div>"
      ],
      "text/plain": [
       "   year   make  model  capacity_liters  cylinders transmission trans_speed  \\\n",
       "0  2009  Honda  S2000              2.2          4       Manual           6   \n",
       "1  2008  Honda  S2000              2.2          4       Manual           6   \n",
       "2  2007  Honda  S2000              2.2          4       Manual           6   \n",
       "3  2006  Honda  S2000              2.2          4       Manual           6   \n",
       "4  2003  Honda  S2000              2.0          4       Manual           6   \n",
       "5  2002  Honda  S2000              2.0          4       Manual           6   \n",
       "6  2001  Honda  S2000              2.0          4       Manual           6   \n",
       "7  2000  Honda  S2000              2.0          4       Manual           6   \n",
       "8  2005  Honda  S2000              2.2          4       Manual           6   \n",
       "9  2004  Honda  S2000              2.2          4       Manual           6   \n",
       "\n",
       "           fuel_type  gg_emissions  mpg  \n",
       "0   Premium Gasoline           423   21  \n",
       "1   Premium Gasoline           423   21  \n",
       "2   Premium Gasoline           444   20  \n",
       "3   Premium Gasoline           444   20  \n",
       "4   Premium Gasoline           444   20  \n",
       "5   Premium Gasoline           444   20  \n",
       "6   Premium Gasoline           444   20  \n",
       "7   Premium Gasoline           444   20  \n",
       "8   Premium Gasoline           444   20  \n",
       "9   Premium Gasoline           444   20  "
      ]
     },
     "execution_count": 26,
     "metadata": {},
     "output_type": "execute_result"
    }
   ],
   "source": [
    "# Test area for each url with [carmake]_urls[index]\n",
    "# by seeing if data appears correctly\n",
    "\n",
    "make_model_df('Honda',honda_urls[17])"
   ]
  },
  {
   "cell_type": "markdown",
   "metadata": {},
   "source": [
    "-"
   ]
  },
  {
   "cell_type": "markdown",
   "metadata": {},
   "source": [
    "Populate this section so if there are any 'problem' URLs from your test above"
   ]
  },
  {
   "cell_type": "code",
   "execution_count": 28,
   "metadata": {},
   "outputs": [
    {
     "data": {
      "text/plain": [
       "18"
      ]
     },
     "execution_count": 28,
     "metadata": {},
     "output_type": "execute_result"
    }
   ],
   "source": [
    "#'Problem' URLs\n",
    "'''\n",
    "honda_urls[0]\n",
    "honda_urls[2]\n",
    "honda_urls[8]\n",
    "honda_urls[9]\n",
    "\n",
    "'''\n",
    "\n",
    "#Print list length again to \n",
    "#set length of range in next cell\n",
    "len(honda_urls)"
   ]
  },
  {
   "cell_type": "markdown",
   "metadata": {},
   "source": [
    "-"
   ]
  },
  {
   "cell_type": "markdown",
   "metadata": {},
   "source": [
    "**Step #4:** Create dfs for all 'okay' urls and place each into a master list\n",
    "- Automate where possible, but some may need to be added one by one to avoid 'problem' urls"
   ]
  },
  {
   "cell_type": "code",
   "execution_count": 29,
   "metadata": {
    "scrolled": true
   },
   "outputs": [],
   "source": [
    "# for 'normal' urls to make a df and add to master df list, automate it!\n",
    "\n",
    "honda_dfs = []\n",
    "\n",
    "honda_dfs.append(make_model_df('Honda',honda_urls[1]))\n",
    "\n",
    "for x in range(3,8):\n",
    "    honda_dfs.append(make_model_df('Honda',honda_urls[x]))\n",
    "    \n",
    "for x in range(10,18):\n",
    "    honda_dfs.append(make_model_df('Honda',honda_urls[x]))\n"
   ]
  },
  {
   "cell_type": "markdown",
   "metadata": {},
   "source": [
    "-"
   ]
  },
  {
   "cell_type": "markdown",
   "metadata": {},
   "source": [
    "**Step #5:** Concatenate all of the 'normal' car model dfs into one master dataframe"
   ]
  },
  {
   "cell_type": "code",
   "execution_count": 30,
   "metadata": {
    "scrolled": true
   },
   "outputs": [
    {
     "data": {
      "text/html": [
       "<div>\n",
       "<style scoped>\n",
       "    .dataframe tbody tr th:only-of-type {\n",
       "        vertical-align: middle;\n",
       "    }\n",
       "\n",
       "    .dataframe tbody tr th {\n",
       "        vertical-align: top;\n",
       "    }\n",
       "\n",
       "    .dataframe thead th {\n",
       "        text-align: right;\n",
       "    }\n",
       "</style>\n",
       "<table border=\"1\" class=\"dataframe\">\n",
       "  <thead>\n",
       "    <tr style=\"text-align: right;\">\n",
       "      <th></th>\n",
       "      <th>year</th>\n",
       "      <th>make</th>\n",
       "      <th>model</th>\n",
       "      <th>capacity_liters</th>\n",
       "      <th>cylinders</th>\n",
       "      <th>transmission</th>\n",
       "      <th>trans_speed</th>\n",
       "      <th>fuel_type</th>\n",
       "      <th>gg_emissions</th>\n",
       "      <th>mpg</th>\n",
       "    </tr>\n",
       "  </thead>\n",
       "  <tbody>\n",
       "    <tr>\n",
       "      <th>0</th>\n",
       "      <td>1987</td>\n",
       "      <td>Honda</td>\n",
       "      <td>Civic CRX HF</td>\n",
       "      <td>1.5</td>\n",
       "      <td>4</td>\n",
       "      <td>Manual</td>\n",
       "      <td>5</td>\n",
       "      <td>Regular Gasoline</td>\n",
       "      <td>193</td>\n",
       "      <td>46</td>\n",
       "    </tr>\n",
       "    <tr>\n",
       "      <th>1</th>\n",
       "      <td>1986</td>\n",
       "      <td>Honda</td>\n",
       "      <td>Civic CRX HF</td>\n",
       "      <td>1.5</td>\n",
       "      <td>4</td>\n",
       "      <td>Manual</td>\n",
       "      <td>5</td>\n",
       "      <td>Regular Gasoline</td>\n",
       "      <td>193</td>\n",
       "      <td>46</td>\n",
       "    </tr>\n",
       "    <tr>\n",
       "      <th>2</th>\n",
       "      <td>2015</td>\n",
       "      <td>Honda</td>\n",
       "      <td>Civic Hybrid</td>\n",
       "      <td>1.5</td>\n",
       "      <td>4</td>\n",
       "      <td>Automatic</td>\n",
       "      <td>variable</td>\n",
       "      <td>Regular Gasoline</td>\n",
       "      <td>202</td>\n",
       "      <td>44</td>\n",
       "    </tr>\n",
       "    <tr>\n",
       "      <th>3</th>\n",
       "      <td>2014</td>\n",
       "      <td>Honda</td>\n",
       "      <td>Civic Hybrid</td>\n",
       "      <td>1.5</td>\n",
       "      <td>4</td>\n",
       "      <td>Automatic</td>\n",
       "      <td>variable</td>\n",
       "      <td>Regular Gasoline</td>\n",
       "      <td>202</td>\n",
       "      <td>44</td>\n",
       "    </tr>\n",
       "    <tr>\n",
       "      <th>4</th>\n",
       "      <td>2013</td>\n",
       "      <td>Honda</td>\n",
       "      <td>Civic Hybrid</td>\n",
       "      <td>1.5</td>\n",
       "      <td>4</td>\n",
       "      <td>Automatic</td>\n",
       "      <td>variable</td>\n",
       "      <td>Regular Gasoline</td>\n",
       "      <td>200</td>\n",
       "      <td>44</td>\n",
       "    </tr>\n",
       "    <tr>\n",
       "      <th>...</th>\n",
       "      <td>...</td>\n",
       "      <td>...</td>\n",
       "      <td>...</td>\n",
       "      <td>...</td>\n",
       "      <td>...</td>\n",
       "      <td>...</td>\n",
       "      <td>...</td>\n",
       "      <td>...</td>\n",
       "      <td>...</td>\n",
       "      <td>...</td>\n",
       "    </tr>\n",
       "    <tr>\n",
       "      <th>135</th>\n",
       "      <td>2002</td>\n",
       "      <td>Honda</td>\n",
       "      <td>S2000</td>\n",
       "      <td>2.0</td>\n",
       "      <td>4</td>\n",
       "      <td>Manual</td>\n",
       "      <td>6</td>\n",
       "      <td>Premium Gasoline</td>\n",
       "      <td>444</td>\n",
       "      <td>20</td>\n",
       "    </tr>\n",
       "    <tr>\n",
       "      <th>136</th>\n",
       "      <td>2001</td>\n",
       "      <td>Honda</td>\n",
       "      <td>S2000</td>\n",
       "      <td>2.0</td>\n",
       "      <td>4</td>\n",
       "      <td>Manual</td>\n",
       "      <td>6</td>\n",
       "      <td>Premium Gasoline</td>\n",
       "      <td>444</td>\n",
       "      <td>20</td>\n",
       "    </tr>\n",
       "    <tr>\n",
       "      <th>137</th>\n",
       "      <td>2000</td>\n",
       "      <td>Honda</td>\n",
       "      <td>S2000</td>\n",
       "      <td>2.0</td>\n",
       "      <td>4</td>\n",
       "      <td>Manual</td>\n",
       "      <td>6</td>\n",
       "      <td>Premium Gasoline</td>\n",
       "      <td>444</td>\n",
       "      <td>20</td>\n",
       "    </tr>\n",
       "    <tr>\n",
       "      <th>138</th>\n",
       "      <td>2005</td>\n",
       "      <td>Honda</td>\n",
       "      <td>S2000</td>\n",
       "      <td>2.2</td>\n",
       "      <td>4</td>\n",
       "      <td>Manual</td>\n",
       "      <td>6</td>\n",
       "      <td>Premium Gasoline</td>\n",
       "      <td>444</td>\n",
       "      <td>20</td>\n",
       "    </tr>\n",
       "    <tr>\n",
       "      <th>139</th>\n",
       "      <td>2004</td>\n",
       "      <td>Honda</td>\n",
       "      <td>S2000</td>\n",
       "      <td>2.2</td>\n",
       "      <td>4</td>\n",
       "      <td>Manual</td>\n",
       "      <td>6</td>\n",
       "      <td>Premium Gasoline</td>\n",
       "      <td>444</td>\n",
       "      <td>20</td>\n",
       "    </tr>\n",
       "  </tbody>\n",
       "</table>\n",
       "<p>140 rows × 10 columns</p>\n",
       "</div>"
      ],
      "text/plain": [
       "     year   make         model  capacity_liters  cylinders transmission  \\\n",
       "0    1987  Honda  Civic CRX HF              1.5          4       Manual   \n",
       "1    1986  Honda  Civic CRX HF              1.5          4       Manual   \n",
       "2    2015  Honda  Civic Hybrid              1.5          4    Automatic   \n",
       "3    2014  Honda  Civic Hybrid              1.5          4    Automatic   \n",
       "4    2013  Honda  Civic Hybrid              1.5          4    Automatic   \n",
       "..    ...    ...           ...              ...        ...          ...   \n",
       "135  2002  Honda         S2000              2.0          4       Manual   \n",
       "136  2001  Honda         S2000              2.0          4       Manual   \n",
       "137  2000  Honda         S2000              2.0          4       Manual   \n",
       "138  2005  Honda         S2000              2.2          4       Manual   \n",
       "139  2004  Honda         S2000              2.2          4       Manual   \n",
       "\n",
       "    trans_speed          fuel_type  gg_emissions  mpg  \n",
       "0             5   Regular Gasoline           193   46  \n",
       "1             5   Regular Gasoline           193   46  \n",
       "2      variable   Regular Gasoline           202   44  \n",
       "3      variable   Regular Gasoline           202   44  \n",
       "4      variable   Regular Gasoline           200   44  \n",
       "..          ...                ...           ...  ...  \n",
       "135           6   Premium Gasoline           444   20  \n",
       "136           6   Premium Gasoline           444   20  \n",
       "137           6   Premium Gasoline           444   20  \n",
       "138           6   Premium Gasoline           444   20  \n",
       "139           6   Premium Gasoline           444   20  \n",
       "\n",
       "[140 rows x 10 columns]"
      ]
     },
     "execution_count": 30,
     "metadata": {},
     "output_type": "execute_result"
    }
   ],
   "source": [
    "honda_dfs = pd.concat(honda_dfs, ignore_index=True)\n",
    "\n",
    "honda_dfs"
   ]
  },
  {
   "cell_type": "markdown",
   "metadata": {},
   "source": [
    "-"
   ]
  },
  {
   "cell_type": "markdown",
   "metadata": {},
   "source": [
    "**Step #6:** Pickle the dataframe made in Step 6 of all car's models with 'normal' dataframes\n",
    "- Will now be saved so further work on dataframe can start at this place"
   ]
  },
  {
   "cell_type": "code",
   "execution_count": 31,
   "metadata": {},
   "outputs": [],
   "source": [
    "with open('pickles/honda_dfs.pickle', 'wb') as to_write:\n",
    "    pickle.dump(honda_dfs, to_write)"
   ]
  },
  {
   "cell_type": "markdown",
   "metadata": {},
   "source": [
    "-"
   ]
  },
  {
   "cell_type": "markdown",
   "metadata": {},
   "source": [
    "**Step #7:** Un-pickle the dataframe made in Step 7 of all car's models with 'normal' dataframes"
   ]
  },
  {
   "cell_type": "code",
   "execution_count": 32,
   "metadata": {},
   "outputs": [],
   "source": [
    "with open('pickles/honda_dfs.pickle','rb') as read_file:\n",
    "    honda_dfs = pickle.load(read_file)"
   ]
  },
  {
   "cell_type": "code",
   "execution_count": null,
   "metadata": {},
   "outputs": [],
   "source": []
  }
 ],
 "metadata": {
  "kernelspec": {
   "display_name": "Python 3",
   "language": "python",
   "name": "python3"
  },
  "language_info": {
   "codemirror_mode": {
    "name": "ipython",
    "version": 3
   },
   "file_extension": ".py",
   "mimetype": "text/x-python",
   "name": "python",
   "nbconvert_exporter": "python",
   "pygments_lexer": "ipython3",
   "version": "3.7.4"
  }
 },
 "nbformat": 4,
 "nbformat_minor": 2
}
