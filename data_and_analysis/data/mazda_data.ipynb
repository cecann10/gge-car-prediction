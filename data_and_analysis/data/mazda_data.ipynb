{
 "cells": [
  {
   "cell_type": "code",
   "execution_count": 1,
   "metadata": {},
   "outputs": [],
   "source": [
    "import requests\n",
    "from requests import get\n",
    "from bs4 import BeautifulSoup\n",
    "import pandas as pd\n",
    "import numpy as np\n",
    "import pickle"
   ]
  },
  {
   "cell_type": "markdown",
   "metadata": {},
   "source": [
    "### Import functions unique to this project"
   ]
  },
  {
   "cell_type": "code",
   "execution_count": 2,
   "metadata": {},
   "outputs": [],
   "source": [
    "from master_functions import get_car_urls\n",
    "from master_functions import make_model_df"
   ]
  },
  {
   "cell_type": "markdown",
   "metadata": {},
   "source": [
    "## MAZDA - Create master dataframe for all models\n",
    "\n",
    "This worksheet is intended to build a datafame for all **Mazda** cars.  There are some 'quirks' in how the data is structured from its source on https://www.fueleconomy.gov/, so more manual steps are taken below to check files for issues, combine first what is 'normal' and then add in those that required special attention.\n",
    "\n",
    "**Step #1:** Create unique urls for every car model for the years 1984 - 2021<br>\n",
    "- Uses `get_car_urls` from master function, Inputs: (car_make, [list of all models])"
   ]
  },
  {
   "cell_type": "code",
   "execution_count": 38,
   "metadata": {},
   "outputs": [],
   "source": [
    "mazda_urls = get_car_urls('Mazda',\n",
    "                          ['2','3','323','323 Protege',\n",
    "                           '5','6','626','626/MX-6','929',\n",
    "                           'B Pickup','CX-3','CX-30','CX-5',\n",
    "                           'CX-7','CX-9','GLC','Millenia',\n",
    "                           'MPV','MX-3','MX-5','MX-5 Miata',\n",
    "                           'MX-6','Navajo','Protege'\n",
    "                          ])"
   ]
  },
  {
   "cell_type": "markdown",
   "metadata": {},
   "source": [
    "-"
   ]
  },
  {
   "cell_type": "markdown",
   "metadata": {},
   "source": [
    "**Step #2:** Get length of list created in Step 1.  This number will be how many times you run the function in Step 3 to check all of the urls<br>"
   ]
  },
  {
   "cell_type": "code",
   "execution_count": 39,
   "metadata": {
    "scrolled": false
   },
   "outputs": [
    {
     "data": {
      "text/plain": [
       "24"
      ]
     },
     "execution_count": 39,
     "metadata": {},
     "output_type": "execute_result"
    }
   ],
   "source": [
    "# Verify number of urls and use this number\n",
    "# to know how many urls need to 'check below'\n",
    "\n",
    "len(mazda_urls)"
   ]
  },
  {
   "cell_type": "markdown",
   "metadata": {},
   "source": [
    "-"
   ]
  },
  {
   "cell_type": "markdown",
   "metadata": {},
   "source": [
    "**Step #3:** Check all of the urls you just created.<br>\n",
    "- If does not work, add to 'problem' URLs string below this cell"
   ]
  },
  {
   "cell_type": "code",
   "execution_count": 65,
   "metadata": {},
   "outputs": [
    {
     "data": {
      "text/html": [
       "<div>\n",
       "<style scoped>\n",
       "    .dataframe tbody tr th:only-of-type {\n",
       "        vertical-align: middle;\n",
       "    }\n",
       "\n",
       "    .dataframe tbody tr th {\n",
       "        vertical-align: top;\n",
       "    }\n",
       "\n",
       "    .dataframe thead th {\n",
       "        text-align: right;\n",
       "    }\n",
       "</style>\n",
       "<table border=\"1\" class=\"dataframe\">\n",
       "  <thead>\n",
       "    <tr style=\"text-align: right;\">\n",
       "      <th></th>\n",
       "      <th>year</th>\n",
       "      <th>make</th>\n",
       "      <th>model</th>\n",
       "      <th>capacity_liters</th>\n",
       "      <th>cylinders</th>\n",
       "      <th>transmission</th>\n",
       "      <th>trans_speed</th>\n",
       "      <th>fuel_type</th>\n",
       "      <th>gg_emissions</th>\n",
       "      <th>mpg</th>\n",
       "    </tr>\n",
       "  </thead>\n",
       "  <tbody>\n",
       "    <tr>\n",
       "      <th>0</th>\n",
       "      <td>1996</td>\n",
       "      <td>Mazda</td>\n",
       "      <td>Protege</td>\n",
       "      <td>1.5</td>\n",
       "      <td>4</td>\n",
       "      <td>Manual</td>\n",
       "      <td>5</td>\n",
       "      <td>Regular Gasoline</td>\n",
       "      <td>296</td>\n",
       "      <td>30</td>\n",
       "    </tr>\n",
       "    <tr>\n",
       "      <th>1</th>\n",
       "      <td>1995</td>\n",
       "      <td>Mazda</td>\n",
       "      <td>Protege</td>\n",
       "      <td>1.5</td>\n",
       "      <td>4</td>\n",
       "      <td>Manual</td>\n",
       "      <td>5</td>\n",
       "      <td>Regular Gasoline</td>\n",
       "      <td>296</td>\n",
       "      <td>30</td>\n",
       "    </tr>\n",
       "    <tr>\n",
       "      <th>2</th>\n",
       "      <td>1998</td>\n",
       "      <td>Mazda</td>\n",
       "      <td>Protege</td>\n",
       "      <td>1.5</td>\n",
       "      <td>4</td>\n",
       "      <td>Manual</td>\n",
       "      <td>5</td>\n",
       "      <td>Regular Gasoline</td>\n",
       "      <td>306</td>\n",
       "      <td>29</td>\n",
       "    </tr>\n",
       "    <tr>\n",
       "      <th>3</th>\n",
       "      <td>1997</td>\n",
       "      <td>Mazda</td>\n",
       "      <td>Protege</td>\n",
       "      <td>1.5</td>\n",
       "      <td>4</td>\n",
       "      <td>Manual</td>\n",
       "      <td>5</td>\n",
       "      <td>Regular Gasoline</td>\n",
       "      <td>306</td>\n",
       "      <td>29</td>\n",
       "    </tr>\n",
       "    <tr>\n",
       "      <th>4</th>\n",
       "      <td>2000</td>\n",
       "      <td>Mazda</td>\n",
       "      <td>Protege</td>\n",
       "      <td>1.6</td>\n",
       "      <td>4</td>\n",
       "      <td>Manual</td>\n",
       "      <td>5</td>\n",
       "      <td>Regular Gasoline</td>\n",
       "      <td>329</td>\n",
       "      <td>27</td>\n",
       "    </tr>\n",
       "    <tr>\n",
       "      <th>5</th>\n",
       "      <td>1999</td>\n",
       "      <td>Mazda</td>\n",
       "      <td>Protege</td>\n",
       "      <td>1.6</td>\n",
       "      <td>4</td>\n",
       "      <td>Manual</td>\n",
       "      <td>5</td>\n",
       "      <td>Regular Gasoline</td>\n",
       "      <td>329</td>\n",
       "      <td>27</td>\n",
       "    </tr>\n",
       "    <tr>\n",
       "      <th>6</th>\n",
       "      <td>1995</td>\n",
       "      <td>Mazda</td>\n",
       "      <td>Protege</td>\n",
       "      <td>1.8</td>\n",
       "      <td>4</td>\n",
       "      <td>Manual</td>\n",
       "      <td>5</td>\n",
       "      <td>Regular Gasoline</td>\n",
       "      <td>329</td>\n",
       "      <td>27</td>\n",
       "    </tr>\n",
       "    <tr>\n",
       "      <th>7</th>\n",
       "      <td>1994</td>\n",
       "      <td>Mazda</td>\n",
       "      <td>Protege</td>\n",
       "      <td>1.8</td>\n",
       "      <td>4</td>\n",
       "      <td>Manual</td>\n",
       "      <td>5</td>\n",
       "      <td>Regular Gasoline</td>\n",
       "      <td>329</td>\n",
       "      <td>27</td>\n",
       "    </tr>\n",
       "    <tr>\n",
       "      <th>8</th>\n",
       "      <td>1993</td>\n",
       "      <td>Mazda</td>\n",
       "      <td>Protege</td>\n",
       "      <td>1.8</td>\n",
       "      <td>4</td>\n",
       "      <td>Manual</td>\n",
       "      <td>5</td>\n",
       "      <td>Regular Gasoline</td>\n",
       "      <td>329</td>\n",
       "      <td>27</td>\n",
       "    </tr>\n",
       "    <tr>\n",
       "      <th>9</th>\n",
       "      <td>1992</td>\n",
       "      <td>Mazda</td>\n",
       "      <td>Protege</td>\n",
       "      <td>1.8</td>\n",
       "      <td>4</td>\n",
       "      <td>Manual</td>\n",
       "      <td>5</td>\n",
       "      <td>Regular Gasoline</td>\n",
       "      <td>329</td>\n",
       "      <td>27</td>\n",
       "    </tr>\n",
       "  </tbody>\n",
       "</table>\n",
       "</div>"
      ],
      "text/plain": [
       "   year   make    model  capacity_liters  cylinders transmission trans_speed  \\\n",
       "0  1996  Mazda  Protege              1.5          4       Manual           5   \n",
       "1  1995  Mazda  Protege              1.5          4       Manual           5   \n",
       "2  1998  Mazda  Protege              1.5          4       Manual           5   \n",
       "3  1997  Mazda  Protege              1.5          4       Manual           5   \n",
       "4  2000  Mazda  Protege              1.6          4       Manual           5   \n",
       "5  1999  Mazda  Protege              1.6          4       Manual           5   \n",
       "6  1995  Mazda  Protege              1.8          4       Manual           5   \n",
       "7  1994  Mazda  Protege              1.8          4       Manual           5   \n",
       "8  1993  Mazda  Protege              1.8          4       Manual           5   \n",
       "9  1992  Mazda  Protege              1.8          4       Manual           5   \n",
       "\n",
       "           fuel_type  gg_emissions  mpg  \n",
       "0   Regular Gasoline           296   30  \n",
       "1   Regular Gasoline           296   30  \n",
       "2   Regular Gasoline           306   29  \n",
       "3   Regular Gasoline           306   29  \n",
       "4   Regular Gasoline           329   27  \n",
       "5   Regular Gasoline           329   27  \n",
       "6   Regular Gasoline           329   27  \n",
       "7   Regular Gasoline           329   27  \n",
       "8   Regular Gasoline           329   27  \n",
       "9   Regular Gasoline           329   27  "
      ]
     },
     "execution_count": 65,
     "metadata": {},
     "output_type": "execute_result"
    }
   ],
   "source": [
    "# Test area for each url with [carmake]_urls[index]\n",
    "# by seeing if data appears correctly\n",
    "\n",
    "make_model_df('Mazda',mazda_urls[23])"
   ]
  },
  {
   "cell_type": "markdown",
   "metadata": {},
   "source": [
    "-"
   ]
  },
  {
   "cell_type": "markdown",
   "metadata": {},
   "source": [
    "Populate this section so if there are any 'problem' URLs from your test above"
   ]
  },
  {
   "cell_type": "code",
   "execution_count": 67,
   "metadata": {},
   "outputs": [
    {
     "data": {
      "text/plain": [
       "24"
      ]
     },
     "execution_count": 67,
     "metadata": {},
     "output_type": "execute_result"
    }
   ],
   "source": [
    "#'Problem' URLs\n",
    "'''\n",
    "None! All clear\n",
    "'''\n",
    "\n",
    "#Print list length again to \n",
    "#set length of range in next cell\n",
    "len(mazda_urls)"
   ]
  },
  {
   "cell_type": "markdown",
   "metadata": {},
   "source": [
    "-"
   ]
  },
  {
   "cell_type": "markdown",
   "metadata": {},
   "source": [
    "**Step #4:** Create dfs for all 'okay' urls and place each into a master list\n",
    "- Automate where possible, but some may need to be added one by one to avoid 'problem' urls"
   ]
  },
  {
   "cell_type": "code",
   "execution_count": 68,
   "metadata": {
    "scrolled": true
   },
   "outputs": [],
   "source": [
    "# for 'normal' urls to make a df and add to master df list, automate it!\n",
    "\n",
    "mazda_dfs = []\n",
    "\n",
    "for x in range(0,24):\n",
    "    mazda_dfs.append(make_model_df('Mazda',mazda_urls[x]))\n"
   ]
  },
  {
   "cell_type": "markdown",
   "metadata": {},
   "source": [
    "-"
   ]
  },
  {
   "cell_type": "markdown",
   "metadata": {},
   "source": [
    "**Step #5:** Concatenate all of the 'normal' car model dfs into one master dataframe"
   ]
  },
  {
   "cell_type": "code",
   "execution_count": 69,
   "metadata": {
    "scrolled": true
   },
   "outputs": [
    {
     "data": {
      "text/html": [
       "<div>\n",
       "<style scoped>\n",
       "    .dataframe tbody tr th:only-of-type {\n",
       "        vertical-align: middle;\n",
       "    }\n",
       "\n",
       "    .dataframe tbody tr th {\n",
       "        vertical-align: top;\n",
       "    }\n",
       "\n",
       "    .dataframe thead th {\n",
       "        text-align: right;\n",
       "    }\n",
       "</style>\n",
       "<table border=\"1\" class=\"dataframe\">\n",
       "  <thead>\n",
       "    <tr style=\"text-align: right;\">\n",
       "      <th></th>\n",
       "      <th>year</th>\n",
       "      <th>make</th>\n",
       "      <th>model</th>\n",
       "      <th>capacity_liters</th>\n",
       "      <th>cylinders</th>\n",
       "      <th>transmission</th>\n",
       "      <th>trans_speed</th>\n",
       "      <th>fuel_type</th>\n",
       "      <th>gg_emissions</th>\n",
       "      <th>mpg</th>\n",
       "    </tr>\n",
       "  </thead>\n",
       "  <tbody>\n",
       "    <tr>\n",
       "      <th>0</th>\n",
       "      <td>2016</td>\n",
       "      <td>Mazda</td>\n",
       "      <td>2</td>\n",
       "      <td>1.5</td>\n",
       "      <td>4</td>\n",
       "      <td>Automatic</td>\n",
       "      <td>S6</td>\n",
       "      <td>Regular Gasoline</td>\n",
       "      <td>245</td>\n",
       "      <td>36</td>\n",
       "    </tr>\n",
       "    <tr>\n",
       "      <th>1</th>\n",
       "      <td>2020</td>\n",
       "      <td>Mazda</td>\n",
       "      <td>2</td>\n",
       "      <td>1.5</td>\n",
       "      <td>4</td>\n",
       "      <td>Automatic</td>\n",
       "      <td>S6</td>\n",
       "      <td>Regular Gasoline</td>\n",
       "      <td>253</td>\n",
       "      <td>35</td>\n",
       "    </tr>\n",
       "    <tr>\n",
       "      <th>2</th>\n",
       "      <td>2019</td>\n",
       "      <td>Mazda</td>\n",
       "      <td>2</td>\n",
       "      <td>1.5</td>\n",
       "      <td>4</td>\n",
       "      <td>Automatic</td>\n",
       "      <td>S6</td>\n",
       "      <td>Regular Gasoline</td>\n",
       "      <td>253</td>\n",
       "      <td>35</td>\n",
       "    </tr>\n",
       "    <tr>\n",
       "      <th>3</th>\n",
       "      <td>2018</td>\n",
       "      <td>Mazda</td>\n",
       "      <td>2</td>\n",
       "      <td>1.5</td>\n",
       "      <td>4</td>\n",
       "      <td>Automatic</td>\n",
       "      <td>S6</td>\n",
       "      <td>Regular Gasoline</td>\n",
       "      <td>252</td>\n",
       "      <td>35</td>\n",
       "    </tr>\n",
       "    <tr>\n",
       "      <th>4</th>\n",
       "      <td>2017</td>\n",
       "      <td>Mazda</td>\n",
       "      <td>2</td>\n",
       "      <td>1.5</td>\n",
       "      <td>4</td>\n",
       "      <td>Automatic</td>\n",
       "      <td>S6</td>\n",
       "      <td>Regular Gasoline</td>\n",
       "      <td>252</td>\n",
       "      <td>35</td>\n",
       "    </tr>\n",
       "    <tr>\n",
       "      <th>...</th>\n",
       "      <td>...</td>\n",
       "      <td>...</td>\n",
       "      <td>...</td>\n",
       "      <td>...</td>\n",
       "      <td>...</td>\n",
       "      <td>...</td>\n",
       "      <td>...</td>\n",
       "      <td>...</td>\n",
       "      <td>...</td>\n",
       "      <td>...</td>\n",
       "    </tr>\n",
       "    <tr>\n",
       "      <th>229</th>\n",
       "      <td>1999</td>\n",
       "      <td>Mazda</td>\n",
       "      <td>Protege</td>\n",
       "      <td>1.6</td>\n",
       "      <td>4</td>\n",
       "      <td>Manual</td>\n",
       "      <td>5</td>\n",
       "      <td>Regular Gasoline</td>\n",
       "      <td>329</td>\n",
       "      <td>27</td>\n",
       "    </tr>\n",
       "    <tr>\n",
       "      <th>230</th>\n",
       "      <td>1995</td>\n",
       "      <td>Mazda</td>\n",
       "      <td>Protege</td>\n",
       "      <td>1.8</td>\n",
       "      <td>4</td>\n",
       "      <td>Manual</td>\n",
       "      <td>5</td>\n",
       "      <td>Regular Gasoline</td>\n",
       "      <td>329</td>\n",
       "      <td>27</td>\n",
       "    </tr>\n",
       "    <tr>\n",
       "      <th>231</th>\n",
       "      <td>1994</td>\n",
       "      <td>Mazda</td>\n",
       "      <td>Protege</td>\n",
       "      <td>1.8</td>\n",
       "      <td>4</td>\n",
       "      <td>Manual</td>\n",
       "      <td>5</td>\n",
       "      <td>Regular Gasoline</td>\n",
       "      <td>329</td>\n",
       "      <td>27</td>\n",
       "    </tr>\n",
       "    <tr>\n",
       "      <th>232</th>\n",
       "      <td>1993</td>\n",
       "      <td>Mazda</td>\n",
       "      <td>Protege</td>\n",
       "      <td>1.8</td>\n",
       "      <td>4</td>\n",
       "      <td>Manual</td>\n",
       "      <td>5</td>\n",
       "      <td>Regular Gasoline</td>\n",
       "      <td>329</td>\n",
       "      <td>27</td>\n",
       "    </tr>\n",
       "    <tr>\n",
       "      <th>233</th>\n",
       "      <td>1992</td>\n",
       "      <td>Mazda</td>\n",
       "      <td>Protege</td>\n",
       "      <td>1.8</td>\n",
       "      <td>4</td>\n",
       "      <td>Manual</td>\n",
       "      <td>5</td>\n",
       "      <td>Regular Gasoline</td>\n",
       "      <td>329</td>\n",
       "      <td>27</td>\n",
       "    </tr>\n",
       "  </tbody>\n",
       "</table>\n",
       "<p>234 rows × 10 columns</p>\n",
       "</div>"
      ],
      "text/plain": [
       "     year   make    model  capacity_liters  cylinders transmission  \\\n",
       "0    2016  Mazda        2              1.5          4    Automatic   \n",
       "1    2020  Mazda        2              1.5          4    Automatic   \n",
       "2    2019  Mazda        2              1.5          4    Automatic   \n",
       "3    2018  Mazda        2              1.5          4    Automatic   \n",
       "4    2017  Mazda        2              1.5          4    Automatic   \n",
       "..    ...    ...      ...              ...        ...          ...   \n",
       "229  1999  Mazda  Protege              1.6          4       Manual   \n",
       "230  1995  Mazda  Protege              1.8          4       Manual   \n",
       "231  1994  Mazda  Protege              1.8          4       Manual   \n",
       "232  1993  Mazda  Protege              1.8          4       Manual   \n",
       "233  1992  Mazda  Protege              1.8          4       Manual   \n",
       "\n",
       "    trans_speed          fuel_type  gg_emissions  mpg  \n",
       "0            S6   Regular Gasoline           245   36  \n",
       "1            S6   Regular Gasoline           253   35  \n",
       "2            S6   Regular Gasoline           253   35  \n",
       "3            S6   Regular Gasoline           252   35  \n",
       "4            S6   Regular Gasoline           252   35  \n",
       "..          ...                ...           ...  ...  \n",
       "229           5   Regular Gasoline           329   27  \n",
       "230           5   Regular Gasoline           329   27  \n",
       "231           5   Regular Gasoline           329   27  \n",
       "232           5   Regular Gasoline           329   27  \n",
       "233           5   Regular Gasoline           329   27  \n",
       "\n",
       "[234 rows x 10 columns]"
      ]
     },
     "execution_count": 69,
     "metadata": {},
     "output_type": "execute_result"
    }
   ],
   "source": [
    "mazda_dfs = pd.concat(mazda_dfs, ignore_index=True)\n",
    "\n",
    "mazda_dfs"
   ]
  },
  {
   "cell_type": "markdown",
   "metadata": {},
   "source": [
    "-"
   ]
  },
  {
   "cell_type": "markdown",
   "metadata": {},
   "source": [
    "**Step #6:** Pickle the dataframe made in Step 6 of all car's models with 'normal' dataframes\n",
    "- Will now be saved so further work on dataframe can start at this place"
   ]
  },
  {
   "cell_type": "code",
   "execution_count": 71,
   "metadata": {},
   "outputs": [],
   "source": [
    "with open('pickles/mazda_dfs.pickle', 'wb') as to_write:\n",
    "    pickle.dump(mazda_dfs, to_write)"
   ]
  },
  {
   "cell_type": "markdown",
   "metadata": {},
   "source": [
    "-"
   ]
  },
  {
   "cell_type": "markdown",
   "metadata": {},
   "source": [
    "**Step #7:** Un-pickle the dataframe made in Step 7 of all car's models with 'normal' dataframes"
   ]
  },
  {
   "cell_type": "code",
   "execution_count": 72,
   "metadata": {},
   "outputs": [],
   "source": [
    "with open('pickles/mazda_dfs.pickle','rb') as read_file:\n",
    "    mazda_dfs = pickle.load(read_file)"
   ]
  },
  {
   "cell_type": "code",
   "execution_count": null,
   "metadata": {},
   "outputs": [],
   "source": []
  }
 ],
 "metadata": {
  "kernelspec": {
   "display_name": "Python 3",
   "language": "python",
   "name": "python3"
  },
  "language_info": {
   "codemirror_mode": {
    "name": "ipython",
    "version": 3
   },
   "file_extension": ".py",
   "mimetype": "text/x-python",
   "name": "python",
   "nbconvert_exporter": "python",
   "pygments_lexer": "ipython3",
   "version": "3.7.4"
  }
 },
 "nbformat": 4,
 "nbformat_minor": 2
}
