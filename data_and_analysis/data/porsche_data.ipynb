{
 "cells": [
  {
   "cell_type": "code",
   "execution_count": 2,
   "metadata": {},
   "outputs": [],
   "source": [
    "import requests\n",
    "from requests import get\n",
    "from bs4 import BeautifulSoup\n",
    "import pandas as pd\n",
    "import numpy as np\n",
    "import pickle"
   ]
  },
  {
   "cell_type": "markdown",
   "metadata": {},
   "source": [
    "### Import functions unique to this project"
   ]
  },
  {
   "cell_type": "code",
   "execution_count": 3,
   "metadata": {},
   "outputs": [],
   "source": [
    "from master_functions import get_car_urls\n",
    "from master_functions import make_model_df"
   ]
  },
  {
   "cell_type": "markdown",
   "metadata": {},
   "source": [
    "## PORSCHE - Create master dataframe for all models\n",
    "\n",
    "This worksheet is intended to build a datafame for all **Porsche** cars.  There are some 'quirks' in how the data is structured from its source on https://www.fueleconomy.gov/, so more manual steps are taken below to check files for issues, combine first what is 'normal' and then add in those that required special attention.\n",
    "\n",
    "**Step #1:** Create unique urls for every car model for the years 1984 - 2021<br>\n",
    "- Uses `get_car_urls` from master function, Inputs: (car_make, [list of all models])"
   ]
  },
  {
   "cell_type": "code",
   "execution_count": 4,
   "metadata": {},
   "outputs": [],
   "source": [
    "porsche_urls = get_car_urls('Porsche',\n",
    "                            ['718','911','918 Spyder',\n",
    "                             '924','928','944','968',\n",
    "                             'Boxster','Carrera','Carrera 2 911 GT3',\n",
    "                             'Carrera 2 Cabriolet Kit',\n",
    "                             'Carrera 2 Coupe Kit',\n",
    "                             'Carrera 2 S Cabriolet',\n",
    "                             'Carrera 2 S Coupe',\n",
    "                             'Carrera 4','Carrera 4 Cabriolet',\n",
    "                             'Carrera 4 Cabriolet Kit',\n",
    "                             'Carrera 4 Coupe','Carrera 4 S',\n",
    "                             'Carrera 4 S Cabriolet',\n",
    "                             'Carrera 4 S Cabriolet Kit',\n",
    "                             'Carrera 4 S Coupe',\n",
    "                             'Carrera 4 S Kit',\n",
    "                             'Carrera 4 S Targa',\n",
    "                             'Carrera 4 Targa',\n",
    "                             'Carrera GT','Cayenne',\n",
    "                             'Cayman','Macan','New 911 Carrera',\n",
    "                             'Panamera','Targa','Taycan','Turbo',\n",
    "                             'Turbo 2 911 Gt2','Turbo 4 911',\n",
    "                             'Turbo 911 Cab','Turbo 4 911 Cab Kit',\n",
    "                             'Turbo 4 911 Kit','Turbo 4 911 S',\n",
    "                             'Turbo 4 911 Turbo',\n",
    "                             'Turbo 4 911 Cab S','Turbo GT2',\n",
    "                             'Turbo Kit'\n",
    "                            ])"
   ]
  },
  {
   "cell_type": "markdown",
   "metadata": {},
   "source": [
    "-"
   ]
  },
  {
   "cell_type": "markdown",
   "metadata": {},
   "source": [
    "**Step #2:** Get length of list created in Step 1.  This number will be how many times you run the function in Step 3 to check all of the urls<br>"
   ]
  },
  {
   "cell_type": "code",
   "execution_count": 5,
   "metadata": {
    "scrolled": false
   },
   "outputs": [
    {
     "data": {
      "text/plain": [
       "44"
      ]
     },
     "execution_count": 5,
     "metadata": {},
     "output_type": "execute_result"
    }
   ],
   "source": [
    "# Verify number of urls and use this number\n",
    "# to know how many urls need to 'check below'\n",
    "\n",
    "len(porsche_urls)"
   ]
  },
  {
   "cell_type": "markdown",
   "metadata": {},
   "source": [
    "-"
   ]
  },
  {
   "cell_type": "markdown",
   "metadata": {},
   "source": [
    "**Step #3:** Check all of the urls you just created.<br>\n",
    "- If does not work, add to 'problem' URLs string below this cell"
   ]
  },
  {
   "cell_type": "code",
   "execution_count": 52,
   "metadata": {},
   "outputs": [
    {
     "data": {
      "text/html": [
       "<div>\n",
       "<style scoped>\n",
       "    .dataframe tbody tr th:only-of-type {\n",
       "        vertical-align: middle;\n",
       "    }\n",
       "\n",
       "    .dataframe tbody tr th {\n",
       "        vertical-align: top;\n",
       "    }\n",
       "\n",
       "    .dataframe thead th {\n",
       "        text-align: right;\n",
       "    }\n",
       "</style>\n",
       "<table border=\"1\" class=\"dataframe\">\n",
       "  <thead>\n",
       "    <tr style=\"text-align: right;\">\n",
       "      <th></th>\n",
       "      <th>year</th>\n",
       "      <th>make</th>\n",
       "      <th>model</th>\n",
       "      <th>capacity_liters</th>\n",
       "      <th>cylinders</th>\n",
       "      <th>transmission</th>\n",
       "      <th>trans_speed</th>\n",
       "      <th>fuel_type</th>\n",
       "      <th>gg_emissions</th>\n",
       "      <th>mpg</th>\n",
       "    </tr>\n",
       "  </thead>\n",
       "  <tbody>\n",
       "    <tr>\n",
       "      <th>0</th>\n",
       "      <td>2003</td>\n",
       "      <td>Porsche</td>\n",
       "      <td>Turbo Kit</td>\n",
       "      <td>3.6</td>\n",
       "      <td>6</td>\n",
       "      <td>Manual</td>\n",
       "      <td>6</td>\n",
       "      <td>Premium Gasoline</td>\n",
       "      <td>555</td>\n",
       "      <td>16</td>\n",
       "    </tr>\n",
       "    <tr>\n",
       "      <th>1</th>\n",
       "      <td>2003</td>\n",
       "      <td>Porsche</td>\n",
       "      <td>Turbo Kit</td>\n",
       "      <td>3.6</td>\n",
       "      <td>6</td>\n",
       "      <td>Automatic</td>\n",
       "      <td>5</td>\n",
       "      <td>Premium Gasoline</td>\n",
       "      <td>555</td>\n",
       "      <td>16</td>\n",
       "    </tr>\n",
       "  </tbody>\n",
       "</table>\n",
       "</div>"
      ],
      "text/plain": [
       "   year     make      model  capacity_liters  cylinders transmission  \\\n",
       "0  2003  Porsche  Turbo Kit              3.6          6       Manual   \n",
       "1  2003  Porsche  Turbo Kit              3.6          6    Automatic   \n",
       "\n",
       "  trans_speed          fuel_type  gg_emissions  mpg  \n",
       "0           6   Premium Gasoline           555   16  \n",
       "1           5   Premium Gasoline           555   16  "
      ]
     },
     "execution_count": 52,
     "metadata": {},
     "output_type": "execute_result"
    }
   ],
   "source": [
    "# Test area for each url with [carmake]_urls[index]\n",
    "# by seeing if data appears correctly\n",
    "\n",
    "make_model_df('Porsche',porsche_urls[43])"
   ]
  },
  {
   "cell_type": "markdown",
   "metadata": {},
   "source": [
    "-"
   ]
  },
  {
   "cell_type": "markdown",
   "metadata": {},
   "source": [
    "Populate this section so if there are any 'problem' URLs from your test above"
   ]
  },
  {
   "cell_type": "code",
   "execution_count": 53,
   "metadata": {},
   "outputs": [
    {
     "data": {
      "text/plain": [
       "44"
      ]
     },
     "execution_count": 53,
     "metadata": {},
     "output_type": "execute_result"
    }
   ],
   "source": [
    "#'Problem' URLs\n",
    "'''\n",
    "porsche_urls[26]\n",
    "porsche_urls[30]\n",
    "porsche_urls[32]\n",
    "'''\n",
    "\n",
    "#Print list length again to \n",
    "#set length of range in next cell\n",
    "len(porsche_urls)"
   ]
  },
  {
   "cell_type": "markdown",
   "metadata": {},
   "source": [
    "-"
   ]
  },
  {
   "cell_type": "markdown",
   "metadata": {},
   "source": [
    "**Step #4:** Create dfs for all 'okay' urls and place each into a master list\n",
    "- Automate where possible, but some may need to be added one by one to avoid 'problem' urls"
   ]
  },
  {
   "cell_type": "code",
   "execution_count": 54,
   "metadata": {
    "scrolled": true
   },
   "outputs": [],
   "source": [
    "# for 'normal' urls to make a df and add to master df list, automate it!\n",
    "\n",
    "porsche_dfs = []\n",
    "\n",
    "for x in range(0,26):\n",
    "    porsche_dfs.append(make_model_df('Porsche',porsche_urls[x]))\n",
    "\n",
    "for x in range(27,30):\n",
    "    porsche_dfs.append(make_model_df('Porsche',porsche_urls[x]))\n",
    "\n",
    "porsche_dfs.append(make_model_df('Porsche',porsche_urls[31]))\n",
    "\n",
    "for x in range(33,44):\n",
    "    porsche_dfs.append(make_model_df('Porsche',porsche_urls[x]))\n",
    "    \n",
    "\n"
   ]
  },
  {
   "cell_type": "markdown",
   "metadata": {},
   "source": [
    "-"
   ]
  },
  {
   "cell_type": "markdown",
   "metadata": {},
   "source": [
    "**Step #5:** Concatenate all of the 'normal' car model dfs into one master dataframe"
   ]
  },
  {
   "cell_type": "code",
   "execution_count": 55,
   "metadata": {
    "scrolled": true
   },
   "outputs": [
    {
     "data": {
      "text/html": [
       "<div>\n",
       "<style scoped>\n",
       "    .dataframe tbody tr th:only-of-type {\n",
       "        vertical-align: middle;\n",
       "    }\n",
       "\n",
       "    .dataframe tbody tr th {\n",
       "        vertical-align: top;\n",
       "    }\n",
       "\n",
       "    .dataframe thead th {\n",
       "        text-align: right;\n",
       "    }\n",
       "</style>\n",
       "<table border=\"1\" class=\"dataframe\">\n",
       "  <thead>\n",
       "    <tr style=\"text-align: right;\">\n",
       "      <th></th>\n",
       "      <th>year</th>\n",
       "      <th>make</th>\n",
       "      <th>model</th>\n",
       "      <th>capacity_liters</th>\n",
       "      <th>cylinders</th>\n",
       "      <th>transmission</th>\n",
       "      <th>trans_speed</th>\n",
       "      <th>fuel_type</th>\n",
       "      <th>gg_emissions</th>\n",
       "      <th>mpg</th>\n",
       "    </tr>\n",
       "  </thead>\n",
       "  <tbody>\n",
       "    <tr>\n",
       "      <th>0</th>\n",
       "      <td>2020.0</td>\n",
       "      <td>Porsche</td>\n",
       "      <td>718 Cayman GT4</td>\n",
       "      <td>4.0</td>\n",
       "      <td>6.0</td>\n",
       "      <td>Manual</td>\n",
       "      <td>6</td>\n",
       "      <td>Premium Gasoline</td>\n",
       "      <td>473.0</td>\n",
       "      <td>19.0</td>\n",
       "    </tr>\n",
       "    <tr>\n",
       "      <th>1</th>\n",
       "      <td>2020.0</td>\n",
       "      <td>Porsche</td>\n",
       "      <td>718 Spyder</td>\n",
       "      <td>4.0</td>\n",
       "      <td>6.0</td>\n",
       "      <td>Manual</td>\n",
       "      <td>6</td>\n",
       "      <td>Premium Gasoline</td>\n",
       "      <td>473.0</td>\n",
       "      <td>19.0</td>\n",
       "    </tr>\n",
       "    <tr>\n",
       "      <th>2</th>\n",
       "      <td>2019.0</td>\n",
       "      <td>Porsche</td>\n",
       "      <td>911 Carrera</td>\n",
       "      <td>3.0</td>\n",
       "      <td>6.0</td>\n",
       "      <td>Automatic</td>\n",
       "      <td>AM-S7</td>\n",
       "      <td>Premium Gasoline</td>\n",
       "      <td>355.0</td>\n",
       "      <td>25.0</td>\n",
       "    </tr>\n",
       "    <tr>\n",
       "      <th>3</th>\n",
       "      <td>2018.0</td>\n",
       "      <td>Porsche</td>\n",
       "      <td>911 Carrera</td>\n",
       "      <td>3.0</td>\n",
       "      <td>6.0</td>\n",
       "      <td>Automatic</td>\n",
       "      <td>AM-S7</td>\n",
       "      <td>Premium Gasoline</td>\n",
       "      <td>355.0</td>\n",
       "      <td>25.0</td>\n",
       "    </tr>\n",
       "    <tr>\n",
       "      <th>4</th>\n",
       "      <td>2017.0</td>\n",
       "      <td>Porsche</td>\n",
       "      <td>911 Carrera</td>\n",
       "      <td>3.0</td>\n",
       "      <td>6.0</td>\n",
       "      <td>Automatic</td>\n",
       "      <td>AM-S7</td>\n",
       "      <td>Premium Gasoline</td>\n",
       "      <td>355.0</td>\n",
       "      <td>25.0</td>\n",
       "    </tr>\n",
       "    <tr>\n",
       "      <th>...</th>\n",
       "      <td>...</td>\n",
       "      <td>...</td>\n",
       "      <td>...</td>\n",
       "      <td>...</td>\n",
       "      <td>...</td>\n",
       "      <td>...</td>\n",
       "      <td>...</td>\n",
       "      <td>...</td>\n",
       "      <td>...</td>\n",
       "      <td>...</td>\n",
       "    </tr>\n",
       "    <tr>\n",
       "      <th>210</th>\n",
       "      <td>2007.0</td>\n",
       "      <td>Porsche</td>\n",
       "      <td>Turbo 4 911 Turbo</td>\n",
       "      <td>3.6</td>\n",
       "      <td>6.0</td>\n",
       "      <td>Automatic</td>\n",
       "      <td>5</td>\n",
       "      <td>Premium Gasoline</td>\n",
       "      <td>494.0</td>\n",
       "      <td>18.0</td>\n",
       "    </tr>\n",
       "    <tr>\n",
       "      <th>211</th>\n",
       "      <td>2005.0</td>\n",
       "      <td>Porsche</td>\n",
       "      <td>Turbo 4 911 Turbo</td>\n",
       "      <td>3.6</td>\n",
       "      <td>6.0</td>\n",
       "      <td>Automatic</td>\n",
       "      <td>5</td>\n",
       "      <td>Premium Gasoline</td>\n",
       "      <td>555.0</td>\n",
       "      <td>16.0</td>\n",
       "    </tr>\n",
       "    <tr>\n",
       "      <th>212</th>\n",
       "      <td>2005.0</td>\n",
       "      <td>Porsche</td>\n",
       "      <td>Turbo 4 911 Turbo</td>\n",
       "      <td>3.6</td>\n",
       "      <td>6.0</td>\n",
       "      <td>Manual</td>\n",
       "      <td>6</td>\n",
       "      <td>Premium Gasoline</td>\n",
       "      <td>555.0</td>\n",
       "      <td>16.0</td>\n",
       "    </tr>\n",
       "    <tr>\n",
       "      <th>213</th>\n",
       "      <td>2003.0</td>\n",
       "      <td>Porsche</td>\n",
       "      <td>Turbo Kit</td>\n",
       "      <td>3.6</td>\n",
       "      <td>6.0</td>\n",
       "      <td>Manual</td>\n",
       "      <td>6</td>\n",
       "      <td>Premium Gasoline</td>\n",
       "      <td>555.0</td>\n",
       "      <td>16.0</td>\n",
       "    </tr>\n",
       "    <tr>\n",
       "      <th>214</th>\n",
       "      <td>2003.0</td>\n",
       "      <td>Porsche</td>\n",
       "      <td>Turbo Kit</td>\n",
       "      <td>3.6</td>\n",
       "      <td>6.0</td>\n",
       "      <td>Automatic</td>\n",
       "      <td>5</td>\n",
       "      <td>Premium Gasoline</td>\n",
       "      <td>555.0</td>\n",
       "      <td>16.0</td>\n",
       "    </tr>\n",
       "  </tbody>\n",
       "</table>\n",
       "<p>215 rows × 10 columns</p>\n",
       "</div>"
      ],
      "text/plain": [
       "       year     make              model  capacity_liters  cylinders  \\\n",
       "0    2020.0  Porsche     718 Cayman GT4              4.0        6.0   \n",
       "1    2020.0  Porsche         718 Spyder              4.0        6.0   \n",
       "2    2019.0  Porsche        911 Carrera              3.0        6.0   \n",
       "3    2018.0  Porsche        911 Carrera              3.0        6.0   \n",
       "4    2017.0  Porsche        911 Carrera              3.0        6.0   \n",
       "..      ...      ...                ...              ...        ...   \n",
       "210  2007.0  Porsche  Turbo 4 911 Turbo              3.6        6.0   \n",
       "211  2005.0  Porsche  Turbo 4 911 Turbo              3.6        6.0   \n",
       "212  2005.0  Porsche  Turbo 4 911 Turbo              3.6        6.0   \n",
       "213  2003.0  Porsche          Turbo Kit              3.6        6.0   \n",
       "214  2003.0  Porsche          Turbo Kit              3.6        6.0   \n",
       "\n",
       "    transmission trans_speed          fuel_type  gg_emissions   mpg  \n",
       "0         Manual           6   Premium Gasoline         473.0  19.0  \n",
       "1         Manual           6   Premium Gasoline         473.0  19.0  \n",
       "2      Automatic       AM-S7   Premium Gasoline         355.0  25.0  \n",
       "3      Automatic       AM-S7   Premium Gasoline         355.0  25.0  \n",
       "4      Automatic       AM-S7   Premium Gasoline         355.0  25.0  \n",
       "..           ...         ...                ...           ...   ...  \n",
       "210    Automatic           5   Premium Gasoline         494.0  18.0  \n",
       "211    Automatic           5   Premium Gasoline         555.0  16.0  \n",
       "212       Manual           6   Premium Gasoline         555.0  16.0  \n",
       "213       Manual           6   Premium Gasoline         555.0  16.0  \n",
       "214    Automatic           5   Premium Gasoline         555.0  16.0  \n",
       "\n",
       "[215 rows x 10 columns]"
      ]
     },
     "execution_count": 55,
     "metadata": {},
     "output_type": "execute_result"
    }
   ],
   "source": [
    "porsche_dfs = pd.concat(porsche_dfs, ignore_index=True)\n",
    "\n",
    "porsche_dfs"
   ]
  },
  {
   "cell_type": "markdown",
   "metadata": {},
   "source": [
    "-"
   ]
  },
  {
   "cell_type": "markdown",
   "metadata": {},
   "source": [
    "**Step #6:** Pickle the dataframe made in Step 6 of all car's models with 'normal' dataframes\n",
    "- Will now be saved so further work on dataframe can start at this place"
   ]
  },
  {
   "cell_type": "code",
   "execution_count": 56,
   "metadata": {},
   "outputs": [],
   "source": [
    "with open('pickles/porsche_dfs.pickle', 'wb') as to_write:\n",
    "    pickle.dump(porsche_dfs, to_write)"
   ]
  },
  {
   "cell_type": "markdown",
   "metadata": {},
   "source": [
    "-"
   ]
  },
  {
   "cell_type": "markdown",
   "metadata": {},
   "source": [
    "**Step #7:** Un-pickle the dataframe made in Step 7 of all car's models with 'normal' dataframes"
   ]
  },
  {
   "cell_type": "code",
   "execution_count": 57,
   "metadata": {},
   "outputs": [],
   "source": [
    "with open('pickles/porsche_dfs.pickle','rb') as read_file:\n",
    "    porsche_dfs = pickle.load(read_file)"
   ]
  },
  {
   "cell_type": "code",
   "execution_count": null,
   "metadata": {},
   "outputs": [],
   "source": []
  }
 ],
 "metadata": {
  "kernelspec": {
   "display_name": "Python 3",
   "language": "python",
   "name": "python3"
  },
  "language_info": {
   "codemirror_mode": {
    "name": "ipython",
    "version": 3
   },
   "file_extension": ".py",
   "mimetype": "text/x-python",
   "name": "python",
   "nbconvert_exporter": "python",
   "pygments_lexer": "ipython3",
   "version": "3.7.4"
  }
 },
 "nbformat": 4,
 "nbformat_minor": 2
}
