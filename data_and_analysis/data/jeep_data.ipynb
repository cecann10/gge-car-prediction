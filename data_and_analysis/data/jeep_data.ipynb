{
 "cells": [
  {
   "cell_type": "code",
   "execution_count": 1,
   "metadata": {},
   "outputs": [],
   "source": [
    "import requests\n",
    "from requests import get\n",
    "from bs4 import BeautifulSoup\n",
    "import pandas as pd\n",
    "import numpy as np\n",
    "import pickle"
   ]
  },
  {
   "cell_type": "markdown",
   "metadata": {},
   "source": [
    "### Import functions unique to this project"
   ]
  },
  {
   "cell_type": "code",
   "execution_count": 2,
   "metadata": {},
   "outputs": [],
   "source": [
    "from master_functions import get_car_urls\n",
    "from master_functions import make_model_df"
   ]
  },
  {
   "cell_type": "markdown",
   "metadata": {},
   "source": [
    "## JEEP - Create master dataframe for all models\n",
    "\n",
    "This worksheet is intended to build a datafame for all **Jeep** cars.  There are some 'quirks' in how the data is structured from its source on https://www.fueleconomy.gov/, so more manual steps are taken below to check files for issues, combine first what is 'normal' and then add in those that required special attention.\n",
    "\n",
    "**Step #1:** Create unique urls for every car model for the years 1984 - 2021<br>\n",
    "- Uses `get_car_urls` from master function, Inputs: (car_make, [list of all models])"
   ]
  },
  {
   "cell_type": "code",
   "execution_count": 3,
   "metadata": {},
   "outputs": [],
   "source": [
    "jeep_urls = get_car_urls('Jeep',\n",
    "                         ['Cherokee','Cherokee/Wagoneer',\n",
    "                          'CJ','Comanche','Comanche Pickup',\n",
    "                          'Commander','Compass','Gladiator Pickup',\n",
    "                          'Grand Cherokee','Grand Wagoneer',\n",
    "                          'J-10 Pickup','J-20 Pickup','Liberty',\n",
    "                          'Liberty/Cherokee','Patriot','Renegade',\n",
    "                          'Scrambler','Scrambler Pickup','Wagoneer',\n",
    "                          'Wrangler','Wrangler/TJ'\n",
    "                          ])"
   ]
  },
  {
   "cell_type": "markdown",
   "metadata": {},
   "source": [
    "-"
   ]
  },
  {
   "cell_type": "markdown",
   "metadata": {},
   "source": [
    "**Step #2:** Get length of list created in Step 1.  This number will be how many times you run the function in Step 3 to check all of the urls<br>"
   ]
  },
  {
   "cell_type": "code",
   "execution_count": 4,
   "metadata": {
    "scrolled": false
   },
   "outputs": [
    {
     "data": {
      "text/plain": [
       "21"
      ]
     },
     "execution_count": 4,
     "metadata": {},
     "output_type": "execute_result"
    }
   ],
   "source": [
    "# Verify number of urls and use this number\n",
    "# to know how many urls need to 'check below'\n",
    "\n",
    "len(jeep_urls)"
   ]
  },
  {
   "cell_type": "markdown",
   "metadata": {},
   "source": [
    "-"
   ]
  },
  {
   "cell_type": "markdown",
   "metadata": {},
   "source": [
    "**Step #3:** Check all of the urls you just created.<br>\n",
    "- If does not work, add to 'problem' URLs string below this cell"
   ]
  },
  {
   "cell_type": "code",
   "execution_count": 27,
   "metadata": {},
   "outputs": [
    {
     "data": {
      "text/html": [
       "<div>\n",
       "<style scoped>\n",
       "    .dataframe tbody tr th:only-of-type {\n",
       "        vertical-align: middle;\n",
       "    }\n",
       "\n",
       "    .dataframe tbody tr th {\n",
       "        vertical-align: top;\n",
       "    }\n",
       "\n",
       "    .dataframe thead th {\n",
       "        text-align: right;\n",
       "    }\n",
       "</style>\n",
       "<table border=\"1\" class=\"dataframe\">\n",
       "  <thead>\n",
       "    <tr style=\"text-align: right;\">\n",
       "      <th></th>\n",
       "      <th>year</th>\n",
       "      <th>make</th>\n",
       "      <th>model</th>\n",
       "      <th>capacity_liters</th>\n",
       "      <th>cylinders</th>\n",
       "      <th>transmission</th>\n",
       "      <th>trans_speed</th>\n",
       "      <th>fuel_type</th>\n",
       "      <th>gg_emissions</th>\n",
       "      <th>mpg</th>\n",
       "    </tr>\n",
       "  </thead>\n",
       "  <tbody>\n",
       "    <tr>\n",
       "      <th>0</th>\n",
       "      <td>2006</td>\n",
       "      <td>Jeep</td>\n",
       "      <td>Wrangler/TJ 4WD</td>\n",
       "      <td>2.4</td>\n",
       "      <td>4</td>\n",
       "      <td>Manual</td>\n",
       "      <td>6</td>\n",
       "      <td>Regular Gasoline</td>\n",
       "      <td>523</td>\n",
       "      <td>17</td>\n",
       "    </tr>\n",
       "    <tr>\n",
       "      <th>1</th>\n",
       "      <td>2005</td>\n",
       "      <td>Jeep</td>\n",
       "      <td>Wrangler/TJ 4WD</td>\n",
       "      <td>2.4</td>\n",
       "      <td>4</td>\n",
       "      <td>Manual</td>\n",
       "      <td>6</td>\n",
       "      <td>Regular Gasoline</td>\n",
       "      <td>523</td>\n",
       "      <td>17</td>\n",
       "    </tr>\n",
       "    <tr>\n",
       "      <th>2</th>\n",
       "      <td>2004</td>\n",
       "      <td>Jeep</td>\n",
       "      <td>Wrangler/TJ 4WD</td>\n",
       "      <td>2.4</td>\n",
       "      <td>4</td>\n",
       "      <td>Automatic</td>\n",
       "      <td>4</td>\n",
       "      <td>Regular Gasoline</td>\n",
       "      <td>523</td>\n",
       "      <td>17</td>\n",
       "    </tr>\n",
       "    <tr>\n",
       "      <th>3</th>\n",
       "      <td>2004</td>\n",
       "      <td>Jeep</td>\n",
       "      <td>Wrangler/TJ 4WD</td>\n",
       "      <td>2.4</td>\n",
       "      <td>4</td>\n",
       "      <td>Manual</td>\n",
       "      <td>5</td>\n",
       "      <td>Regular Gasoline</td>\n",
       "      <td>523</td>\n",
       "      <td>17</td>\n",
       "    </tr>\n",
       "    <tr>\n",
       "      <th>4</th>\n",
       "      <td>2003</td>\n",
       "      <td>Jeep</td>\n",
       "      <td>Wrangler/TJ 4WD</td>\n",
       "      <td>2.4</td>\n",
       "      <td>4</td>\n",
       "      <td>Automatic</td>\n",
       "      <td>4</td>\n",
       "      <td>Regular Gasoline</td>\n",
       "      <td>523</td>\n",
       "      <td>17</td>\n",
       "    </tr>\n",
       "    <tr>\n",
       "      <th>5</th>\n",
       "      <td>2003</td>\n",
       "      <td>Jeep</td>\n",
       "      <td>Wrangler/TJ 4WD</td>\n",
       "      <td>2.4</td>\n",
       "      <td>4</td>\n",
       "      <td>Manual</td>\n",
       "      <td>5</td>\n",
       "      <td>Regular Gasoline</td>\n",
       "      <td>523</td>\n",
       "      <td>17</td>\n",
       "    </tr>\n",
       "    <tr>\n",
       "      <th>6</th>\n",
       "      <td>2003</td>\n",
       "      <td>Jeep</td>\n",
       "      <td>Wrangler/TJ 4WD</td>\n",
       "      <td>4.0</td>\n",
       "      <td>6</td>\n",
       "      <td>Manual</td>\n",
       "      <td>5</td>\n",
       "      <td>Regular Gasoline</td>\n",
       "      <td>555</td>\n",
       "      <td>16</td>\n",
       "    </tr>\n",
       "    <tr>\n",
       "      <th>7</th>\n",
       "      <td>2004</td>\n",
       "      <td>Jeep</td>\n",
       "      <td>Wrangler/TJ 4WD</td>\n",
       "      <td>4.0</td>\n",
       "      <td>6</td>\n",
       "      <td>Automatic</td>\n",
       "      <td>4</td>\n",
       "      <td>Regular Gasoline</td>\n",
       "      <td>555</td>\n",
       "      <td>16</td>\n",
       "    </tr>\n",
       "    <tr>\n",
       "      <th>8</th>\n",
       "      <td>2004</td>\n",
       "      <td>Jeep</td>\n",
       "      <td>Wrangler/TJ 4WD</td>\n",
       "      <td>4.0</td>\n",
       "      <td>6</td>\n",
       "      <td>Manual</td>\n",
       "      <td>5</td>\n",
       "      <td>Regular Gasoline</td>\n",
       "      <td>555</td>\n",
       "      <td>16</td>\n",
       "    </tr>\n",
       "    <tr>\n",
       "      <th>9</th>\n",
       "      <td>2003</td>\n",
       "      <td>Jeep</td>\n",
       "      <td>Wrangler/TJ 4WD</td>\n",
       "      <td>4.0</td>\n",
       "      <td>6</td>\n",
       "      <td>Automatic</td>\n",
       "      <td>4</td>\n",
       "      <td>Regular Gasoline</td>\n",
       "      <td>555</td>\n",
       "      <td>16</td>\n",
       "    </tr>\n",
       "  </tbody>\n",
       "</table>\n",
       "</div>"
      ],
      "text/plain": [
       "   year  make            model  capacity_liters  cylinders transmission  \\\n",
       "0  2006  Jeep  Wrangler/TJ 4WD              2.4          4       Manual   \n",
       "1  2005  Jeep  Wrangler/TJ 4WD              2.4          4       Manual   \n",
       "2  2004  Jeep  Wrangler/TJ 4WD              2.4          4    Automatic   \n",
       "3  2004  Jeep  Wrangler/TJ 4WD              2.4          4       Manual   \n",
       "4  2003  Jeep  Wrangler/TJ 4WD              2.4          4    Automatic   \n",
       "5  2003  Jeep  Wrangler/TJ 4WD              2.4          4       Manual   \n",
       "6  2003  Jeep  Wrangler/TJ 4WD              4.0          6       Manual   \n",
       "7  2004  Jeep  Wrangler/TJ 4WD              4.0          6    Automatic   \n",
       "8  2004  Jeep  Wrangler/TJ 4WD              4.0          6       Manual   \n",
       "9  2003  Jeep  Wrangler/TJ 4WD              4.0          6    Automatic   \n",
       "\n",
       "  trans_speed          fuel_type  gg_emissions  mpg  \n",
       "0           6   Regular Gasoline           523   17  \n",
       "1           6   Regular Gasoline           523   17  \n",
       "2           4   Regular Gasoline           523   17  \n",
       "3           5   Regular Gasoline           523   17  \n",
       "4           4   Regular Gasoline           523   17  \n",
       "5           5   Regular Gasoline           523   17  \n",
       "6           5   Regular Gasoline           555   16  \n",
       "7           4   Regular Gasoline           555   16  \n",
       "8           5   Regular Gasoline           555   16  \n",
       "9           4   Regular Gasoline           555   16  "
      ]
     },
     "execution_count": 27,
     "metadata": {},
     "output_type": "execute_result"
    }
   ],
   "source": [
    "# Test area for each url with [carmake]_urls[index]\n",
    "# by seeing if data appears correctly\n",
    "\n",
    "make_model_df('Jeep',jeep_urls[20])"
   ]
  },
  {
   "cell_type": "markdown",
   "metadata": {},
   "source": [
    "-"
   ]
  },
  {
   "cell_type": "markdown",
   "metadata": {},
   "source": [
    "Populate this section so if there are any 'problem' URLs from your test above"
   ]
  },
  {
   "cell_type": "code",
   "execution_count": 35,
   "metadata": {},
   "outputs": [
    {
     "data": {
      "text/plain": [
       "27"
      ]
     },
     "execution_count": 35,
     "metadata": {},
     "output_type": "execute_result"
    }
   ],
   "source": [
    "#'Problem' URLs\n",
    "'''\n",
    "jeep_urls[0]\n",
    "'''\n",
    "\n",
    "#Print list length again to \n",
    "#set length of range in next cell\n",
    "len(jeep_urls)"
   ]
  },
  {
   "cell_type": "markdown",
   "metadata": {},
   "source": [
    "-"
   ]
  },
  {
   "cell_type": "markdown",
   "metadata": {},
   "source": [
    "**Step #4:** Create dfs for all 'okay' urls and place each into a master list\n",
    "- Automate where possible, but some may need to be added one by one to avoid 'problem' urls"
   ]
  },
  {
   "cell_type": "code",
   "execution_count": 29,
   "metadata": {
    "scrolled": true
   },
   "outputs": [
    {
     "ename": "IndexError",
     "evalue": "list index out of range",
     "output_type": "error",
     "traceback": [
      "\u001b[0;31m---------------------------------------------------------------------------\u001b[0m",
      "\u001b[0;31mIndexError\u001b[0m                                Traceback (most recent call last)",
      "\u001b[0;32m<ipython-input-29-b0ab5eb97608>\u001b[0m in \u001b[0;36m<module>\u001b[0;34m\u001b[0m\n\u001b[1;32m      4\u001b[0m \u001b[0;34m\u001b[0m\u001b[0m\n\u001b[1;32m      5\u001b[0m \u001b[0;32mfor\u001b[0m \u001b[0mx\u001b[0m \u001b[0;32min\u001b[0m \u001b[0mrange\u001b[0m\u001b[0;34m(\u001b[0m\u001b[0;36m1\u001b[0m\u001b[0;34m,\u001b[0m\u001b[0;36m27\u001b[0m\u001b[0;34m)\u001b[0m\u001b[0;34m:\u001b[0m\u001b[0;34m\u001b[0m\u001b[0;34m\u001b[0m\u001b[0m\n\u001b[0;32m----> 6\u001b[0;31m     \u001b[0mjeep_dfs\u001b[0m\u001b[0;34m.\u001b[0m\u001b[0mappend\u001b[0m\u001b[0;34m(\u001b[0m\u001b[0mmake_model_df\u001b[0m\u001b[0;34m(\u001b[0m\u001b[0;34m'Jeep'\u001b[0m\u001b[0;34m,\u001b[0m\u001b[0mjeep_urls\u001b[0m\u001b[0;34m[\u001b[0m\u001b[0mx\u001b[0m\u001b[0;34m]\u001b[0m\u001b[0;34m)\u001b[0m\u001b[0;34m)\u001b[0m\u001b[0;34m\u001b[0m\u001b[0;34m\u001b[0m\u001b[0m\n\u001b[0m",
      "\u001b[0;31mIndexError\u001b[0m: list index out of range"
     ]
    }
   ],
   "source": [
    "# for 'normal' urls to make a df and add to master df list, automate it!\n",
    "\n",
    "jeep_dfs = []\n",
    "\n",
    "for x in range(1,27):\n",
    "    jeep_dfs.append(make_model_df('Jeep',jeep_urls[x]))\n"
   ]
  },
  {
   "cell_type": "markdown",
   "metadata": {},
   "source": [
    "-"
   ]
  },
  {
   "cell_type": "markdown",
   "metadata": {},
   "source": [
    "**Step #5:** Concatenate all of the 'normal' car model dfs into one master dataframe"
   ]
  },
  {
   "cell_type": "code",
   "execution_count": 30,
   "metadata": {
    "scrolled": true
   },
   "outputs": [
    {
     "data": {
      "text/html": [
       "<div>\n",
       "<style scoped>\n",
       "    .dataframe tbody tr th:only-of-type {\n",
       "        vertical-align: middle;\n",
       "    }\n",
       "\n",
       "    .dataframe tbody tr th {\n",
       "        vertical-align: top;\n",
       "    }\n",
       "\n",
       "    .dataframe thead th {\n",
       "        text-align: right;\n",
       "    }\n",
       "</style>\n",
       "<table border=\"1\" class=\"dataframe\">\n",
       "  <thead>\n",
       "    <tr style=\"text-align: right;\">\n",
       "      <th></th>\n",
       "      <th>year</th>\n",
       "      <th>make</th>\n",
       "      <th>model</th>\n",
       "      <th>capacity_liters</th>\n",
       "      <th>cylinders</th>\n",
       "      <th>transmission</th>\n",
       "      <th>trans_speed</th>\n",
       "      <th>fuel_type</th>\n",
       "      <th>gg_emissions</th>\n",
       "      <th>mpg</th>\n",
       "    </tr>\n",
       "  </thead>\n",
       "  <tbody>\n",
       "    <tr>\n",
       "      <th>0</th>\n",
       "      <td>1985</td>\n",
       "      <td>Jeep</td>\n",
       "      <td>Cherokee/Wagoneer</td>\n",
       "      <td>2.1</td>\n",
       "      <td>4</td>\n",
       "      <td>Manual</td>\n",
       "      <td>5</td>\n",
       "      <td>Diesel</td>\n",
       "      <td>392</td>\n",
       "      <td>26</td>\n",
       "    </tr>\n",
       "    <tr>\n",
       "      <th>1</th>\n",
       "      <td>1986</td>\n",
       "      <td>Jeep</td>\n",
       "      <td>Cherokee/Wagoneer 2WD</td>\n",
       "      <td>2.1</td>\n",
       "      <td>4</td>\n",
       "      <td>Manual</td>\n",
       "      <td>5</td>\n",
       "      <td>Diesel</td>\n",
       "      <td>392</td>\n",
       "      <td>26</td>\n",
       "    </tr>\n",
       "    <tr>\n",
       "      <th>2</th>\n",
       "      <td>1987</td>\n",
       "      <td>Jeep</td>\n",
       "      <td>Cherokee/Wagoneer 4WD</td>\n",
       "      <td>2.1</td>\n",
       "      <td>4</td>\n",
       "      <td>Manual</td>\n",
       "      <td>5</td>\n",
       "      <td>Diesel</td>\n",
       "      <td>407</td>\n",
       "      <td>25</td>\n",
       "    </tr>\n",
       "    <tr>\n",
       "      <th>3</th>\n",
       "      <td>1986</td>\n",
       "      <td>Jeep</td>\n",
       "      <td>Cherokee/Wagoneer 4WD</td>\n",
       "      <td>2.1</td>\n",
       "      <td>4</td>\n",
       "      <td>Manual</td>\n",
       "      <td>5</td>\n",
       "      <td>Diesel</td>\n",
       "      <td>407</td>\n",
       "      <td>25</td>\n",
       "    </tr>\n",
       "    <tr>\n",
       "      <th>4</th>\n",
       "      <td>1986</td>\n",
       "      <td>Jeep</td>\n",
       "      <td>Cherokee/Wagoneer 2WD</td>\n",
       "      <td>2.5</td>\n",
       "      <td>4</td>\n",
       "      <td>Manual</td>\n",
       "      <td>4</td>\n",
       "      <td>Regular Gasoline</td>\n",
       "      <td>386</td>\n",
       "      <td>23</td>\n",
       "    </tr>\n",
       "    <tr>\n",
       "      <th>...</th>\n",
       "      <td>...</td>\n",
       "      <td>...</td>\n",
       "      <td>...</td>\n",
       "      <td>...</td>\n",
       "      <td>...</td>\n",
       "      <td>...</td>\n",
       "      <td>...</td>\n",
       "      <td>...</td>\n",
       "      <td>...</td>\n",
       "      <td>...</td>\n",
       "    </tr>\n",
       "    <tr>\n",
       "      <th>173</th>\n",
       "      <td>2003</td>\n",
       "      <td>Jeep</td>\n",
       "      <td>Wrangler/TJ 4WD</td>\n",
       "      <td>2.4</td>\n",
       "      <td>4</td>\n",
       "      <td>Manual</td>\n",
       "      <td>5</td>\n",
       "      <td>Regular Gasoline</td>\n",
       "      <td>523</td>\n",
       "      <td>17</td>\n",
       "    </tr>\n",
       "    <tr>\n",
       "      <th>174</th>\n",
       "      <td>2003</td>\n",
       "      <td>Jeep</td>\n",
       "      <td>Wrangler/TJ 4WD</td>\n",
       "      <td>4.0</td>\n",
       "      <td>6</td>\n",
       "      <td>Manual</td>\n",
       "      <td>5</td>\n",
       "      <td>Regular Gasoline</td>\n",
       "      <td>555</td>\n",
       "      <td>16</td>\n",
       "    </tr>\n",
       "    <tr>\n",
       "      <th>175</th>\n",
       "      <td>2004</td>\n",
       "      <td>Jeep</td>\n",
       "      <td>Wrangler/TJ 4WD</td>\n",
       "      <td>4.0</td>\n",
       "      <td>6</td>\n",
       "      <td>Automatic</td>\n",
       "      <td>4</td>\n",
       "      <td>Regular Gasoline</td>\n",
       "      <td>555</td>\n",
       "      <td>16</td>\n",
       "    </tr>\n",
       "    <tr>\n",
       "      <th>176</th>\n",
       "      <td>2004</td>\n",
       "      <td>Jeep</td>\n",
       "      <td>Wrangler/TJ 4WD</td>\n",
       "      <td>4.0</td>\n",
       "      <td>6</td>\n",
       "      <td>Manual</td>\n",
       "      <td>5</td>\n",
       "      <td>Regular Gasoline</td>\n",
       "      <td>555</td>\n",
       "      <td>16</td>\n",
       "    </tr>\n",
       "    <tr>\n",
       "      <th>177</th>\n",
       "      <td>2003</td>\n",
       "      <td>Jeep</td>\n",
       "      <td>Wrangler/TJ 4WD</td>\n",
       "      <td>4.0</td>\n",
       "      <td>6</td>\n",
       "      <td>Automatic</td>\n",
       "      <td>4</td>\n",
       "      <td>Regular Gasoline</td>\n",
       "      <td>555</td>\n",
       "      <td>16</td>\n",
       "    </tr>\n",
       "  </tbody>\n",
       "</table>\n",
       "<p>178 rows × 10 columns</p>\n",
       "</div>"
      ],
      "text/plain": [
       "     year  make                  model  capacity_liters  cylinders  \\\n",
       "0    1985  Jeep      Cherokee/Wagoneer              2.1          4   \n",
       "1    1986  Jeep  Cherokee/Wagoneer 2WD              2.1          4   \n",
       "2    1987  Jeep  Cherokee/Wagoneer 4WD              2.1          4   \n",
       "3    1986  Jeep  Cherokee/Wagoneer 4WD              2.1          4   \n",
       "4    1986  Jeep  Cherokee/Wagoneer 2WD              2.5          4   \n",
       "..    ...   ...                    ...              ...        ...   \n",
       "173  2003  Jeep        Wrangler/TJ 4WD              2.4          4   \n",
       "174  2003  Jeep        Wrangler/TJ 4WD              4.0          6   \n",
       "175  2004  Jeep        Wrangler/TJ 4WD              4.0          6   \n",
       "176  2004  Jeep        Wrangler/TJ 4WD              4.0          6   \n",
       "177  2003  Jeep        Wrangler/TJ 4WD              4.0          6   \n",
       "\n",
       "    transmission trans_speed          fuel_type  gg_emissions  mpg  \n",
       "0         Manual           5             Diesel           392   26  \n",
       "1         Manual           5             Diesel           392   26  \n",
       "2         Manual           5             Diesel           407   25  \n",
       "3         Manual           5             Diesel           407   25  \n",
       "4         Manual           4   Regular Gasoline           386   23  \n",
       "..           ...         ...                ...           ...  ...  \n",
       "173       Manual           5   Regular Gasoline           523   17  \n",
       "174       Manual           5   Regular Gasoline           555   16  \n",
       "175    Automatic           4   Regular Gasoline           555   16  \n",
       "176       Manual           5   Regular Gasoline           555   16  \n",
       "177    Automatic           4   Regular Gasoline           555   16  \n",
       "\n",
       "[178 rows x 10 columns]"
      ]
     },
     "execution_count": 30,
     "metadata": {},
     "output_type": "execute_result"
    }
   ],
   "source": [
    "jeep_dfs = pd.concat(jeep_dfs, ignore_index=True)\n",
    "\n",
    "jeep_dfs"
   ]
  },
  {
   "cell_type": "markdown",
   "metadata": {},
   "source": [
    "-"
   ]
  },
  {
   "cell_type": "markdown",
   "metadata": {},
   "source": [
    "**Step #6:** Pickle the dataframe made in Step 6 of all car's models with 'normal' dataframes\n",
    "- Will now be saved so further work on dataframe can start at this place"
   ]
  },
  {
   "cell_type": "code",
   "execution_count": 31,
   "metadata": {},
   "outputs": [],
   "source": [
    "with open('pickles/jeep_dfs.pickle', 'wb') as to_write:\n",
    "    pickle.dump(jeep_dfs, to_write)"
   ]
  },
  {
   "cell_type": "markdown",
   "metadata": {},
   "source": [
    "-"
   ]
  },
  {
   "cell_type": "markdown",
   "metadata": {},
   "source": [
    "**Step #7:** Un-pickle the dataframe made in Step 7 of all car's models with 'normal' dataframes"
   ]
  },
  {
   "cell_type": "code",
   "execution_count": 32,
   "metadata": {},
   "outputs": [],
   "source": [
    "with open('pickles/jeep_dfs.pickle','rb') as read_file:\n",
    "    jeep_dfs = pickle.load(read_file)"
   ]
  },
  {
   "cell_type": "code",
   "execution_count": null,
   "metadata": {},
   "outputs": [],
   "source": []
  }
 ],
 "metadata": {
  "kernelspec": {
   "display_name": "Python 3",
   "language": "python",
   "name": "python3"
  },
  "language_info": {
   "codemirror_mode": {
    "name": "ipython",
    "version": 3
   },
   "file_extension": ".py",
   "mimetype": "text/x-python",
   "name": "python",
   "nbconvert_exporter": "python",
   "pygments_lexer": "ipython3",
   "version": "3.7.4"
  }
 },
 "nbformat": 4,
 "nbformat_minor": 2
}
